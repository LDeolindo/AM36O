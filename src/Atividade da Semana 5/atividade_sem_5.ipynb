{
 "cells": [
  {
   "cell_type": "markdown",
   "id": "1cc006b1-e9d2-41ae-84c8-e90d190054a5",
   "metadata": {},
   "source": [
    "# Atividade 2 - Atributos Categóricos e Valores Faltantes"
   ]
  },
  {
   "cell_type": "markdown",
   "id": "d487bce5-60fb-4761-92a4-67af6e9138c4",
   "metadata": {},
   "source": [
    "Nesta atividade será utilizado o conjunto de dados *Mushrooms*, uma base cheio de dados categóricos. Nosso objetivo será classificar as amostras de cogumelo como comestível (*edible*) ou venenoso (*poisonous*)."
   ]
  },
  {
   "cell_type": "markdown",
   "id": "4c25ae32-ba36-4ba4-b7b8-5fd741eb68e2",
   "metadata": {},
   "source": [
    "#### Importando as bibliotecas que vamos utilizar"
   ]
  },
  {
   "cell_type": "code",
   "execution_count": 1,
   "id": "d8442f5d-4909-47ab-b358-c966bf95ac0a",
   "metadata": {},
   "outputs": [],
   "source": [
    "import pandas as pd\n",
    "import numpy as np \n",
    "import imblearn as ibl\n",
    "import seaborn as sns\n",
    "import matplotlib.pyplot as plt\n",
    "\n",
    "from sklearn.neighbors import KNeighborsClassifier\n",
    "from sklearn.preprocessing import StandardScaler, OrdinalEncoder, OneHotEncoder\n",
    "from sklearn.metrics import accuracy_score, classification_report, f1_score, recall_score, precision_score, confusion_matrix, plot_confusion_matrix\n",
    "from sklearn.model_selection import GridSearchCV, train_test_split, StratifiedKFold\n",
    "from sklearn.compose import ColumnTransformer\n",
    "from sklearn.impute import SimpleImputer\n",
    "from sklearn.svm import SVC\n",
    "import itertools\n",
    "\n",
    "from scipy.stats import ttest_ind_from_stats\n",
    "\n",
    "%matplotlib inline"
   ]
  },
  {
   "cell_type": "markdown",
   "id": "44bf84a4-605b-4aa6-82d0-913da378e35c",
   "metadata": {},
   "source": [
    "#### Carregando os dados"
   ]
  },
  {
   "cell_type": "code",
   "execution_count": 2,
   "id": "369835fd-e1ac-43ec-a804-a31daf84c110",
   "metadata": {},
   "outputs": [
    {
     "data": {
      "text/html": [
       "<div>\n",
       "<style scoped>\n",
       "    .dataframe tbody tr th:only-of-type {\n",
       "        vertical-align: middle;\n",
       "    }\n",
       "\n",
       "    .dataframe tbody tr th {\n",
       "        vertical-align: top;\n",
       "    }\n",
       "\n",
       "    .dataframe thead th {\n",
       "        text-align: right;\n",
       "    }\n",
       "</style>\n",
       "<table border=\"1\" class=\"dataframe\">\n",
       "  <thead>\n",
       "    <tr style=\"text-align: right;\">\n",
       "      <th></th>\n",
       "      <th>class</th>\n",
       "      <th>cap-shape</th>\n",
       "      <th>cap-surface</th>\n",
       "      <th>cap-color</th>\n",
       "      <th>bruises</th>\n",
       "      <th>odor</th>\n",
       "      <th>gill-attachment</th>\n",
       "      <th>gill-spacing</th>\n",
       "      <th>gill-size</th>\n",
       "      <th>gill-color</th>\n",
       "      <th>...</th>\n",
       "      <th>stalk-surface-below-ring</th>\n",
       "      <th>stalk-color-above-ring</th>\n",
       "      <th>stalk-color-below-ring</th>\n",
       "      <th>veil-type</th>\n",
       "      <th>veil-color</th>\n",
       "      <th>ring-number</th>\n",
       "      <th>ring-type</th>\n",
       "      <th>spore-print-color</th>\n",
       "      <th>population</th>\n",
       "      <th>habitat</th>\n",
       "    </tr>\n",
       "  </thead>\n",
       "  <tbody>\n",
       "    <tr>\n",
       "      <th>0</th>\n",
       "      <td>e</td>\n",
       "      <td>x</td>\n",
       "      <td>s</td>\n",
       "      <td>y</td>\n",
       "      <td>t</td>\n",
       "      <td>a</td>\n",
       "      <td>f</td>\n",
       "      <td>w</td>\n",
       "      <td>b</td>\n",
       "      <td>g</td>\n",
       "      <td>...</td>\n",
       "      <td>s</td>\n",
       "      <td>w</td>\n",
       "      <td>w</td>\n",
       "      <td>p</td>\n",
       "      <td>w</td>\n",
       "      <td>o</td>\n",
       "      <td>p</td>\n",
       "      <td>n</td>\n",
       "      <td>v</td>\n",
       "      <td>d</td>\n",
       "    </tr>\n",
       "    <tr>\n",
       "      <th>1</th>\n",
       "      <td>e</td>\n",
       "      <td>f</td>\n",
       "      <td>s</td>\n",
       "      <td>y</td>\n",
       "      <td>f</td>\n",
       "      <td>n</td>\n",
       "      <td>f</td>\n",
       "      <td>c</td>\n",
       "      <td>b</td>\n",
       "      <td>p</td>\n",
       "      <td>...</td>\n",
       "      <td>s</td>\n",
       "      <td>w</td>\n",
       "      <td>w</td>\n",
       "      <td>p</td>\n",
       "      <td>w</td>\n",
       "      <td>o</td>\n",
       "      <td>f</td>\n",
       "      <td>n</td>\n",
       "      <td>y</td>\n",
       "      <td>g</td>\n",
       "    </tr>\n",
       "    <tr>\n",
       "      <th>2</th>\n",
       "      <td>e</td>\n",
       "      <td>k</td>\n",
       "      <td>s</td>\n",
       "      <td>w</td>\n",
       "      <td>f</td>\n",
       "      <td>c</td>\n",
       "      <td>f</td>\n",
       "      <td>w</td>\n",
       "      <td>b</td>\n",
       "      <td>g</td>\n",
       "      <td>...</td>\n",
       "      <td>s</td>\n",
       "      <td>w</td>\n",
       "      <td>n</td>\n",
       "      <td>p</td>\n",
       "      <td>w</td>\n",
       "      <td>t</td>\n",
       "      <td>e</td>\n",
       "      <td>w</td>\n",
       "      <td>n</td>\n",
       "      <td>g</td>\n",
       "    </tr>\n",
       "  </tbody>\n",
       "</table>\n",
       "<p>3 rows × 23 columns</p>\n",
       "</div>"
      ],
      "text/plain": [
       "  class cap-shape cap-surface cap-color bruises odor gill-attachment  \\\n",
       "0     e         x           s         y       t    a               f   \n",
       "1     e         f           s         y       f    n               f   \n",
       "2     e         k           s         w       f    c               f   \n",
       "\n",
       "  gill-spacing gill-size gill-color  ... stalk-surface-below-ring  \\\n",
       "0            w         b          g  ...                        s   \n",
       "1            c         b          p  ...                        s   \n",
       "2            w         b          g  ...                        s   \n",
       "\n",
       "  stalk-color-above-ring stalk-color-below-ring veil-type veil-color  \\\n",
       "0                      w                      w         p          w   \n",
       "1                      w                      w         p          w   \n",
       "2                      w                      n         p          w   \n",
       "\n",
       "  ring-number ring-type spore-print-color population habitat  \n",
       "0           o         p                 n          v       d  \n",
       "1           o         f                 n          y       g  \n",
       "2           t         e                 w          n       g  \n",
       "\n",
       "[3 rows x 23 columns]"
      ]
     },
     "execution_count": 2,
     "metadata": {},
     "output_type": "execute_result"
    }
   ],
   "source": [
    "df = pd.read_csv('dados/agaricus_lepiota_small_c.csv')\n",
    "df.head(3)"
   ]
  },
  {
   "cell_type": "markdown",
   "id": "afb8206c-9ebc-4350-a52d-93a789eac3b8",
   "metadata": {},
   "source": [
    "Separando os atributos de entrada do atributo de saída"
   ]
  },
  {
   "cell_type": "code",
   "execution_count": 3,
   "id": "c038dc4e-ce1a-4be6-be98-0db1bd556e82",
   "metadata": {},
   "outputs": [],
   "source": [
    "X = df.drop('class', axis=1)\n",
    "y = df[['class']]"
   ]
  },
  {
   "cell_type": "markdown",
   "id": "48bb6ddb-50a6-4232-80d2-b94db385c5c5",
   "metadata": {},
   "source": [
    "#### Codificando o atributo de saída"
   ]
  },
  {
   "cell_type": "markdown",
   "id": "e8f78196-de61-4c1b-9294-8af1e00d2c41",
   "metadata": {},
   "source": [
    "Nessa etapa alteramos o atributo de saída, de um valor categórico para um valor numérico, pois nos próximos passos isso será útil, e irá nos ajudar."
   ]
  },
  {
   "cell_type": "code",
   "execution_count": 4,
   "id": "90051928-adac-4b94-80eb-efcfd2d6f045",
   "metadata": {},
   "outputs": [],
   "source": [
    "y = y.replace('e', 0)\n",
    "y = y.replace('p', 1)"
   ]
  },
  {
   "cell_type": "markdown",
   "id": "b5d6f6bf-9d3e-44ab-8e32-6bbf267e352b",
   "metadata": {},
   "source": [
    "#### Imputação dos valores faltates"
   ]
  },
  {
   "cell_type": "markdown",
   "id": "87dffee2-de2e-44f8-9dcf-121ef34b1051",
   "metadata": {},
   "source": [
    "Os valores que estão faltando serão substituídos por ***uk**, abreviação de *unknown*."
   ]
  },
  {
   "cell_type": "code",
   "execution_count": 5,
   "id": "85e80e84-69bd-4ab0-b678-a0ad466fd1ff",
   "metadata": {},
   "outputs": [],
   "source": [
    "atributos = X.drop('stalk-root', axis=1).columns\n",
    "atributo_categorico = ['stalk-root']\n",
    "\n",
    "transformers = [\n",
    "    ('imp_stalk-root', SimpleImputer(strategy='constant', fill_value='uk'), atributo_categorico)\n",
    "]\n",
    "\n",
    "ct_imp = ColumnTransformer(\n",
    "    transformers, remainder='passthrough'\n",
    ")\n",
    "\n",
    "X_imp_val = ct_imp.fit_transform(X)\n",
    "\n",
    "X_imputed = pd.DataFrame(X_imp_val, columns=[*atributo_categorico, *atributos])"
   ]
  },
  {
   "cell_type": "markdown",
   "id": "01c06e41-848c-4445-8993-4b267c8201b5",
   "metadata": {},
   "source": [
    "#### Codificando os atributos categóricos"
   ]
  },
  {
   "cell_type": "markdown",
   "id": "e437448e-f388-4b2c-90fb-569ec87b3707",
   "metadata": {},
   "source": [
    "Para realizar uma averiguação sobre o desempenho na classificação, todos os atributos categóricos foram transformados utilizando *One-Hot Encoding*. Porém, isso pode gerar uma consequência na execução nos próximos passos, deixando um pouco lento, visto que o número de colunas aumentará em mais de 5 vezes. Mas, mesmo assim foi escolhido essa transformação, para podermos fazer alguns teste e verificarmos se o fato de ter muitas colunas pode prejudicar o *kNN* e fazer com que o *SVM* tenham um resultado melhor. Ou se isso pode gerar diferenças entre eles. "
   ]
  },
  {
   "cell_type": "code",
   "execution_count": 6,
   "id": "9c033314-b591-4381-bf17-8c090b535a77",
   "metadata": {},
   "outputs": [],
   "source": [
    "atributo_categorico = X_imputed.columns\n",
    "\n",
    "transformers = [('oh_'+col, OneHotEncoder(), [col]) for col in atributo_categorico]\n",
    "\n",
    "ct_oh = ColumnTransformer(transformers, sparse_threshold=0, remainder='passthrough')\n",
    "X_oh = ct_oh.fit_transform(X_imputed)"
   ]
  },
  {
   "cell_type": "markdown",
   "id": "2965e1a0-e75b-4ae7-ad16-d13fe3e6102f",
   "metadata": {},
   "source": [
    "Verificando a quantidade de colunas e constatamos que realmente o número aumente em quase 5 vezes."
   ]
  },
  {
   "cell_type": "code",
   "execution_count": 7,
   "id": "836cde3e-530d-4a47-9de3-396629562b29",
   "metadata": {},
   "outputs": [
    {
     "data": {
      "text/plain": [
       "((1000, 113), (1000, 22))"
      ]
     },
     "execution_count": 7,
     "metadata": {},
     "output_type": "execute_result"
    }
   ],
   "source": [
    "X_oh.shape, X.shape"
   ]
  },
  {
   "cell_type": "markdown",
   "id": "66987536-94ad-41fd-b8ca-e7a66ad03e82",
   "metadata": {},
   "source": [
    "#### Funções genéricas para validação cruzada"
   ]
  },
  {
   "cell_type": "markdown",
   "id": "00de1be5-ef95-4dd6-9f26-f11665b34732",
   "metadata": {},
   "source": [
    "Essas funções nos ajudaram na avaliação e na validação cruzada de dois níveis para os dois classificadores. Como essa é uma função genérica ele pode ser reaproveitado e utilizado pelos dois."
   ]
  },
  {
   "cell_type": "code",
   "execution_count": 8,
   "id": "55f432d4-063a-415c-bdcb-3fe27f0b4d52",
   "metadata": {},
   "outputs": [],
   "source": [
    "def selecionar_melhor_modelo(classificador, X_treino, X_val, y_treino, y_val, n_jobs=4, \n",
    "                             cv_folds=None, params={}):\n",
    "    \n",
    "    def treinar_ad(X_treino, X_val, y_treino, y_val, params):\n",
    "        clf = classificador(**params)\n",
    "        clf.fit(X_treino, y_treino)\n",
    "        pred = clf.predict(X_val)\n",
    "        \n",
    "        if len(set(y_treino)) > 2:\n",
    "            return f1_score(y_val, pred, average='weighted')\n",
    "        else:\n",
    "            return f1_score(y_val, pred)\n",
    "    \n",
    "    \n",
    "    if cv_folds is not None:\n",
    "        #Se for pra usar validação cruzada, usar GridSearchCV\n",
    "        score_fn = 'f1' if len(set(y_treino)) < 3 else 'f1_weighted'\n",
    "        \n",
    "        clf = GridSearchCV(classificador(), params, cv=cv_folds, n_jobs=n_jobs, scoring=score_fn)\n",
    "        #Passar todos os dados (Treino e Validação) para realizar a seleção dos parâmetros.\n",
    "        clf.fit(np.vstack((X_treino, X_val)), [*y_treino, *y_val])\n",
    "        \n",
    "        melhor_comb = clf.best_params_\n",
    "        melhor_val = clf.best_score_\n",
    "        \n",
    "    else:\n",
    "        param_grid = list(ParameterGrid(params))\n",
    "        \n",
    "        f1s_val = Parallel(n_jobs=n_jobs)(delayed(treinar_ad)\n",
    "                                         (X_treino, X_val, y_treino, y_val, p) for p in param_grid)\n",
    "\n",
    "        melhor_val = max(f1s_val)\n",
    "        melhor_comb = param_grid[np.argmax(f1s_val)]\n",
    "        \n",
    "        clf = classificador(**melhor_comb)\n",
    "        \n",
    "        clf.fit(np.vstack((X_treino, X_val)), [*y_treino, *y_val])\n",
    "    \n",
    "    return clf, melhor_comb, melhor_val\n",
    "\n",
    "def do_cv(classificador, X, y, cv_splits, param_cv_folds=None, n_jobs=8, scale=False, params={}):\n",
    "\n",
    "    skf = StratifiedKFold(n_splits=cv_splits, shuffle=True, random_state=1)\n",
    "\n",
    "    f1s = []\n",
    "    preds = []\n",
    "    \n",
    "    for treino_idx, teste_idx in skf.split(X, y):\n",
    "\n",
    "        X_treino = X[treino_idx]\n",
    "        y_treino = y[treino_idx]\n",
    "\n",
    "        X_teste = X[teste_idx]\n",
    "        y_teste = y[teste_idx]\n",
    "\n",
    "        X_treino, X_val, y_treino, y_val = train_test_split(X_treino, y_treino, stratify=y_treino, test_size=0.2, random_state=1)\n",
    "        \n",
    "        if scale:\n",
    "            ss = StandardScaler()\n",
    "            X_treino = ss.fit_transform(X_treino)\n",
    "            X_teste = ss.transform(X_teste)\n",
    "            X_val = ss.transform(X_val)        \n",
    "\n",
    "        ad, melhor_comb, _ = selecionar_melhor_modelo(classificador, X_treino, X_val, y_treino, y_val, \n",
    "                                                      n_jobs=n_jobs, cv_folds=param_cv_folds, params=params)\n",
    "        pred = ad.predict(X_teste)\n",
    "\n",
    "        if len(set(y_treino)) > 2:\n",
    "            f1 = f1_score(y_teste, pred, average='weighted')\n",
    "        else:\n",
    "            f1 = f1_score(y_teste, pred)\n",
    "        f1s.append(f1)\n",
    "        preds.append(pred)\n",
    "        \n",
    "    \n",
    "    return [f1s, preds]"
   ]
  },
  {
   "cell_type": "markdown",
   "id": "997e8583-f0a5-4e1c-9272-e79566b27de8",
   "metadata": {},
   "source": [
    "#### Funções genéricas de estatísticas"
   ]
  },
  {
   "cell_type": "markdown",
   "id": "a9f850fc-2395-445f-8d77-0a95e5fe27b9",
   "metadata": {},
   "source": [
    "Aqui estão as funções que nos ajudaram na avaliação dos resultados obtidos."
   ]
  },
  {
   "cell_type": "code",
   "execution_count": 9,
   "id": "5475530c-e2a8-49e0-8a87-343a1983238f",
   "metadata": {},
   "outputs": [],
   "source": [
    "def calcular_estatisticas(resultados):\n",
    "    return np.mean(resultados), np.std(resultados), np.min(resultados), np.max(resultados)\n",
    "\n",
    "def imprimir_estatisticas(resultados):\n",
    "    media, desvio, mini, maxi = calcular_estatisticas(resultados)\n",
    "    print(\"Resultados: %.2f +- %.2f, min: %.2f, max: %.2f\" % (media, desvio, mini, maxi))\n",
    "\n",
    "def rejeitar_hip_nula(amostra1, amostra2, alpha=0.05):\n",
    "    media_amostral1, desvio_padrao_amostral1, _, _ = calcular_estatisticas(amostra1)\n",
    "    media_amostral2, desvio_padrao_amostral2, _, _ = calcular_estatisticas(amostra2)\n",
    "    \n",
    "    _, pvalor = ttest_ind_from_stats(media_amostral1, desvio_padrao_amostral1, len(amostra1), media_amostral2, desvio_padrao_amostral2, len(amostra2))\n",
    "    return (pvalor <= alpha, pvalor)"
   ]
  },
  {
   "cell_type": "markdown",
   "id": "3061296a-3ad9-4de8-aff3-ef6ce203982a",
   "metadata": {},
   "source": [
    "#### Classificador *kNN*"
   ]
  },
  {
   "cell_type": "markdown",
   "id": "0b75a8ab-1f17-4942-96c2-8555a12c187e",
   "metadata": {},
   "source": [
    "Classificador *kNN* que será realizado utilizando validação cruzado em dois níveis, sendo no primeiro nível de 10 vias, e já no segundo de 5. E dentro do classificador será realizado uma padronização dos valores."
   ]
  },
  {
   "cell_type": "code",
   "execution_count": 10,
   "id": "af9d46c6-834f-4acf-908d-55071f9c8670",
   "metadata": {},
   "outputs": [],
   "source": [
    "knn_ = ('knn', KNeighborsClassifier, True, {'n_neighbors' : range(1,30,2)})\n",
    "knn = [knn_]"
   ]
  },
  {
   "cell_type": "code",
   "execution_count": 11,
   "id": "f19cedca-7d7c-465c-8cc8-9ada3af2a577",
   "metadata": {},
   "outputs": [],
   "source": [
    "resultados = {}\n",
    "pred = {}\n",
    "for nome, classificador, scale, params in knn:\n",
    "    r = do_cv(classificador, X_oh, y.values.ravel(), 10, 5, 8, scale, params)\n",
    "    resultados[nome] = r[0]\n",
    "    pred[nome] = [1]"
   ]
  },
  {
   "cell_type": "markdown",
   "id": "511519a4-71d0-4ea3-91d7-94c93c056c42",
   "metadata": {},
   "source": [
    "#### Classificador *SVM*"
   ]
  },
  {
   "cell_type": "markdown",
   "id": "3a6537cf-8dae-4941-8fe9-b5a9f2a7d0f0",
   "metadata": {},
   "source": [
    "Classificador *SVM* que será realizado utilizando validação cruzado em dois níveis, sendo no primeiro nível de 10 vias, e já no segundo de 5. E dentro do classificador será realizado uma padronização dos valores."
   ]
  },
  {
   "cell_type": "code",
   "execution_count": 12,
   "id": "a02d913f-f5e5-45e8-8863-7d09cd1bb02c",
   "metadata": {},
   "outputs": [],
   "source": [
    "svm_ = ('svm', SVC, True, {'C' : [1, 10, 100, 1000], 'gamma' : ['auto', 'scale']})\n",
    "svm = [svm_]"
   ]
  },
  {
   "cell_type": "code",
   "execution_count": 13,
   "id": "e23279af-d409-4cc6-aaf7-986729a81cf6",
   "metadata": {},
   "outputs": [],
   "source": [
    "for nome, classificador, scale, params in svm:\n",
    "    r = do_cv(classificador, X_oh, y.values.ravel(), 10, 5, 8, scale, params)\n",
    "    resultados[nome] = r[0]\n",
    "    pred[nome] = [1]"
   ]
  },
  {
   "cell_type": "markdown",
   "id": "3bc79ec0-ed25-420b-8f92-95da093c18b9",
   "metadata": {},
   "source": [
    "#### Visualizando estatísticas para os dois classificadores"
   ]
  },
  {
   "cell_type": "markdown",
   "id": "1337bbc2-8f1e-46b9-85d3-66d60d16994c",
   "metadata": {},
   "source": [
    "Avaliação do desempenhos dos dois classificadores:"
   ]
  },
  {
   "cell_type": "code",
   "execution_count": 14,
   "id": "9af3ca9d-5560-4e6c-aa9d-420454ec2698",
   "metadata": {},
   "outputs": [
    {
     "name": "stdout",
     "output_type": "stream",
     "text": [
      "knn - Resultados: 0.97 +- 0.01, min: 0.94, max: 0.99\n",
      "svm - Resultados: 0.95 +- 0.03, min: 0.88, max: 0.98\n"
     ]
    }
   ],
   "source": [
    "for res in resultados:\n",
    "    print(res.rjust(1), end=' - ')\n",
    "    imprimir_estatisticas(resultados[res])"
   ]
  },
  {
   "cell_type": "markdown",
   "id": "40ec2893-66f9-4eb5-bc5c-555c4e05b98f",
   "metadata": {},
   "source": [
    "#### Teste hipótese nula"
   ]
  },
  {
   "cell_type": "code",
   "execution_count": 15,
   "id": "abbb983e-dd04-4830-9fd6-43d9a8fe5c72",
   "metadata": {},
   "outputs": [],
   "source": [
    "def rejeitar_hip_nula(amostra1, amostra2, alpha=0.05):\n",
    "    media_amostral1, desvio_padrao_amostral1, _, _ = calcular_estatisticas(amostra1)\n",
    "    media_amostral2, desvio_padrao_amostral2, _, _ = calcular_estatisticas(amostra2)\n",
    "    \n",
    "    _, pvalor = ttest_ind_from_stats(media_amostral1, desvio_padrao_amostral1, len(amostra1), media_amostral2, desvio_padrao_amostral2, len(amostra2))\n",
    "    return (pvalor <= alpha, pvalor)"
   ]
  },
  {
   "cell_type": "markdown",
   "id": "f669f455-7b3f-4e23-bd37-454151c27def",
   "metadata": {},
   "source": [
    "##### Verificando se os resultados obtidos pelo *kNN* e *SVM* são estatisticamente diferentes com 95% de confiança."
   ]
  },
  {
   "cell_type": "code",
   "execution_count": 16,
   "id": "1cdf83ad-982f-4d1d-bf8b-58059f6c9eaf",
   "metadata": {},
   "outputs": [
    {
     "name": "stdout",
     "output_type": "stream",
     "text": [
      "             knn       svm    \n",
      "   knn       1.00      0.07   \n",
      "   svm       0.07      1.00   \n"
     ]
    }
   ],
   "source": [
    "largura = max(map(len,resultados.keys()))+7\n",
    "print(\" \" * largura , end=\"\")\n",
    "      \n",
    "for t in resultados:\n",
    "    print(t.center(largura), end='')\n",
    "print()\n",
    "\n",
    "for t in resultados:\n",
    "    print(t.center(largura), end='')\n",
    "    for t2 in resultados:\n",
    "        d, p = rejeitar_hip_nula(resultados[t], resultados[t2], alpha=0.05)\n",
    "        print((\"%.02f%s\" % (p, ' (*)' if d else '')).center(largura), end='')\n",
    "    print()"
   ]
  },
  {
   "cell_type": "markdown",
   "id": "8326fa30-5d1c-4052-9e00-1b439f3fc748",
   "metadata": {},
   "source": [
    "Pela analise do resultados obtidos, não podemos afirmar com 95% de confiança, que os resultados obtidos pelo *kNN* e *SVM* são estatisticamente diferentes."
   ]
  },
  {
   "cell_type": "markdown",
   "id": "195884cc-7a6d-47b8-98ae-8aec34720cfe",
   "metadata": {},
   "source": [
    "#### Você usaria algum classificador que criou para decidir se comeria ou não um cogumelo classificado por ele?"
   ]
  },
  {
   "cell_type": "markdown",
   "id": "eb9dabce-f517-4cc9-9f96-0f063a5b563d",
   "metadata": {},
   "source": [
    "Sim, usaria um classificador criado por mim para decidir se comeria ou não determinado cogumelo. Pois se observarmos os resultados obtidos pelos classificadores, conseguimos averiguar que possuem uma taxa de acerto relativamente alta. E, quando comparamos um classificador com o outro, percebemos que não conseguimos afirmar que exista uma diferença em relação aos resultados obtidos por ele. Com isso, reafirmo que sim, comeria um cogumelo classificado por um desses classificadores."
   ]
  },
  {
   "cell_type": "code",
   "execution_count": null,
   "id": "f13d538b-e000-41bb-ad3f-d7c19a820f1c",
   "metadata": {},
   "outputs": [],
   "source": []
  }
 ],
 "metadata": {
  "kernelspec": {
   "display_name": "Python 3 (ipykernel)",
   "language": "python",
   "name": "python3"
  },
  "language_info": {
   "codemirror_mode": {
    "name": "ipython",
    "version": 3
   },
   "file_extension": ".py",
   "mimetype": "text/x-python",
   "name": "python",
   "nbconvert_exporter": "python",
   "pygments_lexer": "ipython3",
   "version": "3.9.6"
  }
 },
 "nbformat": 4,
 "nbformat_minor": 5
}
