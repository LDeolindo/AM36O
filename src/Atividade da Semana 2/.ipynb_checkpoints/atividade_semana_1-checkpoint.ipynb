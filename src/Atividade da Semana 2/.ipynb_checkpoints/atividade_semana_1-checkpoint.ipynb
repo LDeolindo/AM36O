{
 "cells": [
  {
   "cell_type": "markdown",
   "id": "d1e39247-b848-4d71-8436-48d3cce3165c",
   "metadata": {},
   "source": [
    "# Atividade 01 - Desenvolvimento de um Classificador Binário por Limiar"
   ]
  },
  {
   "cell_type": "markdown",
   "id": "b8b6b009-b4b3-48e6-a321-da2f71dbaa76",
   "metadata": {},
   "source": [
    "#### Nesta atividade foi implementado um classificador binário utilizando a linguagem [Python](https://www.python.org/) com as bibliotecas:\n",
    "* [numpy](https://numpy.org/doc/stable/);\n",
    "* [pandas](https://pandas.pydata.org/docs/);\n",
    "* [matplotlib](https://matplotlib.org/stable/contents.html);\n",
    "* [seaborn](https://seaborn.pydata.org/tutorial.html);"
   ]
  },
  {
   "cell_type": "code",
   "execution_count": 1,
   "id": "98b2671c-33ae-4092-8ff0-f5dc6569e61d",
   "metadata": {},
   "outputs": [],
   "source": [
    "# Importando as bibliotecas\n",
    "import numpy as np\n",
    "import pandas as pd\n",
    "import matplotlib.pyplot as plt\n",
    "import seaborn as sns\n",
    "\n",
    "%matplotlib inline"
   ]
  },
  {
   "cell_type": "markdown",
   "id": "327fcfff-7ee4-4138-aef5-f64039688aa2",
   "metadata": {},
   "source": [
    "##### **Nota:** o arquivo ***requirements.txt*** contém todas as dependências necessárias. Para instalar (no linux), execute:\n",
    "\n",
    "##### ```$ pip install -r requirements.txt```"
   ]
  },
  {
   "cell_type": "markdown",
   "id": "fc93b2d5-5f5a-4e94-9e43-3051cabaed1c",
   "metadata": {},
   "source": [
    "## O *Dataset*\n",
    "O conjunto de dados utilizado foi o iris_2class.csv, um subconjunto de dados da base *Iris*."
   ]
  },
  {
   "cell_type": "markdown",
   "id": "12221dee-e93f-4589-8d30-7c969458d7df",
   "metadata": {},
   "source": [
    "#### Load do *dataset*"
   ]
  },
  {
   "cell_type": "code",
   "execution_count": 2,
   "id": "98de9edf-6a85-4d60-80ee-56c2d621b1d4",
   "metadata": {},
   "outputs": [],
   "source": [
    "df = pd.read_csv('iris_2class.csv')"
   ]
  },
  {
   "cell_type": "markdown",
   "id": "69e60b5f-2ced-4d73-beea-bb5ac1e298ac",
   "metadata": {},
   "source": [
    "Nessa base contém 4 características de 2 espécies de flores íris, *versicolor* e *virginica*, com 50 instâncias cada."
   ]
  },
  {
   "cell_type": "code",
   "execution_count": 3,
   "id": "3d18e1b1-a50e-4340-a660-b66a4ff092f5",
   "metadata": {},
   "outputs": [
    {
     "data": {
      "text/html": [
       "<div>\n",
       "<style scoped>\n",
       "    .dataframe tbody tr th:only-of-type {\n",
       "        vertical-align: middle;\n",
       "    }\n",
       "\n",
       "    .dataframe tbody tr th {\n",
       "        vertical-align: top;\n",
       "    }\n",
       "\n",
       "    .dataframe thead th {\n",
       "        text-align: right;\n",
       "    }\n",
       "</style>\n",
       "<table border=\"1\" class=\"dataframe\">\n",
       "  <thead>\n",
       "    <tr style=\"text-align: right;\">\n",
       "      <th></th>\n",
       "      <th>sepal length (cm)</th>\n",
       "      <th>sepal width (cm)</th>\n",
       "      <th>petal length (cm)</th>\n",
       "      <th>petal width (cm)</th>\n",
       "      <th>especie</th>\n",
       "    </tr>\n",
       "  </thead>\n",
       "  <tbody>\n",
       "    <tr>\n",
       "      <th>0</th>\n",
       "      <td>7.0</td>\n",
       "      <td>3.2</td>\n",
       "      <td>4.7</td>\n",
       "      <td>1.4</td>\n",
       "      <td>versicolor</td>\n",
       "    </tr>\n",
       "    <tr>\n",
       "      <th>1</th>\n",
       "      <td>6.4</td>\n",
       "      <td>3.2</td>\n",
       "      <td>4.5</td>\n",
       "      <td>1.5</td>\n",
       "      <td>versicolor</td>\n",
       "    </tr>\n",
       "    <tr>\n",
       "      <th>2</th>\n",
       "      <td>6.9</td>\n",
       "      <td>3.1</td>\n",
       "      <td>4.9</td>\n",
       "      <td>1.5</td>\n",
       "      <td>versicolor</td>\n",
       "    </tr>\n",
       "    <tr>\n",
       "      <th>3</th>\n",
       "      <td>5.5</td>\n",
       "      <td>2.3</td>\n",
       "      <td>4.0</td>\n",
       "      <td>1.3</td>\n",
       "      <td>versicolor</td>\n",
       "    </tr>\n",
       "    <tr>\n",
       "      <th>4</th>\n",
       "      <td>6.5</td>\n",
       "      <td>2.8</td>\n",
       "      <td>4.6</td>\n",
       "      <td>1.5</td>\n",
       "      <td>versicolor</td>\n",
       "    </tr>\n",
       "    <tr>\n",
       "      <th>...</th>\n",
       "      <td>...</td>\n",
       "      <td>...</td>\n",
       "      <td>...</td>\n",
       "      <td>...</td>\n",
       "      <td>...</td>\n",
       "    </tr>\n",
       "    <tr>\n",
       "      <th>95</th>\n",
       "      <td>6.7</td>\n",
       "      <td>3.0</td>\n",
       "      <td>5.2</td>\n",
       "      <td>2.3</td>\n",
       "      <td>virginica</td>\n",
       "    </tr>\n",
       "    <tr>\n",
       "      <th>96</th>\n",
       "      <td>6.3</td>\n",
       "      <td>2.5</td>\n",
       "      <td>5.0</td>\n",
       "      <td>1.9</td>\n",
       "      <td>virginica</td>\n",
       "    </tr>\n",
       "    <tr>\n",
       "      <th>97</th>\n",
       "      <td>6.5</td>\n",
       "      <td>3.0</td>\n",
       "      <td>5.2</td>\n",
       "      <td>2.0</td>\n",
       "      <td>virginica</td>\n",
       "    </tr>\n",
       "    <tr>\n",
       "      <th>98</th>\n",
       "      <td>6.2</td>\n",
       "      <td>3.4</td>\n",
       "      <td>5.4</td>\n",
       "      <td>2.3</td>\n",
       "      <td>virginica</td>\n",
       "    </tr>\n",
       "    <tr>\n",
       "      <th>99</th>\n",
       "      <td>5.9</td>\n",
       "      <td>3.0</td>\n",
       "      <td>5.1</td>\n",
       "      <td>1.8</td>\n",
       "      <td>virginica</td>\n",
       "    </tr>\n",
       "  </tbody>\n",
       "</table>\n",
       "<p>100 rows × 5 columns</p>\n",
       "</div>"
      ],
      "text/plain": [
       "    sepal length (cm)  sepal width (cm)  petal length (cm)  petal width (cm)  \\\n",
       "0                 7.0               3.2                4.7               1.4   \n",
       "1                 6.4               3.2                4.5               1.5   \n",
       "2                 6.9               3.1                4.9               1.5   \n",
       "3                 5.5               2.3                4.0               1.3   \n",
       "4                 6.5               2.8                4.6               1.5   \n",
       "..                ...               ...                ...               ...   \n",
       "95                6.7               3.0                5.2               2.3   \n",
       "96                6.3               2.5                5.0               1.9   \n",
       "97                6.5               3.0                5.2               2.0   \n",
       "98                6.2               3.4                5.4               2.3   \n",
       "99                5.9               3.0                5.1               1.8   \n",
       "\n",
       "       especie  \n",
       "0   versicolor  \n",
       "1   versicolor  \n",
       "2   versicolor  \n",
       "3   versicolor  \n",
       "4   versicolor  \n",
       "..         ...  \n",
       "95   virginica  \n",
       "96   virginica  \n",
       "97   virginica  \n",
       "98   virginica  \n",
       "99   virginica  \n",
       "\n",
       "[100 rows x 5 columns]"
      ]
     },
     "execution_count": 3,
     "metadata": {},
     "output_type": "execute_result"
    }
   ],
   "source": [
    "#df.head()\n",
    "df"
   ]
  },
  {
   "cell_type": "markdown",
   "id": "e6e70da7-ee6a-408b-a29e-363fb050fd7d",
   "metadata": {},
   "source": [
    "## Data analysis\n",
    "Conhecendo melhor os dados que estamos trabalhando, para entender melhor o problema e encontrar a melhor forma de resolver. Pode-se observar que temos 5 características: *sepal length (cm)*, *sepal width (cm)*, *petal length (cm)*, *petal width (cm)* e *especie* (***versicolor*** e ***virginica***).\n",
    "\n",
    "Podemos obter algumas informações do dados utilizando uma função do *pandas* (*.describe()*), que fornece informações de estatísticas descritivas como média, mínimo, máximo e desvio padrão. Para isso temos que agrupar pela característica de saída, a *especie*.\n",
    "\n",
    "```df.groupby('especie').describe()```"
   ]
  },
  {
   "cell_type": "code",
   "execution_count": 4,
   "id": "ea75892e-a641-4bc0-9fba-3031822aa4a3",
   "metadata": {},
   "outputs": [
    {
     "data": {
      "text/html": [
       "<div>\n",
       "<style scoped>\n",
       "    .dataframe tbody tr th:only-of-type {\n",
       "        vertical-align: middle;\n",
       "    }\n",
       "\n",
       "    .dataframe tbody tr th {\n",
       "        vertical-align: top;\n",
       "    }\n",
       "\n",
       "    .dataframe thead tr th {\n",
       "        text-align: left;\n",
       "    }\n",
       "\n",
       "    .dataframe thead tr:last-of-type th {\n",
       "        text-align: right;\n",
       "    }\n",
       "</style>\n",
       "<table border=\"1\" class=\"dataframe\">\n",
       "  <thead>\n",
       "    <tr>\n",
       "      <th></th>\n",
       "      <th colspan=\"8\" halign=\"left\">sepal length (cm)</th>\n",
       "    </tr>\n",
       "    <tr>\n",
       "      <th></th>\n",
       "      <th>count</th>\n",
       "      <th>mean</th>\n",
       "      <th>std</th>\n",
       "      <th>min</th>\n",
       "      <th>25%</th>\n",
       "      <th>50%</th>\n",
       "      <th>75%</th>\n",
       "      <th>max</th>\n",
       "    </tr>\n",
       "    <tr>\n",
       "      <th>especie</th>\n",
       "      <th></th>\n",
       "      <th></th>\n",
       "      <th></th>\n",
       "      <th></th>\n",
       "      <th></th>\n",
       "      <th></th>\n",
       "      <th></th>\n",
       "      <th></th>\n",
       "    </tr>\n",
       "  </thead>\n",
       "  <tbody>\n",
       "    <tr>\n",
       "      <th>versicolor</th>\n",
       "      <td>50.0</td>\n",
       "      <td>5.936</td>\n",
       "      <td>0.516171</td>\n",
       "      <td>4.9</td>\n",
       "      <td>5.600</td>\n",
       "      <td>5.9</td>\n",
       "      <td>6.3</td>\n",
       "      <td>7.0</td>\n",
       "    </tr>\n",
       "    <tr>\n",
       "      <th>virginica</th>\n",
       "      <td>50.0</td>\n",
       "      <td>6.588</td>\n",
       "      <td>0.635880</td>\n",
       "      <td>4.9</td>\n",
       "      <td>6.225</td>\n",
       "      <td>6.5</td>\n",
       "      <td>6.9</td>\n",
       "      <td>7.9</td>\n",
       "    </tr>\n",
       "  </tbody>\n",
       "</table>\n",
       "</div>"
      ],
      "text/plain": [
       "           sepal length (cm)                                            \n",
       "                       count   mean       std  min    25%  50%  75%  max\n",
       "especie                                                                 \n",
       "versicolor              50.0  5.936  0.516171  4.9  5.600  5.9  6.3  7.0\n",
       "virginica               50.0  6.588  0.635880  4.9  6.225  6.5  6.9  7.9"
      ]
     },
     "execution_count": 4,
     "metadata": {},
     "output_type": "execute_result"
    }
   ],
   "source": [
    "df[['sepal length (cm)', 'especie']].groupby('especie').describe()"
   ]
  },
  {
   "cell_type": "code",
   "execution_count": 5,
   "id": "5cf68f9a-f366-438a-8d0d-ba350860932a",
   "metadata": {},
   "outputs": [
    {
     "data": {
      "text/html": [
       "<div>\n",
       "<style scoped>\n",
       "    .dataframe tbody tr th:only-of-type {\n",
       "        vertical-align: middle;\n",
       "    }\n",
       "\n",
       "    .dataframe tbody tr th {\n",
       "        vertical-align: top;\n",
       "    }\n",
       "\n",
       "    .dataframe thead tr th {\n",
       "        text-align: left;\n",
       "    }\n",
       "\n",
       "    .dataframe thead tr:last-of-type th {\n",
       "        text-align: right;\n",
       "    }\n",
       "</style>\n",
       "<table border=\"1\" class=\"dataframe\">\n",
       "  <thead>\n",
       "    <tr>\n",
       "      <th></th>\n",
       "      <th colspan=\"8\" halign=\"left\">sepal width (cm)</th>\n",
       "    </tr>\n",
       "    <tr>\n",
       "      <th></th>\n",
       "      <th>count</th>\n",
       "      <th>mean</th>\n",
       "      <th>std</th>\n",
       "      <th>min</th>\n",
       "      <th>25%</th>\n",
       "      <th>50%</th>\n",
       "      <th>75%</th>\n",
       "      <th>max</th>\n",
       "    </tr>\n",
       "    <tr>\n",
       "      <th>especie</th>\n",
       "      <th></th>\n",
       "      <th></th>\n",
       "      <th></th>\n",
       "      <th></th>\n",
       "      <th></th>\n",
       "      <th></th>\n",
       "      <th></th>\n",
       "      <th></th>\n",
       "    </tr>\n",
       "  </thead>\n",
       "  <tbody>\n",
       "    <tr>\n",
       "      <th>versicolor</th>\n",
       "      <td>50.0</td>\n",
       "      <td>2.770</td>\n",
       "      <td>0.313798</td>\n",
       "      <td>2.0</td>\n",
       "      <td>2.525</td>\n",
       "      <td>2.8</td>\n",
       "      <td>3.000</td>\n",
       "      <td>3.4</td>\n",
       "    </tr>\n",
       "    <tr>\n",
       "      <th>virginica</th>\n",
       "      <td>50.0</td>\n",
       "      <td>2.974</td>\n",
       "      <td>0.322497</td>\n",
       "      <td>2.2</td>\n",
       "      <td>2.800</td>\n",
       "      <td>3.0</td>\n",
       "      <td>3.175</td>\n",
       "      <td>3.8</td>\n",
       "    </tr>\n",
       "  </tbody>\n",
       "</table>\n",
       "</div>"
      ],
      "text/plain": [
       "           sepal width (cm)                                              \n",
       "                      count   mean       std  min    25%  50%    75%  max\n",
       "especie                                                                  \n",
       "versicolor             50.0  2.770  0.313798  2.0  2.525  2.8  3.000  3.4\n",
       "virginica              50.0  2.974  0.322497  2.2  2.800  3.0  3.175  3.8"
      ]
     },
     "execution_count": 5,
     "metadata": {},
     "output_type": "execute_result"
    }
   ],
   "source": [
    "df[['sepal width (cm)', 'especie']].groupby('especie').describe()"
   ]
  },
  {
   "cell_type": "code",
   "execution_count": 6,
   "id": "9daa30fc-26fe-42e5-a982-31abd99f58f2",
   "metadata": {},
   "outputs": [
    {
     "data": {
      "text/html": [
       "<div>\n",
       "<style scoped>\n",
       "    .dataframe tbody tr th:only-of-type {\n",
       "        vertical-align: middle;\n",
       "    }\n",
       "\n",
       "    .dataframe tbody tr th {\n",
       "        vertical-align: top;\n",
       "    }\n",
       "\n",
       "    .dataframe thead tr th {\n",
       "        text-align: left;\n",
       "    }\n",
       "\n",
       "    .dataframe thead tr:last-of-type th {\n",
       "        text-align: right;\n",
       "    }\n",
       "</style>\n",
       "<table border=\"1\" class=\"dataframe\">\n",
       "  <thead>\n",
       "    <tr>\n",
       "      <th></th>\n",
       "      <th colspan=\"8\" halign=\"left\">petal length (cm)</th>\n",
       "    </tr>\n",
       "    <tr>\n",
       "      <th></th>\n",
       "      <th>count</th>\n",
       "      <th>mean</th>\n",
       "      <th>std</th>\n",
       "      <th>min</th>\n",
       "      <th>25%</th>\n",
       "      <th>50%</th>\n",
       "      <th>75%</th>\n",
       "      <th>max</th>\n",
       "    </tr>\n",
       "    <tr>\n",
       "      <th>especie</th>\n",
       "      <th></th>\n",
       "      <th></th>\n",
       "      <th></th>\n",
       "      <th></th>\n",
       "      <th></th>\n",
       "      <th></th>\n",
       "      <th></th>\n",
       "      <th></th>\n",
       "    </tr>\n",
       "  </thead>\n",
       "  <tbody>\n",
       "    <tr>\n",
       "      <th>versicolor</th>\n",
       "      <td>50.0</td>\n",
       "      <td>4.260</td>\n",
       "      <td>0.469911</td>\n",
       "      <td>3.0</td>\n",
       "      <td>4.0</td>\n",
       "      <td>4.35</td>\n",
       "      <td>4.600</td>\n",
       "      <td>5.1</td>\n",
       "    </tr>\n",
       "    <tr>\n",
       "      <th>virginica</th>\n",
       "      <td>50.0</td>\n",
       "      <td>5.552</td>\n",
       "      <td>0.551895</td>\n",
       "      <td>4.5</td>\n",
       "      <td>5.1</td>\n",
       "      <td>5.55</td>\n",
       "      <td>5.875</td>\n",
       "      <td>6.9</td>\n",
       "    </tr>\n",
       "  </tbody>\n",
       "</table>\n",
       "</div>"
      ],
      "text/plain": [
       "           petal length (cm)                                             \n",
       "                       count   mean       std  min  25%   50%    75%  max\n",
       "especie                                                                  \n",
       "versicolor              50.0  4.260  0.469911  3.0  4.0  4.35  4.600  5.1\n",
       "virginica               50.0  5.552  0.551895  4.5  5.1  5.55  5.875  6.9"
      ]
     },
     "execution_count": 6,
     "metadata": {},
     "output_type": "execute_result"
    }
   ],
   "source": [
    "df[['petal length (cm)', 'especie']].groupby('especie').describe()"
   ]
  },
  {
   "cell_type": "code",
   "execution_count": 7,
   "id": "1aa2ef1a-7b71-4410-9126-d725c5e98f38",
   "metadata": {},
   "outputs": [
    {
     "data": {
      "text/html": [
       "<div>\n",
       "<style scoped>\n",
       "    .dataframe tbody tr th:only-of-type {\n",
       "        vertical-align: middle;\n",
       "    }\n",
       "\n",
       "    .dataframe tbody tr th {\n",
       "        vertical-align: top;\n",
       "    }\n",
       "\n",
       "    .dataframe thead tr th {\n",
       "        text-align: left;\n",
       "    }\n",
       "\n",
       "    .dataframe thead tr:last-of-type th {\n",
       "        text-align: right;\n",
       "    }\n",
       "</style>\n",
       "<table border=\"1\" class=\"dataframe\">\n",
       "  <thead>\n",
       "    <tr>\n",
       "      <th></th>\n",
       "      <th colspan=\"8\" halign=\"left\">petal width (cm)</th>\n",
       "    </tr>\n",
       "    <tr>\n",
       "      <th></th>\n",
       "      <th>count</th>\n",
       "      <th>mean</th>\n",
       "      <th>std</th>\n",
       "      <th>min</th>\n",
       "      <th>25%</th>\n",
       "      <th>50%</th>\n",
       "      <th>75%</th>\n",
       "      <th>max</th>\n",
       "    </tr>\n",
       "    <tr>\n",
       "      <th>especie</th>\n",
       "      <th></th>\n",
       "      <th></th>\n",
       "      <th></th>\n",
       "      <th></th>\n",
       "      <th></th>\n",
       "      <th></th>\n",
       "      <th></th>\n",
       "      <th></th>\n",
       "    </tr>\n",
       "  </thead>\n",
       "  <tbody>\n",
       "    <tr>\n",
       "      <th>versicolor</th>\n",
       "      <td>50.0</td>\n",
       "      <td>1.326</td>\n",
       "      <td>0.197753</td>\n",
       "      <td>1.0</td>\n",
       "      <td>1.2</td>\n",
       "      <td>1.3</td>\n",
       "      <td>1.5</td>\n",
       "      <td>1.8</td>\n",
       "    </tr>\n",
       "    <tr>\n",
       "      <th>virginica</th>\n",
       "      <td>50.0</td>\n",
       "      <td>2.026</td>\n",
       "      <td>0.274650</td>\n",
       "      <td>1.4</td>\n",
       "      <td>1.8</td>\n",
       "      <td>2.0</td>\n",
       "      <td>2.3</td>\n",
       "      <td>2.5</td>\n",
       "    </tr>\n",
       "  </tbody>\n",
       "</table>\n",
       "</div>"
      ],
      "text/plain": [
       "           petal width (cm)                                          \n",
       "                      count   mean       std  min  25%  50%  75%  max\n",
       "especie                                                              \n",
       "versicolor             50.0  1.326  0.197753  1.0  1.2  1.3  1.5  1.8\n",
       "virginica              50.0  2.026  0.274650  1.4  1.8  2.0  2.3  2.5"
      ]
     },
     "execution_count": 7,
     "metadata": {},
     "output_type": "execute_result"
    }
   ],
   "source": [
    "df[['petal width (cm)', 'especie']].groupby('especie').describe()"
   ]
  },
  {
   "cell_type": "markdown",
   "id": "c8f9044d-7315-4056-8ef7-acd2bc2c1d92",
   "metadata": {},
   "source": [
    "Observando as características, podemos verificar que *sepal length (cm)* é o que tem maior diferença entre as médias das medidas das duas flores, e o desvio padrão é relativamente baixo. As outras características têm uma diferença menor entre as médias."
   ]
  },
  {
   "cell_type": "markdown",
   "id": "28478c6b-1816-47e8-8238-cd8be9d538cc",
   "metadata": {},
   "source": [
    "### Histograma\n",
    "Para entendermos melhor as características que estamos trabalhando, vamos utilizar o histograma."
   ]
  },
  {
   "cell_type": "code",
   "execution_count": 8,
   "id": "44d44680-ae98-4f5f-9086-789cb71954bb",
   "metadata": {},
   "outputs": [
    {
     "data": {
      "image/png": "[encoded data removed]",
      "text/plain": [
       "<Figure size 1152x576 with 4 Axes>"
      ]
     },
     "metadata": {
      "needs_background": "light"
     },
     "output_type": "display_data"
    }
   ],
   "source": [
    "features = ['sepal length (cm)', 'sepal width (cm)', 'petal length (cm)', 'petal width (cm)']\n",
    "\n",
    "fig, axes = plt.subplots(nrows=2, ncols=2, figsize=(16,8))\n",
    "\n",
    "sns.color_palette('bright')\n",
    "sns.histplot(data=df, bins=10, x=features[0], hue='especie', palette=['pink', 'gray'], multiple='dodge', shrink=0.8, ax=axes[0, 0])\n",
    "\n",
    "sns.color_palette('colorblind')\n",
    "sns.histplot(data=df, bins=10, x=features[1], hue='especie', palette=['orange', 'lightBlue'], multiple='dodge', shrink=0.8, ax=axes[0, 1])\n",
    "\n",
    "sns.color_palette('muted')\n",
    "sns.histplot(data=df, bins=10, x=features[2], hue='especie', palette=['yellow', 'blue'], multiple='dodge', shrink=0.8, ax=axes[1, 0])\n",
    "\n",
    "sns.color_palette(\"husl\", 8)\n",
    "sns.histplot(data=df, bins=10, x=features[3], hue='especie', palette=['red', 'purple'], multiple='dodge', shrink=0.8, ax=axes[1, 1])\n",
    "\n",
    "plt.show()"
   ]
  },
  {
   "cell_type": "markdown",
   "id": "f0c6c407-2942-4a28-81ed-77673370ec01",
   "metadata": {},
   "source": [
    "Pelo histograma podemos verificar que a *petal length (cm)* e *petal width (cm)* da *versicolor* tem o comprimento e a largura menor que da *virginica*, embora existam alguns casos que ocorre intersecção. \n",
    "\n",
    "Porém, o que aparenta ter melhor característica é o *petal length (cm)* para diferenciar as duas espécies."
   ]
  },
  {
   "cell_type": "markdown",
   "id": "ffecc83e-bd28-4f31-b2f4-ca00a3d413ed",
   "metadata": {},
   "source": [
    "### *Scatterplots*"
   ]
  },
  {
   "cell_type": "markdown",
   "id": "453c95a5-0900-4d95-a1c0-d0fdbf87181f",
   "metadata": {},
   "source": [
    "Outra forma de verificar e analisar os dados é por meio dos *scatterplots*, gráficos de dispersão entre duas ou mais características."
   ]
  },
  {
   "cell_type": "code",
   "execution_count": 9,
   "id": "b53a109b-9a51-4f26-bd40-b873965335cf",
   "metadata": {},
   "outputs": [
    {
     "data": {
      "image/png": "[encoded data removed]",
      "text/plain": [
       "<Figure size 1152x432 with 2 Axes>"
      ]
     },
     "metadata": {
      "needs_background": "light"
     },
     "output_type": "display_data"
    }
   ],
   "source": [
    "fig, axes = plt.subplots(nrows=1, ncols=2, figsize=(16,6))\n",
    "\n",
    "sns.color_palette('bright')\n",
    "sns.scatterplot(data=df, x=features[3], hue='especie', y=features[2], palette=['yellow', 'purple'], ax=axes[0])\n",
    "\n",
    "sns.color_palette(\"husl\", 8)\n",
    "sns.scatterplot(data=df, x=features[2], hue='especie', y=features[3], palette=['yellow', 'purple'], ax=axes[1])\n",
    "\n",
    "plt.show()"
   ]
  },
  {
   "cell_type": "markdown",
   "id": "8c584cc1-c398-4946-a36d-54b93d182bc8",
   "metadata": {},
   "source": [
    "Comparando a *petal length (cm)* e *petal width (cm)* vemos que a característica que melhor separa as espécies olhando para os gráficos, os pontinhos amarelo (*versicolor*) e roxo (*virginica*), na verdade as duas características têm distribuição parecidas e para confirmar traçando um limiar nos valores *petal length (cm)* = 4.85  no primeiro gráfico e no segundo, *petal width (cm)* = 1.75."
   ]
  },
  {
   "cell_type": "code",
   "execution_count": 10,
   "id": "daa2ee78-937e-45af-992e-d77c3de1e80c",
   "metadata": {},
   "outputs": [
    {
     "data": {
      "image/png": "[encoded data removed]",
      "text/plain": [
       "<Figure size 1152x432 with 2 Axes>"
      ]
     },
     "metadata": {
      "needs_background": "light"
     },
     "output_type": "display_data"
    }
   ],
   "source": [
    "fig, axes = plt.subplots(nrows=1, ncols=2, figsize=(16,6))\n",
    "\n",
    "sns.color_palette('bright')\n",
    "sns.scatterplot(data=df, x=features[3], hue='especie', y=features[2], palette=['yellow', 'purple'], ax=axes[0])\n",
    "\n",
    "axes[0].axhline(4.85, color='red', label='Limiar', lw=0.5)\n",
    "axes[0].legend()\n",
    "\n",
    "sns.color_palette(\"husl\", 8)\n",
    "sns.scatterplot(data=df, x=features[2], hue='especie', y=features[3], palette=['yellow', 'purple'], ax=axes[1])\n",
    "\n",
    "axes[1].axhline(1.75, color='blue', label='Limiar', lw=0.5)\n",
    "axes[1].legend()\n",
    "\n",
    "plt.show()"
   ]
  },
  {
   "cell_type": "markdown",
   "id": "34fe56d2-3b74-42d4-9f64-3eeb3057b40d",
   "metadata": {},
   "source": [
    "Podemos analisar que no primeiro gráfico traçando um limiar em *petal length (cm)* = 4.85 para separar a região observamos que 3 pontos amarelo (*versicolor*) e 2 pontos roxo (*virginica*) estão na divisão (classe) errada. E no segundo, *petal width (cm)* = 1.75, verificamos que todos os pontos amarelo (*versicolor*) estão na classe certo, porém existem 5 pontos roxo (*virginica*) que estão na classe (divisão) errada."
   ]
  },
  {
   "cell_type": "markdown",
   "id": "31239537-6867-4eba-b4af-242ad89d58b6",
   "metadata": {},
   "source": [
    "## Classificador"
   ]
  },
  {
   "cell_type": "markdown",
   "id": "bf075aa0-3a54-44a2-a179-29cca4a487c3",
   "metadata": {},
   "source": [
    "Agora que analisamos os dados com que estamos trabalhando, e com melhores informações de como estão distribuídos, será feita a escolha do melhor atributo encontrado, e depois realizada a busca exaustiva.\n",
    "\n",
    "Um classificador funcional da seguinte maneira, dado um conjunto de características importantes e um rótulo de saída, objetivo é maximizar a taxa de acertos dada a entrada e a saída retornada pela função seja igual a rotulada."
   ]
  },
  {
   "cell_type": "markdown",
   "id": "f6425d46-8027-46e8-9e02-14f6125b4f25",
   "metadata": {},
   "source": [
    "### Escolhendo atributos"
   ]
  },
  {
   "cell_type": "markdown",
   "id": "43a2b51a-3687-4f75-ba61-1588d813b01e",
   "metadata": {},
   "source": [
    "Verificando o valores que melhor separam os atributos, e utilizando as conclusões anteriores será utilizado a característica *petal length (cm)* com limiar de 4.85. Foi escolhido esse atributo pois dentre as análises acima, o foi o que aparenta se destacar mais para diferenciar as classes."
   ]
  },
  {
   "cell_type": "markdown",
   "id": "5fdef140-bf67-4853-b6a1-6adfc58a9501",
   "metadata": {},
   "source": [
    "### Busca Exaustiva simples"
   ]
  },
  {
   "cell_type": "code",
   "execution_count": 11,
   "id": "7634d1b6-3f52-42ec-a66c-7d7d7c26d111",
   "metadata": {},
   "outputs": [],
   "source": [
    "def classification_threshold(threshold, data, label, value):\n",
    "    data['predicao_petal length (cm)'] = [label[0] if row >= threshold else label[1] for row in data[value]]"
   ]
  },
  {
   "cell_type": "code",
   "execution_count": 12,
   "id": "de1bc8c2-0f53-413a-98f2-1a56af70b469",
   "metadata": {},
   "outputs": [
    {
     "data": {
      "text/html": [
       "<div>\n",
       "<style scoped>\n",
       "    .dataframe tbody tr th:only-of-type {\n",
       "        vertical-align: middle;\n",
       "    }\n",
       "\n",
       "    .dataframe tbody tr th {\n",
       "        vertical-align: top;\n",
       "    }\n",
       "\n",
       "    .dataframe thead th {\n",
       "        text-align: right;\n",
       "    }\n",
       "</style>\n",
       "<table border=\"1\" class=\"dataframe\">\n",
       "  <thead>\n",
       "    <tr style=\"text-align: right;\">\n",
       "      <th></th>\n",
       "      <th>sepal length (cm)</th>\n",
       "      <th>sepal width (cm)</th>\n",
       "      <th>petal length (cm)</th>\n",
       "      <th>petal width (cm)</th>\n",
       "      <th>especie</th>\n",
       "      <th>predicao_petal length (cm)</th>\n",
       "    </tr>\n",
       "  </thead>\n",
       "  <tbody>\n",
       "    <tr>\n",
       "      <th>0</th>\n",
       "      <td>7.0</td>\n",
       "      <td>3.2</td>\n",
       "      <td>4.7</td>\n",
       "      <td>1.4</td>\n",
       "      <td>versicolor</td>\n",
       "      <td>versicolor</td>\n",
       "    </tr>\n",
       "    <tr>\n",
       "      <th>1</th>\n",
       "      <td>6.4</td>\n",
       "      <td>3.2</td>\n",
       "      <td>4.5</td>\n",
       "      <td>1.5</td>\n",
       "      <td>versicolor</td>\n",
       "      <td>versicolor</td>\n",
       "    </tr>\n",
       "    <tr>\n",
       "      <th>2</th>\n",
       "      <td>6.9</td>\n",
       "      <td>3.1</td>\n",
       "      <td>4.9</td>\n",
       "      <td>1.5</td>\n",
       "      <td>versicolor</td>\n",
       "      <td>virginica</td>\n",
       "    </tr>\n",
       "    <tr>\n",
       "      <th>3</th>\n",
       "      <td>5.5</td>\n",
       "      <td>2.3</td>\n",
       "      <td>4.0</td>\n",
       "      <td>1.3</td>\n",
       "      <td>versicolor</td>\n",
       "      <td>versicolor</td>\n",
       "    </tr>\n",
       "    <tr>\n",
       "      <th>4</th>\n",
       "      <td>6.5</td>\n",
       "      <td>2.8</td>\n",
       "      <td>4.6</td>\n",
       "      <td>1.5</td>\n",
       "      <td>versicolor</td>\n",
       "      <td>versicolor</td>\n",
       "    </tr>\n",
       "    <tr>\n",
       "      <th>...</th>\n",
       "      <td>...</td>\n",
       "      <td>...</td>\n",
       "      <td>...</td>\n",
       "      <td>...</td>\n",
       "      <td>...</td>\n",
       "      <td>...</td>\n",
       "    </tr>\n",
       "    <tr>\n",
       "      <th>95</th>\n",
       "      <td>6.7</td>\n",
       "      <td>3.0</td>\n",
       "      <td>5.2</td>\n",
       "      <td>2.3</td>\n",
       "      <td>virginica</td>\n",
       "      <td>virginica</td>\n",
       "    </tr>\n",
       "    <tr>\n",
       "      <th>96</th>\n",
       "      <td>6.3</td>\n",
       "      <td>2.5</td>\n",
       "      <td>5.0</td>\n",
       "      <td>1.9</td>\n",
       "      <td>virginica</td>\n",
       "      <td>virginica</td>\n",
       "    </tr>\n",
       "    <tr>\n",
       "      <th>97</th>\n",
       "      <td>6.5</td>\n",
       "      <td>3.0</td>\n",
       "      <td>5.2</td>\n",
       "      <td>2.0</td>\n",
       "      <td>virginica</td>\n",
       "      <td>virginica</td>\n",
       "    </tr>\n",
       "    <tr>\n",
       "      <th>98</th>\n",
       "      <td>6.2</td>\n",
       "      <td>3.4</td>\n",
       "      <td>5.4</td>\n",
       "      <td>2.3</td>\n",
       "      <td>virginica</td>\n",
       "      <td>virginica</td>\n",
       "    </tr>\n",
       "    <tr>\n",
       "      <th>99</th>\n",
       "      <td>5.9</td>\n",
       "      <td>3.0</td>\n",
       "      <td>5.1</td>\n",
       "      <td>1.8</td>\n",
       "      <td>virginica</td>\n",
       "      <td>virginica</td>\n",
       "    </tr>\n",
       "  </tbody>\n",
       "</table>\n",
       "<p>100 rows × 6 columns</p>\n",
       "</div>"
      ],
      "text/plain": [
       "    sepal length (cm)  sepal width (cm)  petal length (cm)  petal width (cm)  \\\n",
       "0                 7.0               3.2                4.7               1.4   \n",
       "1                 6.4               3.2                4.5               1.5   \n",
       "2                 6.9               3.1                4.9               1.5   \n",
       "3                 5.5               2.3                4.0               1.3   \n",
       "4                 6.5               2.8                4.6               1.5   \n",
       "..                ...               ...                ...               ...   \n",
       "95                6.7               3.0                5.2               2.3   \n",
       "96                6.3               2.5                5.0               1.9   \n",
       "97                6.5               3.0                5.2               2.0   \n",
       "98                6.2               3.4                5.4               2.3   \n",
       "99                5.9               3.0                5.1               1.8   \n",
       "\n",
       "       especie predicao_petal length (cm)  \n",
       "0   versicolor                 versicolor  \n",
       "1   versicolor                 versicolor  \n",
       "2   versicolor                  virginica  \n",
       "3   versicolor                 versicolor  \n",
       "4   versicolor                 versicolor  \n",
       "..         ...                        ...  \n",
       "95   virginica                  virginica  \n",
       "96   virginica                  virginica  \n",
       "97   virginica                  virginica  \n",
       "98   virginica                  virginica  \n",
       "99   virginica                  virginica  \n",
       "\n",
       "[100 rows x 6 columns]"
      ]
     },
     "execution_count": 12,
     "metadata": {},
     "output_type": "execute_result"
    }
   ],
   "source": [
    "classification_threshold(4.85, df, ['virginica', 'versicolor'], 'petal length (cm)')\n",
    "df"
   ]
  },
  {
   "cell_type": "markdown",
   "id": "3993d9bc-5472-4153-b321-3e592f3807ef",
   "metadata": {},
   "source": [
    "#### Calculando Acurácia\n",
    "Vamos medir o desempenho do classificador. Para isso precisamos do gabarito, no nosso caso é a própria coluna *especie*. \n",
    "\n",
    "Com isso, vamos usar a seguinte fórmula:\n",
    "\n",
    "$$ accuracy = \\frac{hit}{total} $$\n",
    "\n",
    "Ou seja, a acurácia é calculado pela divisão da quantidade de acertos pelo total de instâncias."
   ]
  },
  {
   "cell_type": "code",
   "execution_count": 13,
   "id": "67b19390-0ca0-439f-bfa1-de66c978b84d",
   "metadata": {},
   "outputs": [],
   "source": [
    "def check(pred, gab, label):\n",
    "    hit, miss = 0, 0\n",
    "    for idx, val in enumerate(gab):\n",
    "        if val == label and val == pred[idx]:\n",
    "            hit+=1\n",
    "        elif val == label:\n",
    "            miss+=1\n",
    "    return hit, miss"
   ]
  },
  {
   "cell_type": "code",
   "execution_count": 14,
   "id": "e447cfcf-05fe-416d-940a-66a3128fe948",
   "metadata": {},
   "outputs": [
    {
     "name": "stdout",
     "output_type": "stream",
     "text": [
      "virginica - acerto(s) 47 e erro(s) 3\n",
      "versicolor - acerto(s) 46 e erro(s) 4\n"
     ]
    }
   ],
   "source": [
    "hit_virginica, miss_virginica = check(df['predicao_petal length (cm)'].values, df['especie'].values, 'virginica')\n",
    "print('virginica - acerto(s) {} e erro(s) {}'.format(hit_virginica, miss_virginica))\n",
    "hit_versicolor, miss_versicolor = check(df['predicao_petal length (cm)'].values, df['especie'].values, 'versicolor')\n",
    "print('versicolor - acerto(s) {} e erro(s) {}'.format(hit_versicolor, miss_versicolor))"
   ]
  },
  {
   "cell_type": "code",
   "execution_count": 15,
   "id": "87e143ef-2596-4f24-817d-c5ce49d95140",
   "metadata": {},
   "outputs": [
    {
     "name": "stdout",
     "output_type": "stream",
     "text": [
      "Acurácia - virginica: 94.0%\n",
      "Acurácia - virginica: 92.0%\n",
      "Acurácia - total: 93.0%\n"
     ]
    }
   ],
   "source": [
    "def accuracy(hit, total):\n",
    "    return hit / total*100\n",
    "\n",
    "print('Acurácia - virginica: {}%'.format(accuracy(hit_virginica, hit_virginica+miss_virginica)))\n",
    "print('Acurácia - virginica: {}%'.format(accuracy(hit_versicolor, hit_versicolor+miss_versicolor)))\n",
    "print('Acurácia - total: {}%'.format(accuracy(hit_virginica+hit_versicolor, hit_virginica+miss_virginica+hit_versicolor+miss_versicolor)))"
   ]
  },
  {
   "cell_type": "markdown",
   "id": "d0769975-4088-4232-9586-35d68ed25b9a",
   "metadata": {},
   "source": [
    "### Busca Exaustiva Dependendo do Conjunto - 80% conjunto de treino e 20% conjunto de teste"
   ]
  },
  {
   "cell_type": "code",
   "execution_count": 16,
   "id": "b2ccf056-08d3-4062-a5d7-ec560b91bc3d",
   "metadata": {},
   "outputs": [],
   "source": [
    "from sklearn.model_selection import train_test_split\n",
    "from sklearn.metrics import accuracy_score"
   ]
  },
  {
   "cell_type": "markdown",
   "id": "a9b30619-a92d-4471-82db-10bc79584f61",
   "metadata": {},
   "source": [
    "Separando os conjuntos em treino e teste:"
   ]
  },
  {
   "cell_type": "code",
   "execution_count": 17,
   "id": "8b7d603e-1d15-421a-8dfe-a76270cbb38b",
   "metadata": {},
   "outputs": [],
   "source": [
    "x_treino, x_teste, y_treino, y_teste = train_test_split(\n",
    "    df[['petal length (cm)', 'petal width (cm)']], \n",
    "    df['especie'], \n",
    "    test_size=0.2, stratify=df['especie'].tolist(),\n",
    "    shuffle=True, random_state=10\n",
    ")"
   ]
  },
  {
   "cell_type": "markdown",
   "id": "3f228e4a-95fa-46ce-a131-2c5f9bb4b214",
   "metadata": {},
   "source": [
    "Verificando se realmente ocorreu a separação:"
   ]
  },
  {
   "cell_type": "code",
   "execution_count": 18,
   "id": "8a52e3a2-9465-4824-9e69-b097d1cbc560",
   "metadata": {},
   "outputs": [
    {
     "name": "stdout",
     "output_type": "stream",
     "text": [
      "(80, 2) (20, 2) (80,) (20,)\n",
      "virginica     40\n",
      "versicolor    40\n",
      "Name: especie, dtype: int64\n",
      "versicolor    10\n",
      "virginica     10\n",
      "Name: especie, dtype: int64\n"
     ]
    }
   ],
   "source": [
    "print(x_treino.shape, x_teste.shape, y_treino.shape, y_teste.shape)\n",
    "print(y_treino.value_counts())\n",
    "print(y_teste.value_counts())"
   ]
  },
  {
   "cell_type": "code",
   "execution_count": 19,
   "id": "6fa10a2d-8998-4eaf-9253-2fd859bf2bbf",
   "metadata": {},
   "outputs": [],
   "source": [
    "def thresholds(threshold, v_min, v_max):\n",
    "    return np.linspace(v_min, v_max, threshold)"
   ]
  },
  {
   "cell_type": "markdown",
   "id": "34eb7729-2b79-4141-b69a-04417a89c1b1",
   "metadata": {},
   "source": [
    "Utilizando a busca exaustiva, vamos tentar uma abordagem de testar as duas características e verificar qual se sai melhor para classificar as espécies (*virginica*, *versicolor*) de Íris. Verificando se nossas análises preliminares estavam certas."
   ]
  },
  {
   "cell_type": "markdown",
   "id": "f1fe7e30-7145-4d0c-9ebd-9cfcb5b0f1a5",
   "metadata": {},
   "source": [
    "##### **Usando *petal length (cm)* como característica**"
   ]
  },
  {
   "cell_type": "code",
   "execution_count": 20,
   "id": "91f8e59a-1f1c-48d4-bae2-e7a06f78615b",
   "metadata": {},
   "outputs": [],
   "source": [
    "def classification_threshold_length(threshold, data, label=('virginica', 'versicolor')):\n",
    "    res = [label[0] if row[0] >= threshold else label[1] for idx, row in data.iterrows()]\n",
    "    return pd.DataFrame(res, columns=['especie'])\n",
    "\n",
    "def exhaustive_search_classification_threshold_length(thresholds, feat, label):\n",
    "    the_best = 0\n",
    "    better_accuracy = 0\n",
    "    for threshold in thresholds:\n",
    "        pred = classification_threshold_length(threshold, feat)\n",
    "        acc = accuracy_score(label, pred['especie'])\n",
    "        if acc > better_accuracy:\n",
    "            the_best = threshold\n",
    "            better_accuracy = acc\n",
    "    return the_best, better_accuracy"
   ]
  },
  {
   "cell_type": "markdown",
   "id": "b869cff8-1960-4ef0-a22d-321ef51f1157",
   "metadata": {},
   "source": [
    "##### **Usando *petal width (cm)* como característica**"
   ]
  },
  {
   "cell_type": "code",
   "execution_count": 21,
   "id": "fa845a86-670e-4796-b10f-af20a7ff1e37",
   "metadata": {},
   "outputs": [],
   "source": [
    "def classification_threshold_width(threshold, data, label=('virginica', 'versicolor')):\n",
    "    res = [label[0] if row[1] > threshold else label[1] for idx, row in data.iterrows()]\n",
    "    return pd.DataFrame(res, columns=['especie'])\n",
    "\n",
    "def exhaustive_search_classification_threshold_width(thresholds, feat, label):\n",
    "    the_best = 0\n",
    "    better_accuracy = 0\n",
    "    for threshold in thresholds:\n",
    "        pred = classification_threshold_width(threshold, feat)\n",
    "        acc = accuracy_score(label, pred['especie'])\n",
    "        if acc > better_accuracy:\n",
    "            the_best = threshold\n",
    "            better_accuracy = acc\n",
    "    return the_best, better_accuracy"
   ]
  },
  {
   "cell_type": "markdown",
   "id": "e6ad8e03-eb2c-438a-a596-d34dacb0ca29",
   "metadata": {},
   "source": [
    "As escolha do valor de 4.85 para *petal length (cm)* e 1.75 para *petal width (cm)* foi feita com base nos passos anteriores analisando o gráfico de Scatterplots. E pegando o que parecia ser a melhor medida visualmente."
   ]
  },
  {
   "cell_type": "code",
   "execution_count": 22,
   "id": "d42be074-ed6f-4e1c-b0e2-b89b3d5c09c9",
   "metadata": {},
   "outputs": [
    {
     "name": "stdout",
     "output_type": "stream",
     "text": [
      "petal length (cm) threshold: 4.85 e accuracy: 0.9125\n",
      "petal width (cm) threshold: 1.75 e accuracy: 0.9375\n"
     ]
    }
   ],
   "source": [
    "the_best_length, better_accuracy_length = exhaustive_search_classification_threshold_length(thresholds(1, 4.85, 4.86), x_treino, y_treino)\n",
    "\n",
    "print('petal length (cm) threshold: {} e accuracy: {}'.format(the_best_length, better_accuracy_length))\n",
    "\n",
    "\n",
    "the_best_width, better_accuracy_width = exhaustive_search_classification_threshold_width(thresholds(1, 1.75, 1.76), x_treino, y_treino)\n",
    "\n",
    "print('petal width (cm) threshold: {} e accuracy: {}'.format(the_best_width, better_accuracy_width))"
   ]
  },
  {
   "cell_type": "markdown",
   "id": "7bc5128f-efc9-47f2-9639-e8cb429bb8ff",
   "metadata": {},
   "source": [
    "Como podemos analisar, *petal width (cm)* tem a melhor taxa de acurácia, sendo aparentemente a melhor característica para se trabalhar analisando pelo conjuto de treino, mas será que na prática (no conjunto de teste) será mesmo o melhor?"
   ]
  },
  {
   "cell_type": "markdown",
   "id": "37efa855-0b11-4e23-9397-3fa7d2412cc7",
   "metadata": {},
   "source": [
    "#### Aplicando no conjunto de teste"
   ]
  },
  {
   "cell_type": "code",
   "execution_count": 23,
   "id": "76e15785-e23a-470e-b1ec-740637e4e2ef",
   "metadata": {},
   "outputs": [
    {
     "name": "stdout",
     "output_type": "stream",
     "text": [
      "petal width (cm) threshold: 1.75 e accuracy: 0.95\n"
     ]
    }
   ],
   "source": [
    "pred_width = classification_threshold_width(1.75, x_teste)\n",
    "accuracy_width = accuracy_score(y_teste, pred_width['especie'])\n",
    "\n",
    "print('petal width (cm) threshold: 1.75 e accuracy: {}'.format(accuracy_width))"
   ]
  },
  {
   "cell_type": "code",
   "execution_count": 24,
   "id": "1bf3bb74-817b-4d01-8d85-a0ae2ecc579f",
   "metadata": {},
   "outputs": [
    {
     "name": "stdout",
     "output_type": "stream",
     "text": [
      "petal width (cm) threshold: 4.85 e accuracy: 1.0\n"
     ]
    }
   ],
   "source": [
    "pred_length = classification_threshold_length(4.85, x_teste)\n",
    "accuracy_length = accuracy_score(y_teste, pred_length['especie'])\n",
    "\n",
    "print('petal width (cm) threshold: 4.85 e accuracy: {}'.format(accuracy_length))"
   ]
  },
  {
   "cell_type": "markdown",
   "id": "c6dd8165-93df-49d0-862f-bfca6a7b579c",
   "metadata": {},
   "source": [
    "Com podemos observar, quando aplicamos no conjunto de teste na verdade foi o oposto. Quem foi o melhor na verdade foi *petal length (cm)* com 100% de acertos."
   ]
  },
  {
   "cell_type": "markdown",
   "id": "c69c2f9f-ada2-4b0e-bf70-56e4fd7846c3",
   "metadata": {},
   "source": [
    "## Executando a Busca Exaustiva com 20 Particionamentos Diferentes"
   ]
  },
  {
   "cell_type": "markdown",
   "id": "96561574-75d7-4538-8e1c-4fc7556b5091",
   "metadata": {},
   "source": [
    "Agora vamos analisar se realmente os valores de threshold e accuracy encontrados são realmente os melhores valores que podemos obter. Vamos realizar a busca com o threshold variando em 20, para isso vamos usar o mínimo: 4.0 e o máximo: 6.0 para o *petal length (cm)*."
   ]
  },
  {
   "cell_type": "code",
   "execution_count": 25,
   "id": "49054f5b-e5aa-40bd-b3e9-b4cd8e304ffb",
   "metadata": {},
   "outputs": [
    {
     "name": "stdout",
     "output_type": "stream",
     "text": [
      "petal length (cm) accuracy: minimum - 0.6, maximum - 1.0 e mean - 0.8474999999999999 | standard deviation - 0.14446020213193667\n"
     ]
    }
   ],
   "source": [
    "thresholds = thresholds(20, 4.0, 6.0)\n",
    "accus = []\n",
    "for i in thresholds:\n",
    "    pred_length = classification_threshold_length(i, x_teste)\n",
    "    accuracy_length = accuracy_score(y_teste, pred_length['especie'])\n",
    "    accus.append(accuracy_length)\n",
    "\n",
    "print('petal length (cm) accuracy: minimum - {}, maximum - {} e mean - {} | standard deviation - {}'.format(np.amin(accus), np.amax(accus), np.mean(accus), np.std(accus)))"
   ]
  },
  {
   "cell_type": "markdown",
   "id": "54f48640-18c0-4035-8665-0292d23b5bc6",
   "metadata": {},
   "source": [
    "## Conclusão"
   ]
  },
  {
   "cell_type": "markdown",
   "id": "5e87c7f0-626d-4b54-8e07-6becc27aed72",
   "metadata": {},
   "source": [
    "Podemos concluir que nossa suposição no início, na seção ***Escolhendo atributos***, estava certo. O *petal length (cm)* com limiar de 4.85 foi a melhor característica junto o melhor limiar. Foi escolhido esse atributo pois dentre as análises foi o que aparentou se destacar mais para diferenciar as classes.\n",
    "\n",
    "No final, testamos as duas melhores classes (*petal width (cm)* e *petal length (cm)*) para verificar se realmente aquela característica era a melhor, e verificamos que no conjunto de treino não, porém quando usado com dados mais próximo da realidade (conjunto de teste) verificamos que nossa escolha estava certa. Com isso, como os valores escolhidos e usados foram certeiros obtivemos o maior valor possível. \n",
    "\n",
    "Possivelmente isso ocorra (diferença entre a melhor característica no treino e no teste) por causa dos chamados **outliers**, se observarmos o gráfico de Scatterplots verificamos que existem alguns, porém são poucos. Com isso, a probabilidade na hora de separar conjunto de treino e teste, deles ( *outliers*) aparecem no conjunto de teste é baixa, fazendo que ocorra essa diferença."
   ]
  },
  {
   "cell_type": "code",
   "execution_count": null,
   "id": "d30e96fb-7ddf-4b76-b238-059ac8bb4ee4",
   "metadata": {},
   "outputs": [],
   "source": []
  }
 ],
 "metadata": {
  "kernelspec": {
   "display_name": "Python 3 (ipykernel)",
   "language": "python",
   "name": "python3"
  },
  "language_info": {
   "codemirror_mode": {
    "name": "ipython",
    "version": 3
   },
   "file_extension": ".py",
   "mimetype": "text/x-python",
   "name": "python",
   "nbconvert_exporter": "python",
   "pygments_lexer": "ipython3",
   "version": "3.9.5"
  }
 },
 "nbformat": 4,
 "nbformat_minor": 5
}
