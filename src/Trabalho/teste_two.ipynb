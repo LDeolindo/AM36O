{
 "cells": [
  {
   "cell_type": "code",
   "execution_count": 1,
   "id": "159fd528-f9eb-4897-9057-0b582bd56b03",
   "metadata": {},
   "outputs": [],
   "source": [
    "# bibliotecas default\n",
    "import pandas as pd\n",
    "import numpy as np\n",
    "\n",
    "# bibliotecas para visualização dos dados\n",
    "import seaborn as sns\n",
    "import matplotlib.pyplot as plt\n",
    "\n",
    "# bibliotecas para transformação e tratamento dos dados\n",
    "from sklearn.impute import SimpleImputer\n",
    "from sklearn.compose import ColumnTransformer\n",
    "from sklearn.preprocessing import OrdinalEncoder\n",
    "from sklearn.preprocessing import OneHotEncoder\n",
    "from sklearn.decomposition import PCA\n",
    "from sklearn.preprocessing import StandardScaler\n",
    "\n",
    "# importando os classificadares\n",
    "from sklearn.svm import SVC\n",
    "from sklearn.neighbors import KNeighborsClassifier\n",
    "from sklearn.ensemble import RandomForestClassifier\n",
    "from sklearn.tree import DecisionTreeClassifier"
   ]
  },
  {
   "cell_type": "markdown",
   "id": "c0f35897-d10a-42de-9f22-e9c3ed52dc01",
   "metadata": {},
   "source": [
    "**Importando o *utils* fornecido pelo professor.**"
   ]
  },
  {
   "cell_type": "code",
   "execution_count": 2,
   "id": "f4901249-2506-43b3-bdbb-706fab569d3a",
   "metadata": {},
   "outputs": [],
   "source": [
    "from utils import imprimir_estatisticas, calcular_estatisticas, rejeitar_hip_nula\n",
    "from mixins import selecionar_melhor_modelo, do_cv"
   ]
  },
  {
   "cell_type": "markdown",
   "id": "7e6af489-94ae-4561-8ffa-e2e169036c81",
   "metadata": {},
   "source": [
    "#### Lendo os arquivo de Teste e Treino em um *dataframe*"
   ]
  },
  {
   "cell_type": "code",
   "execution_count": 3,
   "id": "f08cc007-ebf2-47b7-94c8-b56bb6511a49",
   "metadata": {},
   "outputs": [],
   "source": [
    "df_test = pd.read_csv(\"titanic/test.csv\")\n",
    "df_train = pd.read_csv(\"titanic/train.csv\")"
   ]
  },
  {
   "cell_type": "code",
   "execution_count": 4,
   "id": "2fae76d6-ba91-4860-8fda-d74d0c85ef9c",
   "metadata": {},
   "outputs": [],
   "source": [
    "df_train_new = df_train.drop(columns=[\"PassengerId\", \"Name\"])"
   ]
  },
  {
   "cell_type": "code",
   "execution_count": 5,
   "id": "62d5f037-cb38-4d02-bba5-23995e171e21",
   "metadata": {},
   "outputs": [],
   "source": [
    "df_train_new = df_train_new.dropna(subset=['Embarked'])"
   ]
  },
  {
   "cell_type": "code",
   "execution_count": 6,
   "id": "7facd92c-c6fe-46ea-83f4-eb7c22002880",
   "metadata": {},
   "outputs": [],
   "source": [
    "X_train = df_train_new.drop(columns=[\"Survived\"])\n",
    "Y_train = df_train_new[[\"Survived\"]]"
   ]
  },
  {
   "cell_type": "code",
   "execution_count": 7,
   "id": "23d3b408-4d3d-4291-8b7e-54a5d8e6b0f4",
   "metadata": {},
   "outputs": [
    {
     "data": {
      "text/plain": [
       "array([[22.0, 'Unknown', 3, ..., 'A/5 21171', 7.25, 'S'],\n",
       "       [38.0, 'C85', 1, ..., 'PC 17599', 71.2833, 'C'],\n",
       "       [26.0, 'Unknown', 3, ..., 'STON/O2. 3101282', 7.925, 'S'],\n",
       "       ...,\n",
       "       [29.64209269662921, 'Unknown', 3, ..., 'W./C. 6607', 23.45, 'S'],\n",
       "       [26.0, 'C148', 1, ..., '111369', 30.0, 'C'],\n",
       "       [32.0, 'Unknown', 3, ..., '370376', 7.75, 'Q']], dtype=object)"
      ]
     },
     "execution_count": 7,
     "metadata": {},
     "output_type": "execute_result"
    }
   ],
   "source": [
    "# pega os nomes das colunas\n",
    "attributes = list(X_train.columns)\n",
    "# as colunas que vão ser tranformadas\n",
    "attributes_transf = ['Age', 'Cabin']\n",
    "# separa as colunas das colunas que serão tranformadas\n",
    "attributes = [item for item in attributes if item not in attributes_transf]\n",
    "\n",
    "transformers = [\n",
    "    ('imp_num', SimpleImputer(strategy='mean'), ['Age']),\n",
    "    ('imp_cat', SimpleImputer(strategy='constant', fill_value='Unknown'), ['Cabin'])\n",
    "]\n",
    "\n",
    "col_trans = ColumnTransformer(\n",
    "    transformers, remainder='passthrough', sparse_threshold=0\n",
    ")\n",
    "values_imput = col_trans.fit_transform(X_train)\n",
    "values_imput"
   ]
  },
  {
   "cell_type": "markdown",
   "id": "6558e39c-a141-44eb-bfd7-3616ad6a39c2",
   "metadata": {},
   "source": [
    "Verificando se tudo ocorreu conforme o planejado."
   ]
  },
  {
   "cell_type": "code",
   "execution_count": 8,
   "id": "349f7307-46b8-4e22-84f0-a9dffb5c6ab6",
   "metadata": {},
   "outputs": [
    {
     "data": {
      "text/html": [
       "<div>\n",
       "<style scoped>\n",
       "    .dataframe tbody tr th:only-of-type {\n",
       "        vertical-align: middle;\n",
       "    }\n",
       "\n",
       "    .dataframe tbody tr th {\n",
       "        vertical-align: top;\n",
       "    }\n",
       "\n",
       "    .dataframe thead th {\n",
       "        text-align: right;\n",
       "    }\n",
       "</style>\n",
       "<table border=\"1\" class=\"dataframe\">\n",
       "  <thead>\n",
       "    <tr style=\"text-align: right;\">\n",
       "      <th></th>\n",
       "      <th>Age</th>\n",
       "      <th>Cabin</th>\n",
       "      <th>Pclass</th>\n",
       "      <th>Sex</th>\n",
       "      <th>SibSp</th>\n",
       "      <th>Parch</th>\n",
       "      <th>Ticket</th>\n",
       "      <th>Fare</th>\n",
       "      <th>Embarked</th>\n",
       "    </tr>\n",
       "  </thead>\n",
       "  <tbody>\n",
       "    <tr>\n",
       "      <th>0</th>\n",
       "      <td>22.0</td>\n",
       "      <td>Unknown</td>\n",
       "      <td>3</td>\n",
       "      <td>male</td>\n",
       "      <td>1</td>\n",
       "      <td>0</td>\n",
       "      <td>A/5 21171</td>\n",
       "      <td>7.25</td>\n",
       "      <td>S</td>\n",
       "    </tr>\n",
       "    <tr>\n",
       "      <th>1</th>\n",
       "      <td>38.0</td>\n",
       "      <td>C85</td>\n",
       "      <td>1</td>\n",
       "      <td>female</td>\n",
       "      <td>1</td>\n",
       "      <td>0</td>\n",
       "      <td>PC 17599</td>\n",
       "      <td>71.2833</td>\n",
       "      <td>C</td>\n",
       "    </tr>\n",
       "    <tr>\n",
       "      <th>2</th>\n",
       "      <td>26.0</td>\n",
       "      <td>Unknown</td>\n",
       "      <td>3</td>\n",
       "      <td>female</td>\n",
       "      <td>0</td>\n",
       "      <td>0</td>\n",
       "      <td>STON/O2. 3101282</td>\n",
       "      <td>7.925</td>\n",
       "      <td>S</td>\n",
       "    </tr>\n",
       "    <tr>\n",
       "      <th>3</th>\n",
       "      <td>35.0</td>\n",
       "      <td>C123</td>\n",
       "      <td>1</td>\n",
       "      <td>female</td>\n",
       "      <td>1</td>\n",
       "      <td>0</td>\n",
       "      <td>113803</td>\n",
       "      <td>53.1</td>\n",
       "      <td>S</td>\n",
       "    </tr>\n",
       "    <tr>\n",
       "      <th>4</th>\n",
       "      <td>35.0</td>\n",
       "      <td>Unknown</td>\n",
       "      <td>3</td>\n",
       "      <td>male</td>\n",
       "      <td>0</td>\n",
       "      <td>0</td>\n",
       "      <td>373450</td>\n",
       "      <td>8.05</td>\n",
       "      <td>S</td>\n",
       "    </tr>\n",
       "    <tr>\n",
       "      <th>...</th>\n",
       "      <td>...</td>\n",
       "      <td>...</td>\n",
       "      <td>...</td>\n",
       "      <td>...</td>\n",
       "      <td>...</td>\n",
       "      <td>...</td>\n",
       "      <td>...</td>\n",
       "      <td>...</td>\n",
       "      <td>...</td>\n",
       "    </tr>\n",
       "    <tr>\n",
       "      <th>884</th>\n",
       "      <td>27.0</td>\n",
       "      <td>Unknown</td>\n",
       "      <td>2</td>\n",
       "      <td>male</td>\n",
       "      <td>0</td>\n",
       "      <td>0</td>\n",
       "      <td>211536</td>\n",
       "      <td>13.0</td>\n",
       "      <td>S</td>\n",
       "    </tr>\n",
       "    <tr>\n",
       "      <th>885</th>\n",
       "      <td>19.0</td>\n",
       "      <td>B42</td>\n",
       "      <td>1</td>\n",
       "      <td>female</td>\n",
       "      <td>0</td>\n",
       "      <td>0</td>\n",
       "      <td>112053</td>\n",
       "      <td>30.0</td>\n",
       "      <td>S</td>\n",
       "    </tr>\n",
       "    <tr>\n",
       "      <th>886</th>\n",
       "      <td>29.642093</td>\n",
       "      <td>Unknown</td>\n",
       "      <td>3</td>\n",
       "      <td>female</td>\n",
       "      <td>1</td>\n",
       "      <td>2</td>\n",
       "      <td>W./C. 6607</td>\n",
       "      <td>23.45</td>\n",
       "      <td>S</td>\n",
       "    </tr>\n",
       "    <tr>\n",
       "      <th>887</th>\n",
       "      <td>26.0</td>\n",
       "      <td>C148</td>\n",
       "      <td>1</td>\n",
       "      <td>male</td>\n",
       "      <td>0</td>\n",
       "      <td>0</td>\n",
       "      <td>111369</td>\n",
       "      <td>30.0</td>\n",
       "      <td>C</td>\n",
       "    </tr>\n",
       "    <tr>\n",
       "      <th>888</th>\n",
       "      <td>32.0</td>\n",
       "      <td>Unknown</td>\n",
       "      <td>3</td>\n",
       "      <td>male</td>\n",
       "      <td>0</td>\n",
       "      <td>0</td>\n",
       "      <td>370376</td>\n",
       "      <td>7.75</td>\n",
       "      <td>Q</td>\n",
       "    </tr>\n",
       "  </tbody>\n",
       "</table>\n",
       "<p>889 rows × 9 columns</p>\n",
       "</div>"
      ],
      "text/plain": [
       "           Age    Cabin Pclass     Sex SibSp Parch            Ticket     Fare  \\\n",
       "0         22.0  Unknown      3    male     1     0         A/5 21171     7.25   \n",
       "1         38.0      C85      1  female     1     0          PC 17599  71.2833   \n",
       "2         26.0  Unknown      3  female     0     0  STON/O2. 3101282    7.925   \n",
       "3         35.0     C123      1  female     1     0            113803     53.1   \n",
       "4         35.0  Unknown      3    male     0     0            373450     8.05   \n",
       "..         ...      ...    ...     ...   ...   ...               ...      ...   \n",
       "884       27.0  Unknown      2    male     0     0            211536     13.0   \n",
       "885       19.0      B42      1  female     0     0            112053     30.0   \n",
       "886  29.642093  Unknown      3  female     1     2        W./C. 6607    23.45   \n",
       "887       26.0     C148      1    male     0     0            111369     30.0   \n",
       "888       32.0  Unknown      3    male     0     0            370376     7.75   \n",
       "\n",
       "    Embarked  \n",
       "0          S  \n",
       "1          C  \n",
       "2          S  \n",
       "3          S  \n",
       "4          S  \n",
       "..       ...  \n",
       "884        S  \n",
       "885        S  \n",
       "886        S  \n",
       "887        C  \n",
       "888        Q  \n",
       "\n",
       "[889 rows x 9 columns]"
      ]
     },
     "execution_count": 8,
     "metadata": {},
     "output_type": "execute_result"
    }
   ],
   "source": [
    "X_imput = pd.DataFrame(values_imput, columns=[*attributes_transf, *attributes])\n",
    "X_imput"
   ]
  },
  {
   "cell_type": "code",
   "execution_count": 9,
   "id": "aaf9a619-77b9-4902-91d9-8d40aebc368e",
   "metadata": {},
   "outputs": [],
   "source": [
    "X_imput['Cabin'] = X_imput['Cabin'].apply(lambda x: 'Known' if x != 'Unknown' else 'Unknown')"
   ]
  },
  {
   "cell_type": "code",
   "execution_count": 10,
   "id": "e33cf236-bc54-4856-ad1f-3f4b7575916e",
   "metadata": {},
   "outputs": [],
   "source": [
    "X_imput['Age'] = X_imput['Age'].apply(lambda x: round(x))\n",
    "X_imput = X_imput.drop(columns=[\"Embarked\", \"Age\"])"
   ]
  },
  {
   "cell_type": "code",
   "execution_count": 11,
   "id": "861204cf-135f-4cb1-9cba-7f49d12ec415",
   "metadata": {},
   "outputs": [
    {
     "data": {
      "text/html": [
       "<div>\n",
       "<style scoped>\n",
       "    .dataframe tbody tr th:only-of-type {\n",
       "        vertical-align: middle;\n",
       "    }\n",
       "\n",
       "    .dataframe tbody tr th {\n",
       "        vertical-align: top;\n",
       "    }\n",
       "\n",
       "    .dataframe thead th {\n",
       "        text-align: right;\n",
       "    }\n",
       "</style>\n",
       "<table border=\"1\" class=\"dataframe\">\n",
       "  <thead>\n",
       "    <tr style=\"text-align: right;\">\n",
       "      <th></th>\n",
       "      <th>Cabin</th>\n",
       "      <th>Pclass</th>\n",
       "      <th>Sex</th>\n",
       "      <th>SibSp</th>\n",
       "      <th>Parch</th>\n",
       "      <th>Ticket</th>\n",
       "      <th>Fare</th>\n",
       "    </tr>\n",
       "  </thead>\n",
       "  <tbody>\n",
       "    <tr>\n",
       "      <th>0</th>\n",
       "      <td>Unknown</td>\n",
       "      <td>3</td>\n",
       "      <td>male</td>\n",
       "      <td>1</td>\n",
       "      <td>0</td>\n",
       "      <td>A/5 21171</td>\n",
       "      <td>7.25</td>\n",
       "    </tr>\n",
       "    <tr>\n",
       "      <th>1</th>\n",
       "      <td>Known</td>\n",
       "      <td>1</td>\n",
       "      <td>female</td>\n",
       "      <td>1</td>\n",
       "      <td>0</td>\n",
       "      <td>PC 17599</td>\n",
       "      <td>71.2833</td>\n",
       "    </tr>\n",
       "  </tbody>\n",
       "</table>\n",
       "</div>"
      ],
      "text/plain": [
       "     Cabin Pclass     Sex SibSp Parch     Ticket     Fare\n",
       "0  Unknown      3    male     1     0  A/5 21171     7.25\n",
       "1    Known      1  female     1     0   PC 17599  71.2833"
      ]
     },
     "execution_count": 11,
     "metadata": {},
     "output_type": "execute_result"
    }
   ],
   "source": [
    "X_imput.head(2)"
   ]
  },
  {
   "cell_type": "code",
   "execution_count": 12,
   "id": "66ad4124-d649-4e7e-b3a5-07d1ad338237",
   "metadata": {},
   "outputs": [
    {
     "data": {
      "text/plain": [
       "array([[0.0, 1.0, 0.0, ..., 1, 0, 7.25],\n",
       "       [1.0, 0.0, 1.0, ..., 1, 0, 71.2833],\n",
       "       [1.0, 0.0, 0.0, ..., 0, 0, 7.925],\n",
       "       ...,\n",
       "       [1.0, 0.0, 0.0, ..., 1, 2, 23.45],\n",
       "       [0.0, 1.0, 1.0, ..., 0, 0, 30.0],\n",
       "       [0.0, 1.0, 0.0, ..., 0, 0, 7.75]], dtype=object)"
      ]
     },
     "execution_count": 12,
     "metadata": {},
     "output_type": "execute_result"
    }
   ],
   "source": [
    "transformers = [\n",
    "    ('ohe_sex', OneHotEncoder(), ['Sex']),\n",
    "    ('oe_cabin', OneHotEncoder(), ['Cabin']),\n",
    "    ('oe_ticket', OneHotEncoder(), ['Ticket'])\n",
    "]\n",
    "\n",
    "col_trans = ColumnTransformer(\n",
    "    transformers, remainder='passthrough', sparse_threshold=0\n",
    ")\n",
    "\n",
    "col_trans.fit(X_imput)\n",
    "X_trans = col_trans.transform(X_imput)\n",
    "X_trans"
   ]
  },
  {
   "cell_type": "code",
   "execution_count": 13,
   "id": "750dbc8f-c0d3-47e6-905b-5a78317d9d2b",
   "metadata": {},
   "outputs": [
    {
     "data": {
      "text/html": [
       "<div>\n",
       "<style scoped>\n",
       "    .dataframe tbody tr th:only-of-type {\n",
       "        vertical-align: middle;\n",
       "    }\n",
       "\n",
       "    .dataframe tbody tr th {\n",
       "        vertical-align: top;\n",
       "    }\n",
       "\n",
       "    .dataframe thead th {\n",
       "        text-align: right;\n",
       "    }\n",
       "</style>\n",
       "<table border=\"1\" class=\"dataframe\">\n",
       "  <thead>\n",
       "    <tr style=\"text-align: right;\">\n",
       "      <th></th>\n",
       "      <th>ohe_sex__x0_female</th>\n",
       "      <th>ohe_sex__x0_male</th>\n",
       "      <th>oe_cabin__x0_Known</th>\n",
       "      <th>oe_cabin__x0_Unknown</th>\n",
       "      <th>oe_ticket__x0_110152</th>\n",
       "      <th>oe_ticket__x0_110413</th>\n",
       "      <th>oe_ticket__x0_110465</th>\n",
       "      <th>oe_ticket__x0_110564</th>\n",
       "      <th>oe_ticket__x0_110813</th>\n",
       "      <th>oe_ticket__x0_111240</th>\n",
       "      <th>...</th>\n",
       "      <th>oe_ticket__x0_W./C. 6607</th>\n",
       "      <th>oe_ticket__x0_W./C. 6608</th>\n",
       "      <th>oe_ticket__x0_W./C. 6609</th>\n",
       "      <th>oe_ticket__x0_W.E.P. 5734</th>\n",
       "      <th>oe_ticket__x0_W/C 14208</th>\n",
       "      <th>oe_ticket__x0_WE/P 5735</th>\n",
       "      <th>Pclass</th>\n",
       "      <th>SibSp</th>\n",
       "      <th>Parch</th>\n",
       "      <th>Fare</th>\n",
       "    </tr>\n",
       "  </thead>\n",
       "  <tbody>\n",
       "    <tr>\n",
       "      <th>0</th>\n",
       "      <td>0.0</td>\n",
       "      <td>1.0</td>\n",
       "      <td>0.0</td>\n",
       "      <td>1.0</td>\n",
       "      <td>0.0</td>\n",
       "      <td>0.0</td>\n",
       "      <td>0.0</td>\n",
       "      <td>0.0</td>\n",
       "      <td>0.0</td>\n",
       "      <td>0.0</td>\n",
       "      <td>...</td>\n",
       "      <td>0.0</td>\n",
       "      <td>0.0</td>\n",
       "      <td>0.0</td>\n",
       "      <td>0.0</td>\n",
       "      <td>0.0</td>\n",
       "      <td>0.0</td>\n",
       "      <td>3</td>\n",
       "      <td>1</td>\n",
       "      <td>0</td>\n",
       "      <td>7.25</td>\n",
       "    </tr>\n",
       "    <tr>\n",
       "      <th>1</th>\n",
       "      <td>1.0</td>\n",
       "      <td>0.0</td>\n",
       "      <td>1.0</td>\n",
       "      <td>0.0</td>\n",
       "      <td>0.0</td>\n",
       "      <td>0.0</td>\n",
       "      <td>0.0</td>\n",
       "      <td>0.0</td>\n",
       "      <td>0.0</td>\n",
       "      <td>0.0</td>\n",
       "      <td>...</td>\n",
       "      <td>0.0</td>\n",
       "      <td>0.0</td>\n",
       "      <td>0.0</td>\n",
       "      <td>0.0</td>\n",
       "      <td>0.0</td>\n",
       "      <td>0.0</td>\n",
       "      <td>1</td>\n",
       "      <td>1</td>\n",
       "      <td>0</td>\n",
       "      <td>71.2833</td>\n",
       "    </tr>\n",
       "    <tr>\n",
       "      <th>2</th>\n",
       "      <td>1.0</td>\n",
       "      <td>0.0</td>\n",
       "      <td>0.0</td>\n",
       "      <td>1.0</td>\n",
       "      <td>0.0</td>\n",
       "      <td>0.0</td>\n",
       "      <td>0.0</td>\n",
       "      <td>0.0</td>\n",
       "      <td>0.0</td>\n",
       "      <td>0.0</td>\n",
       "      <td>...</td>\n",
       "      <td>0.0</td>\n",
       "      <td>0.0</td>\n",
       "      <td>0.0</td>\n",
       "      <td>0.0</td>\n",
       "      <td>0.0</td>\n",
       "      <td>0.0</td>\n",
       "      <td>3</td>\n",
       "      <td>0</td>\n",
       "      <td>0</td>\n",
       "      <td>7.925</td>\n",
       "    </tr>\n",
       "    <tr>\n",
       "      <th>3</th>\n",
       "      <td>1.0</td>\n",
       "      <td>0.0</td>\n",
       "      <td>1.0</td>\n",
       "      <td>0.0</td>\n",
       "      <td>0.0</td>\n",
       "      <td>0.0</td>\n",
       "      <td>0.0</td>\n",
       "      <td>0.0</td>\n",
       "      <td>0.0</td>\n",
       "      <td>0.0</td>\n",
       "      <td>...</td>\n",
       "      <td>0.0</td>\n",
       "      <td>0.0</td>\n",
       "      <td>0.0</td>\n",
       "      <td>0.0</td>\n",
       "      <td>0.0</td>\n",
       "      <td>0.0</td>\n",
       "      <td>1</td>\n",
       "      <td>1</td>\n",
       "      <td>0</td>\n",
       "      <td>53.1</td>\n",
       "    </tr>\n",
       "    <tr>\n",
       "      <th>4</th>\n",
       "      <td>0.0</td>\n",
       "      <td>1.0</td>\n",
       "      <td>0.0</td>\n",
       "      <td>1.0</td>\n",
       "      <td>0.0</td>\n",
       "      <td>0.0</td>\n",
       "      <td>0.0</td>\n",
       "      <td>0.0</td>\n",
       "      <td>0.0</td>\n",
       "      <td>0.0</td>\n",
       "      <td>...</td>\n",
       "      <td>0.0</td>\n",
       "      <td>0.0</td>\n",
       "      <td>0.0</td>\n",
       "      <td>0.0</td>\n",
       "      <td>0.0</td>\n",
       "      <td>0.0</td>\n",
       "      <td>3</td>\n",
       "      <td>0</td>\n",
       "      <td>0</td>\n",
       "      <td>8.05</td>\n",
       "    </tr>\n",
       "    <tr>\n",
       "      <th>...</th>\n",
       "      <td>...</td>\n",
       "      <td>...</td>\n",
       "      <td>...</td>\n",
       "      <td>...</td>\n",
       "      <td>...</td>\n",
       "      <td>...</td>\n",
       "      <td>...</td>\n",
       "      <td>...</td>\n",
       "      <td>...</td>\n",
       "      <td>...</td>\n",
       "      <td>...</td>\n",
       "      <td>...</td>\n",
       "      <td>...</td>\n",
       "      <td>...</td>\n",
       "      <td>...</td>\n",
       "      <td>...</td>\n",
       "      <td>...</td>\n",
       "      <td>...</td>\n",
       "      <td>...</td>\n",
       "      <td>...</td>\n",
       "      <td>...</td>\n",
       "    </tr>\n",
       "    <tr>\n",
       "      <th>884</th>\n",
       "      <td>0.0</td>\n",
       "      <td>1.0</td>\n",
       "      <td>0.0</td>\n",
       "      <td>1.0</td>\n",
       "      <td>0.0</td>\n",
       "      <td>0.0</td>\n",
       "      <td>0.0</td>\n",
       "      <td>0.0</td>\n",
       "      <td>0.0</td>\n",
       "      <td>0.0</td>\n",
       "      <td>...</td>\n",
       "      <td>0.0</td>\n",
       "      <td>0.0</td>\n",
       "      <td>0.0</td>\n",
       "      <td>0.0</td>\n",
       "      <td>0.0</td>\n",
       "      <td>0.0</td>\n",
       "      <td>2</td>\n",
       "      <td>0</td>\n",
       "      <td>0</td>\n",
       "      <td>13.0</td>\n",
       "    </tr>\n",
       "    <tr>\n",
       "      <th>885</th>\n",
       "      <td>1.0</td>\n",
       "      <td>0.0</td>\n",
       "      <td>1.0</td>\n",
       "      <td>0.0</td>\n",
       "      <td>0.0</td>\n",
       "      <td>0.0</td>\n",
       "      <td>0.0</td>\n",
       "      <td>0.0</td>\n",
       "      <td>0.0</td>\n",
       "      <td>0.0</td>\n",
       "      <td>...</td>\n",
       "      <td>0.0</td>\n",
       "      <td>0.0</td>\n",
       "      <td>0.0</td>\n",
       "      <td>0.0</td>\n",
       "      <td>0.0</td>\n",
       "      <td>0.0</td>\n",
       "      <td>1</td>\n",
       "      <td>0</td>\n",
       "      <td>0</td>\n",
       "      <td>30.0</td>\n",
       "    </tr>\n",
       "    <tr>\n",
       "      <th>886</th>\n",
       "      <td>1.0</td>\n",
       "      <td>0.0</td>\n",
       "      <td>0.0</td>\n",
       "      <td>1.0</td>\n",
       "      <td>0.0</td>\n",
       "      <td>0.0</td>\n",
       "      <td>0.0</td>\n",
       "      <td>0.0</td>\n",
       "      <td>0.0</td>\n",
       "      <td>0.0</td>\n",
       "      <td>...</td>\n",
       "      <td>1.0</td>\n",
       "      <td>0.0</td>\n",
       "      <td>0.0</td>\n",
       "      <td>0.0</td>\n",
       "      <td>0.0</td>\n",
       "      <td>0.0</td>\n",
       "      <td>3</td>\n",
       "      <td>1</td>\n",
       "      <td>2</td>\n",
       "      <td>23.45</td>\n",
       "    </tr>\n",
       "    <tr>\n",
       "      <th>887</th>\n",
       "      <td>0.0</td>\n",
       "      <td>1.0</td>\n",
       "      <td>1.0</td>\n",
       "      <td>0.0</td>\n",
       "      <td>0.0</td>\n",
       "      <td>0.0</td>\n",
       "      <td>0.0</td>\n",
       "      <td>0.0</td>\n",
       "      <td>0.0</td>\n",
       "      <td>0.0</td>\n",
       "      <td>...</td>\n",
       "      <td>0.0</td>\n",
       "      <td>0.0</td>\n",
       "      <td>0.0</td>\n",
       "      <td>0.0</td>\n",
       "      <td>0.0</td>\n",
       "      <td>0.0</td>\n",
       "      <td>1</td>\n",
       "      <td>0</td>\n",
       "      <td>0</td>\n",
       "      <td>30.0</td>\n",
       "    </tr>\n",
       "    <tr>\n",
       "      <th>888</th>\n",
       "      <td>0.0</td>\n",
       "      <td>1.0</td>\n",
       "      <td>0.0</td>\n",
       "      <td>1.0</td>\n",
       "      <td>0.0</td>\n",
       "      <td>0.0</td>\n",
       "      <td>0.0</td>\n",
       "      <td>0.0</td>\n",
       "      <td>0.0</td>\n",
       "      <td>0.0</td>\n",
       "      <td>...</td>\n",
       "      <td>0.0</td>\n",
       "      <td>0.0</td>\n",
       "      <td>0.0</td>\n",
       "      <td>0.0</td>\n",
       "      <td>0.0</td>\n",
       "      <td>0.0</td>\n",
       "      <td>3</td>\n",
       "      <td>0</td>\n",
       "      <td>0</td>\n",
       "      <td>7.75</td>\n",
       "    </tr>\n",
       "  </tbody>\n",
       "</table>\n",
       "<p>889 rows × 688 columns</p>\n",
       "</div>"
      ],
      "text/plain": [
       "    ohe_sex__x0_female ohe_sex__x0_male oe_cabin__x0_Known  \\\n",
       "0                  0.0              1.0                0.0   \n",
       "1                  1.0              0.0                1.0   \n",
       "2                  1.0              0.0                0.0   \n",
       "3                  1.0              0.0                1.0   \n",
       "4                  0.0              1.0                0.0   \n",
       "..                 ...              ...                ...   \n",
       "884                0.0              1.0                0.0   \n",
       "885                1.0              0.0                1.0   \n",
       "886                1.0              0.0                0.0   \n",
       "887                0.0              1.0                1.0   \n",
       "888                0.0              1.0                0.0   \n",
       "\n",
       "    oe_cabin__x0_Unknown oe_ticket__x0_110152 oe_ticket__x0_110413  \\\n",
       "0                    1.0                  0.0                  0.0   \n",
       "1                    0.0                  0.0                  0.0   \n",
       "2                    1.0                  0.0                  0.0   \n",
       "3                    0.0                  0.0                  0.0   \n",
       "4                    1.0                  0.0                  0.0   \n",
       "..                   ...                  ...                  ...   \n",
       "884                  1.0                  0.0                  0.0   \n",
       "885                  0.0                  0.0                  0.0   \n",
       "886                  1.0                  0.0                  0.0   \n",
       "887                  0.0                  0.0                  0.0   \n",
       "888                  1.0                  0.0                  0.0   \n",
       "\n",
       "    oe_ticket__x0_110465 oe_ticket__x0_110564 oe_ticket__x0_110813  \\\n",
       "0                    0.0                  0.0                  0.0   \n",
       "1                    0.0                  0.0                  0.0   \n",
       "2                    0.0                  0.0                  0.0   \n",
       "3                    0.0                  0.0                  0.0   \n",
       "4                    0.0                  0.0                  0.0   \n",
       "..                   ...                  ...                  ...   \n",
       "884                  0.0                  0.0                  0.0   \n",
       "885                  0.0                  0.0                  0.0   \n",
       "886                  0.0                  0.0                  0.0   \n",
       "887                  0.0                  0.0                  0.0   \n",
       "888                  0.0                  0.0                  0.0   \n",
       "\n",
       "    oe_ticket__x0_111240  ... oe_ticket__x0_W./C. 6607  \\\n",
       "0                    0.0  ...                      0.0   \n",
       "1                    0.0  ...                      0.0   \n",
       "2                    0.0  ...                      0.0   \n",
       "3                    0.0  ...                      0.0   \n",
       "4                    0.0  ...                      0.0   \n",
       "..                   ...  ...                      ...   \n",
       "884                  0.0  ...                      0.0   \n",
       "885                  0.0  ...                      0.0   \n",
       "886                  0.0  ...                      1.0   \n",
       "887                  0.0  ...                      0.0   \n",
       "888                  0.0  ...                      0.0   \n",
       "\n",
       "    oe_ticket__x0_W./C. 6608 oe_ticket__x0_W./C. 6609  \\\n",
       "0                        0.0                      0.0   \n",
       "1                        0.0                      0.0   \n",
       "2                        0.0                      0.0   \n",
       "3                        0.0                      0.0   \n",
       "4                        0.0                      0.0   \n",
       "..                       ...                      ...   \n",
       "884                      0.0                      0.0   \n",
       "885                      0.0                      0.0   \n",
       "886                      0.0                      0.0   \n",
       "887                      0.0                      0.0   \n",
       "888                      0.0                      0.0   \n",
       "\n",
       "    oe_ticket__x0_W.E.P. 5734 oe_ticket__x0_W/C 14208 oe_ticket__x0_WE/P 5735  \\\n",
       "0                         0.0                     0.0                     0.0   \n",
       "1                         0.0                     0.0                     0.0   \n",
       "2                         0.0                     0.0                     0.0   \n",
       "3                         0.0                     0.0                     0.0   \n",
       "4                         0.0                     0.0                     0.0   \n",
       "..                        ...                     ...                     ...   \n",
       "884                       0.0                     0.0                     0.0   \n",
       "885                       0.0                     0.0                     0.0   \n",
       "886                       0.0                     0.0                     0.0   \n",
       "887                       0.0                     0.0                     0.0   \n",
       "888                       0.0                     0.0                     0.0   \n",
       "\n",
       "    Pclass SibSp Parch     Fare  \n",
       "0        3     1     0     7.25  \n",
       "1        1     1     0  71.2833  \n",
       "2        3     0     0    7.925  \n",
       "3        1     1     0     53.1  \n",
       "4        3     0     0     8.05  \n",
       "..     ...   ...   ...      ...  \n",
       "884      2     0     0     13.0  \n",
       "885      1     0     0     30.0  \n",
       "886      3     1     2    23.45  \n",
       "887      1     0     0     30.0  \n",
       "888      3     0     0     7.75  \n",
       "\n",
       "[889 rows x 688 columns]"
      ]
     },
     "execution_count": 13,
     "metadata": {},
     "output_type": "execute_result"
    }
   ],
   "source": [
    "X_trans = pd.DataFrame(X_trans, columns=col_trans.get_feature_names())\n",
    "X_trans"
   ]
  },
  {
   "cell_type": "code",
   "execution_count": 14,
   "id": "6bd2f9ee-fd2a-43f2-9d59-81cecc14d72b",
   "metadata": {},
   "outputs": [
    {
     "data": {
      "text/html": [
       "<div>\n",
       "<style scoped>\n",
       "    .dataframe tbody tr th:only-of-type {\n",
       "        vertical-align: middle;\n",
       "    }\n",
       "\n",
       "    .dataframe tbody tr th {\n",
       "        vertical-align: top;\n",
       "    }\n",
       "\n",
       "    .dataframe thead th {\n",
       "        text-align: right;\n",
       "    }\n",
       "</style>\n",
       "<table border=\"1\" class=\"dataframe\">\n",
       "  <thead>\n",
       "    <tr style=\"text-align: right;\">\n",
       "      <th></th>\n",
       "      <th>Cabin</th>\n",
       "      <th>Pclass</th>\n",
       "      <th>Sex</th>\n",
       "      <th>SibSp</th>\n",
       "      <th>Parch</th>\n",
       "      <th>Ticket</th>\n",
       "      <th>Fare</th>\n",
       "      <th>Survived</th>\n",
       "    </tr>\n",
       "  </thead>\n",
       "  <tbody>\n",
       "    <tr>\n",
       "      <th>0</th>\n",
       "      <td>Unknown</td>\n",
       "      <td>3</td>\n",
       "      <td>male</td>\n",
       "      <td>1</td>\n",
       "      <td>0</td>\n",
       "      <td>A/5 21171</td>\n",
       "      <td>7.25</td>\n",
       "      <td>No</td>\n",
       "    </tr>\n",
       "    <tr>\n",
       "      <th>1</th>\n",
       "      <td>Known</td>\n",
       "      <td>1</td>\n",
       "      <td>female</td>\n",
       "      <td>1</td>\n",
       "      <td>0</td>\n",
       "      <td>PC 17599</td>\n",
       "      <td>71.2833</td>\n",
       "      <td>Yes</td>\n",
       "    </tr>\n",
       "    <tr>\n",
       "      <th>2</th>\n",
       "      <td>Unknown</td>\n",
       "      <td>3</td>\n",
       "      <td>female</td>\n",
       "      <td>0</td>\n",
       "      <td>0</td>\n",
       "      <td>STON/O2. 3101282</td>\n",
       "      <td>7.925</td>\n",
       "      <td>Yes</td>\n",
       "    </tr>\n",
       "    <tr>\n",
       "      <th>3</th>\n",
       "      <td>Known</td>\n",
       "      <td>1</td>\n",
       "      <td>female</td>\n",
       "      <td>1</td>\n",
       "      <td>0</td>\n",
       "      <td>113803</td>\n",
       "      <td>53.1</td>\n",
       "      <td>Yes</td>\n",
       "    </tr>\n",
       "    <tr>\n",
       "      <th>4</th>\n",
       "      <td>Unknown</td>\n",
       "      <td>3</td>\n",
       "      <td>male</td>\n",
       "      <td>0</td>\n",
       "      <td>0</td>\n",
       "      <td>373450</td>\n",
       "      <td>8.05</td>\n",
       "      <td>No</td>\n",
       "    </tr>\n",
       "    <tr>\n",
       "      <th>...</th>\n",
       "      <td>...</td>\n",
       "      <td>...</td>\n",
       "      <td>...</td>\n",
       "      <td>...</td>\n",
       "      <td>...</td>\n",
       "      <td>...</td>\n",
       "      <td>...</td>\n",
       "      <td>...</td>\n",
       "    </tr>\n",
       "    <tr>\n",
       "      <th>884</th>\n",
       "      <td>Unknown</td>\n",
       "      <td>2</td>\n",
       "      <td>male</td>\n",
       "      <td>0</td>\n",
       "      <td>0</td>\n",
       "      <td>211536</td>\n",
       "      <td>13.0</td>\n",
       "      <td>No</td>\n",
       "    </tr>\n",
       "    <tr>\n",
       "      <th>885</th>\n",
       "      <td>Known</td>\n",
       "      <td>1</td>\n",
       "      <td>female</td>\n",
       "      <td>0</td>\n",
       "      <td>0</td>\n",
       "      <td>112053</td>\n",
       "      <td>30.0</td>\n",
       "      <td>No</td>\n",
       "    </tr>\n",
       "    <tr>\n",
       "      <th>886</th>\n",
       "      <td>Unknown</td>\n",
       "      <td>3</td>\n",
       "      <td>female</td>\n",
       "      <td>1</td>\n",
       "      <td>2</td>\n",
       "      <td>W./C. 6607</td>\n",
       "      <td>23.45</td>\n",
       "      <td>No</td>\n",
       "    </tr>\n",
       "    <tr>\n",
       "      <th>887</th>\n",
       "      <td>Known</td>\n",
       "      <td>1</td>\n",
       "      <td>male</td>\n",
       "      <td>0</td>\n",
       "      <td>0</td>\n",
       "      <td>111369</td>\n",
       "      <td>30.0</td>\n",
       "      <td>Yes</td>\n",
       "    </tr>\n",
       "    <tr>\n",
       "      <th>888</th>\n",
       "      <td>Unknown</td>\n",
       "      <td>3</td>\n",
       "      <td>male</td>\n",
       "      <td>0</td>\n",
       "      <td>0</td>\n",
       "      <td>370376</td>\n",
       "      <td>7.75</td>\n",
       "      <td>No</td>\n",
       "    </tr>\n",
       "  </tbody>\n",
       "</table>\n",
       "<p>889 rows × 8 columns</p>\n",
       "</div>"
      ],
      "text/plain": [
       "       Cabin Pclass     Sex SibSp Parch            Ticket     Fare Survived\n",
       "0    Unknown      3    male     1     0         A/5 21171     7.25       No\n",
       "1      Known      1  female     1     0          PC 17599  71.2833      Yes\n",
       "2    Unknown      3  female     0     0  STON/O2. 3101282    7.925      Yes\n",
       "3      Known      1  female     1     0            113803     53.1      Yes\n",
       "4    Unknown      3    male     0     0            373450     8.05       No\n",
       "..       ...    ...     ...   ...   ...               ...      ...      ...\n",
       "884  Unknown      2    male     0     0            211536     13.0       No\n",
       "885    Known      1  female     0     0            112053     30.0       No\n",
       "886  Unknown      3  female     1     2        W./C. 6607    23.45       No\n",
       "887    Known      1    male     0     0            111369     30.0      Yes\n",
       "888  Unknown      3    male     0     0            370376     7.75       No\n",
       "\n",
       "[889 rows x 8 columns]"
      ]
     },
     "execution_count": 14,
     "metadata": {},
     "output_type": "execute_result"
    }
   ],
   "source": [
    "new_df = X_imput\n",
    "new_df['Survived'] = Y_train\n",
    "new_df['Survived'] = new_df['Survived'].apply(lambda x: 'Yes' if x == 1 else 'No')\n",
    "new_df"
   ]
  },
  {
   "cell_type": "code",
   "execution_count": 15,
   "id": "c25f0096-53dd-4757-abf2-b60cda3e2156",
   "metadata": {},
   "outputs": [],
   "source": [
    "ss = StandardScaler()\n",
    "ss.fit(X_trans)\n",
    "X_ss = ss.transform(X_trans)"
   ]
  },
  {
   "cell_type": "code",
   "execution_count": 16,
   "id": "c671a730-c883-4f05-a786-6312be1e1ed2",
   "metadata": {},
   "outputs": [
    {
     "data": {
      "text/plain": [
       "(29.79932885150268, -1.8441773502052077)"
      ]
     },
     "execution_count": 16,
     "metadata": {},
     "output_type": "execute_result"
    }
   ],
   "source": [
    "np.max(X_ss), np.min(X_ss)"
   ]
  },
  {
   "cell_type": "code",
   "execution_count": 17,
   "id": "35ce6639-6187-4a23-b778-d7d51267af4e",
   "metadata": {},
   "outputs": [
    {
     "data": {
      "text/plain": [
       "PCA(n_components=2)"
      ]
     },
     "execution_count": 17,
     "metadata": {},
     "output_type": "execute_result"
    }
   ],
   "source": [
    "pca = PCA(n_components=2)\n",
    "pca.fit(X_ss)"
   ]
  },
  {
   "cell_type": "code",
   "execution_count": 18,
   "id": "f7eabe95-54be-4f8b-bfdd-fefcb3b98954",
   "metadata": {},
   "outputs": [
    {
     "data": {
      "text/plain": [
       "array([[-1.73084462, -0.54209017],\n",
       "       [ 4.02223484,  0.40150412],\n",
       "       [-0.64178199,  1.83640941],\n",
       "       ...,\n",
       "       [-0.27261766,  3.06990085],\n",
       "       [ 2.47390042, -2.82969908],\n",
       "       [-1.76994382, -0.95510637]])"
      ]
     },
     "execution_count": 18,
     "metadata": {},
     "output_type": "execute_result"
    }
   ],
   "source": [
    "X_pca = pca.transform(X_ss)\n",
    "X_pca"
   ]
  },
  {
   "cell_type": "code",
   "execution_count": 19,
   "id": "8c3ef833-a4ab-482e-b5bb-ccb485ac0aed",
   "metadata": {},
   "outputs": [
    {
     "data": {
      "text/html": [
       "<div>\n",
       "<style scoped>\n",
       "    .dataframe tbody tr th:only-of-type {\n",
       "        vertical-align: middle;\n",
       "    }\n",
       "\n",
       "    .dataframe tbody tr th {\n",
       "        vertical-align: top;\n",
       "    }\n",
       "\n",
       "    .dataframe thead th {\n",
       "        text-align: right;\n",
       "    }\n",
       "</style>\n",
       "<table border=\"1\" class=\"dataframe\">\n",
       "  <thead>\n",
       "    <tr style=\"text-align: right;\">\n",
       "      <th></th>\n",
       "      <th>PC 00</th>\n",
       "      <th>PC 01</th>\n",
       "    </tr>\n",
       "  </thead>\n",
       "  <tbody>\n",
       "    <tr>\n",
       "      <th>0</th>\n",
       "      <td>-1.730845</td>\n",
       "      <td>-0.542090</td>\n",
       "    </tr>\n",
       "    <tr>\n",
       "      <th>1</th>\n",
       "      <td>4.022235</td>\n",
       "      <td>0.401504</td>\n",
       "    </tr>\n",
       "    <tr>\n",
       "      <th>2</th>\n",
       "      <td>-0.641782</td>\n",
       "      <td>1.836409</td>\n",
       "    </tr>\n",
       "    <tr>\n",
       "      <th>3</th>\n",
       "      <td>3.720994</td>\n",
       "      <td>-0.086686</td>\n",
       "    </tr>\n",
       "    <tr>\n",
       "      <th>4</th>\n",
       "      <td>-1.767261</td>\n",
       "      <td>-0.956516</td>\n",
       "    </tr>\n",
       "    <tr>\n",
       "      <th>...</th>\n",
       "      <td>...</td>\n",
       "      <td>...</td>\n",
       "    </tr>\n",
       "    <tr>\n",
       "      <th>884</th>\n",
       "      <td>-1.082838</td>\n",
       "      <td>-1.257071</td>\n",
       "    </tr>\n",
       "    <tr>\n",
       "      <th>885</th>\n",
       "      <td>3.600448</td>\n",
       "      <td>-0.043047</td>\n",
       "    </tr>\n",
       "    <tr>\n",
       "      <th>886</th>\n",
       "      <td>-0.272618</td>\n",
       "      <td>3.069901</td>\n",
       "    </tr>\n",
       "    <tr>\n",
       "      <th>887</th>\n",
       "      <td>2.473900</td>\n",
       "      <td>-2.829699</td>\n",
       "    </tr>\n",
       "    <tr>\n",
       "      <th>888</th>\n",
       "      <td>-1.769944</td>\n",
       "      <td>-0.955106</td>\n",
       "    </tr>\n",
       "  </tbody>\n",
       "</table>\n",
       "<p>889 rows × 2 columns</p>\n",
       "</div>"
      ],
      "text/plain": [
       "        PC 00     PC 01\n",
       "0   -1.730845 -0.542090\n",
       "1    4.022235  0.401504\n",
       "2   -0.641782  1.836409\n",
       "3    3.720994 -0.086686\n",
       "4   -1.767261 -0.956516\n",
       "..        ...       ...\n",
       "884 -1.082838 -1.257071\n",
       "885  3.600448 -0.043047\n",
       "886 -0.272618  3.069901\n",
       "887  2.473900 -2.829699\n",
       "888 -1.769944 -0.955106\n",
       "\n",
       "[889 rows x 2 columns]"
      ]
     },
     "execution_count": 19,
     "metadata": {},
     "output_type": "execute_result"
    }
   ],
   "source": [
    "X_pca_df = pd.DataFrame(X_pca, columns=['PC 00', 'PC 01'])\n",
    "X_pca_df"
   ]
  },
  {
   "cell_type": "code",
   "execution_count": 20,
   "id": "dc676d8b-3731-480b-9131-4aec89c61c4c",
   "metadata": {},
   "outputs": [
    {
     "data": {
      "text/plain": [
       "<AxesSubplot:xlabel='PC 00', ylabel='PC 01'>"
      ]
     },
     "execution_count": 20,
     "metadata": {},
     "output_type": "execute_result"
    },
    {
     "data": {
      "image/png": "[encoded data removed]",
      "text/plain": [
       "<Figure size 432x288 with 1 Axes>"
      ]
     },
     "metadata": {
      "needs_background": "light"
     },
     "output_type": "display_data"
    }
   ],
   "source": [
    "# 0 = No, 1 = Yes\n",
    "sns.scatterplot(data=X_pca_df, x='PC 00', y='PC 01', hue=Y_train['Survived'])"
   ]
  },
  {
   "cell_type": "markdown",
   "id": "a153ca50-8419-45c3-a87f-afc75fdec0e7",
   "metadata": {},
   "source": [
    " ## Classificando os dados com classificadores diferentes"
   ]
  },
  {
   "cell_type": "code",
   "execution_count": 21,
   "id": "cb054351-9d2f-4240-be94-ac6deba6bec4",
   "metadata": {
    "tags": []
   },
   "outputs": [],
   "source": [
    "rf_test = ('rf', RandomForestClassifier, False, {'criterion' : ['gini', 'entropy'], 'random_state' : [1]})\n",
    "ad_def_test = ('ad_default', DecisionTreeClassifier, False, {'criterion' : ['gini', 'entropy'], 'random_state' : [1]})\n",
    "ad_tuned_test = ('ad_tuned', DecisionTreeClassifier, False, {'min_samples_leaf' : [3, 5, 10, 15, 20, 30],\n",
    "                                                 'min_samples_split' : [2, 4, 8, 16, 32, 40],\n",
    "                                                 'max_depth' : [None, 2, 3, 4, 5],\n",
    "                                                 'criterion' : ['gini', 'entropy'], 'random_state' : [1]})\n",
    "svm_test = ('svm', SVC, True, {'C' : [1, 10, 100, 1000], 'gamma' : ['auto', 'scale']})\n",
    "knn_test = ('knn', KNeighborsClassifier, True, {'n_neighbors' : range(1,30,2)})\n",
    "\n",
    "tests = [rf_test, ad_def_test, ad_tuned_test, svm_test, knn_test]"
   ]
  },
  {
   "cell_type": "code",
   "execution_count": 22,
   "id": "802d1e9a-8003-4575-96ef-6616c767e872",
   "metadata": {},
   "outputs": [],
   "source": [
    "y = Y_train['Survived'].values.ravel()"
   ]
  },
  {
   "cell_type": "code",
   "execution_count": 23,
   "id": "3f285ba5-66bf-4db0-8c45-8477f1ee067f",
   "metadata": {},
   "outputs": [
    {
     "data": {
      "application/vnd.jupyter.widget-view+json": {
       "model_id": "2befab4a4ff6405aa87123b6e824233f",
       "version_major": 2,
       "version_minor": 0
      },
      "text/plain": [
       "Folds avaliados:   0%|          | 0/10 [00:00<?, ?it/s]"
      ]
     },
     "metadata": {},
     "output_type": "display_data"
    },
    {
     "data": {
      "application/vnd.jupyter.widget-view+json": {
       "model_id": "d4eaa4ca8dc5417db7f616c44613fef6",
       "version_major": 2,
       "version_minor": 0
      },
      "text/plain": [
       "Folds avaliados:   0%|          | 0/10 [00:00<?, ?it/s]"
      ]
     },
     "metadata": {},
     "output_type": "display_data"
    },
    {
     "data": {
      "application/vnd.jupyter.widget-view+json": {
       "model_id": "14a7ad2c2e71412396732b72f08a48e7",
       "version_major": 2,
       "version_minor": 0
      },
      "text/plain": [
       "Folds avaliados:   0%|          | 0/10 [00:00<?, ?it/s]"
      ]
     },
     "metadata": {},
     "output_type": "display_data"
    },
    {
     "data": {
      "application/vnd.jupyter.widget-view+json": {
       "model_id": "81d038a2eae14476bc0c9a6b7939362a",
       "version_major": 2,
       "version_minor": 0
      },
      "text/plain": [
       "Folds avaliados:   0%|          | 0/10 [00:00<?, ?it/s]"
      ]
     },
     "metadata": {},
     "output_type": "display_data"
    },
    {
     "data": {
      "application/vnd.jupyter.widget-view+json": {
       "model_id": "e2eac1352e964129af39ca750e7492b9",
       "version_major": 2,
       "version_minor": 0
      },
      "text/plain": [
       "Folds avaliados:   0%|          | 0/10 [00:00<?, ?it/s]"
      ]
     },
     "metadata": {},
     "output_type": "display_data"
    }
   ],
   "source": [
    "resultados = {}\n",
    "for nome, classificador, scale, params in tests:\n",
    "    r = do_cv(classificador, X_pca_df.values, y, 10, 10, 8, scale, params)\n",
    "    resultados[nome] = r"
   ]
  },
  {
   "cell_type": "code",
   "execution_count": 24,
   "id": "bf021884-51aa-40d1-9178-d67df2979226",
   "metadata": {},
   "outputs": [
    {
     "name": "stdout",
     "output_type": "stream",
     "text": [
      "        rf - Resultados: 0.71 +- 0.07, min: 0.55, max: 0.79\n",
      "ad_default - Resultados: 0.67 +- 0.07, min: 0.52, max: 0.74\n",
      "  ad_tuned - Resultados: 0.68 +- 0.06, min: 0.53, max: 0.74\n",
      "       svm - Resultados: 0.71 +- 0.06, min: 0.59, max: 0.83\n",
      "       knn - Resultados: 0.70 +- 0.05, min: 0.63, max: 0.77\n"
     ]
    }
   ],
   "source": [
    "for teste in resultados:\n",
    "    print(teste.rjust(10), end=' - ')\n",
    "    imprimir_estatisticas(resultados[teste])"
   ]
  },
  {
   "cell_type": "code",
   "execution_count": 25,
   "id": "14e34e6b-a9f5-411d-9497-22463ee72c0c",
   "metadata": {},
   "outputs": [
    {
     "data": {
      "application/vnd.jupyter.widget-view+json": {
       "model_id": "51f2ad2bc786441bb07bb4f4f9dce1b7",
       "version_major": 2,
       "version_minor": 0
      },
      "text/plain": [
       "Folds avaliados:   0%|          | 0/10 [00:00<?, ?it/s]"
      ]
     },
     "metadata": {},
     "output_type": "display_data"
    },
    {
     "data": {
      "application/vnd.jupyter.widget-view+json": {
       "model_id": "84364f4a3f834dd7928a87646feaf48b",
       "version_major": 2,
       "version_minor": 0
      },
      "text/plain": [
       "Folds avaliados:   0%|          | 0/10 [00:00<?, ?it/s]"
      ]
     },
     "metadata": {},
     "output_type": "display_data"
    },
    {
     "data": {
      "application/vnd.jupyter.widget-view+json": {
       "model_id": "c3c66d3fc0194d26b16dcdba8a350d7a",
       "version_major": 2,
       "version_minor": 0
      },
      "text/plain": [
       "Folds avaliados:   0%|          | 0/10 [00:00<?, ?it/s]"
      ]
     },
     "metadata": {},
     "output_type": "display_data"
    },
    {
     "data": {
      "application/vnd.jupyter.widget-view+json": {
       "model_id": "deae5659348f4deba0a85c546778b05d",
       "version_major": 2,
       "version_minor": 0
      },
      "text/plain": [
       "Folds avaliados:   0%|          | 0/10 [00:00<?, ?it/s]"
      ]
     },
     "metadata": {},
     "output_type": "display_data"
    },
    {
     "data": {
      "application/vnd.jupyter.widget-view+json": {
       "model_id": "a2415e422fbd4f3fbf9917c13d281be8",
       "version_major": 2,
       "version_minor": 0
      },
      "text/plain": [
       "Folds avaliados:   0%|          | 0/10 [00:00<?, ?it/s]"
      ]
     },
     "metadata": {},
     "output_type": "display_data"
    }
   ],
   "source": [
    "resultados = {}\n",
    "for nome, classificador, scale, params in tests:\n",
    "    r = do_cv(classificador, X_ss, y, 10, 10, 8, scale, params)\n",
    "    resultados[nome] = r"
   ]
  },
  {
   "cell_type": "code",
   "execution_count": 26,
   "id": "140c780b-9b1a-46fa-99d2-464da401b524",
   "metadata": {},
   "outputs": [
    {
     "name": "stdout",
     "output_type": "stream",
     "text": [
      "        rf - Resultados: 0.75 +- 0.08, min: 0.59, max: 0.86\n",
      "ad_default - Resultados: 0.78 +- 0.05, min: 0.67, max: 0.87\n",
      "  ad_tuned - Resultados: 0.72 +- 0.06, min: 0.60, max: 0.79\n",
      "       svm - Resultados: 0.54 +- 0.10, min: 0.33, max: 0.67\n",
      "       knn - Resultados: 0.55 +- 0.03, min: 0.49, max: 0.59\n"
     ]
    }
   ],
   "source": [
    "for teste in resultados:\n",
    "    print(teste.rjust(10), end=' - ')\n",
    "    imprimir_estatisticas(resultados[teste])"
   ]
  },
  {
   "cell_type": "code",
   "execution_count": null,
   "id": "d2f88e5c-2933-4411-8cb7-d3da098d39f9",
   "metadata": {},
   "outputs": [],
   "source": []
  }
 ],
 "metadata": {
  "kernelspec": {
   "display_name": "Python 3 (ipykernel)",
   "language": "python",
   "name": "python3"
  },
  "language_info": {
   "codemirror_mode": {
    "name": "ipython",
    "version": 3
   },
   "file_extension": ".py",
   "mimetype": "text/x-python",
   "name": "python",
   "nbconvert_exporter": "python",
   "pygments_lexer": "ipython3",
   "version": "3.9.6"
  }
 },
 "nbformat": 4,
 "nbformat_minor": 5
}
