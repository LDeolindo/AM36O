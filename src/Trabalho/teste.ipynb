{
 "cells": [
  {
   "cell_type": "markdown",
   "id": "accd7729-9d05-4c05-8095-8085cc671c73",
   "metadata": {},
   "source": [
    "# Trabalho - Projeto de um classificador com atributos mistos e com dados faltantes"
   ]
  },
  {
   "cell_type": "markdown",
   "id": "8fd2cda0-eed1-4a04-b07b-558cc3ac6122",
   "metadata": {},
   "source": [
    "Nem sempre é possível termos um conjunto de dados íntegro, onde todos os dados estão padronizados e coerentes, e totalmente completos."
   ]
  },
  {
   "cell_type": "markdown",
   "id": "903589c2-6804-4fbf-bc1b-d36a3c3cbeb6",
   "metadata": {},
   "source": [
    "## O objetivo deste trabalho será responder a seguinte pergunta com o conjunto de dados:\n",
    "### <div align=\"center\"> Que pessoas tinham mais chances de sobreviver? </div>"
   ]
  },
  {
   "cell_type": "markdown",
   "id": "eeed2a45-5d0e-46bd-88a2-d7e41556745c",
   "metadata": {},
   "source": [
    "No caso desse conjunto, temos casos onde alguns dados estão faltando.\n",
    "\n",
    "A base de dados foi extraída do site [kaggle](https://www.kaggle.com/c/titanic/data), uma comunidade *on-line* de cientistas de dados e profissionais de aprendizado de máquina. É uma base de dados dividida em dois arquivos: conjunto de teste e uma base de treino."
   ]
  },
  {
   "cell_type": "markdown",
   "id": "ec2679f8-7d94-4ddd-a299-33616f3a184c",
   "metadata": {},
   "source": [
    "No arquivo \"titanic/train.csv\", temos o conjunto de treinamento que tem 891 instâncias e doze colunas, o que será utilizado para a criação do modelo. Já o \"titanic/test.csv\" contém 418 instâncias e onze colunas, onde será utilizado para validar o desempenho do classificador em dados diferentes do treino."
   ]
  },
  {
   "cell_type": "markdown",
   "id": "a5a2a77b-3cc0-4f39-9913-d3c0371c5762",
   "metadata": {},
   "source": [
    "#### Importando módulos importantes para o desenvolvimento do projeto"
   ]
  },
  {
   "cell_type": "code",
   "execution_count": 1,
   "id": "159fd528-f9eb-4897-9057-0b582bd56b03",
   "metadata": {},
   "outputs": [],
   "source": [
    "# bibliotecas default\n",
    "import pandas as pd\n",
    "import numpy as np\n",
    "\n",
    "# bibliotecas para visualização dos dados\n",
    "import seaborn as sns\n",
    "import matplotlib.pyplot as plt\n",
    "\n",
    "# bibliotecas para transformação e tratamento dos dados\n",
    "from sklearn.impute import SimpleImputer\n",
    "from sklearn.compose import ColumnTransformer\n",
    "from sklearn.preprocessing import OrdinalEncoder\n",
    "from sklearn.preprocessing import OneHotEncoder\n",
    "from sklearn.decomposition import PCA\n",
    "from sklearn.preprocessing import StandardScaler\n",
    "\n",
    "# importando os classificadares\n",
    "from sklearn.svm import SVC\n",
    "from sklearn.neighbors import KNeighborsClassifier\n",
    "from sklearn.ensemble import RandomForestClassifier\n",
    "from sklearn.tree import DecisionTreeClassifier"
   ]
  },
  {
   "cell_type": "markdown",
   "id": "c0f35897-d10a-42de-9f22-e9c3ed52dc01",
   "metadata": {},
   "source": [
    "**Importando o *utils* fornecido pelo professor.**"
   ]
  },
  {
   "cell_type": "code",
   "execution_count": 2,
   "id": "f4901249-2506-43b3-bdbb-706fab569d3a",
   "metadata": {},
   "outputs": [],
   "source": [
    "from utils import imprimir_estatisticas, calcular_estatisticas, rejeitar_hip_nula\n",
    "from mixins import selecionar_melhor_modelo, do_cv"
   ]
  },
  {
   "cell_type": "markdown",
   "id": "7e6af489-94ae-4561-8ffa-e2e169036c81",
   "metadata": {},
   "source": [
    "#### Lendo os arquivo de Teste e Treino em um *dataframe*"
   ]
  },
  {
   "cell_type": "code",
   "execution_count": 3,
   "id": "f08cc007-ebf2-47b7-94c8-b56bb6511a49",
   "metadata": {},
   "outputs": [],
   "source": [
    "df_test = pd.read_csv(\"titanic/test.csv\")\n",
    "df_train = pd.read_csv(\"titanic/train.csv\")"
   ]
  },
  {
   "cell_type": "markdown",
   "id": "274b9a74-baff-4606-ace3-79af71fa5b2c",
   "metadata": {},
   "source": [
    "### Visualizando as 5 primeira linhas para averiguarmos com o que estamos trabalhando"
   ]
  },
  {
   "cell_type": "code",
   "execution_count": 4,
   "id": "318636ab-ba69-4bed-94e4-8fe4ad4b768a",
   "metadata": {},
   "outputs": [
    {
     "data": {
      "text/html": [
       "<div>\n",
       "<style scoped>\n",
       "    .dataframe tbody tr th:only-of-type {\n",
       "        vertical-align: middle;\n",
       "    }\n",
       "\n",
       "    .dataframe tbody tr th {\n",
       "        vertical-align: top;\n",
       "    }\n",
       "\n",
       "    .dataframe thead th {\n",
       "        text-align: right;\n",
       "    }\n",
       "</style>\n",
       "<table border=\"1\" class=\"dataframe\">\n",
       "  <thead>\n",
       "    <tr style=\"text-align: right;\">\n",
       "      <th></th>\n",
       "      <th>PassengerId</th>\n",
       "      <th>Survived</th>\n",
       "      <th>Pclass</th>\n",
       "      <th>Name</th>\n",
       "      <th>Sex</th>\n",
       "      <th>Age</th>\n",
       "      <th>SibSp</th>\n",
       "      <th>Parch</th>\n",
       "      <th>Ticket</th>\n",
       "      <th>Fare</th>\n",
       "      <th>Cabin</th>\n",
       "      <th>Embarked</th>\n",
       "    </tr>\n",
       "  </thead>\n",
       "  <tbody>\n",
       "    <tr>\n",
       "      <th>0</th>\n",
       "      <td>1</td>\n",
       "      <td>0</td>\n",
       "      <td>3</td>\n",
       "      <td>Braund, Mr. Owen Harris</td>\n",
       "      <td>male</td>\n",
       "      <td>22.0</td>\n",
       "      <td>1</td>\n",
       "      <td>0</td>\n",
       "      <td>A/5 21171</td>\n",
       "      <td>7.2500</td>\n",
       "      <td>NaN</td>\n",
       "      <td>S</td>\n",
       "    </tr>\n",
       "    <tr>\n",
       "      <th>1</th>\n",
       "      <td>2</td>\n",
       "      <td>1</td>\n",
       "      <td>1</td>\n",
       "      <td>Cumings, Mrs. John Bradley (Florence Briggs Th...</td>\n",
       "      <td>female</td>\n",
       "      <td>38.0</td>\n",
       "      <td>1</td>\n",
       "      <td>0</td>\n",
       "      <td>PC 17599</td>\n",
       "      <td>71.2833</td>\n",
       "      <td>C85</td>\n",
       "      <td>C</td>\n",
       "    </tr>\n",
       "    <tr>\n",
       "      <th>2</th>\n",
       "      <td>3</td>\n",
       "      <td>1</td>\n",
       "      <td>3</td>\n",
       "      <td>Heikkinen, Miss. Laina</td>\n",
       "      <td>female</td>\n",
       "      <td>26.0</td>\n",
       "      <td>0</td>\n",
       "      <td>0</td>\n",
       "      <td>STON/O2. 3101282</td>\n",
       "      <td>7.9250</td>\n",
       "      <td>NaN</td>\n",
       "      <td>S</td>\n",
       "    </tr>\n",
       "    <tr>\n",
       "      <th>3</th>\n",
       "      <td>4</td>\n",
       "      <td>1</td>\n",
       "      <td>1</td>\n",
       "      <td>Futrelle, Mrs. Jacques Heath (Lily May Peel)</td>\n",
       "      <td>female</td>\n",
       "      <td>35.0</td>\n",
       "      <td>1</td>\n",
       "      <td>0</td>\n",
       "      <td>113803</td>\n",
       "      <td>53.1000</td>\n",
       "      <td>C123</td>\n",
       "      <td>S</td>\n",
       "    </tr>\n",
       "    <tr>\n",
       "      <th>4</th>\n",
       "      <td>5</td>\n",
       "      <td>0</td>\n",
       "      <td>3</td>\n",
       "      <td>Allen, Mr. William Henry</td>\n",
       "      <td>male</td>\n",
       "      <td>35.0</td>\n",
       "      <td>0</td>\n",
       "      <td>0</td>\n",
       "      <td>373450</td>\n",
       "      <td>8.0500</td>\n",
       "      <td>NaN</td>\n",
       "      <td>S</td>\n",
       "    </tr>\n",
       "  </tbody>\n",
       "</table>\n",
       "</div>"
      ],
      "text/plain": [
       "   PassengerId  Survived  Pclass  \\\n",
       "0            1         0       3   \n",
       "1            2         1       1   \n",
       "2            3         1       3   \n",
       "3            4         1       1   \n",
       "4            5         0       3   \n",
       "\n",
       "                                                Name     Sex   Age  SibSp  \\\n",
       "0                            Braund, Mr. Owen Harris    male  22.0      1   \n",
       "1  Cumings, Mrs. John Bradley (Florence Briggs Th...  female  38.0      1   \n",
       "2                             Heikkinen, Miss. Laina  female  26.0      0   \n",
       "3       Futrelle, Mrs. Jacques Heath (Lily May Peel)  female  35.0      1   \n",
       "4                           Allen, Mr. William Henry    male  35.0      0   \n",
       "\n",
       "   Parch            Ticket     Fare Cabin Embarked  \n",
       "0      0         A/5 21171   7.2500   NaN        S  \n",
       "1      0          PC 17599  71.2833   C85        C  \n",
       "2      0  STON/O2. 3101282   7.9250   NaN        S  \n",
       "3      0            113803  53.1000  C123        S  \n",
       "4      0            373450   8.0500   NaN        S  "
      ]
     },
     "execution_count": 4,
     "metadata": {},
     "output_type": "execute_result"
    }
   ],
   "source": [
    "df_train.head(5)"
   ]
  },
  {
   "cell_type": "code",
   "execution_count": 5,
   "id": "2a7eedaf-9e7f-4f88-85ab-95864e4629f5",
   "metadata": {},
   "outputs": [
    {
     "name": "stdout",
     "output_type": "stream",
     "text": [
      "<class 'pandas.core.frame.DataFrame'>\n",
      "RangeIndex: 891 entries, 0 to 890\n",
      "Data columns (total 12 columns):\n",
      " #   Column       Non-Null Count  Dtype  \n",
      "---  ------       --------------  -----  \n",
      " 0   PassengerId  891 non-null    int64  \n",
      " 1   Survived     891 non-null    int64  \n",
      " 2   Pclass       891 non-null    int64  \n",
      " 3   Name         891 non-null    object \n",
      " 4   Sex          891 non-null    object \n",
      " 5   Age          714 non-null    float64\n",
      " 6   SibSp        891 non-null    int64  \n",
      " 7   Parch        891 non-null    int64  \n",
      " 8   Ticket       891 non-null    object \n",
      " 9   Fare         891 non-null    float64\n",
      " 10  Cabin        204 non-null    object \n",
      " 11  Embarked     889 non-null    object \n",
      "dtypes: float64(2), int64(5), object(5)\n",
      "memory usage: 83.7+ KB\n"
     ]
    }
   ],
   "source": [
    "df_train.info()"
   ]
  },
  {
   "cell_type": "markdown",
   "id": "4708108a-8e52-4152-af5a-8628da629140",
   "metadata": {},
   "source": [
    "Podemos verificar que alguns dados que aparentam ser nulos."
   ]
  },
  {
   "cell_type": "code",
   "execution_count": 6,
   "id": "415d72a3-8aef-45f6-937d-7b72284b3573",
   "metadata": {},
   "outputs": [
    {
     "data": {
      "text/html": [
       "<div>\n",
       "<style scoped>\n",
       "    .dataframe tbody tr th:only-of-type {\n",
       "        vertical-align: middle;\n",
       "    }\n",
       "\n",
       "    .dataframe tbody tr th {\n",
       "        vertical-align: top;\n",
       "    }\n",
       "\n",
       "    .dataframe thead th {\n",
       "        text-align: right;\n",
       "    }\n",
       "</style>\n",
       "<table border=\"1\" class=\"dataframe\">\n",
       "  <thead>\n",
       "    <tr style=\"text-align: right;\">\n",
       "      <th></th>\n",
       "      <th>PassengerId</th>\n",
       "      <th>Survived</th>\n",
       "      <th>Pclass</th>\n",
       "      <th>Age</th>\n",
       "      <th>SibSp</th>\n",
       "      <th>Parch</th>\n",
       "      <th>Fare</th>\n",
       "    </tr>\n",
       "  </thead>\n",
       "  <tbody>\n",
       "    <tr>\n",
       "      <th>count</th>\n",
       "      <td>891.000000</td>\n",
       "      <td>891.000000</td>\n",
       "      <td>891.000000</td>\n",
       "      <td>714.000000</td>\n",
       "      <td>891.000000</td>\n",
       "      <td>891.000000</td>\n",
       "      <td>891.000000</td>\n",
       "    </tr>\n",
       "    <tr>\n",
       "      <th>mean</th>\n",
       "      <td>446.000000</td>\n",
       "      <td>0.383838</td>\n",
       "      <td>2.308642</td>\n",
       "      <td>29.699118</td>\n",
       "      <td>0.523008</td>\n",
       "      <td>0.381594</td>\n",
       "      <td>32.204208</td>\n",
       "    </tr>\n",
       "    <tr>\n",
       "      <th>std</th>\n",
       "      <td>257.353842</td>\n",
       "      <td>0.486592</td>\n",
       "      <td>0.836071</td>\n",
       "      <td>14.526497</td>\n",
       "      <td>1.102743</td>\n",
       "      <td>0.806057</td>\n",
       "      <td>49.693429</td>\n",
       "    </tr>\n",
       "    <tr>\n",
       "      <th>min</th>\n",
       "      <td>1.000000</td>\n",
       "      <td>0.000000</td>\n",
       "      <td>1.000000</td>\n",
       "      <td>0.420000</td>\n",
       "      <td>0.000000</td>\n",
       "      <td>0.000000</td>\n",
       "      <td>0.000000</td>\n",
       "    </tr>\n",
       "    <tr>\n",
       "      <th>25%</th>\n",
       "      <td>223.500000</td>\n",
       "      <td>0.000000</td>\n",
       "      <td>2.000000</td>\n",
       "      <td>20.125000</td>\n",
       "      <td>0.000000</td>\n",
       "      <td>0.000000</td>\n",
       "      <td>7.910400</td>\n",
       "    </tr>\n",
       "    <tr>\n",
       "      <th>50%</th>\n",
       "      <td>446.000000</td>\n",
       "      <td>0.000000</td>\n",
       "      <td>3.000000</td>\n",
       "      <td>28.000000</td>\n",
       "      <td>0.000000</td>\n",
       "      <td>0.000000</td>\n",
       "      <td>14.454200</td>\n",
       "    </tr>\n",
       "    <tr>\n",
       "      <th>75%</th>\n",
       "      <td>668.500000</td>\n",
       "      <td>1.000000</td>\n",
       "      <td>3.000000</td>\n",
       "      <td>38.000000</td>\n",
       "      <td>1.000000</td>\n",
       "      <td>0.000000</td>\n",
       "      <td>31.000000</td>\n",
       "    </tr>\n",
       "    <tr>\n",
       "      <th>max</th>\n",
       "      <td>891.000000</td>\n",
       "      <td>1.000000</td>\n",
       "      <td>3.000000</td>\n",
       "      <td>80.000000</td>\n",
       "      <td>8.000000</td>\n",
       "      <td>6.000000</td>\n",
       "      <td>512.329200</td>\n",
       "    </tr>\n",
       "  </tbody>\n",
       "</table>\n",
       "</div>"
      ],
      "text/plain": [
       "       PassengerId    Survived      Pclass         Age       SibSp  \\\n",
       "count   891.000000  891.000000  891.000000  714.000000  891.000000   \n",
       "mean    446.000000    0.383838    2.308642   29.699118    0.523008   \n",
       "std     257.353842    0.486592    0.836071   14.526497    1.102743   \n",
       "min       1.000000    0.000000    1.000000    0.420000    0.000000   \n",
       "25%     223.500000    0.000000    2.000000   20.125000    0.000000   \n",
       "50%     446.000000    0.000000    3.000000   28.000000    0.000000   \n",
       "75%     668.500000    1.000000    3.000000   38.000000    1.000000   \n",
       "max     891.000000    1.000000    3.000000   80.000000    8.000000   \n",
       "\n",
       "            Parch        Fare  \n",
       "count  891.000000  891.000000  \n",
       "mean     0.381594   32.204208  \n",
       "std      0.806057   49.693429  \n",
       "min      0.000000    0.000000  \n",
       "25%      0.000000    7.910400  \n",
       "50%      0.000000   14.454200  \n",
       "75%      0.000000   31.000000  \n",
       "max      6.000000  512.329200  "
      ]
     },
     "execution_count": 6,
     "metadata": {},
     "output_type": "execute_result"
    }
   ],
   "source": [
    "df_train.describe()"
   ]
  },
  {
   "cell_type": "markdown",
   "id": "116f24e4-8d91-4371-bed5-45aa0763f6c1",
   "metadata": {},
   "source": [
    "E temos uma visão de como os nossos dados estão distribuídos. Análise que algumas colunas não apareceram por serem colunas categóricas. Mas conseguimos visualizar que, por exemplo a coluna *PassengerId*, é uma coluna única, pois para cada passageiro tem um valor diferente não sendo importante na classificação visto que é algo muito específico de uma pessoa, assim como a coluna *Name*. Com isso, vamos dropar essas colunas que não ajudaram nosso classificador."
   ]
  },
  {
   "cell_type": "code",
   "execution_count": 7,
   "id": "2fae76d6-ba91-4860-8fda-d74d0c85ef9c",
   "metadata": {},
   "outputs": [
    {
     "data": {
      "text/html": [
       "<div>\n",
       "<style scoped>\n",
       "    .dataframe tbody tr th:only-of-type {\n",
       "        vertical-align: middle;\n",
       "    }\n",
       "\n",
       "    .dataframe tbody tr th {\n",
       "        vertical-align: top;\n",
       "    }\n",
       "\n",
       "    .dataframe thead th {\n",
       "        text-align: right;\n",
       "    }\n",
       "</style>\n",
       "<table border=\"1\" class=\"dataframe\">\n",
       "  <thead>\n",
       "    <tr style=\"text-align: right;\">\n",
       "      <th></th>\n",
       "      <th>Survived</th>\n",
       "      <th>Pclass</th>\n",
       "      <th>Sex</th>\n",
       "      <th>Age</th>\n",
       "      <th>SibSp</th>\n",
       "      <th>Parch</th>\n",
       "      <th>Ticket</th>\n",
       "      <th>Fare</th>\n",
       "      <th>Cabin</th>\n",
       "      <th>Embarked</th>\n",
       "    </tr>\n",
       "  </thead>\n",
       "  <tbody>\n",
       "    <tr>\n",
       "      <th>0</th>\n",
       "      <td>0</td>\n",
       "      <td>3</td>\n",
       "      <td>male</td>\n",
       "      <td>22.0</td>\n",
       "      <td>1</td>\n",
       "      <td>0</td>\n",
       "      <td>A/5 21171</td>\n",
       "      <td>7.2500</td>\n",
       "      <td>NaN</td>\n",
       "      <td>S</td>\n",
       "    </tr>\n",
       "    <tr>\n",
       "      <th>1</th>\n",
       "      <td>1</td>\n",
       "      <td>1</td>\n",
       "      <td>female</td>\n",
       "      <td>38.0</td>\n",
       "      <td>1</td>\n",
       "      <td>0</td>\n",
       "      <td>PC 17599</td>\n",
       "      <td>71.2833</td>\n",
       "      <td>C85</td>\n",
       "      <td>C</td>\n",
       "    </tr>\n",
       "  </tbody>\n",
       "</table>\n",
       "</div>"
      ],
      "text/plain": [
       "   Survived  Pclass     Sex   Age  SibSp  Parch     Ticket     Fare Cabin  \\\n",
       "0         0       3    male  22.0      1      0  A/5 21171   7.2500   NaN   \n",
       "1         1       1  female  38.0      1      0   PC 17599  71.2833   C85   \n",
       "\n",
       "  Embarked  \n",
       "0        S  \n",
       "1        C  "
      ]
     },
     "execution_count": 7,
     "metadata": {},
     "output_type": "execute_result"
    }
   ],
   "source": [
    "df_train_new = df_train.drop(columns=[\"PassengerId\", \"Name\"])\n",
    "df_train_new.head(2)"
   ]
  },
  {
   "cell_type": "markdown",
   "id": "648978e3-cce2-4354-a8f5-ea224fd77898",
   "metadata": {},
   "source": [
    "Portanto, agora estamos trabalhando com apenas 10 colunas e 891 instâncias."
   ]
  },
  {
   "cell_type": "markdown",
   "id": "6116b41b-004c-4528-af8f-09224d729294",
   "metadata": {},
   "source": [
    "## Lidando com valores faltantes"
   ]
  },
  {
   "cell_type": "markdown",
   "id": "d44bb17b-5924-4b49-a5bc-8231872bec47",
   "metadata": {},
   "source": [
    "Primeiro vamos confirmar se dentro do nosso conjunto de dados existem dados faltantes, e se sim, em quais colunas eles estão distribuídos."
   ]
  },
  {
   "cell_type": "code",
   "execution_count": 8,
   "id": "80771014-3668-47f8-a13c-34711aca2440",
   "metadata": {},
   "outputs": [
    {
     "data": {
      "text/plain": [
       "Survived      0\n",
       "Pclass        0\n",
       "Sex           0\n",
       "Age         177\n",
       "SibSp         0\n",
       "Parch         0\n",
       "Ticket        0\n",
       "Fare          0\n",
       "Cabin       687\n",
       "Embarked      2\n",
       "dtype: int64"
      ]
     },
     "execution_count": 8,
     "metadata": {},
     "output_type": "execute_result"
    }
   ],
   "source": [
    "df_train_new.isnull().sum()"
   ]
  },
  {
   "cell_type": "code",
   "execution_count": 9,
   "id": "d722cc3a-ce06-4140-8930-e3c13d2dc12b",
   "metadata": {},
   "outputs": [
    {
     "data": {
      "text/plain": [
       "866"
      ]
     },
     "execution_count": 9,
     "metadata": {},
     "output_type": "execute_result"
    }
   ],
   "source": [
    "df_train_new.isnull().sum().sum()"
   ]
  },
  {
   "cell_type": "markdown",
   "id": "1bc76bb9-29af-4493-9eb5-c9ba25be5715",
   "metadata": {},
   "source": [
    "Conseguimos verificar que neste conjunto temos 866 células com informação faltando. E estão distribuídos em 3 colunas diferentes: *Age*, *Cabin* e *Embarked*."
   ]
  },
  {
   "cell_type": "markdown",
   "id": "11764d32-1744-4571-8d45-2b3f89230af6",
   "metadata": {},
   "source": [
    "Como a coluna Embarked tem apenas 2 valores nulos, foi optado por dropar essas linhas."
   ]
  },
  {
   "cell_type": "code",
   "execution_count": 10,
   "id": "62d5f037-cb38-4d02-bba5-23995e171e21",
   "metadata": {},
   "outputs": [
    {
     "data": {
      "text/html": [
       "<div>\n",
       "<style scoped>\n",
       "    .dataframe tbody tr th:only-of-type {\n",
       "        vertical-align: middle;\n",
       "    }\n",
       "\n",
       "    .dataframe tbody tr th {\n",
       "        vertical-align: top;\n",
       "    }\n",
       "\n",
       "    .dataframe thead th {\n",
       "        text-align: right;\n",
       "    }\n",
       "</style>\n",
       "<table border=\"1\" class=\"dataframe\">\n",
       "  <thead>\n",
       "    <tr style=\"text-align: right;\">\n",
       "      <th></th>\n",
       "      <th>Survived</th>\n",
       "      <th>Pclass</th>\n",
       "      <th>Sex</th>\n",
       "      <th>Age</th>\n",
       "      <th>SibSp</th>\n",
       "      <th>Parch</th>\n",
       "      <th>Ticket</th>\n",
       "      <th>Fare</th>\n",
       "      <th>Cabin</th>\n",
       "      <th>Embarked</th>\n",
       "    </tr>\n",
       "  </thead>\n",
       "  <tbody>\n",
       "    <tr>\n",
       "      <th>0</th>\n",
       "      <td>0</td>\n",
       "      <td>3</td>\n",
       "      <td>male</td>\n",
       "      <td>22.0</td>\n",
       "      <td>1</td>\n",
       "      <td>0</td>\n",
       "      <td>A/5 21171</td>\n",
       "      <td>7.2500</td>\n",
       "      <td>NaN</td>\n",
       "      <td>S</td>\n",
       "    </tr>\n",
       "    <tr>\n",
       "      <th>1</th>\n",
       "      <td>1</td>\n",
       "      <td>1</td>\n",
       "      <td>female</td>\n",
       "      <td>38.0</td>\n",
       "      <td>1</td>\n",
       "      <td>0</td>\n",
       "      <td>PC 17599</td>\n",
       "      <td>71.2833</td>\n",
       "      <td>C85</td>\n",
       "      <td>C</td>\n",
       "    </tr>\n",
       "    <tr>\n",
       "      <th>2</th>\n",
       "      <td>1</td>\n",
       "      <td>3</td>\n",
       "      <td>female</td>\n",
       "      <td>26.0</td>\n",
       "      <td>0</td>\n",
       "      <td>0</td>\n",
       "      <td>STON/O2. 3101282</td>\n",
       "      <td>7.9250</td>\n",
       "      <td>NaN</td>\n",
       "      <td>S</td>\n",
       "    </tr>\n",
       "    <tr>\n",
       "      <th>3</th>\n",
       "      <td>1</td>\n",
       "      <td>1</td>\n",
       "      <td>female</td>\n",
       "      <td>35.0</td>\n",
       "      <td>1</td>\n",
       "      <td>0</td>\n",
       "      <td>113803</td>\n",
       "      <td>53.1000</td>\n",
       "      <td>C123</td>\n",
       "      <td>S</td>\n",
       "    </tr>\n",
       "    <tr>\n",
       "      <th>4</th>\n",
       "      <td>0</td>\n",
       "      <td>3</td>\n",
       "      <td>male</td>\n",
       "      <td>35.0</td>\n",
       "      <td>0</td>\n",
       "      <td>0</td>\n",
       "      <td>373450</td>\n",
       "      <td>8.0500</td>\n",
       "      <td>NaN</td>\n",
       "      <td>S</td>\n",
       "    </tr>\n",
       "  </tbody>\n",
       "</table>\n",
       "</div>"
      ],
      "text/plain": [
       "   Survived  Pclass     Sex   Age  SibSp  Parch            Ticket     Fare  \\\n",
       "0         0       3    male  22.0      1      0         A/5 21171   7.2500   \n",
       "1         1       1  female  38.0      1      0          PC 17599  71.2833   \n",
       "2         1       3  female  26.0      0      0  STON/O2. 3101282   7.9250   \n",
       "3         1       1  female  35.0      1      0            113803  53.1000   \n",
       "4         0       3    male  35.0      0      0            373450   8.0500   \n",
       "\n",
       "  Cabin Embarked  \n",
       "0   NaN        S  \n",
       "1   C85        C  \n",
       "2   NaN        S  \n",
       "3  C123        S  \n",
       "4   NaN        S  "
      ]
     },
     "execution_count": 10,
     "metadata": {},
     "output_type": "execute_result"
    }
   ],
   "source": [
    "df_train_new = df_train_new.dropna(subset=['Embarked'])\n",
    "df_train_new.head(5)"
   ]
  },
  {
   "cell_type": "markdown",
   "id": "024fb896-c930-4df7-bc39-2aac4aa991af",
   "metadata": {},
   "source": [
    "Verificando os valores nulos restantes."
   ]
  },
  {
   "cell_type": "code",
   "execution_count": 11,
   "id": "8de7d1ca-495c-487b-920e-e0c35579a5d8",
   "metadata": {},
   "outputs": [
    {
     "data": {
      "text/plain": [
       "Survived      0\n",
       "Pclass        0\n",
       "Sex           0\n",
       "Age         177\n",
       "SibSp         0\n",
       "Parch         0\n",
       "Ticket        0\n",
       "Fare          0\n",
       "Cabin       687\n",
       "Embarked      0\n",
       "dtype: int64"
      ]
     },
     "execution_count": 11,
     "metadata": {},
     "output_type": "execute_result"
    }
   ],
   "source": [
    "df_train_new.isnull().sum()"
   ]
  },
  {
   "cell_type": "markdown",
   "id": "69023cc4-db60-4a36-950e-478d04692fa1",
   "metadata": {},
   "source": [
    "Agora, com as outras duas colunas (*Age* e *Cabin*) vamos fazer um tratamento especial. Na coluna *Age*, por ser um valor numérico, vamos utilizar a média de idades no lugar dos valores que estão faltando. E já na coluna *Cabin*, por estar faltando dados em quase 80% das linhas e ser categórico, foi escolhido imputar com valor padrão, sendo nesse caso utilizado o valor ***Unknown***, porém os valores restantes que não estão nulos serão substituindo com o valor ***Known***, transformando a coluna em apenas dois valores ***Known*** e ***Unknown***."
   ]
  },
  {
   "cell_type": "markdown",
   "id": "4786cd07-6e91-452f-a5fa-891558f0b6e1",
   "metadata": {},
   "source": [
    "#### Separando os valores de entrada e saída"
   ]
  },
  {
   "cell_type": "markdown",
   "id": "e6ac2787-5dd0-4dc8-8097-e904e027a734",
   "metadata": {},
   "source": [
    "Mas antes vamos separar os atributos de entrada do atributo de saída para simplificar e facilitar o trabalho com as colunas. E só separamos agora, pois demos um drop na linha nulas da coluna *Embarked* e com isso ficaria divergente o número de linhas de entrada e saída."
   ]
  },
  {
   "cell_type": "code",
   "execution_count": 12,
   "id": "7facd92c-c6fe-46ea-83f4-eb7c22002880",
   "metadata": {},
   "outputs": [],
   "source": [
    "X_train = df_train_new.drop(columns=[\"Survived\"])\n",
    "Y_train = df_train_new[[\"Survived\"]]"
   ]
  },
  {
   "cell_type": "markdown",
   "id": "59d7c8bf-dc1f-4eea-b1fc-06890fba3dc3",
   "metadata": {},
   "source": [
    "#### Transformado os valores faltantes"
   ]
  },
  {
   "cell_type": "code",
   "execution_count": 13,
   "id": "23d3b408-4d3d-4291-8b7e-54a5d8e6b0f4",
   "metadata": {},
   "outputs": [
    {
     "data": {
      "text/plain": [
       "array([[22.0, 'Unknown', 3, ..., 'A/5 21171', 7.25, 'S'],\n",
       "       [38.0, 'C85', 1, ..., 'PC 17599', 71.2833, 'C'],\n",
       "       [26.0, 'Unknown', 3, ..., 'STON/O2. 3101282', 7.925, 'S'],\n",
       "       ...,\n",
       "       [29.64209269662921, 'Unknown', 3, ..., 'W./C. 6607', 23.45, 'S'],\n",
       "       [26.0, 'C148', 1, ..., '111369', 30.0, 'C'],\n",
       "       [32.0, 'Unknown', 3, ..., '370376', 7.75, 'Q']], dtype=object)"
      ]
     },
     "execution_count": 13,
     "metadata": {},
     "output_type": "execute_result"
    }
   ],
   "source": [
    "# pega os nomes das colunas\n",
    "attributes = list(X_train.columns)\n",
    "# as colunas que vão ser tranformadas\n",
    "attributes_transf = ['Age', 'Cabin']\n",
    "# separa as colunas das colunas que serão tranformadas\n",
    "attributes = [item for item in attributes if item not in attributes_transf]\n",
    "\n",
    "transformers = [\n",
    "    ('imp_num', SimpleImputer(strategy='mean'), ['Age']),\n",
    "    ('imp_cat', SimpleImputer(strategy='constant', fill_value='Unknown'), ['Cabin'])\n",
    "]\n",
    "\n",
    "col_trans = ColumnTransformer(\n",
    "    transformers, remainder='passthrough', sparse_threshold=0\n",
    ")\n",
    "values_imput = col_trans.fit_transform(X_train)\n",
    "values_imput"
   ]
  },
  {
   "cell_type": "markdown",
   "id": "6558e39c-a141-44eb-bfd7-3616ad6a39c2",
   "metadata": {},
   "source": [
    "Verificando se tudo ocorreu conforme o planejado."
   ]
  },
  {
   "cell_type": "code",
   "execution_count": 14,
   "id": "349f7307-46b8-4e22-84f0-a9dffb5c6ab6",
   "metadata": {},
   "outputs": [
    {
     "data": {
      "text/html": [
       "<div>\n",
       "<style scoped>\n",
       "    .dataframe tbody tr th:only-of-type {\n",
       "        vertical-align: middle;\n",
       "    }\n",
       "\n",
       "    .dataframe tbody tr th {\n",
       "        vertical-align: top;\n",
       "    }\n",
       "\n",
       "    .dataframe thead th {\n",
       "        text-align: right;\n",
       "    }\n",
       "</style>\n",
       "<table border=\"1\" class=\"dataframe\">\n",
       "  <thead>\n",
       "    <tr style=\"text-align: right;\">\n",
       "      <th></th>\n",
       "      <th>Age</th>\n",
       "      <th>Cabin</th>\n",
       "      <th>Pclass</th>\n",
       "      <th>Sex</th>\n",
       "      <th>SibSp</th>\n",
       "      <th>Parch</th>\n",
       "      <th>Ticket</th>\n",
       "      <th>Fare</th>\n",
       "      <th>Embarked</th>\n",
       "    </tr>\n",
       "  </thead>\n",
       "  <tbody>\n",
       "    <tr>\n",
       "      <th>0</th>\n",
       "      <td>22.0</td>\n",
       "      <td>Unknown</td>\n",
       "      <td>3</td>\n",
       "      <td>male</td>\n",
       "      <td>1</td>\n",
       "      <td>0</td>\n",
       "      <td>A/5 21171</td>\n",
       "      <td>7.25</td>\n",
       "      <td>S</td>\n",
       "    </tr>\n",
       "    <tr>\n",
       "      <th>1</th>\n",
       "      <td>38.0</td>\n",
       "      <td>C85</td>\n",
       "      <td>1</td>\n",
       "      <td>female</td>\n",
       "      <td>1</td>\n",
       "      <td>0</td>\n",
       "      <td>PC 17599</td>\n",
       "      <td>71.2833</td>\n",
       "      <td>C</td>\n",
       "    </tr>\n",
       "    <tr>\n",
       "      <th>2</th>\n",
       "      <td>26.0</td>\n",
       "      <td>Unknown</td>\n",
       "      <td>3</td>\n",
       "      <td>female</td>\n",
       "      <td>0</td>\n",
       "      <td>0</td>\n",
       "      <td>STON/O2. 3101282</td>\n",
       "      <td>7.925</td>\n",
       "      <td>S</td>\n",
       "    </tr>\n",
       "    <tr>\n",
       "      <th>3</th>\n",
       "      <td>35.0</td>\n",
       "      <td>C123</td>\n",
       "      <td>1</td>\n",
       "      <td>female</td>\n",
       "      <td>1</td>\n",
       "      <td>0</td>\n",
       "      <td>113803</td>\n",
       "      <td>53.1</td>\n",
       "      <td>S</td>\n",
       "    </tr>\n",
       "    <tr>\n",
       "      <th>4</th>\n",
       "      <td>35.0</td>\n",
       "      <td>Unknown</td>\n",
       "      <td>3</td>\n",
       "      <td>male</td>\n",
       "      <td>0</td>\n",
       "      <td>0</td>\n",
       "      <td>373450</td>\n",
       "      <td>8.05</td>\n",
       "      <td>S</td>\n",
       "    </tr>\n",
       "    <tr>\n",
       "      <th>...</th>\n",
       "      <td>...</td>\n",
       "      <td>...</td>\n",
       "      <td>...</td>\n",
       "      <td>...</td>\n",
       "      <td>...</td>\n",
       "      <td>...</td>\n",
       "      <td>...</td>\n",
       "      <td>...</td>\n",
       "      <td>...</td>\n",
       "    </tr>\n",
       "    <tr>\n",
       "      <th>884</th>\n",
       "      <td>27.0</td>\n",
       "      <td>Unknown</td>\n",
       "      <td>2</td>\n",
       "      <td>male</td>\n",
       "      <td>0</td>\n",
       "      <td>0</td>\n",
       "      <td>211536</td>\n",
       "      <td>13.0</td>\n",
       "      <td>S</td>\n",
       "    </tr>\n",
       "    <tr>\n",
       "      <th>885</th>\n",
       "      <td>19.0</td>\n",
       "      <td>B42</td>\n",
       "      <td>1</td>\n",
       "      <td>female</td>\n",
       "      <td>0</td>\n",
       "      <td>0</td>\n",
       "      <td>112053</td>\n",
       "      <td>30.0</td>\n",
       "      <td>S</td>\n",
       "    </tr>\n",
       "    <tr>\n",
       "      <th>886</th>\n",
       "      <td>29.642093</td>\n",
       "      <td>Unknown</td>\n",
       "      <td>3</td>\n",
       "      <td>female</td>\n",
       "      <td>1</td>\n",
       "      <td>2</td>\n",
       "      <td>W./C. 6607</td>\n",
       "      <td>23.45</td>\n",
       "      <td>S</td>\n",
       "    </tr>\n",
       "    <tr>\n",
       "      <th>887</th>\n",
       "      <td>26.0</td>\n",
       "      <td>C148</td>\n",
       "      <td>1</td>\n",
       "      <td>male</td>\n",
       "      <td>0</td>\n",
       "      <td>0</td>\n",
       "      <td>111369</td>\n",
       "      <td>30.0</td>\n",
       "      <td>C</td>\n",
       "    </tr>\n",
       "    <tr>\n",
       "      <th>888</th>\n",
       "      <td>32.0</td>\n",
       "      <td>Unknown</td>\n",
       "      <td>3</td>\n",
       "      <td>male</td>\n",
       "      <td>0</td>\n",
       "      <td>0</td>\n",
       "      <td>370376</td>\n",
       "      <td>7.75</td>\n",
       "      <td>Q</td>\n",
       "    </tr>\n",
       "  </tbody>\n",
       "</table>\n",
       "<p>889 rows × 9 columns</p>\n",
       "</div>"
      ],
      "text/plain": [
       "           Age    Cabin Pclass     Sex SibSp Parch            Ticket     Fare  \\\n",
       "0         22.0  Unknown      3    male     1     0         A/5 21171     7.25   \n",
       "1         38.0      C85      1  female     1     0          PC 17599  71.2833   \n",
       "2         26.0  Unknown      3  female     0     0  STON/O2. 3101282    7.925   \n",
       "3         35.0     C123      1  female     1     0            113803     53.1   \n",
       "4         35.0  Unknown      3    male     0     0            373450     8.05   \n",
       "..         ...      ...    ...     ...   ...   ...               ...      ...   \n",
       "884       27.0  Unknown      2    male     0     0            211536     13.0   \n",
       "885       19.0      B42      1  female     0     0            112053     30.0   \n",
       "886  29.642093  Unknown      3  female     1     2        W./C. 6607    23.45   \n",
       "887       26.0     C148      1    male     0     0            111369     30.0   \n",
       "888       32.0  Unknown      3    male     0     0            370376     7.75   \n",
       "\n",
       "    Embarked  \n",
       "0          S  \n",
       "1          C  \n",
       "2          S  \n",
       "3          S  \n",
       "4          S  \n",
       "..       ...  \n",
       "884        S  \n",
       "885        S  \n",
       "886        S  \n",
       "887        C  \n",
       "888        Q  \n",
       "\n",
       "[889 rows x 9 columns]"
      ]
     },
     "execution_count": 14,
     "metadata": {},
     "output_type": "execute_result"
    }
   ],
   "source": [
    "X_imput = pd.DataFrame(values_imput, columns=[*attributes_transf, *attributes])\n",
    "X_imput"
   ]
  },
  {
   "cell_type": "markdown",
   "id": "6b76f093-6d66-4eba-ba1d-9fc356312bdf",
   "metadata": {},
   "source": [
    "Antes de tratar a coluna *Age*, vamos converter a coluna *Cabin*. Substituindo onde tem valores conhecido por *Known* e onde estava faltando dado vamos deixar o que foi imputado (no caso *Unknown*)."
   ]
  },
  {
   "cell_type": "code",
   "execution_count": 15,
   "id": "aaf9a619-77b9-4902-91d9-8d40aebc368e",
   "metadata": {},
   "outputs": [
    {
     "data": {
      "text/html": [
       "<div>\n",
       "<style scoped>\n",
       "    .dataframe tbody tr th:only-of-type {\n",
       "        vertical-align: middle;\n",
       "    }\n",
       "\n",
       "    .dataframe tbody tr th {\n",
       "        vertical-align: top;\n",
       "    }\n",
       "\n",
       "    .dataframe thead th {\n",
       "        text-align: right;\n",
       "    }\n",
       "</style>\n",
       "<table border=\"1\" class=\"dataframe\">\n",
       "  <thead>\n",
       "    <tr style=\"text-align: right;\">\n",
       "      <th></th>\n",
       "      <th>Age</th>\n",
       "      <th>Cabin</th>\n",
       "      <th>Pclass</th>\n",
       "      <th>Sex</th>\n",
       "      <th>SibSp</th>\n",
       "      <th>Parch</th>\n",
       "      <th>Ticket</th>\n",
       "      <th>Fare</th>\n",
       "      <th>Embarked</th>\n",
       "    </tr>\n",
       "  </thead>\n",
       "  <tbody>\n",
       "    <tr>\n",
       "      <th>0</th>\n",
       "      <td>22.0</td>\n",
       "      <td>Unknown</td>\n",
       "      <td>3</td>\n",
       "      <td>male</td>\n",
       "      <td>1</td>\n",
       "      <td>0</td>\n",
       "      <td>A/5 21171</td>\n",
       "      <td>7.25</td>\n",
       "      <td>S</td>\n",
       "    </tr>\n",
       "    <tr>\n",
       "      <th>1</th>\n",
       "      <td>38.0</td>\n",
       "      <td>Known</td>\n",
       "      <td>1</td>\n",
       "      <td>female</td>\n",
       "      <td>1</td>\n",
       "      <td>0</td>\n",
       "      <td>PC 17599</td>\n",
       "      <td>71.2833</td>\n",
       "      <td>C</td>\n",
       "    </tr>\n",
       "    <tr>\n",
       "      <th>2</th>\n",
       "      <td>26.0</td>\n",
       "      <td>Unknown</td>\n",
       "      <td>3</td>\n",
       "      <td>female</td>\n",
       "      <td>0</td>\n",
       "      <td>0</td>\n",
       "      <td>STON/O2. 3101282</td>\n",
       "      <td>7.925</td>\n",
       "      <td>S</td>\n",
       "    </tr>\n",
       "    <tr>\n",
       "      <th>3</th>\n",
       "      <td>35.0</td>\n",
       "      <td>Known</td>\n",
       "      <td>1</td>\n",
       "      <td>female</td>\n",
       "      <td>1</td>\n",
       "      <td>0</td>\n",
       "      <td>113803</td>\n",
       "      <td>53.1</td>\n",
       "      <td>S</td>\n",
       "    </tr>\n",
       "    <tr>\n",
       "      <th>4</th>\n",
       "      <td>35.0</td>\n",
       "      <td>Unknown</td>\n",
       "      <td>3</td>\n",
       "      <td>male</td>\n",
       "      <td>0</td>\n",
       "      <td>0</td>\n",
       "      <td>373450</td>\n",
       "      <td>8.05</td>\n",
       "      <td>S</td>\n",
       "    </tr>\n",
       "    <tr>\n",
       "      <th>...</th>\n",
       "      <td>...</td>\n",
       "      <td>...</td>\n",
       "      <td>...</td>\n",
       "      <td>...</td>\n",
       "      <td>...</td>\n",
       "      <td>...</td>\n",
       "      <td>...</td>\n",
       "      <td>...</td>\n",
       "      <td>...</td>\n",
       "    </tr>\n",
       "    <tr>\n",
       "      <th>884</th>\n",
       "      <td>27.0</td>\n",
       "      <td>Unknown</td>\n",
       "      <td>2</td>\n",
       "      <td>male</td>\n",
       "      <td>0</td>\n",
       "      <td>0</td>\n",
       "      <td>211536</td>\n",
       "      <td>13.0</td>\n",
       "      <td>S</td>\n",
       "    </tr>\n",
       "    <tr>\n",
       "      <th>885</th>\n",
       "      <td>19.0</td>\n",
       "      <td>Known</td>\n",
       "      <td>1</td>\n",
       "      <td>female</td>\n",
       "      <td>0</td>\n",
       "      <td>0</td>\n",
       "      <td>112053</td>\n",
       "      <td>30.0</td>\n",
       "      <td>S</td>\n",
       "    </tr>\n",
       "    <tr>\n",
       "      <th>886</th>\n",
       "      <td>29.642093</td>\n",
       "      <td>Unknown</td>\n",
       "      <td>3</td>\n",
       "      <td>female</td>\n",
       "      <td>1</td>\n",
       "      <td>2</td>\n",
       "      <td>W./C. 6607</td>\n",
       "      <td>23.45</td>\n",
       "      <td>S</td>\n",
       "    </tr>\n",
       "    <tr>\n",
       "      <th>887</th>\n",
       "      <td>26.0</td>\n",
       "      <td>Known</td>\n",
       "      <td>1</td>\n",
       "      <td>male</td>\n",
       "      <td>0</td>\n",
       "      <td>0</td>\n",
       "      <td>111369</td>\n",
       "      <td>30.0</td>\n",
       "      <td>C</td>\n",
       "    </tr>\n",
       "    <tr>\n",
       "      <th>888</th>\n",
       "      <td>32.0</td>\n",
       "      <td>Unknown</td>\n",
       "      <td>3</td>\n",
       "      <td>male</td>\n",
       "      <td>0</td>\n",
       "      <td>0</td>\n",
       "      <td>370376</td>\n",
       "      <td>7.75</td>\n",
       "      <td>Q</td>\n",
       "    </tr>\n",
       "  </tbody>\n",
       "</table>\n",
       "<p>889 rows × 9 columns</p>\n",
       "</div>"
      ],
      "text/plain": [
       "           Age    Cabin Pclass     Sex SibSp Parch            Ticket     Fare  \\\n",
       "0         22.0  Unknown      3    male     1     0         A/5 21171     7.25   \n",
       "1         38.0    Known      1  female     1     0          PC 17599  71.2833   \n",
       "2         26.0  Unknown      3  female     0     0  STON/O2. 3101282    7.925   \n",
       "3         35.0    Known      1  female     1     0            113803     53.1   \n",
       "4         35.0  Unknown      3    male     0     0            373450     8.05   \n",
       "..         ...      ...    ...     ...   ...   ...               ...      ...   \n",
       "884       27.0  Unknown      2    male     0     0            211536     13.0   \n",
       "885       19.0    Known      1  female     0     0            112053     30.0   \n",
       "886  29.642093  Unknown      3  female     1     2        W./C. 6607    23.45   \n",
       "887       26.0    Known      1    male     0     0            111369     30.0   \n",
       "888       32.0  Unknown      3    male     0     0            370376     7.75   \n",
       "\n",
       "    Embarked  \n",
       "0          S  \n",
       "1          C  \n",
       "2          S  \n",
       "3          S  \n",
       "4          S  \n",
       "..       ...  \n",
       "884        S  \n",
       "885        S  \n",
       "886        S  \n",
       "887        C  \n",
       "888        Q  \n",
       "\n",
       "[889 rows x 9 columns]"
      ]
     },
     "execution_count": 15,
     "metadata": {},
     "output_type": "execute_result"
    }
   ],
   "source": [
    "X_imput['Cabin'] = X_imput['Cabin'].apply(lambda x: 'Known' if x != 'Unknown' else 'Unknown')\n",
    "X_imput"
   ]
  },
  {
   "cell_type": "markdown",
   "id": "782920e6-d700-4df0-a712-339b2fa99765",
   "metadata": {},
   "source": [
    "E por fim, vamos realizar um leve tratamento na coluna *Age* visto que o valores gerados estão em decimal, e idade é um número inteiro, com isso vamos arredondar os valores nesse caso pegando o teto."
   ]
  },
  {
   "cell_type": "code",
   "execution_count": 16,
   "id": "e33cf236-bc54-4856-ad1f-3f4b7575916e",
   "metadata": {},
   "outputs": [
    {
     "data": {
      "text/html": [
       "<div>\n",
       "<style scoped>\n",
       "    .dataframe tbody tr th:only-of-type {\n",
       "        vertical-align: middle;\n",
       "    }\n",
       "\n",
       "    .dataframe tbody tr th {\n",
       "        vertical-align: top;\n",
       "    }\n",
       "\n",
       "    .dataframe thead th {\n",
       "        text-align: right;\n",
       "    }\n",
       "</style>\n",
       "<table border=\"1\" class=\"dataframe\">\n",
       "  <thead>\n",
       "    <tr style=\"text-align: right;\">\n",
       "      <th></th>\n",
       "      <th>Age</th>\n",
       "      <th>Cabin</th>\n",
       "      <th>Pclass</th>\n",
       "      <th>Sex</th>\n",
       "      <th>SibSp</th>\n",
       "      <th>Parch</th>\n",
       "      <th>Ticket</th>\n",
       "      <th>Fare</th>\n",
       "      <th>Embarked</th>\n",
       "    </tr>\n",
       "  </thead>\n",
       "  <tbody>\n",
       "    <tr>\n",
       "      <th>0</th>\n",
       "      <td>22</td>\n",
       "      <td>Unknown</td>\n",
       "      <td>3</td>\n",
       "      <td>male</td>\n",
       "      <td>1</td>\n",
       "      <td>0</td>\n",
       "      <td>A/5 21171</td>\n",
       "      <td>7.25</td>\n",
       "      <td>S</td>\n",
       "    </tr>\n",
       "    <tr>\n",
       "      <th>1</th>\n",
       "      <td>38</td>\n",
       "      <td>Known</td>\n",
       "      <td>1</td>\n",
       "      <td>female</td>\n",
       "      <td>1</td>\n",
       "      <td>0</td>\n",
       "      <td>PC 17599</td>\n",
       "      <td>71.2833</td>\n",
       "      <td>C</td>\n",
       "    </tr>\n",
       "    <tr>\n",
       "      <th>2</th>\n",
       "      <td>26</td>\n",
       "      <td>Unknown</td>\n",
       "      <td>3</td>\n",
       "      <td>female</td>\n",
       "      <td>0</td>\n",
       "      <td>0</td>\n",
       "      <td>STON/O2. 3101282</td>\n",
       "      <td>7.925</td>\n",
       "      <td>S</td>\n",
       "    </tr>\n",
       "    <tr>\n",
       "      <th>3</th>\n",
       "      <td>35</td>\n",
       "      <td>Known</td>\n",
       "      <td>1</td>\n",
       "      <td>female</td>\n",
       "      <td>1</td>\n",
       "      <td>0</td>\n",
       "      <td>113803</td>\n",
       "      <td>53.1</td>\n",
       "      <td>S</td>\n",
       "    </tr>\n",
       "    <tr>\n",
       "      <th>4</th>\n",
       "      <td>35</td>\n",
       "      <td>Unknown</td>\n",
       "      <td>3</td>\n",
       "      <td>male</td>\n",
       "      <td>0</td>\n",
       "      <td>0</td>\n",
       "      <td>373450</td>\n",
       "      <td>8.05</td>\n",
       "      <td>S</td>\n",
       "    </tr>\n",
       "    <tr>\n",
       "      <th>...</th>\n",
       "      <td>...</td>\n",
       "      <td>...</td>\n",
       "      <td>...</td>\n",
       "      <td>...</td>\n",
       "      <td>...</td>\n",
       "      <td>...</td>\n",
       "      <td>...</td>\n",
       "      <td>...</td>\n",
       "      <td>...</td>\n",
       "    </tr>\n",
       "    <tr>\n",
       "      <th>884</th>\n",
       "      <td>27</td>\n",
       "      <td>Unknown</td>\n",
       "      <td>2</td>\n",
       "      <td>male</td>\n",
       "      <td>0</td>\n",
       "      <td>0</td>\n",
       "      <td>211536</td>\n",
       "      <td>13.0</td>\n",
       "      <td>S</td>\n",
       "    </tr>\n",
       "    <tr>\n",
       "      <th>885</th>\n",
       "      <td>19</td>\n",
       "      <td>Known</td>\n",
       "      <td>1</td>\n",
       "      <td>female</td>\n",
       "      <td>0</td>\n",
       "      <td>0</td>\n",
       "      <td>112053</td>\n",
       "      <td>30.0</td>\n",
       "      <td>S</td>\n",
       "    </tr>\n",
       "    <tr>\n",
       "      <th>886</th>\n",
       "      <td>30</td>\n",
       "      <td>Unknown</td>\n",
       "      <td>3</td>\n",
       "      <td>female</td>\n",
       "      <td>1</td>\n",
       "      <td>2</td>\n",
       "      <td>W./C. 6607</td>\n",
       "      <td>23.45</td>\n",
       "      <td>S</td>\n",
       "    </tr>\n",
       "    <tr>\n",
       "      <th>887</th>\n",
       "      <td>26</td>\n",
       "      <td>Known</td>\n",
       "      <td>1</td>\n",
       "      <td>male</td>\n",
       "      <td>0</td>\n",
       "      <td>0</td>\n",
       "      <td>111369</td>\n",
       "      <td>30.0</td>\n",
       "      <td>C</td>\n",
       "    </tr>\n",
       "    <tr>\n",
       "      <th>888</th>\n",
       "      <td>32</td>\n",
       "      <td>Unknown</td>\n",
       "      <td>3</td>\n",
       "      <td>male</td>\n",
       "      <td>0</td>\n",
       "      <td>0</td>\n",
       "      <td>370376</td>\n",
       "      <td>7.75</td>\n",
       "      <td>Q</td>\n",
       "    </tr>\n",
       "  </tbody>\n",
       "</table>\n",
       "<p>889 rows × 9 columns</p>\n",
       "</div>"
      ],
      "text/plain": [
       "     Age    Cabin Pclass     Sex SibSp Parch            Ticket     Fare  \\\n",
       "0     22  Unknown      3    male     1     0         A/5 21171     7.25   \n",
       "1     38    Known      1  female     1     0          PC 17599  71.2833   \n",
       "2     26  Unknown      3  female     0     0  STON/O2. 3101282    7.925   \n",
       "3     35    Known      1  female     1     0            113803     53.1   \n",
       "4     35  Unknown      3    male     0     0            373450     8.05   \n",
       "..   ...      ...    ...     ...   ...   ...               ...      ...   \n",
       "884   27  Unknown      2    male     0     0            211536     13.0   \n",
       "885   19    Known      1  female     0     0            112053     30.0   \n",
       "886   30  Unknown      3  female     1     2        W./C. 6607    23.45   \n",
       "887   26    Known      1    male     0     0            111369     30.0   \n",
       "888   32  Unknown      3    male     0     0            370376     7.75   \n",
       "\n",
       "    Embarked  \n",
       "0          S  \n",
       "1          C  \n",
       "2          S  \n",
       "3          S  \n",
       "4          S  \n",
       "..       ...  \n",
       "884        S  \n",
       "885        S  \n",
       "886        S  \n",
       "887        C  \n",
       "888        Q  \n",
       "\n",
       "[889 rows x 9 columns]"
      ]
     },
     "execution_count": 16,
     "metadata": {},
     "output_type": "execute_result"
    }
   ],
   "source": [
    "X_imput['Age'] = X_imput['Age'].apply(lambda x: round(x))\n",
    "X_imput"
   ]
  },
  {
   "cell_type": "markdown",
   "id": "9ef3f726-e811-49f2-a492-0ad6f63a1280",
   "metadata": {},
   "source": [
    "Fazendo uma última checagem e podemos checar que não existem mais dados faltantes na nossa base."
   ]
  },
  {
   "cell_type": "code",
   "execution_count": 17,
   "id": "ef999cc7-352d-4225-803e-bb787abc64b1",
   "metadata": {},
   "outputs": [
    {
     "data": {
      "text/plain": [
       "0"
      ]
     },
     "execution_count": 17,
     "metadata": {},
     "output_type": "execute_result"
    }
   ],
   "source": [
    "X_imput.isnull().sum().sum()"
   ]
  },
  {
   "cell_type": "markdown",
   "id": "186d5db3-98f7-40a0-8e30-a28de65b028d",
   "metadata": {},
   "source": [
    "## Convertendo os atributos categóricos em atributos numéricos"
   ]
  },
  {
   "cell_type": "markdown",
   "id": "ed882909-3fc4-46d6-ae26-443b3f6d30ef",
   "metadata": {},
   "source": [
    "Como podemos observar temos algumas colunas (*Sex*, *Embarked*, *Cabin* e *Ticket*) que contém valores categóricos, porém esses valores não podem assumir valores numéricos, e consequentemente ser representados em espaço euclidiano de características. Com isso, torna-se impossível para alguns classificadores trabalharem com bases com colunas do tipo categóricas."
   ]
  },
  {
   "cell_type": "code",
   "execution_count": 18,
   "id": "861204cf-135f-4cb1-9cba-7f49d12ec415",
   "metadata": {},
   "outputs": [
    {
     "data": {
      "text/html": [
       "<div>\n",
       "<style scoped>\n",
       "    .dataframe tbody tr th:only-of-type {\n",
       "        vertical-align: middle;\n",
       "    }\n",
       "\n",
       "    .dataframe tbody tr th {\n",
       "        vertical-align: top;\n",
       "    }\n",
       "\n",
       "    .dataframe thead th {\n",
       "        text-align: right;\n",
       "    }\n",
       "</style>\n",
       "<table border=\"1\" class=\"dataframe\">\n",
       "  <thead>\n",
       "    <tr style=\"text-align: right;\">\n",
       "      <th></th>\n",
       "      <th>Age</th>\n",
       "      <th>Cabin</th>\n",
       "      <th>Pclass</th>\n",
       "      <th>Sex</th>\n",
       "      <th>SibSp</th>\n",
       "      <th>Parch</th>\n",
       "      <th>Ticket</th>\n",
       "      <th>Fare</th>\n",
       "      <th>Embarked</th>\n",
       "    </tr>\n",
       "  </thead>\n",
       "  <tbody>\n",
       "    <tr>\n",
       "      <th>0</th>\n",
       "      <td>22</td>\n",
       "      <td>Unknown</td>\n",
       "      <td>3</td>\n",
       "      <td>male</td>\n",
       "      <td>1</td>\n",
       "      <td>0</td>\n",
       "      <td>A/5 21171</td>\n",
       "      <td>7.25</td>\n",
       "      <td>S</td>\n",
       "    </tr>\n",
       "    <tr>\n",
       "      <th>1</th>\n",
       "      <td>38</td>\n",
       "      <td>Known</td>\n",
       "      <td>1</td>\n",
       "      <td>female</td>\n",
       "      <td>1</td>\n",
       "      <td>0</td>\n",
       "      <td>PC 17599</td>\n",
       "      <td>71.2833</td>\n",
       "      <td>C</td>\n",
       "    </tr>\n",
       "  </tbody>\n",
       "</table>\n",
       "</div>"
      ],
      "text/plain": [
       "   Age    Cabin Pclass     Sex SibSp Parch     Ticket     Fare Embarked\n",
       "0   22  Unknown      3    male     1     0  A/5 21171     7.25        S\n",
       "1   38    Known      1  female     1     0   PC 17599  71.2833        C"
      ]
     },
     "execution_count": 18,
     "metadata": {},
     "output_type": "execute_result"
    }
   ],
   "source": [
    "X_imput.head(2)"
   ]
  },
  {
   "cell_type": "markdown",
   "id": "c7f1566b-dc9c-4211-b867-4199ddd98784",
   "metadata": {},
   "source": [
    "Então, precisamos transformar esses atributos em numéricos. Como nenhuma dessas colunas, *Cabin*, *Sex*, *Ticket* e *Embarked*, possui alguma dependência de ordem entre seus valores não vamos utilizar a classificação ordinal em nenhuma delas. Com isso, para essas colunas vamos utilizamos o *One-Hot Encoding*, onde um '*atributo categórico com $n$ categorias é codificado em $n$ atributos binários*'.\n",
    "\n",
    "A escolha, por exemplo do coluna *Embarked* como *One-Hot Encoding*, é para evitar que os valores sejam sequenciais e vicie o classificador."
   ]
  },
  {
   "cell_type": "code",
   "execution_count": 19,
   "id": "66ad4124-d649-4e7e-b3a5-07d1ad338237",
   "metadata": {},
   "outputs": [
    {
     "data": {
      "text/plain": [
       "array([[0.0, 1.0, 0.0, ..., 1, 0, 7.25],\n",
       "       [1.0, 0.0, 1.0, ..., 1, 0, 71.2833],\n",
       "       [1.0, 0.0, 0.0, ..., 0, 0, 7.925],\n",
       "       ...,\n",
       "       [1.0, 0.0, 0.0, ..., 1, 2, 23.45],\n",
       "       [0.0, 1.0, 1.0, ..., 0, 0, 30.0],\n",
       "       [0.0, 1.0, 0.0, ..., 0, 0, 7.75]], dtype=object)"
      ]
     },
     "execution_count": 19,
     "metadata": {},
     "output_type": "execute_result"
    }
   ],
   "source": [
    "transformers = [\n",
    "    ('ohe_sex', OneHotEncoder(), ['Sex']),\n",
    "    ('ohe_embarked', OneHotEncoder(), ['Embarked']),\n",
    "    ('oe_cabin', OneHotEncoder(), ['Cabin']),\n",
    "    ('oe_ticket', OneHotEncoder(), ['Ticket'])\n",
    "]\n",
    "\n",
    "col_trans = ColumnTransformer(\n",
    "    transformers, remainder='passthrough', sparse_threshold=0\n",
    ")\n",
    "\n",
    "col_trans.fit(X_imput)\n",
    "X_trans = col_trans.transform(X_imput)\n",
    "X_trans"
   ]
  },
  {
   "cell_type": "markdown",
   "id": "bc724c25-086b-4fc9-be6e-851d9c31cf6d",
   "metadata": {},
   "source": [
    "Formato dos X antes e depois da tranformação. Podemos verificar que por causa da forma como o *One-Hot Encoding* trabalha, ele criou mais três colunas."
   ]
  },
  {
   "cell_type": "code",
   "execution_count": 20,
   "id": "01a9f905-455d-4f08-8808-799f2236e1e9",
   "metadata": {},
   "outputs": [
    {
     "data": {
      "text/plain": [
       "((889, 9), (889, 692))"
      ]
     },
     "execution_count": 20,
     "metadata": {},
     "output_type": "execute_result"
    }
   ],
   "source": [
    "X_imput.shape, X_trans.shape"
   ]
  },
  {
   "cell_type": "code",
   "execution_count": 21,
   "id": "750dbc8f-c0d3-47e6-905b-5a78317d9d2b",
   "metadata": {},
   "outputs": [
    {
     "data": {
      "text/html": [
       "<div>\n",
       "<style scoped>\n",
       "    .dataframe tbody tr th:only-of-type {\n",
       "        vertical-align: middle;\n",
       "    }\n",
       "\n",
       "    .dataframe tbody tr th {\n",
       "        vertical-align: top;\n",
       "    }\n",
       "\n",
       "    .dataframe thead th {\n",
       "        text-align: right;\n",
       "    }\n",
       "</style>\n",
       "<table border=\"1\" class=\"dataframe\">\n",
       "  <thead>\n",
       "    <tr style=\"text-align: right;\">\n",
       "      <th></th>\n",
       "      <th>ohe_sex__x0_female</th>\n",
       "      <th>ohe_sex__x0_male</th>\n",
       "      <th>ohe_embarked__x0_C</th>\n",
       "      <th>ohe_embarked__x0_Q</th>\n",
       "      <th>ohe_embarked__x0_S</th>\n",
       "      <th>oe_cabin__x0_Known</th>\n",
       "      <th>oe_cabin__x0_Unknown</th>\n",
       "      <th>oe_ticket__x0_110152</th>\n",
       "      <th>oe_ticket__x0_110413</th>\n",
       "      <th>oe_ticket__x0_110465</th>\n",
       "      <th>...</th>\n",
       "      <th>oe_ticket__x0_W./C. 6608</th>\n",
       "      <th>oe_ticket__x0_W./C. 6609</th>\n",
       "      <th>oe_ticket__x0_W.E.P. 5734</th>\n",
       "      <th>oe_ticket__x0_W/C 14208</th>\n",
       "      <th>oe_ticket__x0_WE/P 5735</th>\n",
       "      <th>Age</th>\n",
       "      <th>Pclass</th>\n",
       "      <th>SibSp</th>\n",
       "      <th>Parch</th>\n",
       "      <th>Fare</th>\n",
       "    </tr>\n",
       "  </thead>\n",
       "  <tbody>\n",
       "    <tr>\n",
       "      <th>0</th>\n",
       "      <td>0.0</td>\n",
       "      <td>1.0</td>\n",
       "      <td>0.0</td>\n",
       "      <td>0.0</td>\n",
       "      <td>1.0</td>\n",
       "      <td>0.0</td>\n",
       "      <td>1.0</td>\n",
       "      <td>0.0</td>\n",
       "      <td>0.0</td>\n",
       "      <td>0.0</td>\n",
       "      <td>...</td>\n",
       "      <td>0.0</td>\n",
       "      <td>0.0</td>\n",
       "      <td>0.0</td>\n",
       "      <td>0.0</td>\n",
       "      <td>0.0</td>\n",
       "      <td>22</td>\n",
       "      <td>3</td>\n",
       "      <td>1</td>\n",
       "      <td>0</td>\n",
       "      <td>7.25</td>\n",
       "    </tr>\n",
       "    <tr>\n",
       "      <th>1</th>\n",
       "      <td>1.0</td>\n",
       "      <td>0.0</td>\n",
       "      <td>1.0</td>\n",
       "      <td>0.0</td>\n",
       "      <td>0.0</td>\n",
       "      <td>1.0</td>\n",
       "      <td>0.0</td>\n",
       "      <td>0.0</td>\n",
       "      <td>0.0</td>\n",
       "      <td>0.0</td>\n",
       "      <td>...</td>\n",
       "      <td>0.0</td>\n",
       "      <td>0.0</td>\n",
       "      <td>0.0</td>\n",
       "      <td>0.0</td>\n",
       "      <td>0.0</td>\n",
       "      <td>38</td>\n",
       "      <td>1</td>\n",
       "      <td>1</td>\n",
       "      <td>0</td>\n",
       "      <td>71.2833</td>\n",
       "    </tr>\n",
       "    <tr>\n",
       "      <th>2</th>\n",
       "      <td>1.0</td>\n",
       "      <td>0.0</td>\n",
       "      <td>0.0</td>\n",
       "      <td>0.0</td>\n",
       "      <td>1.0</td>\n",
       "      <td>0.0</td>\n",
       "      <td>1.0</td>\n",
       "      <td>0.0</td>\n",
       "      <td>0.0</td>\n",
       "      <td>0.0</td>\n",
       "      <td>...</td>\n",
       "      <td>0.0</td>\n",
       "      <td>0.0</td>\n",
       "      <td>0.0</td>\n",
       "      <td>0.0</td>\n",
       "      <td>0.0</td>\n",
       "      <td>26</td>\n",
       "      <td>3</td>\n",
       "      <td>0</td>\n",
       "      <td>0</td>\n",
       "      <td>7.925</td>\n",
       "    </tr>\n",
       "    <tr>\n",
       "      <th>3</th>\n",
       "      <td>1.0</td>\n",
       "      <td>0.0</td>\n",
       "      <td>0.0</td>\n",
       "      <td>0.0</td>\n",
       "      <td>1.0</td>\n",
       "      <td>1.0</td>\n",
       "      <td>0.0</td>\n",
       "      <td>0.0</td>\n",
       "      <td>0.0</td>\n",
       "      <td>0.0</td>\n",
       "      <td>...</td>\n",
       "      <td>0.0</td>\n",
       "      <td>0.0</td>\n",
       "      <td>0.0</td>\n",
       "      <td>0.0</td>\n",
       "      <td>0.0</td>\n",
       "      <td>35</td>\n",
       "      <td>1</td>\n",
       "      <td>1</td>\n",
       "      <td>0</td>\n",
       "      <td>53.1</td>\n",
       "    </tr>\n",
       "    <tr>\n",
       "      <th>4</th>\n",
       "      <td>0.0</td>\n",
       "      <td>1.0</td>\n",
       "      <td>0.0</td>\n",
       "      <td>0.0</td>\n",
       "      <td>1.0</td>\n",
       "      <td>0.0</td>\n",
       "      <td>1.0</td>\n",
       "      <td>0.0</td>\n",
       "      <td>0.0</td>\n",
       "      <td>0.0</td>\n",
       "      <td>...</td>\n",
       "      <td>0.0</td>\n",
       "      <td>0.0</td>\n",
       "      <td>0.0</td>\n",
       "      <td>0.0</td>\n",
       "      <td>0.0</td>\n",
       "      <td>35</td>\n",
       "      <td>3</td>\n",
       "      <td>0</td>\n",
       "      <td>0</td>\n",
       "      <td>8.05</td>\n",
       "    </tr>\n",
       "    <tr>\n",
       "      <th>...</th>\n",
       "      <td>...</td>\n",
       "      <td>...</td>\n",
       "      <td>...</td>\n",
       "      <td>...</td>\n",
       "      <td>...</td>\n",
       "      <td>...</td>\n",
       "      <td>...</td>\n",
       "      <td>...</td>\n",
       "      <td>...</td>\n",
       "      <td>...</td>\n",
       "      <td>...</td>\n",
       "      <td>...</td>\n",
       "      <td>...</td>\n",
       "      <td>...</td>\n",
       "      <td>...</td>\n",
       "      <td>...</td>\n",
       "      <td>...</td>\n",
       "      <td>...</td>\n",
       "      <td>...</td>\n",
       "      <td>...</td>\n",
       "      <td>...</td>\n",
       "    </tr>\n",
       "    <tr>\n",
       "      <th>884</th>\n",
       "      <td>0.0</td>\n",
       "      <td>1.0</td>\n",
       "      <td>0.0</td>\n",
       "      <td>0.0</td>\n",
       "      <td>1.0</td>\n",
       "      <td>0.0</td>\n",
       "      <td>1.0</td>\n",
       "      <td>0.0</td>\n",
       "      <td>0.0</td>\n",
       "      <td>0.0</td>\n",
       "      <td>...</td>\n",
       "      <td>0.0</td>\n",
       "      <td>0.0</td>\n",
       "      <td>0.0</td>\n",
       "      <td>0.0</td>\n",
       "      <td>0.0</td>\n",
       "      <td>27</td>\n",
       "      <td>2</td>\n",
       "      <td>0</td>\n",
       "      <td>0</td>\n",
       "      <td>13.0</td>\n",
       "    </tr>\n",
       "    <tr>\n",
       "      <th>885</th>\n",
       "      <td>1.0</td>\n",
       "      <td>0.0</td>\n",
       "      <td>0.0</td>\n",
       "      <td>0.0</td>\n",
       "      <td>1.0</td>\n",
       "      <td>1.0</td>\n",
       "      <td>0.0</td>\n",
       "      <td>0.0</td>\n",
       "      <td>0.0</td>\n",
       "      <td>0.0</td>\n",
       "      <td>...</td>\n",
       "      <td>0.0</td>\n",
       "      <td>0.0</td>\n",
       "      <td>0.0</td>\n",
       "      <td>0.0</td>\n",
       "      <td>0.0</td>\n",
       "      <td>19</td>\n",
       "      <td>1</td>\n",
       "      <td>0</td>\n",
       "      <td>0</td>\n",
       "      <td>30.0</td>\n",
       "    </tr>\n",
       "    <tr>\n",
       "      <th>886</th>\n",
       "      <td>1.0</td>\n",
       "      <td>0.0</td>\n",
       "      <td>0.0</td>\n",
       "      <td>0.0</td>\n",
       "      <td>1.0</td>\n",
       "      <td>0.0</td>\n",
       "      <td>1.0</td>\n",
       "      <td>0.0</td>\n",
       "      <td>0.0</td>\n",
       "      <td>0.0</td>\n",
       "      <td>...</td>\n",
       "      <td>0.0</td>\n",
       "      <td>0.0</td>\n",
       "      <td>0.0</td>\n",
       "      <td>0.0</td>\n",
       "      <td>0.0</td>\n",
       "      <td>30</td>\n",
       "      <td>3</td>\n",
       "      <td>1</td>\n",
       "      <td>2</td>\n",
       "      <td>23.45</td>\n",
       "    </tr>\n",
       "    <tr>\n",
       "      <th>887</th>\n",
       "      <td>0.0</td>\n",
       "      <td>1.0</td>\n",
       "      <td>1.0</td>\n",
       "      <td>0.0</td>\n",
       "      <td>0.0</td>\n",
       "      <td>1.0</td>\n",
       "      <td>0.0</td>\n",
       "      <td>0.0</td>\n",
       "      <td>0.0</td>\n",
       "      <td>0.0</td>\n",
       "      <td>...</td>\n",
       "      <td>0.0</td>\n",
       "      <td>0.0</td>\n",
       "      <td>0.0</td>\n",
       "      <td>0.0</td>\n",
       "      <td>0.0</td>\n",
       "      <td>26</td>\n",
       "      <td>1</td>\n",
       "      <td>0</td>\n",
       "      <td>0</td>\n",
       "      <td>30.0</td>\n",
       "    </tr>\n",
       "    <tr>\n",
       "      <th>888</th>\n",
       "      <td>0.0</td>\n",
       "      <td>1.0</td>\n",
       "      <td>0.0</td>\n",
       "      <td>1.0</td>\n",
       "      <td>0.0</td>\n",
       "      <td>0.0</td>\n",
       "      <td>1.0</td>\n",
       "      <td>0.0</td>\n",
       "      <td>0.0</td>\n",
       "      <td>0.0</td>\n",
       "      <td>...</td>\n",
       "      <td>0.0</td>\n",
       "      <td>0.0</td>\n",
       "      <td>0.0</td>\n",
       "      <td>0.0</td>\n",
       "      <td>0.0</td>\n",
       "      <td>32</td>\n",
       "      <td>3</td>\n",
       "      <td>0</td>\n",
       "      <td>0</td>\n",
       "      <td>7.75</td>\n",
       "    </tr>\n",
       "  </tbody>\n",
       "</table>\n",
       "<p>889 rows × 692 columns</p>\n",
       "</div>"
      ],
      "text/plain": [
       "    ohe_sex__x0_female ohe_sex__x0_male ohe_embarked__x0_C ohe_embarked__x0_Q  \\\n",
       "0                  0.0              1.0                0.0                0.0   \n",
       "1                  1.0              0.0                1.0                0.0   \n",
       "2                  1.0              0.0                0.0                0.0   \n",
       "3                  1.0              0.0                0.0                0.0   \n",
       "4                  0.0              1.0                0.0                0.0   \n",
       "..                 ...              ...                ...                ...   \n",
       "884                0.0              1.0                0.0                0.0   \n",
       "885                1.0              0.0                0.0                0.0   \n",
       "886                1.0              0.0                0.0                0.0   \n",
       "887                0.0              1.0                1.0                0.0   \n",
       "888                0.0              1.0                0.0                1.0   \n",
       "\n",
       "    ohe_embarked__x0_S oe_cabin__x0_Known oe_cabin__x0_Unknown  \\\n",
       "0                  1.0                0.0                  1.0   \n",
       "1                  0.0                1.0                  0.0   \n",
       "2                  1.0                0.0                  1.0   \n",
       "3                  1.0                1.0                  0.0   \n",
       "4                  1.0                0.0                  1.0   \n",
       "..                 ...                ...                  ...   \n",
       "884                1.0                0.0                  1.0   \n",
       "885                1.0                1.0                  0.0   \n",
       "886                1.0                0.0                  1.0   \n",
       "887                0.0                1.0                  0.0   \n",
       "888                0.0                0.0                  1.0   \n",
       "\n",
       "    oe_ticket__x0_110152 oe_ticket__x0_110413 oe_ticket__x0_110465  ...  \\\n",
       "0                    0.0                  0.0                  0.0  ...   \n",
       "1                    0.0                  0.0                  0.0  ...   \n",
       "2                    0.0                  0.0                  0.0  ...   \n",
       "3                    0.0                  0.0                  0.0  ...   \n",
       "4                    0.0                  0.0                  0.0  ...   \n",
       "..                   ...                  ...                  ...  ...   \n",
       "884                  0.0                  0.0                  0.0  ...   \n",
       "885                  0.0                  0.0                  0.0  ...   \n",
       "886                  0.0                  0.0                  0.0  ...   \n",
       "887                  0.0                  0.0                  0.0  ...   \n",
       "888                  0.0                  0.0                  0.0  ...   \n",
       "\n",
       "    oe_ticket__x0_W./C. 6608 oe_ticket__x0_W./C. 6609  \\\n",
       "0                        0.0                      0.0   \n",
       "1                        0.0                      0.0   \n",
       "2                        0.0                      0.0   \n",
       "3                        0.0                      0.0   \n",
       "4                        0.0                      0.0   \n",
       "..                       ...                      ...   \n",
       "884                      0.0                      0.0   \n",
       "885                      0.0                      0.0   \n",
       "886                      0.0                      0.0   \n",
       "887                      0.0                      0.0   \n",
       "888                      0.0                      0.0   \n",
       "\n",
       "    oe_ticket__x0_W.E.P. 5734 oe_ticket__x0_W/C 14208 oe_ticket__x0_WE/P 5735  \\\n",
       "0                         0.0                     0.0                     0.0   \n",
       "1                         0.0                     0.0                     0.0   \n",
       "2                         0.0                     0.0                     0.0   \n",
       "3                         0.0                     0.0                     0.0   \n",
       "4                         0.0                     0.0                     0.0   \n",
       "..                        ...                     ...                     ...   \n",
       "884                       0.0                     0.0                     0.0   \n",
       "885                       0.0                     0.0                     0.0   \n",
       "886                       0.0                     0.0                     0.0   \n",
       "887                       0.0                     0.0                     0.0   \n",
       "888                       0.0                     0.0                     0.0   \n",
       "\n",
       "    Age Pclass SibSp Parch     Fare  \n",
       "0    22      3     1     0     7.25  \n",
       "1    38      1     1     0  71.2833  \n",
       "2    26      3     0     0    7.925  \n",
       "3    35      1     1     0     53.1  \n",
       "4    35      3     0     0     8.05  \n",
       "..   ..    ...   ...   ...      ...  \n",
       "884  27      2     0     0     13.0  \n",
       "885  19      1     0     0     30.0  \n",
       "886  30      3     1     2    23.45  \n",
       "887  26      1     0     0     30.0  \n",
       "888  32      3     0     0     7.75  \n",
       "\n",
       "[889 rows x 692 columns]"
      ]
     },
     "execution_count": 21,
     "metadata": {},
     "output_type": "execute_result"
    }
   ],
   "source": [
    "X_trans = pd.DataFrame(X_trans, columns=col_trans.get_feature_names())\n",
    "X_trans"
   ]
  },
  {
   "cell_type": "markdown",
   "id": "d22df9b1-ed55-43aa-8dd7-b26ea48d4a36",
   "metadata": {},
   "source": [
    "## Explorando a base de dados"
   ]
  },
  {
   "cell_type": "markdown",
   "id": "4197cd28-9ce7-4821-b90e-b24d37798354",
   "metadata": {},
   "source": [
    "Vamos averiguar os dados com que estamos trabalhando, para isso vamos gerar 3 tabelas: a inicial, a que foi feita a limpeza dos dados faltantes e a que foi transformada, respectivamente, nessa ordem."
   ]
  },
  {
   "cell_type": "code",
   "execution_count": 22,
   "id": "9c6caf84-9b42-463a-a2e0-2d8910a3263c",
   "metadata": {},
   "outputs": [
    {
     "data": {
      "text/html": [
       "<div>\n",
       "<style scoped>\n",
       "    .dataframe tbody tr th:only-of-type {\n",
       "        vertical-align: middle;\n",
       "    }\n",
       "\n",
       "    .dataframe tbody tr th {\n",
       "        vertical-align: top;\n",
       "    }\n",
       "\n",
       "    .dataframe thead th {\n",
       "        text-align: right;\n",
       "    }\n",
       "</style>\n",
       "<table border=\"1\" class=\"dataframe\">\n",
       "  <thead>\n",
       "    <tr style=\"text-align: right;\">\n",
       "      <th></th>\n",
       "      <th>PassengerId</th>\n",
       "      <th>Survived</th>\n",
       "      <th>Pclass</th>\n",
       "      <th>Name</th>\n",
       "      <th>Sex</th>\n",
       "      <th>Age</th>\n",
       "      <th>SibSp</th>\n",
       "      <th>Parch</th>\n",
       "      <th>Ticket</th>\n",
       "      <th>Fare</th>\n",
       "      <th>Cabin</th>\n",
       "      <th>Embarked</th>\n",
       "    </tr>\n",
       "  </thead>\n",
       "  <tbody>\n",
       "    <tr>\n",
       "      <th>0</th>\n",
       "      <td>1</td>\n",
       "      <td>0</td>\n",
       "      <td>3</td>\n",
       "      <td>Braund, Mr. Owen Harris</td>\n",
       "      <td>male</td>\n",
       "      <td>22.0</td>\n",
       "      <td>1</td>\n",
       "      <td>0</td>\n",
       "      <td>A/5 21171</td>\n",
       "      <td>7.2500</td>\n",
       "      <td>NaN</td>\n",
       "      <td>S</td>\n",
       "    </tr>\n",
       "    <tr>\n",
       "      <th>1</th>\n",
       "      <td>2</td>\n",
       "      <td>1</td>\n",
       "      <td>1</td>\n",
       "      <td>Cumings, Mrs. John Bradley (Florence Briggs Th...</td>\n",
       "      <td>female</td>\n",
       "      <td>38.0</td>\n",
       "      <td>1</td>\n",
       "      <td>0</td>\n",
       "      <td>PC 17599</td>\n",
       "      <td>71.2833</td>\n",
       "      <td>C85</td>\n",
       "      <td>C</td>\n",
       "    </tr>\n",
       "  </tbody>\n",
       "</table>\n",
       "</div>"
      ],
      "text/plain": [
       "   PassengerId  Survived  Pclass  \\\n",
       "0            1         0       3   \n",
       "1            2         1       1   \n",
       "\n",
       "                                                Name     Sex   Age  SibSp  \\\n",
       "0                            Braund, Mr. Owen Harris    male  22.0      1   \n",
       "1  Cumings, Mrs. John Bradley (Florence Briggs Th...  female  38.0      1   \n",
       "\n",
       "   Parch     Ticket     Fare Cabin Embarked  \n",
       "0      0  A/5 21171   7.2500   NaN        S  \n",
       "1      0   PC 17599  71.2833   C85        C  "
      ]
     },
     "execution_count": 22,
     "metadata": {},
     "output_type": "execute_result"
    }
   ],
   "source": [
    "df_train.head(2)"
   ]
  },
  {
   "cell_type": "code",
   "execution_count": 23,
   "id": "a56810b0-1ae7-488d-b1e1-74c0f661091d",
   "metadata": {},
   "outputs": [
    {
     "data": {
      "text/html": [
       "<div>\n",
       "<style scoped>\n",
       "    .dataframe tbody tr th:only-of-type {\n",
       "        vertical-align: middle;\n",
       "    }\n",
       "\n",
       "    .dataframe tbody tr th {\n",
       "        vertical-align: top;\n",
       "    }\n",
       "\n",
       "    .dataframe thead th {\n",
       "        text-align: right;\n",
       "    }\n",
       "</style>\n",
       "<table border=\"1\" class=\"dataframe\">\n",
       "  <thead>\n",
       "    <tr style=\"text-align: right;\">\n",
       "      <th></th>\n",
       "      <th>Age</th>\n",
       "      <th>Cabin</th>\n",
       "      <th>Pclass</th>\n",
       "      <th>Sex</th>\n",
       "      <th>SibSp</th>\n",
       "      <th>Parch</th>\n",
       "      <th>Ticket</th>\n",
       "      <th>Fare</th>\n",
       "      <th>Embarked</th>\n",
       "    </tr>\n",
       "  </thead>\n",
       "  <tbody>\n",
       "    <tr>\n",
       "      <th>0</th>\n",
       "      <td>22</td>\n",
       "      <td>Unknown</td>\n",
       "      <td>3</td>\n",
       "      <td>male</td>\n",
       "      <td>1</td>\n",
       "      <td>0</td>\n",
       "      <td>A/5 21171</td>\n",
       "      <td>7.25</td>\n",
       "      <td>S</td>\n",
       "    </tr>\n",
       "    <tr>\n",
       "      <th>1</th>\n",
       "      <td>38</td>\n",
       "      <td>Known</td>\n",
       "      <td>1</td>\n",
       "      <td>female</td>\n",
       "      <td>1</td>\n",
       "      <td>0</td>\n",
       "      <td>PC 17599</td>\n",
       "      <td>71.2833</td>\n",
       "      <td>C</td>\n",
       "    </tr>\n",
       "  </tbody>\n",
       "</table>\n",
       "</div>"
      ],
      "text/plain": [
       "   Age    Cabin Pclass     Sex SibSp Parch     Ticket     Fare Embarked\n",
       "0   22  Unknown      3    male     1     0  A/5 21171     7.25        S\n",
       "1   38    Known      1  female     1     0   PC 17599  71.2833        C"
      ]
     },
     "execution_count": 23,
     "metadata": {},
     "output_type": "execute_result"
    }
   ],
   "source": [
    "X_imput.head(2)"
   ]
  },
  {
   "cell_type": "code",
   "execution_count": 24,
   "id": "9a5a7c12-cafd-4ad4-ac00-5d1dab184e00",
   "metadata": {},
   "outputs": [
    {
     "data": {
      "text/html": [
       "<div>\n",
       "<style scoped>\n",
       "    .dataframe tbody tr th:only-of-type {\n",
       "        vertical-align: middle;\n",
       "    }\n",
       "\n",
       "    .dataframe tbody tr th {\n",
       "        vertical-align: top;\n",
       "    }\n",
       "\n",
       "    .dataframe thead th {\n",
       "        text-align: right;\n",
       "    }\n",
       "</style>\n",
       "<table border=\"1\" class=\"dataframe\">\n",
       "  <thead>\n",
       "    <tr style=\"text-align: right;\">\n",
       "      <th></th>\n",
       "      <th>ohe_sex__x0_female</th>\n",
       "      <th>ohe_sex__x0_male</th>\n",
       "      <th>ohe_embarked__x0_C</th>\n",
       "      <th>ohe_embarked__x0_Q</th>\n",
       "      <th>ohe_embarked__x0_S</th>\n",
       "      <th>oe_cabin__x0_Known</th>\n",
       "      <th>oe_cabin__x0_Unknown</th>\n",
       "      <th>oe_ticket__x0_110152</th>\n",
       "      <th>oe_ticket__x0_110413</th>\n",
       "      <th>oe_ticket__x0_110465</th>\n",
       "      <th>...</th>\n",
       "      <th>oe_ticket__x0_W./C. 6608</th>\n",
       "      <th>oe_ticket__x0_W./C. 6609</th>\n",
       "      <th>oe_ticket__x0_W.E.P. 5734</th>\n",
       "      <th>oe_ticket__x0_W/C 14208</th>\n",
       "      <th>oe_ticket__x0_WE/P 5735</th>\n",
       "      <th>Age</th>\n",
       "      <th>Pclass</th>\n",
       "      <th>SibSp</th>\n",
       "      <th>Parch</th>\n",
       "      <th>Fare</th>\n",
       "    </tr>\n",
       "  </thead>\n",
       "  <tbody>\n",
       "    <tr>\n",
       "      <th>0</th>\n",
       "      <td>0.0</td>\n",
       "      <td>1.0</td>\n",
       "      <td>0.0</td>\n",
       "      <td>0.0</td>\n",
       "      <td>1.0</td>\n",
       "      <td>0.0</td>\n",
       "      <td>1.0</td>\n",
       "      <td>0.0</td>\n",
       "      <td>0.0</td>\n",
       "      <td>0.0</td>\n",
       "      <td>...</td>\n",
       "      <td>0.0</td>\n",
       "      <td>0.0</td>\n",
       "      <td>0.0</td>\n",
       "      <td>0.0</td>\n",
       "      <td>0.0</td>\n",
       "      <td>22</td>\n",
       "      <td>3</td>\n",
       "      <td>1</td>\n",
       "      <td>0</td>\n",
       "      <td>7.25</td>\n",
       "    </tr>\n",
       "    <tr>\n",
       "      <th>1</th>\n",
       "      <td>1.0</td>\n",
       "      <td>0.0</td>\n",
       "      <td>1.0</td>\n",
       "      <td>0.0</td>\n",
       "      <td>0.0</td>\n",
       "      <td>1.0</td>\n",
       "      <td>0.0</td>\n",
       "      <td>0.0</td>\n",
       "      <td>0.0</td>\n",
       "      <td>0.0</td>\n",
       "      <td>...</td>\n",
       "      <td>0.0</td>\n",
       "      <td>0.0</td>\n",
       "      <td>0.0</td>\n",
       "      <td>0.0</td>\n",
       "      <td>0.0</td>\n",
       "      <td>38</td>\n",
       "      <td>1</td>\n",
       "      <td>1</td>\n",
       "      <td>0</td>\n",
       "      <td>71.2833</td>\n",
       "    </tr>\n",
       "  </tbody>\n",
       "</table>\n",
       "<p>2 rows × 692 columns</p>\n",
       "</div>"
      ],
      "text/plain": [
       "  ohe_sex__x0_female ohe_sex__x0_male ohe_embarked__x0_C ohe_embarked__x0_Q  \\\n",
       "0                0.0              1.0                0.0                0.0   \n",
       "1                1.0              0.0                1.0                0.0   \n",
       "\n",
       "  ohe_embarked__x0_S oe_cabin__x0_Known oe_cabin__x0_Unknown  \\\n",
       "0                1.0                0.0                  1.0   \n",
       "1                0.0                1.0                  0.0   \n",
       "\n",
       "  oe_ticket__x0_110152 oe_ticket__x0_110413 oe_ticket__x0_110465  ...  \\\n",
       "0                  0.0                  0.0                  0.0  ...   \n",
       "1                  0.0                  0.0                  0.0  ...   \n",
       "\n",
       "  oe_ticket__x0_W./C. 6608 oe_ticket__x0_W./C. 6609 oe_ticket__x0_W.E.P. 5734  \\\n",
       "0                      0.0                      0.0                       0.0   \n",
       "1                      0.0                      0.0                       0.0   \n",
       "\n",
       "  oe_ticket__x0_W/C 14208 oe_ticket__x0_WE/P 5735 Age Pclass SibSp Parch  \\\n",
       "0                     0.0                     0.0  22      3     1     0   \n",
       "1                     0.0                     0.0  38      1     1     0   \n",
       "\n",
       "      Fare  \n",
       "0     7.25  \n",
       "1  71.2833  \n",
       "\n",
       "[2 rows x 692 columns]"
      ]
     },
     "execution_count": 24,
     "metadata": {},
     "output_type": "execute_result"
    }
   ],
   "source": [
    "X_trans.head(2)"
   ]
  },
  {
   "cell_type": "markdown",
   "id": "fa99529e-78eb-4078-b11d-c430943cb51b",
   "metadata": {},
   "source": [
    "Podemos observar que o número de colunas mudou de 12 colunas para 9 e após a transformação se tornaram 692 colunas."
   ]
  },
  {
   "cell_type": "markdown",
   "id": "56b698ea-a8cf-4e94-a078-65c81c491894",
   "metadata": {},
   "source": [
    "### Vamos analisar como alguns dados estão distribuídos"
   ]
  },
  {
   "cell_type": "markdown",
   "id": "a52aec2b-4800-4290-b6f1-8ad57b99ad47",
   "metadata": {},
   "source": [
    "Para realizar a análise será utilizado os dados intermediários, ou seja, os dados que foram feitos a limpeza visto que possui o menor número de colunas, pois elas ainda estão agrupadas."
   ]
  },
  {
   "cell_type": "markdown",
   "id": "b5a9ed1d-30ae-4d85-a5b8-67f4617429ea",
   "metadata": {},
   "source": [
    "Analisando os *Ticket*s:"
   ]
  },
  {
   "cell_type": "code",
   "execution_count": 25,
   "id": "69e379a4-3007-4a3a-b521-a5d6b6baa794",
   "metadata": {},
   "outputs": [
    {
     "data": {
      "text/plain": [
       "347082      7\n",
       "CA. 2343    7\n",
       "1601        7\n",
       "3101295     6\n",
       "CA 2144     6\n",
       "           ..\n",
       "9234        1\n",
       "19988       1\n",
       "2693        1\n",
       "PC 17612    1\n",
       "370376      1\n",
       "Name: Ticket, Length: 680, dtype: int64"
      ]
     },
     "execution_count": 25,
     "metadata": {},
     "output_type": "execute_result"
    }
   ],
   "source": [
    "X_imput['Ticket'].value_counts()"
   ]
  },
  {
   "cell_type": "markdown",
   "id": "1b5bd8cc-3abb-49d6-8008-fe2c431d3561",
   "metadata": {},
   "source": [
    "Analisando os *Sex*s:"
   ]
  },
  {
   "cell_type": "code",
   "execution_count": 26,
   "id": "9999df39-7f60-44ed-98c0-4bd9cf9e9313",
   "metadata": {},
   "outputs": [
    {
     "data": {
      "text/plain": [
       "male      577\n",
       "female    312\n",
       "Name: Sex, dtype: int64"
      ]
     },
     "execution_count": 26,
     "metadata": {},
     "output_type": "execute_result"
    }
   ],
   "source": [
    "X_imput['Sex'].value_counts()"
   ]
  },
  {
   "cell_type": "markdown",
   "id": "fdfb5660-242a-419e-9403-5220fa24c820",
   "metadata": {},
   "source": [
    "Analisando os *Pclass*s:"
   ]
  },
  {
   "cell_type": "code",
   "execution_count": 27,
   "id": "418185c5-610c-4620-8389-29a7da203161",
   "metadata": {
    "tags": []
   },
   "outputs": [
    {
     "data": {
      "text/plain": [
       "3    491\n",
       "1    214\n",
       "2    184\n",
       "Name: Pclass, dtype: int64"
      ]
     },
     "execution_count": 27,
     "metadata": {},
     "output_type": "execute_result"
    }
   ],
   "source": [
    "X_imput['Pclass'].value_counts()"
   ]
  },
  {
   "cell_type": "markdown",
   "id": "a74de137-2682-4f45-8333-c72db9eea7c4",
   "metadata": {},
   "source": [
    "Vamos verificar o dados de saída."
   ]
  },
  {
   "cell_type": "markdown",
   "id": "18685c60-d894-43da-9ea8-54d4a11512cb",
   "metadata": {},
   "source": [
    "Analisando os *Survived*s:"
   ]
  },
  {
   "cell_type": "code",
   "execution_count": 28,
   "id": "baed7e2d-11e2-4565-83ea-b3a457cac1d6",
   "metadata": {},
   "outputs": [
    {
     "data": {
      "text/plain": [
       "0    549\n",
       "1    340\n",
       "Name: Survived, dtype: int64"
      ]
     },
     "execution_count": 28,
     "metadata": {},
     "output_type": "execute_result"
    }
   ],
   "source": [
    "# 0 = No, 1 = Yes\n",
    "Y_train['Survived'].value_counts()"
   ]
  },
  {
   "cell_type": "markdown",
   "id": "fe5ee67c-a9c7-4f63-9d6b-180926c4fe36",
   "metadata": {},
   "source": [
    "Agora, vamos averiguar o conjunto de dados iniciais (antes da transformação e divisão entre entradas e saídas)."
   ]
  },
  {
   "cell_type": "code",
   "execution_count": 29,
   "id": "fa1d5d56-8ae8-429b-97fd-81e3e2a54163",
   "metadata": {},
   "outputs": [
    {
     "data": {
      "text/plain": [
       "female    233\n",
       "male      109\n",
       "Name: Sex, dtype: int64"
      ]
     },
     "execution_count": 29,
     "metadata": {},
     "output_type": "execute_result"
    }
   ],
   "source": [
    "df_train.loc[df_train['Survived'] == 1, 'Sex'].value_counts()"
   ]
  },
  {
   "cell_type": "code",
   "execution_count": 30,
   "id": "dbf45cf3-fb6c-4911-bc43-3792ae8f43aa",
   "metadata": {},
   "outputs": [
    {
     "data": {
      "text/plain": [
       "1    136\n",
       "3    119\n",
       "2     87\n",
       "Name: Pclass, dtype: int64"
      ]
     },
     "execution_count": 30,
     "metadata": {},
     "output_type": "execute_result"
    }
   ],
   "source": [
    "df_train.loc[df_train['Survived'] == 1, 'Pclass'].value_counts()"
   ]
  },
  {
   "cell_type": "code",
   "execution_count": 31,
   "id": "3c2cffd7-7fc7-4551-80e5-658a59ab23a6",
   "metadata": {},
   "outputs": [
    {
     "data": {
      "text/plain": [
       "3    144\n",
       "1     94\n",
       "2     76\n",
       "Name: Pclass, dtype: int64"
      ]
     },
     "execution_count": 31,
     "metadata": {},
     "output_type": "execute_result"
    }
   ],
   "source": [
    "df_train.loc[df_train['Sex'] == 'female', 'Pclass'].value_counts()"
   ]
  },
  {
   "cell_type": "markdown",
   "id": "fa311014-576a-42be-a8d7-5034a9ece5b9",
   "metadata": {},
   "source": [
    "Podemos inferir com base na análise acima que, morreu mais pessoas do que sobreviveu, e as pessoas do sexo feminino estavam em menor quantidade, porém foram o gênero que mais sobreviveu, e maioria delas estavam na terceira classe."
   ]
  },
  {
   "cell_type": "code",
   "execution_count": 32,
   "id": "6bd2f9ee-fd2a-43f2-9d59-81cecc14d72b",
   "metadata": {},
   "outputs": [
    {
     "data": {
      "text/html": [
       "<div>\n",
       "<style scoped>\n",
       "    .dataframe tbody tr th:only-of-type {\n",
       "        vertical-align: middle;\n",
       "    }\n",
       "\n",
       "    .dataframe tbody tr th {\n",
       "        vertical-align: top;\n",
       "    }\n",
       "\n",
       "    .dataframe thead th {\n",
       "        text-align: right;\n",
       "    }\n",
       "</style>\n",
       "<table border=\"1\" class=\"dataframe\">\n",
       "  <thead>\n",
       "    <tr style=\"text-align: right;\">\n",
       "      <th></th>\n",
       "      <th>Age</th>\n",
       "      <th>Cabin</th>\n",
       "      <th>Pclass</th>\n",
       "      <th>Sex</th>\n",
       "      <th>SibSp</th>\n",
       "      <th>Parch</th>\n",
       "      <th>Ticket</th>\n",
       "      <th>Fare</th>\n",
       "      <th>Embarked</th>\n",
       "      <th>Survived</th>\n",
       "    </tr>\n",
       "  </thead>\n",
       "  <tbody>\n",
       "    <tr>\n",
       "      <th>0</th>\n",
       "      <td>22</td>\n",
       "      <td>Unknown</td>\n",
       "      <td>3</td>\n",
       "      <td>male</td>\n",
       "      <td>1</td>\n",
       "      <td>0</td>\n",
       "      <td>A/5 21171</td>\n",
       "      <td>7.25</td>\n",
       "      <td>S</td>\n",
       "      <td>No</td>\n",
       "    </tr>\n",
       "    <tr>\n",
       "      <th>1</th>\n",
       "      <td>38</td>\n",
       "      <td>Known</td>\n",
       "      <td>1</td>\n",
       "      <td>female</td>\n",
       "      <td>1</td>\n",
       "      <td>0</td>\n",
       "      <td>PC 17599</td>\n",
       "      <td>71.2833</td>\n",
       "      <td>C</td>\n",
       "      <td>Yes</td>\n",
       "    </tr>\n",
       "    <tr>\n",
       "      <th>2</th>\n",
       "      <td>26</td>\n",
       "      <td>Unknown</td>\n",
       "      <td>3</td>\n",
       "      <td>female</td>\n",
       "      <td>0</td>\n",
       "      <td>0</td>\n",
       "      <td>STON/O2. 3101282</td>\n",
       "      <td>7.925</td>\n",
       "      <td>S</td>\n",
       "      <td>Yes</td>\n",
       "    </tr>\n",
       "    <tr>\n",
       "      <th>3</th>\n",
       "      <td>35</td>\n",
       "      <td>Known</td>\n",
       "      <td>1</td>\n",
       "      <td>female</td>\n",
       "      <td>1</td>\n",
       "      <td>0</td>\n",
       "      <td>113803</td>\n",
       "      <td>53.1</td>\n",
       "      <td>S</td>\n",
       "      <td>Yes</td>\n",
       "    </tr>\n",
       "    <tr>\n",
       "      <th>4</th>\n",
       "      <td>35</td>\n",
       "      <td>Unknown</td>\n",
       "      <td>3</td>\n",
       "      <td>male</td>\n",
       "      <td>0</td>\n",
       "      <td>0</td>\n",
       "      <td>373450</td>\n",
       "      <td>8.05</td>\n",
       "      <td>S</td>\n",
       "      <td>No</td>\n",
       "    </tr>\n",
       "    <tr>\n",
       "      <th>...</th>\n",
       "      <td>...</td>\n",
       "      <td>...</td>\n",
       "      <td>...</td>\n",
       "      <td>...</td>\n",
       "      <td>...</td>\n",
       "      <td>...</td>\n",
       "      <td>...</td>\n",
       "      <td>...</td>\n",
       "      <td>...</td>\n",
       "      <td>...</td>\n",
       "    </tr>\n",
       "    <tr>\n",
       "      <th>884</th>\n",
       "      <td>27</td>\n",
       "      <td>Unknown</td>\n",
       "      <td>2</td>\n",
       "      <td>male</td>\n",
       "      <td>0</td>\n",
       "      <td>0</td>\n",
       "      <td>211536</td>\n",
       "      <td>13.0</td>\n",
       "      <td>S</td>\n",
       "      <td>No</td>\n",
       "    </tr>\n",
       "    <tr>\n",
       "      <th>885</th>\n",
       "      <td>19</td>\n",
       "      <td>Known</td>\n",
       "      <td>1</td>\n",
       "      <td>female</td>\n",
       "      <td>0</td>\n",
       "      <td>0</td>\n",
       "      <td>112053</td>\n",
       "      <td>30.0</td>\n",
       "      <td>S</td>\n",
       "      <td>No</td>\n",
       "    </tr>\n",
       "    <tr>\n",
       "      <th>886</th>\n",
       "      <td>30</td>\n",
       "      <td>Unknown</td>\n",
       "      <td>3</td>\n",
       "      <td>female</td>\n",
       "      <td>1</td>\n",
       "      <td>2</td>\n",
       "      <td>W./C. 6607</td>\n",
       "      <td>23.45</td>\n",
       "      <td>S</td>\n",
       "      <td>No</td>\n",
       "    </tr>\n",
       "    <tr>\n",
       "      <th>887</th>\n",
       "      <td>26</td>\n",
       "      <td>Known</td>\n",
       "      <td>1</td>\n",
       "      <td>male</td>\n",
       "      <td>0</td>\n",
       "      <td>0</td>\n",
       "      <td>111369</td>\n",
       "      <td>30.0</td>\n",
       "      <td>C</td>\n",
       "      <td>Yes</td>\n",
       "    </tr>\n",
       "    <tr>\n",
       "      <th>888</th>\n",
       "      <td>32</td>\n",
       "      <td>Unknown</td>\n",
       "      <td>3</td>\n",
       "      <td>male</td>\n",
       "      <td>0</td>\n",
       "      <td>0</td>\n",
       "      <td>370376</td>\n",
       "      <td>7.75</td>\n",
       "      <td>Q</td>\n",
       "      <td>No</td>\n",
       "    </tr>\n",
       "  </tbody>\n",
       "</table>\n",
       "<p>889 rows × 10 columns</p>\n",
       "</div>"
      ],
      "text/plain": [
       "     Age    Cabin Pclass     Sex SibSp Parch            Ticket     Fare  \\\n",
       "0     22  Unknown      3    male     1     0         A/5 21171     7.25   \n",
       "1     38    Known      1  female     1     0          PC 17599  71.2833   \n",
       "2     26  Unknown      3  female     0     0  STON/O2. 3101282    7.925   \n",
       "3     35    Known      1  female     1     0            113803     53.1   \n",
       "4     35  Unknown      3    male     0     0            373450     8.05   \n",
       "..   ...      ...    ...     ...   ...   ...               ...      ...   \n",
       "884   27  Unknown      2    male     0     0            211536     13.0   \n",
       "885   19    Known      1  female     0     0            112053     30.0   \n",
       "886   30  Unknown      3  female     1     2        W./C. 6607    23.45   \n",
       "887   26    Known      1    male     0     0            111369     30.0   \n",
       "888   32  Unknown      3    male     0     0            370376     7.75   \n",
       "\n",
       "    Embarked Survived  \n",
       "0          S       No  \n",
       "1          C      Yes  \n",
       "2          S      Yes  \n",
       "3          S      Yes  \n",
       "4          S       No  \n",
       "..       ...      ...  \n",
       "884        S       No  \n",
       "885        S       No  \n",
       "886        S       No  \n",
       "887        C      Yes  \n",
       "888        Q       No  \n",
       "\n",
       "[889 rows x 10 columns]"
      ]
     },
     "execution_count": 32,
     "metadata": {},
     "output_type": "execute_result"
    }
   ],
   "source": [
    "new_df = X_imput\n",
    "new_df['Survived'] = Y_train\n",
    "new_df['Survived'] = new_df['Survived'].apply(lambda x: 'Yes' if x == 1 else 'No')\n",
    "new_df"
   ]
  },
  {
   "cell_type": "markdown",
   "id": "b2214d42-3e0a-4efe-8007-80ac3eebff29",
   "metadata": {},
   "source": [
    "Convertendo alguns valores de objeto para flutuante. Para podermos analisar algumas métricas."
   ]
  },
  {
   "cell_type": "code",
   "execution_count": 33,
   "id": "709c0fe8-6081-441d-8625-a7f773063870",
   "metadata": {},
   "outputs": [
    {
     "name": "stdout",
     "output_type": "stream",
     "text": [
      "Survived              No         Yes\n",
      "Age    count  550.000000  339.000000\n",
      "       mean    29.649091   29.805310\n",
      "       std     13.075323   12.808922\n",
      "       min      1.000000    0.000000\n",
      "       25%     22.000000   22.000000\n",
      "       50%     30.000000   30.000000\n",
      "       75%     35.000000   35.000000\n",
      "       max     80.000000   74.000000\n",
      "Pclass count  550.000000  339.000000\n",
      "       mean     2.325455    2.289086\n",
      "       std      0.817326    0.862893\n",
      "       min      1.000000    1.000000\n",
      "       25%      2.000000    1.000000\n",
      "       50%      3.000000    3.000000\n",
      "       75%      3.000000    3.000000\n",
      "       max      3.000000    3.000000\n",
      "SibSp  count  550.000000  339.000000\n",
      "       mean     0.592727    0.412979\n",
      "       std      1.230140    0.849962\n",
      "       min      0.000000    0.000000\n",
      "       25%      0.000000    0.000000\n",
      "       50%      0.000000    0.000000\n",
      "       75%      1.000000    1.000000\n",
      "       max      8.000000    8.000000\n",
      "Parch  count  550.000000  339.000000\n",
      "       mean     0.389091    0.371681\n",
      "       std      0.778507    0.851675\n",
      "       min      0.000000    0.000000\n",
      "       25%      0.000000    0.000000\n",
      "       50%      0.000000    0.000000\n",
      "       75%      0.000000    0.000000\n",
      "       max      5.000000    6.000000\n",
      "Fare   count  550.000000  339.000000\n",
      "       mean    31.771605   32.624090\n",
      "       std     49.305851   50.395226\n",
      "       min      0.000000    0.000000\n",
      "       25%      7.925000    7.895800\n",
      "       50%     14.456250   14.400000\n",
      "       75%     31.275000   30.035400\n",
      "       max    512.329200  512.329200\n"
     ]
    }
   ],
   "source": [
    "cols_conv = ['Pclass', 'SibSp', 'Parch', 'Fare']\n",
    "\n",
    "for col in cols_conv:\n",
    "    new_df[col] = pd.to_numeric(new_df[col], errors = 'coerce')\n",
    "\n",
    "print(new_df.groupby('Survived').describe().transpose().to_string())"
   ]
  },
  {
   "cell_type": "markdown",
   "id": "1c8b39ec-de02-4ea7-883c-6e2b469cac6a",
   "metadata": {},
   "source": [
    "Como pela transformação foi gerada mais de 600 colunas seria muito custoso gerar um gráfico de pares, visto que geraria muitas combinações. \n",
    "\n",
    "Porém, vamos utilizar a fase intermediária para isso, os dados da fase de limpeza. Contudo, vamos eliminar as colunas que são categóricas, o objetivo é apenas ter uma visão de como os dados se relacionam."
   ]
  },
  {
   "cell_type": "code",
   "execution_count": 34,
   "id": "67908378-24c3-4ab0-a58d-d2dfb8f3e101",
   "metadata": {},
   "outputs": [
    {
     "data": {
      "text/plain": [
       "<seaborn.axisgrid.PairGrid at 0x7f83017922e0>"
      ]
     },
     "execution_count": 34,
     "metadata": {},
     "output_type": "execute_result"
    },
    {
     "data": {
      "image/png": "[encoded data removed]",
      "text/plain": [
       "<Figure size 1132x1080 with 42 Axes>"
      ]
     },
     "metadata": {
      "needs_background": "light"
     },
     "output_type": "display_data"
    }
   ],
   "source": [
    "new_df = new_df.drop(columns=['Cabin', 'Ticket', 'Embarked'])\n",
    "new_df['Sex'] = new_df['Sex'].apply(lambda x: 1 if x == 'female' else 0)\n",
    "sns.pairplot(new_df, hue='Survived')"
   ]
  },
  {
   "cell_type": "markdown",
   "id": "7d40dc01-9e37-4c2a-b53a-1cea79849429",
   "metadata": {},
   "source": [
    "## Normalizando os dados"
   ]
  },
  {
   "cell_type": "markdown",
   "id": "e1a80039-bf37-4a89-9d6c-3c93f12c78c3",
   "metadata": {},
   "source": [
    "Nesta fase vamos deixar os dados em uma mesma escala, para evitar que os valores tenham pesos desproporcionais. Porém, agora vamos volta a utilizar os dados que foram transformados."
   ]
  },
  {
   "cell_type": "markdown",
   "id": "8af07c1d-c098-4d43-8ca4-b8e934cd9fb4",
   "metadata": {},
   "source": [
    "Verificando a discrepância entre o valor máximo e mínimo."
   ]
  },
  {
   "cell_type": "code",
   "execution_count": 35,
   "id": "15348020-658f-4425-b6e7-6575ab46ebc9",
   "metadata": {},
   "outputs": [
    {
     "data": {
      "text/plain": [
       "(512.3292, 0.0)"
      ]
     },
     "execution_count": 35,
     "metadata": {},
     "output_type": "execute_result"
    }
   ],
   "source": [
    "np.max(X_trans.values), np.min(X_trans.values)"
   ]
  },
  {
   "cell_type": "markdown",
   "id": "2abc1028-d5d4-4658-ac80-4c08090bdd40",
   "metadata": {},
   "source": [
    "Para isso vamos utilizar a biblioteca *sklearn* do módulo *preprocessing*."
   ]
  },
  {
   "cell_type": "code",
   "execution_count": 36,
   "id": "c25f0096-53dd-4757-abf2-b60cda3e2156",
   "metadata": {},
   "outputs": [],
   "source": [
    "ss = StandardScaler()\n",
    "ss.fit(X_trans)\n",
    "X_ss = ss.transform(X_trans)"
   ]
  },
  {
   "cell_type": "code",
   "execution_count": 37,
   "id": "c671a730-c883-4f05-a786-6312be1e1ed2",
   "metadata": {},
   "outputs": [
    {
     "data": {
      "text/plain": [
       "(29.79932885150268, -2.292322083330364)"
      ]
     },
     "execution_count": 37,
     "metadata": {},
     "output_type": "execute_result"
    }
   ],
   "source": [
    "np.max(X_ss), np.min(X_ss)"
   ]
  },
  {
   "cell_type": "markdown",
   "id": "b5e0bef9-b712-4deb-bd41-ae4a8a637806",
   "metadata": {},
   "source": [
    "## Visualização com PCA - ***Principal Component Analysis***"
   ]
  },
  {
   "cell_type": "code",
   "execution_count": 38,
   "id": "35ce6639-6187-4a23-b778-d7d51267af4e",
   "metadata": {},
   "outputs": [
    {
     "data": {
      "text/plain": [
       "PCA(n_components=2)"
      ]
     },
     "execution_count": 38,
     "metadata": {},
     "output_type": "execute_result"
    }
   ],
   "source": [
    "pca = PCA(n_components=2)\n",
    "pca.fit(X_ss)"
   ]
  },
  {
   "cell_type": "code",
   "execution_count": 39,
   "id": "f7eabe95-54be-4f8b-bfdd-fefcb3b98954",
   "metadata": {},
   "outputs": [
    {
     "data": {
      "text/plain": [
       "array([[-1.91423869, -0.60046665],\n",
       "       [ 4.74564488,  0.79180932],\n",
       "       [-0.93356882,  1.55738959],\n",
       "       ...,\n",
       "       [-0.65432198,  2.60258466],\n",
       "       [ 3.3031313 , -1.96675393],\n",
       "       [-1.70239835, -0.25915587]])"
      ]
     },
     "execution_count": 39,
     "metadata": {},
     "output_type": "execute_result"
    }
   ],
   "source": [
    "X_pca = pca.transform(X_ss)\n",
    "X_pca"
   ]
  },
  {
   "cell_type": "code",
   "execution_count": 40,
   "id": "df196ac1-d24a-40ec-b3dc-2c01827b52b6",
   "metadata": {},
   "outputs": [
    {
     "data": {
      "text/plain": [
       "(889, 2)"
      ]
     },
     "execution_count": 40,
     "metadata": {},
     "output_type": "execute_result"
    }
   ],
   "source": [
    "X_pca.shape"
   ]
  },
  {
   "cell_type": "code",
   "execution_count": 41,
   "id": "8c3ef833-a4ab-482e-b5bb-ccb485ac0aed",
   "metadata": {},
   "outputs": [
    {
     "data": {
      "text/html": [
       "<div>\n",
       "<style scoped>\n",
       "    .dataframe tbody tr th:only-of-type {\n",
       "        vertical-align: middle;\n",
       "    }\n",
       "\n",
       "    .dataframe tbody tr th {\n",
       "        vertical-align: top;\n",
       "    }\n",
       "\n",
       "    .dataframe thead th {\n",
       "        text-align: right;\n",
       "    }\n",
       "</style>\n",
       "<table border=\"1\" class=\"dataframe\">\n",
       "  <thead>\n",
       "    <tr style=\"text-align: right;\">\n",
       "      <th></th>\n",
       "      <th>PC 00</th>\n",
       "      <th>PC 01</th>\n",
       "    </tr>\n",
       "  </thead>\n",
       "  <tbody>\n",
       "    <tr>\n",
       "      <th>0</th>\n",
       "      <td>-1.914239</td>\n",
       "      <td>-0.600467</td>\n",
       "    </tr>\n",
       "    <tr>\n",
       "      <th>1</th>\n",
       "      <td>4.745645</td>\n",
       "      <td>0.791809</td>\n",
       "    </tr>\n",
       "    <tr>\n",
       "      <th>2</th>\n",
       "      <td>-0.933569</td>\n",
       "      <td>1.557390</td>\n",
       "    </tr>\n",
       "    <tr>\n",
       "      <th>3</th>\n",
       "      <td>3.311052</td>\n",
       "      <td>-0.056496</td>\n",
       "    </tr>\n",
       "    <tr>\n",
       "      <th>4</th>\n",
       "      <td>-1.741860</td>\n",
       "      <td>-1.351552</td>\n",
       "    </tr>\n",
       "    <tr>\n",
       "      <th>...</th>\n",
       "      <td>...</td>\n",
       "      <td>...</td>\n",
       "    </tr>\n",
       "    <tr>\n",
       "      <th>884</th>\n",
       "      <td>-1.184027</td>\n",
       "      <td>-1.370371</td>\n",
       "    </tr>\n",
       "    <tr>\n",
       "      <th>885</th>\n",
       "      <td>3.001717</td>\n",
       "      <td>0.423198</td>\n",
       "    </tr>\n",
       "    <tr>\n",
       "      <th>886</th>\n",
       "      <td>-0.654322</td>\n",
       "      <td>2.602585</td>\n",
       "    </tr>\n",
       "    <tr>\n",
       "      <th>887</th>\n",
       "      <td>3.303131</td>\n",
       "      <td>-1.966754</td>\n",
       "    </tr>\n",
       "    <tr>\n",
       "      <th>888</th>\n",
       "      <td>-1.702398</td>\n",
       "      <td>-0.259156</td>\n",
       "    </tr>\n",
       "  </tbody>\n",
       "</table>\n",
       "<p>889 rows × 2 columns</p>\n",
       "</div>"
      ],
      "text/plain": [
       "        PC 00     PC 01\n",
       "0   -1.914239 -0.600467\n",
       "1    4.745645  0.791809\n",
       "2   -0.933569  1.557390\n",
       "3    3.311052 -0.056496\n",
       "4   -1.741860 -1.351552\n",
       "..        ...       ...\n",
       "884 -1.184027 -1.370371\n",
       "885  3.001717  0.423198\n",
       "886 -0.654322  2.602585\n",
       "887  3.303131 -1.966754\n",
       "888 -1.702398 -0.259156\n",
       "\n",
       "[889 rows x 2 columns]"
      ]
     },
     "execution_count": 41,
     "metadata": {},
     "output_type": "execute_result"
    }
   ],
   "source": [
    "X_pca_df = pd.DataFrame(X_pca, columns=['PC 00', 'PC 01'])\n",
    "X_pca_df"
   ]
  },
  {
   "cell_type": "code",
   "execution_count": 42,
   "id": "dc676d8b-3731-480b-9131-4aec89c61c4c",
   "metadata": {},
   "outputs": [
    {
     "data": {
      "text/plain": [
       "<AxesSubplot:xlabel='PC 00', ylabel='PC 01'>"
      ]
     },
     "execution_count": 42,
     "metadata": {},
     "output_type": "execute_result"
    },
    {
     "data": {
      "image/png": "[encoded data removed]",
      "text/plain": [
       "<Figure size 432x288 with 1 Axes>"
      ]
     },
     "metadata": {
      "needs_background": "light"
     },
     "output_type": "display_data"
    }
   ],
   "source": [
    "# 0 = No, 1 = Yes\n",
    "sns.scatterplot(data=X_pca_df, x='PC 00', y='PC 01', hue=Y_train['Survived'])"
   ]
  },
  {
   "cell_type": "markdown",
   "id": "a153ca50-8419-45c3-a87f-afc75fdec0e7",
   "metadata": {},
   "source": [
    " ## Classificando os dados com classificadores diferentes"
   ]
  },
  {
   "cell_type": "code",
   "execution_count": 85,
   "id": "cb054351-9d2f-4240-be94-ac6deba6bec4",
   "metadata": {
    "tags": []
   },
   "outputs": [],
   "source": [
    "rf_test = ('rf', RandomForestClassifier, False, {'criterion' : ['gini', 'entropy'], 'random_state' : [1]})\n",
    "rf_test_scale = ('rf_scale', RandomForestClassifier, True, {'criterion' : ['gini', 'entropy'], 'random_state' : [1]})\n",
    "ad_def_test = ('ad_default', DecisionTreeClassifier, False, {'criterion' : ['gini', 'entropy'], 'random_state' : [1]})\n",
    "ad_def_test_scale = ('ad_default_scale', DecisionTreeClassifier, True, {'criterion' : ['gini', 'entropy'], 'random_state' : [1]})\n",
    "ad_tuned_test = ('ad_tuned', DecisionTreeClassifier, False, {'min_samples_leaf' : [3, 5, 10, 15, 20, 30],\n",
    "                                                 'min_samples_split' : [2, 4, 8, 16, 32, 40],\n",
    "                                                 'max_depth' : [None, 2, 3, 4, 5],\n",
    "                                                 'criterion' : ['gini', 'entropy'], 'random_state' : [1]})\n",
    "ad_tuned_test_scale = ('ad_tuned_scale', DecisionTreeClassifier, True, {'min_samples_leaf' : [3, 5, 10, 15, 20, 30],\n",
    "                                                 'min_samples_split' : [2, 4, 8, 16, 32, 40],\n",
    "                                                 'max_depth' : [None, 2, 3, 4, 5],\n",
    "                                                 'criterion' : ['gini', 'entropy'], 'random_state' : [1]})\n",
    "svm_test = ('svm', SVC, True, {'C' : [1, 10, 100, 1000], 'gamma' : ['auto', 'scale']})\n",
    "svm_test_1 = ('svm_2', SVC, True, {'C' : [0.001, 0.001, 0.01, 1, 10, 100, 1000], 'gamma' : ['auto', 'scale']})\n",
    "svm_test_kernel = ('svm_kernel', SVC, True, {'C' : [1, 10, 100, 1000], 'gamma' : ['auto', 'scale'], 'kernel' : ['linear', 'poly', 'rbf', 'sigmoid']})\n",
    "knn_test = ('knn', KNeighborsClassifier, True, {'n_neighbors' : range(1,30,2)})\n",
    "knn_test_2 = ('knn_2', KNeighborsClassifier, True, {'n_neighbors' : range(1,30,1)})\n",
    "knn_test_3 = ('knn_3', KNeighborsClassifier, True, {'n_neighbors' : range(1,60,2)})\n",
    "tests = [rf_test, rf_test_scale, ad_def_test, ad_def_test_scale, ad_tuned_test, ad_tuned_test_scale, \n",
    "         svm_test, svm_test_1, knn_test, knn_test_2, knn_test_3]"
   ]
  },
  {
   "cell_type": "code",
   "execution_count": 44,
   "id": "802d1e9a-8003-4575-96ef-6616c767e872",
   "metadata": {},
   "outputs": [],
   "source": [
    "y = Y_train['Survived'].values.ravel()"
   ]
  },
  {
   "cell_type": "code",
   "execution_count": 45,
   "id": "3f285ba5-66bf-4db0-8c45-8477f1ee067f",
   "metadata": {},
   "outputs": [
    {
     "name": "stdout",
     "output_type": "stream",
     "text": [
      "svm_kernel\n"
     ]
    },
    {
     "data": {
      "application/vnd.jupyter.widget-view+json": {
       "model_id": "7a225de142ef496baa97cfc5d2ad6986",
       "version_major": 2,
       "version_minor": 0
      },
      "text/plain": [
       "Folds avaliados:   0%|          | 0/20 [00:00<?, ?it/s]"
      ]
     },
     "metadata": {},
     "output_type": "display_data"
    },
    {
     "name": "stdout",
     "output_type": "stream",
     "text": [
      "rf\n"
     ]
    },
    {
     "data": {
      "application/vnd.jupyter.widget-view+json": {
       "model_id": "4f97a2f0df254d16a701727ddfe9240b",
       "version_major": 2,
       "version_minor": 0
      },
      "text/plain": [
       "Folds avaliados:   0%|          | 0/20 [00:00<?, ?it/s]"
      ]
     },
     "metadata": {},
     "output_type": "display_data"
    },
    {
     "name": "stdout",
     "output_type": "stream",
     "text": [
      "rf_scale\n"
     ]
    },
    {
     "data": {
      "application/vnd.jupyter.widget-view+json": {
       "model_id": "87d3a99b250e44d9ad33049b54e2e825",
       "version_major": 2,
       "version_minor": 0
      },
      "text/plain": [
       "Folds avaliados:   0%|          | 0/20 [00:00<?, ?it/s]"
      ]
     },
     "metadata": {},
     "output_type": "display_data"
    },
    {
     "name": "stdout",
     "output_type": "stream",
     "text": [
      "ad_default\n"
     ]
    },
    {
     "data": {
      "application/vnd.jupyter.widget-view+json": {
       "model_id": "dedb17b0c0fe480d838ddc3ff51c53e6",
       "version_major": 2,
       "version_minor": 0
      },
      "text/plain": [
       "Folds avaliados:   0%|          | 0/20 [00:00<?, ?it/s]"
      ]
     },
     "metadata": {},
     "output_type": "display_data"
    },
    {
     "name": "stdout",
     "output_type": "stream",
     "text": [
      "ad_default_scale\n"
     ]
    },
    {
     "data": {
      "application/vnd.jupyter.widget-view+json": {
       "model_id": "5b0009610a034fb2aceaa00a8b2408b0",
       "version_major": 2,
       "version_minor": 0
      },
      "text/plain": [
       "Folds avaliados:   0%|          | 0/20 [00:00<?, ?it/s]"
      ]
     },
     "metadata": {},
     "output_type": "display_data"
    },
    {
     "name": "stdout",
     "output_type": "stream",
     "text": [
      "ad_tuned\n"
     ]
    },
    {
     "data": {
      "application/vnd.jupyter.widget-view+json": {
       "model_id": "163d7936927149feb1f0912b3e21ef25",
       "version_major": 2,
       "version_minor": 0
      },
      "text/plain": [
       "Folds avaliados:   0%|          | 0/20 [00:00<?, ?it/s]"
      ]
     },
     "metadata": {},
     "output_type": "display_data"
    },
    {
     "name": "stdout",
     "output_type": "stream",
     "text": [
      "ad_tuned_scale\n"
     ]
    },
    {
     "data": {
      "application/vnd.jupyter.widget-view+json": {
       "model_id": "247434f7dee8400e9959aa6f631a02a0",
       "version_major": 2,
       "version_minor": 0
      },
      "text/plain": [
       "Folds avaliados:   0%|          | 0/20 [00:00<?, ?it/s]"
      ]
     },
     "metadata": {},
     "output_type": "display_data"
    },
    {
     "name": "stdout",
     "output_type": "stream",
     "text": [
      "svm\n"
     ]
    },
    {
     "data": {
      "application/vnd.jupyter.widget-view+json": {
       "model_id": "6adf42a90bbf4602b9de8f41085d0309",
       "version_major": 2,
       "version_minor": 0
      },
      "text/plain": [
       "Folds avaliados:   0%|          | 0/20 [00:00<?, ?it/s]"
      ]
     },
     "metadata": {},
     "output_type": "display_data"
    },
    {
     "name": "stdout",
     "output_type": "stream",
     "text": [
      "svm_2\n"
     ]
    },
    {
     "data": {
      "application/vnd.jupyter.widget-view+json": {
       "model_id": "99bfbc4e40004c37bc3fead4f260ee2e",
       "version_major": 2,
       "version_minor": 0
      },
      "text/plain": [
       "Folds avaliados:   0%|          | 0/20 [00:00<?, ?it/s]"
      ]
     },
     "metadata": {},
     "output_type": "display_data"
    },
    {
     "name": "stdout",
     "output_type": "stream",
     "text": [
      "knn\n"
     ]
    },
    {
     "data": {
      "application/vnd.jupyter.widget-view+json": {
       "model_id": "954074cfa27642aa9d23ed07503607bd",
       "version_major": 2,
       "version_minor": 0
      },
      "text/plain": [
       "Folds avaliados:   0%|          | 0/20 [00:00<?, ?it/s]"
      ]
     },
     "metadata": {},
     "output_type": "display_data"
    },
    {
     "name": "stdout",
     "output_type": "stream",
     "text": [
      "knn_2\n"
     ]
    },
    {
     "data": {
      "application/vnd.jupyter.widget-view+json": {
       "model_id": "b62a4de7fecf4b7cbbd8a9ed5c14bcfd",
       "version_major": 2,
       "version_minor": 0
      },
      "text/plain": [
       "Folds avaliados:   0%|          | 0/20 [00:00<?, ?it/s]"
      ]
     },
     "metadata": {},
     "output_type": "display_data"
    },
    {
     "name": "stdout",
     "output_type": "stream",
     "text": [
      "knn_3\n"
     ]
    },
    {
     "data": {
      "application/vnd.jupyter.widget-view+json": {
       "model_id": "bdc9e17d71624343af1bc27f280606c1",
       "version_major": 2,
       "version_minor": 0
      },
      "text/plain": [
       "Folds avaliados:   0%|          | 0/20 [00:00<?, ?it/s]"
      ]
     },
     "metadata": {},
     "output_type": "display_data"
    }
   ],
   "source": [
    "resultados = {}\n",
    "for nome, classificador, scale, params in tests:\n",
    "    print(nome)\n",
    "    r = do_cv(classificador, X_pca_df.values, y, 20, 20, 8, scale, params)\n",
    "    resultados[nome] = r"
   ]
  },
  {
   "cell_type": "code",
   "execution_count": 46,
   "id": "bf021884-51aa-40d1-9178-d67df2979226",
   "metadata": {},
   "outputs": [
    {
     "name": "stdout",
     "output_type": "stream",
     "text": [
      "svm_kernel - Resultados: 0.71 +- 0.10, min: 0.52, max: 0.85\n",
      "        rf - Resultados: 0.71 +- 0.09, min: 0.55, max: 0.87\n",
      "  rf_scale - Resultados: 0.71 +- 0.09, min: 0.55, max: 0.87\n",
      "ad_default - Resultados: 0.66 +- 0.07, min: 0.53, max: 0.76\n",
      "ad_default_scale - Resultados: 0.66 +- 0.07, min: 0.53, max: 0.76\n",
      "  ad_tuned - Resultados: 0.71 +- 0.08, min: 0.56, max: 0.83\n",
      "ad_tuned_scale - Resultados: 0.71 +- 0.08, min: 0.56, max: 0.83\n",
      "       svm - Resultados: 0.71 +- 0.10, min: 0.52, max: 0.85\n",
      "     svm_2 - Resultados: 0.71 +- 0.10, min: 0.52, max: 0.85\n",
      "       knn - Resultados: 0.74 +- 0.09, min: 0.57, max: 0.89\n",
      "     knn_2 - Resultados: 0.74 +- 0.09, min: 0.57, max: 0.89\n",
      "     knn_3 - Resultados: 0.74 +- 0.09, min: 0.57, max: 0.89\n"
     ]
    }
   ],
   "source": [
    "for teste in resultados:\n",
    "    print(teste.rjust(10), end=' - ')\n",
    "    imprimir_estatisticas(resultados[teste])"
   ]
  },
  {
   "cell_type": "code",
   "execution_count": 47,
   "id": "14e34e6b-a9f5-411d-9497-22463ee72c0c",
   "metadata": {},
   "outputs": [
    {
     "data": {
      "application/vnd.jupyter.widget-view+json": {
       "model_id": "eabeaff843dd412bb7322092eaabe792",
       "version_major": 2,
       "version_minor": 0
      },
      "text/plain": [
       "Folds avaliados:   0%|          | 0/10 [00:00<?, ?it/s]"
      ]
     },
     "metadata": {},
     "output_type": "display_data"
    },
    {
     "ename": "KeyboardInterrupt",
     "evalue": "",
     "output_type": "error",
     "traceback": [
      "\u001b[0;31m---------------------------------------------------------------------------\u001b[0m",
      "\u001b[0;31mKeyboardInterrupt\u001b[0m                         Traceback (most recent call last)",
      "\u001b[0;32m/tmp/ipykernel_17731/2895164717.py\u001b[0m in \u001b[0;36m<module>\u001b[0;34m\u001b[0m\n\u001b[1;32m      1\u001b[0m \u001b[0mresultados\u001b[0m \u001b[0;34m=\u001b[0m \u001b[0;34m{\u001b[0m\u001b[0;34m}\u001b[0m\u001b[0;34m\u001b[0m\u001b[0;34m\u001b[0m\u001b[0m\n\u001b[1;32m      2\u001b[0m \u001b[0;32mfor\u001b[0m \u001b[0mnome\u001b[0m\u001b[0;34m,\u001b[0m \u001b[0mclassificador\u001b[0m\u001b[0;34m,\u001b[0m \u001b[0mscale\u001b[0m\u001b[0;34m,\u001b[0m \u001b[0mparams\u001b[0m \u001b[0;32min\u001b[0m \u001b[0mtests\u001b[0m\u001b[0;34m:\u001b[0m\u001b[0;34m\u001b[0m\u001b[0;34m\u001b[0m\u001b[0m\n\u001b[0;32m----> 3\u001b[0;31m     \u001b[0mr\u001b[0m \u001b[0;34m=\u001b[0m \u001b[0mdo_cv\u001b[0m\u001b[0;34m(\u001b[0m\u001b[0mclassificador\u001b[0m\u001b[0;34m,\u001b[0m \u001b[0mX_ss\u001b[0m\u001b[0;34m,\u001b[0m \u001b[0my\u001b[0m\u001b[0;34m,\u001b[0m \u001b[0;36m10\u001b[0m\u001b[0;34m,\u001b[0m \u001b[0;36m10\u001b[0m\u001b[0;34m,\u001b[0m \u001b[0;36m8\u001b[0m\u001b[0;34m,\u001b[0m \u001b[0mscale\u001b[0m\u001b[0;34m,\u001b[0m \u001b[0mparams\u001b[0m\u001b[0;34m)\u001b[0m\u001b[0;34m\u001b[0m\u001b[0;34m\u001b[0m\u001b[0m\n\u001b[0m\u001b[1;32m      4\u001b[0m     \u001b[0mresultados\u001b[0m\u001b[0;34m[\u001b[0m\u001b[0mnome\u001b[0m\u001b[0;34m]\u001b[0m \u001b[0;34m=\u001b[0m \u001b[0mr\u001b[0m\u001b[0;34m\u001b[0m\u001b[0;34m\u001b[0m\u001b[0m\n",
      "\u001b[0;32m~/UTFPR/AM36O/src/Trabalho/mixins.py\u001b[0m in \u001b[0;36mdo_cv\u001b[0;34m(classificador, X, y, cv_splits, param_cv_folds, n_jobs, scale, params)\u001b[0m\n\u001b[1;32m     74\u001b[0m             \u001b[0mX_val\u001b[0m \u001b[0;34m=\u001b[0m \u001b[0mss\u001b[0m\u001b[0;34m.\u001b[0m\u001b[0mtransform\u001b[0m\u001b[0;34m(\u001b[0m\u001b[0mX_val\u001b[0m\u001b[0;34m)\u001b[0m\u001b[0;34m\u001b[0m\u001b[0;34m\u001b[0m\u001b[0m\n\u001b[1;32m     75\u001b[0m \u001b[0;34m\u001b[0m\u001b[0m\n\u001b[0;32m---> 76\u001b[0;31m         ad, melhor_comb, _ = selecionar_melhor_modelo(classificador, X_treino, X_val, y_treino, y_val, \n\u001b[0m\u001b[1;32m     77\u001b[0m                                                       n_jobs=n_jobs, cv_folds=param_cv_folds, params=params)\n\u001b[1;32m     78\u001b[0m         \u001b[0mpred\u001b[0m \u001b[0;34m=\u001b[0m \u001b[0mad\u001b[0m\u001b[0;34m.\u001b[0m\u001b[0mpredict\u001b[0m\u001b[0;34m(\u001b[0m\u001b[0mX_teste\u001b[0m\u001b[0;34m)\u001b[0m\u001b[0;34m\u001b[0m\u001b[0;34m\u001b[0m\u001b[0m\n",
      "\u001b[0;32m~/UTFPR/AM36O/src/Trabalho/mixins.py\u001b[0m in \u001b[0;36mselecionar_melhor_modelo\u001b[0;34m(classificador, X_treino, X_val, y_treino, y_val, n_jobs, cv_folds, params)\u001b[0m\n\u001b[1;32m     30\u001b[0m         \u001b[0mclf\u001b[0m \u001b[0;34m=\u001b[0m \u001b[0mGridSearchCV\u001b[0m\u001b[0;34m(\u001b[0m\u001b[0mclassificador\u001b[0m\u001b[0;34m(\u001b[0m\u001b[0;34m)\u001b[0m\u001b[0;34m,\u001b[0m \u001b[0mparams\u001b[0m\u001b[0;34m,\u001b[0m \u001b[0mcv\u001b[0m\u001b[0;34m=\u001b[0m\u001b[0mcv_folds\u001b[0m\u001b[0;34m,\u001b[0m \u001b[0mn_jobs\u001b[0m\u001b[0;34m=\u001b[0m\u001b[0mn_jobs\u001b[0m\u001b[0;34m,\u001b[0m \u001b[0mscoring\u001b[0m\u001b[0;34m=\u001b[0m\u001b[0mscore_fn\u001b[0m\u001b[0;34m)\u001b[0m\u001b[0;34m\u001b[0m\u001b[0;34m\u001b[0m\u001b[0m\n\u001b[1;32m     31\u001b[0m         \u001b[0;31m#Passar todos os dados (Treino e Validação) para realizar a seleção dos parâmetros.\u001b[0m\u001b[0;34m\u001b[0m\u001b[0;34m\u001b[0m\u001b[0;34m\u001b[0m\u001b[0m\n\u001b[0;32m---> 32\u001b[0;31m         \u001b[0mclf\u001b[0m\u001b[0;34m.\u001b[0m\u001b[0mfit\u001b[0m\u001b[0;34m(\u001b[0m\u001b[0mnp\u001b[0m\u001b[0;34m.\u001b[0m\u001b[0mvstack\u001b[0m\u001b[0;34m(\u001b[0m\u001b[0;34m(\u001b[0m\u001b[0mX_treino\u001b[0m\u001b[0;34m,\u001b[0m \u001b[0mX_val\u001b[0m\u001b[0;34m)\u001b[0m\u001b[0;34m)\u001b[0m\u001b[0;34m,\u001b[0m \u001b[0;34m[\u001b[0m\u001b[0;34m*\u001b[0m\u001b[0my_treino\u001b[0m\u001b[0;34m,\u001b[0m \u001b[0;34m*\u001b[0m\u001b[0my_val\u001b[0m\u001b[0;34m]\u001b[0m\u001b[0;34m)\u001b[0m\u001b[0;34m\u001b[0m\u001b[0;34m\u001b[0m\u001b[0m\n\u001b[0m\u001b[1;32m     33\u001b[0m \u001b[0;34m\u001b[0m\u001b[0m\n\u001b[1;32m     34\u001b[0m         \u001b[0mmelhor_comb\u001b[0m \u001b[0;34m=\u001b[0m \u001b[0mclf\u001b[0m\u001b[0;34m.\u001b[0m\u001b[0mbest_params_\u001b[0m\u001b[0;34m\u001b[0m\u001b[0;34m\u001b[0m\u001b[0m\n",
      "\u001b[0;32m~/UTFPR/AM36O/lib/python3.9/site-packages/sklearn/utils/validation.py\u001b[0m in \u001b[0;36minner_f\u001b[0;34m(*args, **kwargs)\u001b[0m\n\u001b[1;32m     61\u001b[0m             \u001b[0mextra_args\u001b[0m \u001b[0;34m=\u001b[0m \u001b[0mlen\u001b[0m\u001b[0;34m(\u001b[0m\u001b[0margs\u001b[0m\u001b[0;34m)\u001b[0m \u001b[0;34m-\u001b[0m \u001b[0mlen\u001b[0m\u001b[0;34m(\u001b[0m\u001b[0mall_args\u001b[0m\u001b[0;34m)\u001b[0m\u001b[0;34m\u001b[0m\u001b[0;34m\u001b[0m\u001b[0m\n\u001b[1;32m     62\u001b[0m             \u001b[0;32mif\u001b[0m \u001b[0mextra_args\u001b[0m \u001b[0;34m<=\u001b[0m \u001b[0;36m0\u001b[0m\u001b[0;34m:\u001b[0m\u001b[0;34m\u001b[0m\u001b[0;34m\u001b[0m\u001b[0m\n\u001b[0;32m---> 63\u001b[0;31m                 \u001b[0;32mreturn\u001b[0m \u001b[0mf\u001b[0m\u001b[0;34m(\u001b[0m\u001b[0;34m*\u001b[0m\u001b[0margs\u001b[0m\u001b[0;34m,\u001b[0m \u001b[0;34m**\u001b[0m\u001b[0mkwargs\u001b[0m\u001b[0;34m)\u001b[0m\u001b[0;34m\u001b[0m\u001b[0;34m\u001b[0m\u001b[0m\n\u001b[0m\u001b[1;32m     64\u001b[0m \u001b[0;34m\u001b[0m\u001b[0m\n\u001b[1;32m     65\u001b[0m             \u001b[0;31m# extra_args > 0\u001b[0m\u001b[0;34m\u001b[0m\u001b[0;34m\u001b[0m\u001b[0;34m\u001b[0m\u001b[0m\n",
      "\u001b[0;32m~/UTFPR/AM36O/lib/python3.9/site-packages/sklearn/model_selection/_search.py\u001b[0m in \u001b[0;36mfit\u001b[0;34m(self, X, y, groups, **fit_params)\u001b[0m\n\u001b[1;32m    839\u001b[0m                 \u001b[0;32mreturn\u001b[0m \u001b[0mresults\u001b[0m\u001b[0;34m\u001b[0m\u001b[0;34m\u001b[0m\u001b[0m\n\u001b[1;32m    840\u001b[0m \u001b[0;34m\u001b[0m\u001b[0m\n\u001b[0;32m--> 841\u001b[0;31m             \u001b[0mself\u001b[0m\u001b[0;34m.\u001b[0m\u001b[0m_run_search\u001b[0m\u001b[0;34m(\u001b[0m\u001b[0mevaluate_candidates\u001b[0m\u001b[0;34m)\u001b[0m\u001b[0;34m\u001b[0m\u001b[0;34m\u001b[0m\u001b[0m\n\u001b[0m\u001b[1;32m    842\u001b[0m \u001b[0;34m\u001b[0m\u001b[0m\n\u001b[1;32m    843\u001b[0m             \u001b[0;31m# multimetric is determined here because in the case of a callable\u001b[0m\u001b[0;34m\u001b[0m\u001b[0;34m\u001b[0m\u001b[0;34m\u001b[0m\u001b[0m\n",
      "\u001b[0;32m~/UTFPR/AM36O/lib/python3.9/site-packages/sklearn/model_selection/_search.py\u001b[0m in \u001b[0;36m_run_search\u001b[0;34m(self, evaluate_candidates)\u001b[0m\n\u001b[1;32m   1294\u001b[0m     \u001b[0;32mdef\u001b[0m \u001b[0m_run_search\u001b[0m\u001b[0;34m(\u001b[0m\u001b[0mself\u001b[0m\u001b[0;34m,\u001b[0m \u001b[0mevaluate_candidates\u001b[0m\u001b[0;34m)\u001b[0m\u001b[0;34m:\u001b[0m\u001b[0;34m\u001b[0m\u001b[0;34m\u001b[0m\u001b[0m\n\u001b[1;32m   1295\u001b[0m         \u001b[0;34m\"\"\"Search all candidates in param_grid\"\"\"\u001b[0m\u001b[0;34m\u001b[0m\u001b[0;34m\u001b[0m\u001b[0m\n\u001b[0;32m-> 1296\u001b[0;31m         \u001b[0mevaluate_candidates\u001b[0m\u001b[0;34m(\u001b[0m\u001b[0mParameterGrid\u001b[0m\u001b[0;34m(\u001b[0m\u001b[0mself\u001b[0m\u001b[0;34m.\u001b[0m\u001b[0mparam_grid\u001b[0m\u001b[0;34m)\u001b[0m\u001b[0;34m)\u001b[0m\u001b[0;34m\u001b[0m\u001b[0;34m\u001b[0m\u001b[0m\n\u001b[0m\u001b[1;32m   1297\u001b[0m \u001b[0;34m\u001b[0m\u001b[0m\n\u001b[1;32m   1298\u001b[0m \u001b[0;34m\u001b[0m\u001b[0m\n",
      "\u001b[0;32m~/UTFPR/AM36O/lib/python3.9/site-packages/sklearn/model_selection/_search.py\u001b[0m in \u001b[0;36mevaluate_candidates\u001b[0;34m(candidate_params, cv, more_results)\u001b[0m\n\u001b[1;32m    793\u001b[0m                               n_splits, n_candidates, n_candidates * n_splits))\n\u001b[1;32m    794\u001b[0m \u001b[0;34m\u001b[0m\u001b[0m\n\u001b[0;32m--> 795\u001b[0;31m                 out = parallel(delayed(_fit_and_score)(clone(base_estimator),\n\u001b[0m\u001b[1;32m    796\u001b[0m                                                        \u001b[0mX\u001b[0m\u001b[0;34m,\u001b[0m \u001b[0my\u001b[0m\u001b[0;34m,\u001b[0m\u001b[0;34m\u001b[0m\u001b[0;34m\u001b[0m\u001b[0m\n\u001b[1;32m    797\u001b[0m                                                        \u001b[0mtrain\u001b[0m\u001b[0;34m=\u001b[0m\u001b[0mtrain\u001b[0m\u001b[0;34m,\u001b[0m \u001b[0mtest\u001b[0m\u001b[0;34m=\u001b[0m\u001b[0mtest\u001b[0m\u001b[0;34m,\u001b[0m\u001b[0;34m\u001b[0m\u001b[0;34m\u001b[0m\u001b[0m\n",
      "\u001b[0;32m~/UTFPR/AM36O/lib/python3.9/site-packages/joblib/parallel.py\u001b[0m in \u001b[0;36m__call__\u001b[0;34m(self, iterable)\u001b[0m\n\u001b[1;32m   1052\u001b[0m \u001b[0;34m\u001b[0m\u001b[0m\n\u001b[1;32m   1053\u001b[0m             \u001b[0;32mwith\u001b[0m \u001b[0mself\u001b[0m\u001b[0;34m.\u001b[0m\u001b[0m_backend\u001b[0m\u001b[0;34m.\u001b[0m\u001b[0mretrieval_context\u001b[0m\u001b[0;34m(\u001b[0m\u001b[0;34m)\u001b[0m\u001b[0;34m:\u001b[0m\u001b[0;34m\u001b[0m\u001b[0;34m\u001b[0m\u001b[0m\n\u001b[0;32m-> 1054\u001b[0;31m                 \u001b[0mself\u001b[0m\u001b[0;34m.\u001b[0m\u001b[0mretrieve\u001b[0m\u001b[0;34m(\u001b[0m\u001b[0;34m)\u001b[0m\u001b[0;34m\u001b[0m\u001b[0;34m\u001b[0m\u001b[0m\n\u001b[0m\u001b[1;32m   1055\u001b[0m             \u001b[0;31m# Make sure that we get a last message telling us we are done\u001b[0m\u001b[0;34m\u001b[0m\u001b[0;34m\u001b[0m\u001b[0;34m\u001b[0m\u001b[0m\n\u001b[1;32m   1056\u001b[0m             \u001b[0melapsed_time\u001b[0m \u001b[0;34m=\u001b[0m \u001b[0mtime\u001b[0m\u001b[0;34m.\u001b[0m\u001b[0mtime\u001b[0m\u001b[0;34m(\u001b[0m\u001b[0;34m)\u001b[0m \u001b[0;34m-\u001b[0m \u001b[0mself\u001b[0m\u001b[0;34m.\u001b[0m\u001b[0m_start_time\u001b[0m\u001b[0;34m\u001b[0m\u001b[0;34m\u001b[0m\u001b[0m\n",
      "\u001b[0;32m~/UTFPR/AM36O/lib/python3.9/site-packages/joblib/parallel.py\u001b[0m in \u001b[0;36mretrieve\u001b[0;34m(self)\u001b[0m\n\u001b[1;32m    931\u001b[0m             \u001b[0;32mtry\u001b[0m\u001b[0;34m:\u001b[0m\u001b[0;34m\u001b[0m\u001b[0;34m\u001b[0m\u001b[0m\n\u001b[1;32m    932\u001b[0m                 \u001b[0;32mif\u001b[0m \u001b[0mgetattr\u001b[0m\u001b[0;34m(\u001b[0m\u001b[0mself\u001b[0m\u001b[0;34m.\u001b[0m\u001b[0m_backend\u001b[0m\u001b[0;34m,\u001b[0m \u001b[0;34m'supports_timeout'\u001b[0m\u001b[0;34m,\u001b[0m \u001b[0;32mFalse\u001b[0m\u001b[0;34m)\u001b[0m\u001b[0;34m:\u001b[0m\u001b[0;34m\u001b[0m\u001b[0;34m\u001b[0m\u001b[0m\n\u001b[0;32m--> 933\u001b[0;31m                     \u001b[0mself\u001b[0m\u001b[0;34m.\u001b[0m\u001b[0m_output\u001b[0m\u001b[0;34m.\u001b[0m\u001b[0mextend\u001b[0m\u001b[0;34m(\u001b[0m\u001b[0mjob\u001b[0m\u001b[0;34m.\u001b[0m\u001b[0mget\u001b[0m\u001b[0;34m(\u001b[0m\u001b[0mtimeout\u001b[0m\u001b[0;34m=\u001b[0m\u001b[0mself\u001b[0m\u001b[0;34m.\u001b[0m\u001b[0mtimeout\u001b[0m\u001b[0;34m)\u001b[0m\u001b[0;34m)\u001b[0m\u001b[0;34m\u001b[0m\u001b[0;34m\u001b[0m\u001b[0m\n\u001b[0m\u001b[1;32m    934\u001b[0m                 \u001b[0;32melse\u001b[0m\u001b[0;34m:\u001b[0m\u001b[0;34m\u001b[0m\u001b[0;34m\u001b[0m\u001b[0m\n\u001b[1;32m    935\u001b[0m                     \u001b[0mself\u001b[0m\u001b[0;34m.\u001b[0m\u001b[0m_output\u001b[0m\u001b[0;34m.\u001b[0m\u001b[0mextend\u001b[0m\u001b[0;34m(\u001b[0m\u001b[0mjob\u001b[0m\u001b[0;34m.\u001b[0m\u001b[0mget\u001b[0m\u001b[0;34m(\u001b[0m\u001b[0;34m)\u001b[0m\u001b[0;34m)\u001b[0m\u001b[0;34m\u001b[0m\u001b[0;34m\u001b[0m\u001b[0m\n",
      "\u001b[0;32m~/UTFPR/AM36O/lib/python3.9/site-packages/joblib/_parallel_backends.py\u001b[0m in \u001b[0;36mwrap_future_result\u001b[0;34m(future, timeout)\u001b[0m\n\u001b[1;32m    540\u001b[0m         AsyncResults.get from multiprocessing.\"\"\"\n\u001b[1;32m    541\u001b[0m         \u001b[0;32mtry\u001b[0m\u001b[0;34m:\u001b[0m\u001b[0;34m\u001b[0m\u001b[0;34m\u001b[0m\u001b[0m\n\u001b[0;32m--> 542\u001b[0;31m             \u001b[0;32mreturn\u001b[0m \u001b[0mfuture\u001b[0m\u001b[0;34m.\u001b[0m\u001b[0mresult\u001b[0m\u001b[0;34m(\u001b[0m\u001b[0mtimeout\u001b[0m\u001b[0;34m=\u001b[0m\u001b[0mtimeout\u001b[0m\u001b[0;34m)\u001b[0m\u001b[0;34m\u001b[0m\u001b[0;34m\u001b[0m\u001b[0m\n\u001b[0m\u001b[1;32m    543\u001b[0m         \u001b[0;32mexcept\u001b[0m \u001b[0mCfTimeoutError\u001b[0m \u001b[0;32mas\u001b[0m \u001b[0me\u001b[0m\u001b[0;34m:\u001b[0m\u001b[0;34m\u001b[0m\u001b[0;34m\u001b[0m\u001b[0m\n\u001b[1;32m    544\u001b[0m             \u001b[0;32mraise\u001b[0m \u001b[0mTimeoutError\u001b[0m \u001b[0;32mfrom\u001b[0m \u001b[0me\u001b[0m\u001b[0;34m\u001b[0m\u001b[0;34m\u001b[0m\u001b[0m\n",
      "\u001b[0;32m/usr/lib/python3.9/concurrent/futures/_base.py\u001b[0m in \u001b[0;36mresult\u001b[0;34m(self, timeout)\u001b[0m\n\u001b[1;32m    438\u001b[0m                     \u001b[0;32mreturn\u001b[0m \u001b[0mself\u001b[0m\u001b[0;34m.\u001b[0m\u001b[0m__get_result\u001b[0m\u001b[0;34m(\u001b[0m\u001b[0;34m)\u001b[0m\u001b[0;34m\u001b[0m\u001b[0;34m\u001b[0m\u001b[0m\n\u001b[1;32m    439\u001b[0m \u001b[0;34m\u001b[0m\u001b[0m\n\u001b[0;32m--> 440\u001b[0;31m                 \u001b[0mself\u001b[0m\u001b[0;34m.\u001b[0m\u001b[0m_condition\u001b[0m\u001b[0;34m.\u001b[0m\u001b[0mwait\u001b[0m\u001b[0;34m(\u001b[0m\u001b[0mtimeout\u001b[0m\u001b[0;34m)\u001b[0m\u001b[0;34m\u001b[0m\u001b[0;34m\u001b[0m\u001b[0m\n\u001b[0m\u001b[1;32m    441\u001b[0m \u001b[0;34m\u001b[0m\u001b[0m\n\u001b[1;32m    442\u001b[0m                 \u001b[0;32mif\u001b[0m \u001b[0mself\u001b[0m\u001b[0;34m.\u001b[0m\u001b[0m_state\u001b[0m \u001b[0;32min\u001b[0m \u001b[0;34m[\u001b[0m\u001b[0mCANCELLED\u001b[0m\u001b[0;34m,\u001b[0m \u001b[0mCANCELLED_AND_NOTIFIED\u001b[0m\u001b[0;34m]\u001b[0m\u001b[0;34m:\u001b[0m\u001b[0;34m\u001b[0m\u001b[0;34m\u001b[0m\u001b[0m\n",
      "\u001b[0;32m/usr/lib/python3.9/threading.py\u001b[0m in \u001b[0;36mwait\u001b[0;34m(self, timeout)\u001b[0m\n\u001b[1;32m    310\u001b[0m         \u001b[0;32mtry\u001b[0m\u001b[0;34m:\u001b[0m    \u001b[0;31m# restore state no matter what (e.g., KeyboardInterrupt)\u001b[0m\u001b[0;34m\u001b[0m\u001b[0;34m\u001b[0m\u001b[0m\n\u001b[1;32m    311\u001b[0m             \u001b[0;32mif\u001b[0m \u001b[0mtimeout\u001b[0m \u001b[0;32mis\u001b[0m \u001b[0;32mNone\u001b[0m\u001b[0;34m:\u001b[0m\u001b[0;34m\u001b[0m\u001b[0;34m\u001b[0m\u001b[0m\n\u001b[0;32m--> 312\u001b[0;31m                 \u001b[0mwaiter\u001b[0m\u001b[0;34m.\u001b[0m\u001b[0macquire\u001b[0m\u001b[0;34m(\u001b[0m\u001b[0;34m)\u001b[0m\u001b[0;34m\u001b[0m\u001b[0;34m\u001b[0m\u001b[0m\n\u001b[0m\u001b[1;32m    313\u001b[0m                 \u001b[0mgotit\u001b[0m \u001b[0;34m=\u001b[0m \u001b[0;32mTrue\u001b[0m\u001b[0;34m\u001b[0m\u001b[0;34m\u001b[0m\u001b[0m\n\u001b[1;32m    314\u001b[0m             \u001b[0;32melse\u001b[0m\u001b[0;34m:\u001b[0m\u001b[0;34m\u001b[0m\u001b[0;34m\u001b[0m\u001b[0m\n",
      "\u001b[0;31mKeyboardInterrupt\u001b[0m: "
     ]
    }
   ],
   "source": [
    "resultados = {}\n",
    "for nome, classificador, scale, params in tests:\n",
    "    r = do_cv(classificador, X_ss, y, 10, 10, 8, scale, params)\n",
    "    resultados[nome] = r"
   ]
  },
  {
   "cell_type": "code",
   "execution_count": null,
   "id": "140c780b-9b1a-46fa-99d2-464da401b524",
   "metadata": {},
   "outputs": [],
   "source": [
    "for teste in resultados:\n",
    "    print(teste.rjust(10), end=' - ')\n",
    "    imprimir_estatisticas(resultados[teste])"
   ]
  },
  {
   "cell_type": "code",
   "execution_count": 65,
   "id": "d2f88e5c-2933-4411-8cb7-d3da098d39f9",
   "metadata": {},
   "outputs": [],
   "source": [
    "knn_test = ('knn', KNeighborsClassifier, True, {'n_neighbors' : range(1,30,2)})\n",
    "knn_test_2 = ('knn_2', KNeighborsClassifier, True, {'n_neighbors' : range(1,30,1)})\n",
    "\n",
    "knn_test_new = ('knn_new', KNeighborsClassifier, True, {'n_neighbors' : range(15,30,2)})\n",
    "knn_test_new_2 = ('knn_new_2', KNeighborsClassifier, True, {'n_neighbors' : range(15,30,1)})\n",
    "\n",
    "knn_test_new_3 = ('knn_new_3', KNeighborsClassifier, True, {'n_neighbors' : range(1,15,2)})\n",
    "knn_test_new_4 = ('knn_new_4', KNeighborsClassifier, True, {'n_neighbors' : range(1,15,1)})\n",
    "\n",
    "knn_test_new_5 = ('knn_new_5', KNeighborsClassifier, True, {'n_neighbors' : range(1,10,2)})\n",
    "knn_test_new_6 = ('knn_new_6', KNeighborsClassifier, True, {'n_neighbors' : range(1,10,1)})\n",
    "\n",
    "knn_test_new_7 = ('knn_new_7', KNeighborsClassifier, True, {'n_neighbors' : range(5,15,2)})\n",
    "knn_test_new_8 = ('knn_new_8', KNeighborsClassifier, True, {'n_neighbors' : range(5,15,1)})\n",
    "\n",
    "knn_test_new_9 = ('knn_new_9', KNeighborsClassifier, True, {'n_neighbors' : range(5,10,2)})\n",
    "knn_test_new_10 = ('knn_new_10', KNeighborsClassifier, True, {'n_neighbors' : range(5,10,1)})\n",
    "tests_knn = [knn_test, knn_test_2, knn_test_new, knn_test_new_2, knn_test_new_3, knn_test_new_4, \n",
    "            knn_test_new_5, knn_test_new_6, knn_test_new_7, knn_test_new_8, knn_test_new_9, knn_test_new_10]"
   ]
  },
  {
   "cell_type": "code",
   "execution_count": 57,
   "id": "6134ae71-11c7-4f94-b9ee-1817d978c526",
   "metadata": {},
   "outputs": [
    {
     "name": "stdout",
     "output_type": "stream",
     "text": [
      "knn\n"
     ]
    },
    {
     "data": {
      "application/vnd.jupyter.widget-view+json": {
       "model_id": "f251e0373f1144e0b1c85646ceee5347",
       "version_major": 2,
       "version_minor": 0
      },
      "text/plain": [
       "Folds avaliados:   0%|          | 0/20 [00:00<?, ?it/s]"
      ]
     },
     "metadata": {},
     "output_type": "display_data"
    },
    {
     "name": "stdout",
     "output_type": "stream",
     "text": [
      "knn_2\n"
     ]
    },
    {
     "data": {
      "application/vnd.jupyter.widget-view+json": {
       "model_id": "e2ec641cfc294476ae13e78d17423c10",
       "version_major": 2,
       "version_minor": 0
      },
      "text/plain": [
       "Folds avaliados:   0%|          | 0/20 [00:00<?, ?it/s]"
      ]
     },
     "metadata": {},
     "output_type": "display_data"
    },
    {
     "name": "stdout",
     "output_type": "stream",
     "text": [
      "knn_3\n"
     ]
    },
    {
     "data": {
      "application/vnd.jupyter.widget-view+json": {
       "model_id": "83fdf0c747d8477cb7e9343786fb1896",
       "version_major": 2,
       "version_minor": 0
      },
      "text/plain": [
       "Folds avaliados:   0%|          | 0/20 [00:00<?, ?it/s]"
      ]
     },
     "metadata": {},
     "output_type": "display_data"
    },
    {
     "name": "stdout",
     "output_type": "stream",
     "text": [
      "knn_new\n"
     ]
    },
    {
     "data": {
      "application/vnd.jupyter.widget-view+json": {
       "model_id": "d08222b26adb4866b1db90d742b5e291",
       "version_major": 2,
       "version_minor": 0
      },
      "text/plain": [
       "Folds avaliados:   0%|          | 0/20 [00:00<?, ?it/s]"
      ]
     },
     "metadata": {},
     "output_type": "display_data"
    },
    {
     "name": "stdout",
     "output_type": "stream",
     "text": [
      "knn_new_2\n"
     ]
    },
    {
     "data": {
      "application/vnd.jupyter.widget-view+json": {
       "model_id": "05c31dfd73994b27a235827e120aefd1",
       "version_major": 2,
       "version_minor": 0
      },
      "text/plain": [
       "Folds avaliados:   0%|          | 0/20 [00:00<?, ?it/s]"
      ]
     },
     "metadata": {},
     "output_type": "display_data"
    },
    {
     "name": "stdout",
     "output_type": "stream",
     "text": [
      "knn_new_3\n"
     ]
    },
    {
     "data": {
      "application/vnd.jupyter.widget-view+json": {
       "model_id": "d34f9cfabd21483d996b33635e210d59",
       "version_major": 2,
       "version_minor": 0
      },
      "text/plain": [
       "Folds avaliados:   0%|          | 0/20 [00:00<?, ?it/s]"
      ]
     },
     "metadata": {},
     "output_type": "display_data"
    },
    {
     "name": "stdout",
     "output_type": "stream",
     "text": [
      "knn_new_4\n"
     ]
    },
    {
     "data": {
      "application/vnd.jupyter.widget-view+json": {
       "model_id": "c6ddf8e197a94c4f87ffc368a6ba43fc",
       "version_major": 2,
       "version_minor": 0
      },
      "text/plain": [
       "Folds avaliados:   0%|          | 0/20 [00:00<?, ?it/s]"
      ]
     },
     "metadata": {},
     "output_type": "display_data"
    },
    {
     "name": "stdout",
     "output_type": "stream",
     "text": [
      "knn_new_5\n"
     ]
    },
    {
     "data": {
      "application/vnd.jupyter.widget-view+json": {
       "model_id": "ea9da25f3442418b8f658217900130c7",
       "version_major": 2,
       "version_minor": 0
      },
      "text/plain": [
       "Folds avaliados:   0%|          | 0/20 [00:00<?, ?it/s]"
      ]
     },
     "metadata": {},
     "output_type": "display_data"
    },
    {
     "name": "stdout",
     "output_type": "stream",
     "text": [
      "knn_new_6\n"
     ]
    },
    {
     "data": {
      "application/vnd.jupyter.widget-view+json": {
       "model_id": "be1dbc8f82694ef0b8d2f5a4e52a2ea7",
       "version_major": 2,
       "version_minor": 0
      },
      "text/plain": [
       "Folds avaliados:   0%|          | 0/20 [00:00<?, ?it/s]"
      ]
     },
     "metadata": {},
     "output_type": "display_data"
    },
    {
     "name": "stdout",
     "output_type": "stream",
     "text": [
      "knn_new_7\n"
     ]
    },
    {
     "data": {
      "application/vnd.jupyter.widget-view+json": {
       "model_id": "618f56e7ac854a839c1686dca2ff250e",
       "version_major": 2,
       "version_minor": 0
      },
      "text/plain": [
       "Folds avaliados:   0%|          | 0/20 [00:00<?, ?it/s]"
      ]
     },
     "metadata": {},
     "output_type": "display_data"
    },
    {
     "name": "stdout",
     "output_type": "stream",
     "text": [
      "knn_new_8\n"
     ]
    },
    {
     "data": {
      "application/vnd.jupyter.widget-view+json": {
       "model_id": "a15018e515a74b92a4ddac9f0b6fd607",
       "version_major": 2,
       "version_minor": 0
      },
      "text/plain": [
       "Folds avaliados:   0%|          | 0/20 [00:00<?, ?it/s]"
      ]
     },
     "metadata": {},
     "output_type": "display_data"
    },
    {
     "name": "stdout",
     "output_type": "stream",
     "text": [
      "knn_new_9\n"
     ]
    },
    {
     "data": {
      "application/vnd.jupyter.widget-view+json": {
       "model_id": "90753840caa047b982d0f4015f45ee00",
       "version_major": 2,
       "version_minor": 0
      },
      "text/plain": [
       "Folds avaliados:   0%|          | 0/20 [00:00<?, ?it/s]"
      ]
     },
     "metadata": {},
     "output_type": "display_data"
    },
    {
     "name": "stdout",
     "output_type": "stream",
     "text": [
      "knn_new_10\n"
     ]
    },
    {
     "data": {
      "application/vnd.jupyter.widget-view+json": {
       "model_id": "8cb3b2a94b6c4a33a2c840aa7091461d",
       "version_major": 2,
       "version_minor": 0
      },
      "text/plain": [
       "Folds avaliados:   0%|          | 0/20 [00:00<?, ?it/s]"
      ]
     },
     "metadata": {},
     "output_type": "display_data"
    }
   ],
   "source": [
    "resultados = {}\n",
    "for nome, classificador, scale, params in tests_knn:\n",
    "    print(nome)\n",
    "    r = do_cv(classificador, X_pca_df.values, y, 20, 20, 8, scale, params)\n",
    "    resultados[nome] = r"
   ]
  },
  {
   "cell_type": "code",
   "execution_count": 58,
   "id": "f5d9bbf0-580d-45d8-9928-1b3ab09ba9ee",
   "metadata": {},
   "outputs": [
    {
     "name": "stdout",
     "output_type": "stream",
     "text": [
      "                 knn - Resultados: 0.74 +- 0.09, min: 0.57, max: 0.89\n",
      "               knn_2 - Resultados: 0.74 +- 0.09, min: 0.57, max: 0.89\n",
      "               knn_3 - Resultados: 0.74 +- 0.09, min: 0.57, max: 0.89\n",
      "             knn_new - Resultados: 0.69 +- 0.10, min: 0.53, max: 0.84\n",
      "           knn_new_2 - Resultados: 0.69 +- 0.10, min: 0.53, max: 0.85\n",
      "           knn_new_3 - Resultados: 0.74 +- 0.09, min: 0.57, max: 0.89\n",
      "           knn_new_4 - Resultados: 0.74 +- 0.09, min: 0.57, max: 0.89\n",
      "           knn_new_5 - Resultados: 0.74 +- 0.09, min: 0.57, max: 0.89\n",
      "           knn_new_6 - Resultados: 0.74 +- 0.09, min: 0.57, max: 0.89\n",
      "           knn_new_7 - Resultados: 0.72 +- 0.10, min: 0.50, max: 0.91\n",
      "           knn_new_8 - Resultados: 0.72 +- 0.10, min: 0.50, max: 0.91\n",
      "           knn_new_9 - Resultados: 0.72 +- 0.10, min: 0.50, max: 0.91\n",
      "          knn_new_10 - Resultados: 0.72 +- 0.10, min: 0.50, max: 0.91\n"
     ]
    }
   ],
   "source": [
    "for teste in resultados:\n",
    "    print(teste.rjust(20), end=' - ')\n",
    "    imprimir_estatisticas(resultados[teste])"
   ]
  },
  {
   "cell_type": "code",
   "execution_count": 59,
   "id": "51430182-ef14-4fbc-b114-cfddccb2b3ef",
   "metadata": {},
   "outputs": [
    {
     "name": "stdout",
     "output_type": "stream",
     "text": [
      "knn\n"
     ]
    },
    {
     "data": {
      "application/vnd.jupyter.widget-view+json": {
       "model_id": "e7a91e1e972845aca855930192835adc",
       "version_major": 2,
       "version_minor": 0
      },
      "text/plain": [
       "Folds avaliados:   0%|          | 0/10 [00:00<?, ?it/s]"
      ]
     },
     "metadata": {},
     "output_type": "display_data"
    },
    {
     "name": "stdout",
     "output_type": "stream",
     "text": [
      "knn_2\n"
     ]
    },
    {
     "data": {
      "application/vnd.jupyter.widget-view+json": {
       "model_id": "5b0ed3fc98634721a68caa58829bf893",
       "version_major": 2,
       "version_minor": 0
      },
      "text/plain": [
       "Folds avaliados:   0%|          | 0/10 [00:00<?, ?it/s]"
      ]
     },
     "metadata": {},
     "output_type": "display_data"
    },
    {
     "name": "stdout",
     "output_type": "stream",
     "text": [
      "knn_3\n"
     ]
    },
    {
     "data": {
      "application/vnd.jupyter.widget-view+json": {
       "model_id": "9fa9be2296044400819794c56a568d78",
       "version_major": 2,
       "version_minor": 0
      },
      "text/plain": [
       "Folds avaliados:   0%|          | 0/10 [00:00<?, ?it/s]"
      ]
     },
     "metadata": {},
     "output_type": "display_data"
    },
    {
     "name": "stdout",
     "output_type": "stream",
     "text": [
      "knn_new\n"
     ]
    },
    {
     "data": {
      "application/vnd.jupyter.widget-view+json": {
       "model_id": "b294f68554d24b86ada4af2ffe11ed45",
       "version_major": 2,
       "version_minor": 0
      },
      "text/plain": [
       "Folds avaliados:   0%|          | 0/10 [00:00<?, ?it/s]"
      ]
     },
     "metadata": {},
     "output_type": "display_data"
    },
    {
     "name": "stdout",
     "output_type": "stream",
     "text": [
      "knn_new_2\n"
     ]
    },
    {
     "data": {
      "application/vnd.jupyter.widget-view+json": {
       "model_id": "ec3d8173e3874228944af567e105cefd",
       "version_major": 2,
       "version_minor": 0
      },
      "text/plain": [
       "Folds avaliados:   0%|          | 0/10 [00:00<?, ?it/s]"
      ]
     },
     "metadata": {},
     "output_type": "display_data"
    },
    {
     "name": "stdout",
     "output_type": "stream",
     "text": [
      "knn_new_3\n"
     ]
    },
    {
     "data": {
      "application/vnd.jupyter.widget-view+json": {
       "model_id": "db91b2f38797426b92b86f5684a35e7c",
       "version_major": 2,
       "version_minor": 0
      },
      "text/plain": [
       "Folds avaliados:   0%|          | 0/10 [00:00<?, ?it/s]"
      ]
     },
     "metadata": {},
     "output_type": "display_data"
    },
    {
     "name": "stdout",
     "output_type": "stream",
     "text": [
      "knn_new_4\n"
     ]
    },
    {
     "data": {
      "application/vnd.jupyter.widget-view+json": {
       "model_id": "47b9f9b0fa58498d834df17a8b1f34ec",
       "version_major": 2,
       "version_minor": 0
      },
      "text/plain": [
       "Folds avaliados:   0%|          | 0/10 [00:00<?, ?it/s]"
      ]
     },
     "metadata": {},
     "output_type": "display_data"
    },
    {
     "name": "stdout",
     "output_type": "stream",
     "text": [
      "knn_new_5\n"
     ]
    },
    {
     "data": {
      "application/vnd.jupyter.widget-view+json": {
       "model_id": "5df76e1ca1e146b797ab9e351565d936",
       "version_major": 2,
       "version_minor": 0
      },
      "text/plain": [
       "Folds avaliados:   0%|          | 0/10 [00:00<?, ?it/s]"
      ]
     },
     "metadata": {},
     "output_type": "display_data"
    },
    {
     "name": "stdout",
     "output_type": "stream",
     "text": [
      "knn_new_6\n"
     ]
    },
    {
     "data": {
      "application/vnd.jupyter.widget-view+json": {
       "model_id": "98e471e5e6a448519fcadebda438e726",
       "version_major": 2,
       "version_minor": 0
      },
      "text/plain": [
       "Folds avaliados:   0%|          | 0/10 [00:00<?, ?it/s]"
      ]
     },
     "metadata": {},
     "output_type": "display_data"
    },
    {
     "name": "stdout",
     "output_type": "stream",
     "text": [
      "knn_new_7\n"
     ]
    },
    {
     "data": {
      "application/vnd.jupyter.widget-view+json": {
       "model_id": "319da15e5e2d429c903551236ee24a42",
       "version_major": 2,
       "version_minor": 0
      },
      "text/plain": [
       "Folds avaliados:   0%|          | 0/10 [00:00<?, ?it/s]"
      ]
     },
     "metadata": {},
     "output_type": "display_data"
    },
    {
     "name": "stdout",
     "output_type": "stream",
     "text": [
      "knn_new_8\n"
     ]
    },
    {
     "data": {
      "application/vnd.jupyter.widget-view+json": {
       "model_id": "cd2202c4c89240faa863b5245a373d5d",
       "version_major": 2,
       "version_minor": 0
      },
      "text/plain": [
       "Folds avaliados:   0%|          | 0/10 [00:00<?, ?it/s]"
      ]
     },
     "metadata": {},
     "output_type": "display_data"
    },
    {
     "name": "stdout",
     "output_type": "stream",
     "text": [
      "knn_new_9\n"
     ]
    },
    {
     "data": {
      "application/vnd.jupyter.widget-view+json": {
       "model_id": "4bb06d5ce3d1493d9691fffd01091da5",
       "version_major": 2,
       "version_minor": 0
      },
      "text/plain": [
       "Folds avaliados:   0%|          | 0/10 [00:00<?, ?it/s]"
      ]
     },
     "metadata": {},
     "output_type": "display_data"
    },
    {
     "name": "stdout",
     "output_type": "stream",
     "text": [
      "knn_new_10\n"
     ]
    },
    {
     "data": {
      "application/vnd.jupyter.widget-view+json": {
       "model_id": "621790f35e1c48d09006d68f7e4e084e",
       "version_major": 2,
       "version_minor": 0
      },
      "text/plain": [
       "Folds avaliados:   0%|          | 0/10 [00:00<?, ?it/s]"
      ]
     },
     "metadata": {},
     "output_type": "display_data"
    }
   ],
   "source": [
    "resultados = {}\n",
    "for nome, classificador, scale, params in tests_knn:\n",
    "    print(nome)\n",
    "    r = do_cv(classificador, X_pca_df.values, y, 10, 10, 8, scale, params)\n",
    "    resultados[nome] = r"
   ]
  },
  {
   "cell_type": "code",
   "execution_count": 60,
   "id": "e03ca8d6-edd7-4081-86e9-35b960ee717d",
   "metadata": {},
   "outputs": [
    {
     "name": "stdout",
     "output_type": "stream",
     "text": [
      "                 knn - Resultados: 0.74 +- 0.04, min: 0.67, max: 0.81\n",
      "               knn_2 - Resultados: 0.74 +- 0.04, min: 0.67, max: 0.81\n",
      "               knn_3 - Resultados: 0.75 +- 0.04, min: 0.67, max: 0.81\n",
      "             knn_new - Resultados: 0.69 +- 0.06, min: 0.58, max: 0.79\n",
      "           knn_new_2 - Resultados: 0.69 +- 0.06, min: 0.58, max: 0.79\n",
      "           knn_new_3 - Resultados: 0.74 +- 0.04, min: 0.67, max: 0.81\n",
      "           knn_new_4 - Resultados: 0.74 +- 0.04, min: 0.67, max: 0.81\n",
      "           knn_new_5 - Resultados: 0.74 +- 0.04, min: 0.67, max: 0.81\n",
      "           knn_new_6 - Resultados: 0.74 +- 0.04, min: 0.67, max: 0.81\n",
      "           knn_new_7 - Resultados: 0.70 +- 0.05, min: 0.59, max: 0.76\n",
      "           knn_new_8 - Resultados: 0.70 +- 0.06, min: 0.59, max: 0.76\n",
      "           knn_new_9 - Resultados: 0.71 +- 0.06, min: 0.59, max: 0.76\n",
      "          knn_new_10 - Resultados: 0.71 +- 0.06, min: 0.59, max: 0.76\n"
     ]
    }
   ],
   "source": [
    "for teste in resultados:\n",
    "    print(teste.rjust(20), end=' - ')\n",
    "    imprimir_estatisticas(resultados[teste])"
   ]
  },
  {
   "cell_type": "code",
   "execution_count": 61,
   "id": "9fc3108a-9cc6-4349-94ad-6f613c6bc92f",
   "metadata": {},
   "outputs": [
    {
     "name": "stdout",
     "output_type": "stream",
     "text": [
      "knn\n"
     ]
    },
    {
     "data": {
      "application/vnd.jupyter.widget-view+json": {
       "model_id": "a0f18841ab5e47b4a7aec7cbcd8f6efb",
       "version_major": 2,
       "version_minor": 0
      },
      "text/plain": [
       "Folds avaliados:   0%|          | 0/30 [00:00<?, ?it/s]"
      ]
     },
     "metadata": {},
     "output_type": "display_data"
    },
    {
     "name": "stdout",
     "output_type": "stream",
     "text": [
      "knn_2\n"
     ]
    },
    {
     "data": {
      "application/vnd.jupyter.widget-view+json": {
       "model_id": "22b3dfbc8d7d40d69c855b5b260f6225",
       "version_major": 2,
       "version_minor": 0
      },
      "text/plain": [
       "Folds avaliados:   0%|          | 0/30 [00:00<?, ?it/s]"
      ]
     },
     "metadata": {},
     "output_type": "display_data"
    },
    {
     "name": "stdout",
     "output_type": "stream",
     "text": [
      "knn_3\n"
     ]
    },
    {
     "data": {
      "application/vnd.jupyter.widget-view+json": {
       "model_id": "26cc7e59f12b4d97b955080c1bcdfcd0",
       "version_major": 2,
       "version_minor": 0
      },
      "text/plain": [
       "Folds avaliados:   0%|          | 0/30 [00:00<?, ?it/s]"
      ]
     },
     "metadata": {},
     "output_type": "display_data"
    },
    {
     "name": "stdout",
     "output_type": "stream",
     "text": [
      "knn_new\n"
     ]
    },
    {
     "data": {
      "application/vnd.jupyter.widget-view+json": {
       "model_id": "b6e13dfda3944153954d89f1e808a93b",
       "version_major": 2,
       "version_minor": 0
      },
      "text/plain": [
       "Folds avaliados:   0%|          | 0/30 [00:00<?, ?it/s]"
      ]
     },
     "metadata": {},
     "output_type": "display_data"
    },
    {
     "name": "stdout",
     "output_type": "stream",
     "text": [
      "knn_new_2\n"
     ]
    },
    {
     "data": {
      "application/vnd.jupyter.widget-view+json": {
       "model_id": "66c6f2c8ab974c818b936648c465f22f",
       "version_major": 2,
       "version_minor": 0
      },
      "text/plain": [
       "Folds avaliados:   0%|          | 0/30 [00:00<?, ?it/s]"
      ]
     },
     "metadata": {},
     "output_type": "display_data"
    },
    {
     "name": "stdout",
     "output_type": "stream",
     "text": [
      "knn_new_3\n"
     ]
    },
    {
     "data": {
      "application/vnd.jupyter.widget-view+json": {
       "model_id": "1261dbdba8f94c64a61dc3bd12c98ce6",
       "version_major": 2,
       "version_minor": 0
      },
      "text/plain": [
       "Folds avaliados:   0%|          | 0/30 [00:00<?, ?it/s]"
      ]
     },
     "metadata": {},
     "output_type": "display_data"
    },
    {
     "name": "stdout",
     "output_type": "stream",
     "text": [
      "knn_new_4\n"
     ]
    },
    {
     "data": {
      "application/vnd.jupyter.widget-view+json": {
       "model_id": "672ebdc281784bf0949efcfe862c2b53",
       "version_major": 2,
       "version_minor": 0
      },
      "text/plain": [
       "Folds avaliados:   0%|          | 0/30 [00:00<?, ?it/s]"
      ]
     },
     "metadata": {},
     "output_type": "display_data"
    },
    {
     "name": "stdout",
     "output_type": "stream",
     "text": [
      "knn_new_5\n"
     ]
    },
    {
     "data": {
      "application/vnd.jupyter.widget-view+json": {
       "model_id": "8ef556d50b2e42ad89043f00bf72efd6",
       "version_major": 2,
       "version_minor": 0
      },
      "text/plain": [
       "Folds avaliados:   0%|          | 0/30 [00:00<?, ?it/s]"
      ]
     },
     "metadata": {},
     "output_type": "display_data"
    },
    {
     "name": "stdout",
     "output_type": "stream",
     "text": [
      "knn_new_6\n"
     ]
    },
    {
     "data": {
      "application/vnd.jupyter.widget-view+json": {
       "model_id": "08ce8ac3b78a4fb4bf75a78003c2aad5",
       "version_major": 2,
       "version_minor": 0
      },
      "text/plain": [
       "Folds avaliados:   0%|          | 0/30 [00:00<?, ?it/s]"
      ]
     },
     "metadata": {},
     "output_type": "display_data"
    },
    {
     "name": "stdout",
     "output_type": "stream",
     "text": [
      "knn_new_7\n"
     ]
    },
    {
     "data": {
      "application/vnd.jupyter.widget-view+json": {
       "model_id": "ea8d66ae6b1f40c699efea471c3d2a53",
       "version_major": 2,
       "version_minor": 0
      },
      "text/plain": [
       "Folds avaliados:   0%|          | 0/30 [00:00<?, ?it/s]"
      ]
     },
     "metadata": {},
     "output_type": "display_data"
    },
    {
     "name": "stdout",
     "output_type": "stream",
     "text": [
      "knn_new_8\n"
     ]
    },
    {
     "data": {
      "application/vnd.jupyter.widget-view+json": {
       "model_id": "2419c887381847a39403737665a16a0b",
       "version_major": 2,
       "version_minor": 0
      },
      "text/plain": [
       "Folds avaliados:   0%|          | 0/30 [00:00<?, ?it/s]"
      ]
     },
     "metadata": {},
     "output_type": "display_data"
    },
    {
     "name": "stdout",
     "output_type": "stream",
     "text": [
      "knn_new_9\n"
     ]
    },
    {
     "data": {
      "application/vnd.jupyter.widget-view+json": {
       "model_id": "97392b3a9ed34b67b1a0099d50edb49f",
       "version_major": 2,
       "version_minor": 0
      },
      "text/plain": [
       "Folds avaliados:   0%|          | 0/30 [00:00<?, ?it/s]"
      ]
     },
     "metadata": {},
     "output_type": "display_data"
    },
    {
     "name": "stdout",
     "output_type": "stream",
     "text": [
      "knn_new_10\n"
     ]
    },
    {
     "data": {
      "application/vnd.jupyter.widget-view+json": {
       "model_id": "85c6e30594dc4b0da08ba7dc06f30cc9",
       "version_major": 2,
       "version_minor": 0
      },
      "text/plain": [
       "Folds avaliados:   0%|          | 0/30 [00:00<?, ?it/s]"
      ]
     },
     "metadata": {},
     "output_type": "display_data"
    }
   ],
   "source": [
    "resultados = {}\n",
    "for nome, classificador, scale, params in tests_knn:\n",
    "    print(nome)\n",
    "    r = do_cv(classificador, X_pca_df.values, y, 30, 30, 8, scale, params)\n",
    "    resultados[nome] = r"
   ]
  },
  {
   "cell_type": "code",
   "execution_count": 62,
   "id": "6fc60d57-c12d-4a47-8e9f-40b493f8a5b6",
   "metadata": {},
   "outputs": [
    {
     "name": "stdout",
     "output_type": "stream",
     "text": [
      "                 knn - Resultados: 0.75 +- 0.10, min: 0.56, max: 0.92\n",
      "               knn_2 - Resultados: 0.75 +- 0.10, min: 0.56, max: 0.92\n",
      "               knn_3 - Resultados: 0.75 +- 0.10, min: 0.56, max: 0.92\n",
      "             knn_new - Resultados: 0.70 +- 0.10, min: 0.48, max: 0.92\n",
      "           knn_new_2 - Resultados: 0.69 +- 0.11, min: 0.48, max: 0.92\n",
      "           knn_new_3 - Resultados: 0.75 +- 0.10, min: 0.56, max: 0.92\n",
      "           knn_new_4 - Resultados: 0.75 +- 0.10, min: 0.56, max: 0.92\n",
      "           knn_new_5 - Resultados: 0.75 +- 0.10, min: 0.56, max: 0.92\n",
      "           knn_new_6 - Resultados: 0.75 +- 0.10, min: 0.56, max: 0.92\n",
      "           knn_new_7 - Resultados: 0.73 +- 0.10, min: 0.48, max: 0.91\n",
      "           knn_new_8 - Resultados: 0.73 +- 0.10, min: 0.48, max: 0.91\n",
      "           knn_new_9 - Resultados: 0.73 +- 0.10, min: 0.48, max: 0.91\n",
      "          knn_new_10 - Resultados: 0.73 +- 0.10, min: 0.48, max: 0.91\n"
     ]
    }
   ],
   "source": [
    "for teste in resultados:\n",
    "    print(teste.rjust(20), end=' - ')\n",
    "    imprimir_estatisticas(resultados[teste])"
   ]
  },
  {
   "cell_type": "code",
   "execution_count": 63,
   "id": "8eedb8f3-eb2d-4c28-9c69-6e65d1f57a23",
   "metadata": {},
   "outputs": [
    {
     "name": "stdout",
     "output_type": "stream",
     "text": [
      "knn\n"
     ]
    },
    {
     "data": {
      "application/vnd.jupyter.widget-view+json": {
       "model_id": "810ef4a9773e4aa4801b2df5931df234",
       "version_major": 2,
       "version_minor": 0
      },
      "text/plain": [
       "Folds avaliados:   0%|          | 0/100 [00:00<?, ?it/s]"
      ]
     },
     "metadata": {},
     "output_type": "display_data"
    },
    {
     "name": "stdout",
     "output_type": "stream",
     "text": [
      "knn_2\n"
     ]
    },
    {
     "data": {
      "application/vnd.jupyter.widget-view+json": {
       "model_id": "3ae33017757f4041a1322cc54489c2a0",
       "version_major": 2,
       "version_minor": 0
      },
      "text/plain": [
       "Folds avaliados:   0%|          | 0/100 [00:00<?, ?it/s]"
      ]
     },
     "metadata": {},
     "output_type": "display_data"
    },
    {
     "name": "stdout",
     "output_type": "stream",
     "text": [
      "knn_3\n"
     ]
    },
    {
     "data": {
      "application/vnd.jupyter.widget-view+json": {
       "model_id": "3e9f62e09d6a4a0784d3fe376948b04f",
       "version_major": 2,
       "version_minor": 0
      },
      "text/plain": [
       "Folds avaliados:   0%|          | 0/100 [00:00<?, ?it/s]"
      ]
     },
     "metadata": {},
     "output_type": "display_data"
    },
    {
     "name": "stdout",
     "output_type": "stream",
     "text": [
      "knn_new\n"
     ]
    },
    {
     "data": {
      "application/vnd.jupyter.widget-view+json": {
       "model_id": "f215fe5f9c1c41c28a6267705c4b4ebf",
       "version_major": 2,
       "version_minor": 0
      },
      "text/plain": [
       "Folds avaliados:   0%|          | 0/100 [00:00<?, ?it/s]"
      ]
     },
     "metadata": {},
     "output_type": "display_data"
    },
    {
     "name": "stdout",
     "output_type": "stream",
     "text": [
      "knn_new_2\n"
     ]
    },
    {
     "data": {
      "application/vnd.jupyter.widget-view+json": {
       "model_id": "106df0bcf31f40f184bf82e584bdee2f",
       "version_major": 2,
       "version_minor": 0
      },
      "text/plain": [
       "Folds avaliados:   0%|          | 0/100 [00:00<?, ?it/s]"
      ]
     },
     "metadata": {},
     "output_type": "display_data"
    },
    {
     "name": "stdout",
     "output_type": "stream",
     "text": [
      "knn_new_3\n"
     ]
    },
    {
     "data": {
      "application/vnd.jupyter.widget-view+json": {
       "model_id": "02e18c6deb004514876c46dbf821a4f0",
       "version_major": 2,
       "version_minor": 0
      },
      "text/plain": [
       "Folds avaliados:   0%|          | 0/100 [00:00<?, ?it/s]"
      ]
     },
     "metadata": {},
     "output_type": "display_data"
    },
    {
     "name": "stdout",
     "output_type": "stream",
     "text": [
      "knn_new_4\n"
     ]
    },
    {
     "data": {
      "application/vnd.jupyter.widget-view+json": {
       "model_id": "2dc71340f7754d87a23d05d0f0e2f1fd",
       "version_major": 2,
       "version_minor": 0
      },
      "text/plain": [
       "Folds avaliados:   0%|          | 0/100 [00:00<?, ?it/s]"
      ]
     },
     "metadata": {},
     "output_type": "display_data"
    },
    {
     "name": "stdout",
     "output_type": "stream",
     "text": [
      "knn_new_5\n"
     ]
    },
    {
     "data": {
      "application/vnd.jupyter.widget-view+json": {
       "model_id": "391a771ae4604e62b9e834279b4a727e",
       "version_major": 2,
       "version_minor": 0
      },
      "text/plain": [
       "Folds avaliados:   0%|          | 0/100 [00:00<?, ?it/s]"
      ]
     },
     "metadata": {},
     "output_type": "display_data"
    },
    {
     "name": "stdout",
     "output_type": "stream",
     "text": [
      "knn_new_6\n"
     ]
    },
    {
     "data": {
      "application/vnd.jupyter.widget-view+json": {
       "model_id": "d3ccd6181cc7476b9b44b4728c9d9645",
       "version_major": 2,
       "version_minor": 0
      },
      "text/plain": [
       "Folds avaliados:   0%|          | 0/100 [00:00<?, ?it/s]"
      ]
     },
     "metadata": {},
     "output_type": "display_data"
    },
    {
     "name": "stdout",
     "output_type": "stream",
     "text": [
      "knn_new_7\n"
     ]
    },
    {
     "data": {
      "application/vnd.jupyter.widget-view+json": {
       "model_id": "3c2f8bb9db3e4701ab4879b70724d867",
       "version_major": 2,
       "version_minor": 0
      },
      "text/plain": [
       "Folds avaliados:   0%|          | 0/100 [00:00<?, ?it/s]"
      ]
     },
     "metadata": {},
     "output_type": "display_data"
    },
    {
     "name": "stdout",
     "output_type": "stream",
     "text": [
      "knn_new_8\n"
     ]
    },
    {
     "data": {
      "application/vnd.jupyter.widget-view+json": {
       "model_id": "9ee63d7947f94a44a121556745068056",
       "version_major": 2,
       "version_minor": 0
      },
      "text/plain": [
       "Folds avaliados:   0%|          | 0/100 [00:00<?, ?it/s]"
      ]
     },
     "metadata": {},
     "output_type": "display_data"
    },
    {
     "name": "stdout",
     "output_type": "stream",
     "text": [
      "knn_new_9\n"
     ]
    },
    {
     "data": {
      "application/vnd.jupyter.widget-view+json": {
       "model_id": "599639ca3551497fa0fc4b7f6fca0aaf",
       "version_major": 2,
       "version_minor": 0
      },
      "text/plain": [
       "Folds avaliados:   0%|          | 0/100 [00:00<?, ?it/s]"
      ]
     },
     "metadata": {},
     "output_type": "display_data"
    },
    {
     "name": "stdout",
     "output_type": "stream",
     "text": [
      "knn_new_10\n"
     ]
    },
    {
     "data": {
      "application/vnd.jupyter.widget-view+json": {
       "model_id": "a933e1d1b8074812825991432cfc823a",
       "version_major": 2,
       "version_minor": 0
      },
      "text/plain": [
       "Folds avaliados:   0%|          | 0/100 [00:00<?, ?it/s]"
      ]
     },
     "metadata": {},
     "output_type": "display_data"
    }
   ],
   "source": [
    "resultados = {}\n",
    "for nome, classificador, scale, params in tests_knn:\n",
    "    print(nome)\n",
    "    r = do_cv(classificador, X_pca_df.values, y, 100, 100, 8, scale, params)\n",
    "    resultados[nome] = r"
   ]
  },
  {
   "cell_type": "code",
   "execution_count": 64,
   "id": "c84b74dc-eeb1-4c29-b2ce-d2453034707c",
   "metadata": {},
   "outputs": [
    {
     "name": "stdout",
     "output_type": "stream",
     "text": [
      "                 knn - Resultados: 0.74 +- 0.18, min: 0.33, max: 1.00\n",
      "               knn_2 - Resultados: 0.74 +- 0.18, min: 0.33, max: 1.00\n",
      "               knn_3 - Resultados: 0.74 +- 0.18, min: 0.33, max: 1.00\n",
      "             knn_new - Resultados: 0.69 +- 0.18, min: 0.33, max: 1.00\n",
      "           knn_new_2 - Resultados: 0.69 +- 0.18, min: 0.33, max: 1.00\n",
      "           knn_new_3 - Resultados: 0.74 +- 0.18, min: 0.33, max: 1.00\n",
      "           knn_new_4 - Resultados: 0.74 +- 0.18, min: 0.33, max: 1.00\n",
      "           knn_new_5 - Resultados: 0.74 +- 0.18, min: 0.33, max: 1.00\n",
      "           knn_new_6 - Resultados: 0.74 +- 0.18, min: 0.33, max: 1.00\n",
      "           knn_new_7 - Resultados: 0.72 +- 0.19, min: 0.29, max: 1.00\n",
      "           knn_new_8 - Resultados: 0.72 +- 0.19, min: 0.29, max: 1.00\n",
      "           knn_new_9 - Resultados: 0.72 +- 0.19, min: 0.29, max: 1.00\n",
      "          knn_new_10 - Resultados: 0.72 +- 0.19, min: 0.29, max: 1.00\n"
     ]
    }
   ],
   "source": [
    "for teste in resultados:\n",
    "    print(teste.rjust(20), end=' - ')\n",
    "    imprimir_estatisticas(resultados[teste])"
   ]
  },
  {
   "cell_type": "code",
   "execution_count": 66,
   "id": "84a44ec7-ca7e-4050-a623-b9a8e2644075",
   "metadata": {},
   "outputs": [
    {
     "name": "stdout",
     "output_type": "stream",
     "text": [
      "knn\n"
     ]
    },
    {
     "data": {
      "application/vnd.jupyter.widget-view+json": {
       "model_id": "24bf41df79f646c1932a979a6dd838e3",
       "version_major": 2,
       "version_minor": 0
      },
      "text/plain": [
       "Folds avaliados:   0%|          | 0/50 [00:00<?, ?it/s]"
      ]
     },
     "metadata": {},
     "output_type": "display_data"
    },
    {
     "name": "stdout",
     "output_type": "stream",
     "text": [
      "knn_2\n"
     ]
    },
    {
     "data": {
      "application/vnd.jupyter.widget-view+json": {
       "model_id": "3fb9ba4f07dd400584c5f3db48b4eee2",
       "version_major": 2,
       "version_minor": 0
      },
      "text/plain": [
       "Folds avaliados:   0%|          | 0/50 [00:00<?, ?it/s]"
      ]
     },
     "metadata": {},
     "output_type": "display_data"
    },
    {
     "name": "stdout",
     "output_type": "stream",
     "text": [
      "knn_new\n"
     ]
    },
    {
     "data": {
      "application/vnd.jupyter.widget-view+json": {
       "model_id": "b82df6eed43941eea7f92efb53456470",
       "version_major": 2,
       "version_minor": 0
      },
      "text/plain": [
       "Folds avaliados:   0%|          | 0/50 [00:00<?, ?it/s]"
      ]
     },
     "metadata": {},
     "output_type": "display_data"
    },
    {
     "name": "stdout",
     "output_type": "stream",
     "text": [
      "knn_new_2\n"
     ]
    },
    {
     "data": {
      "application/vnd.jupyter.widget-view+json": {
       "model_id": "aec912ce1dc142938bd499f919d0df48",
       "version_major": 2,
       "version_minor": 0
      },
      "text/plain": [
       "Folds avaliados:   0%|          | 0/50 [00:00<?, ?it/s]"
      ]
     },
     "metadata": {},
     "output_type": "display_data"
    },
    {
     "name": "stdout",
     "output_type": "stream",
     "text": [
      "knn_new_3\n"
     ]
    },
    {
     "data": {
      "application/vnd.jupyter.widget-view+json": {
       "model_id": "d2f90ddd0be54e8ead644f10ed12a3b2",
       "version_major": 2,
       "version_minor": 0
      },
      "text/plain": [
       "Folds avaliados:   0%|          | 0/50 [00:00<?, ?it/s]"
      ]
     },
     "metadata": {},
     "output_type": "display_data"
    },
    {
     "name": "stdout",
     "output_type": "stream",
     "text": [
      "knn_new_4\n"
     ]
    },
    {
     "data": {
      "application/vnd.jupyter.widget-view+json": {
       "model_id": "64b4a9522d8744f98980b8a57511ad72",
       "version_major": 2,
       "version_minor": 0
      },
      "text/plain": [
       "Folds avaliados:   0%|          | 0/50 [00:00<?, ?it/s]"
      ]
     },
     "metadata": {},
     "output_type": "display_data"
    },
    {
     "name": "stdout",
     "output_type": "stream",
     "text": [
      "knn_new_5\n"
     ]
    },
    {
     "data": {
      "application/vnd.jupyter.widget-view+json": {
       "model_id": "25f303f2ee294766afe19b64dfb2e813",
       "version_major": 2,
       "version_minor": 0
      },
      "text/plain": [
       "Folds avaliados:   0%|          | 0/50 [00:00<?, ?it/s]"
      ]
     },
     "metadata": {},
     "output_type": "display_data"
    },
    {
     "name": "stdout",
     "output_type": "stream",
     "text": [
      "knn_new_6\n"
     ]
    },
    {
     "data": {
      "application/vnd.jupyter.widget-view+json": {
       "model_id": "7f5be1d1b2a348c5834415aa8d6d4602",
       "version_major": 2,
       "version_minor": 0
      },
      "text/plain": [
       "Folds avaliados:   0%|          | 0/50 [00:00<?, ?it/s]"
      ]
     },
     "metadata": {},
     "output_type": "display_data"
    },
    {
     "name": "stdout",
     "output_type": "stream",
     "text": [
      "knn_new_7\n"
     ]
    },
    {
     "data": {
      "application/vnd.jupyter.widget-view+json": {
       "model_id": "1b22f873fea54a23b9b800e9b7bf0c34",
       "version_major": 2,
       "version_minor": 0
      },
      "text/plain": [
       "Folds avaliados:   0%|          | 0/50 [00:00<?, ?it/s]"
      ]
     },
     "metadata": {},
     "output_type": "display_data"
    },
    {
     "name": "stdout",
     "output_type": "stream",
     "text": [
      "knn_new_8\n"
     ]
    },
    {
     "data": {
      "application/vnd.jupyter.widget-view+json": {
       "model_id": "9af0351651bc4b9e96ae7302d6616ac7",
       "version_major": 2,
       "version_minor": 0
      },
      "text/plain": [
       "Folds avaliados:   0%|          | 0/50 [00:00<?, ?it/s]"
      ]
     },
     "metadata": {},
     "output_type": "display_data"
    },
    {
     "name": "stdout",
     "output_type": "stream",
     "text": [
      "knn_new_9\n"
     ]
    },
    {
     "data": {
      "application/vnd.jupyter.widget-view+json": {
       "model_id": "dd65c01d15214564aa67a690fae2ff2e",
       "version_major": 2,
       "version_minor": 0
      },
      "text/plain": [
       "Folds avaliados:   0%|          | 0/50 [00:00<?, ?it/s]"
      ]
     },
     "metadata": {},
     "output_type": "display_data"
    },
    {
     "name": "stdout",
     "output_type": "stream",
     "text": [
      "knn_new_10\n"
     ]
    },
    {
     "data": {
      "application/vnd.jupyter.widget-view+json": {
       "model_id": "eee0d5e5b0424f34a7827999682570ac",
       "version_major": 2,
       "version_minor": 0
      },
      "text/plain": [
       "Folds avaliados:   0%|          | 0/50 [00:00<?, ?it/s]"
      ]
     },
     "metadata": {},
     "output_type": "display_data"
    }
   ],
   "source": [
    "resultados = {}\n",
    "for nome, classificador, scale, params in tests_knn:\n",
    "    print(nome)\n",
    "    r = do_cv(classificador, X_pca_df.values, y, 50, 50, 8, scale, params)\n",
    "    resultados[nome] = r"
   ]
  },
  {
   "cell_type": "code",
   "execution_count": 67,
   "id": "32edf226-ea35-4f2f-b4dc-449a7b5f771b",
   "metadata": {},
   "outputs": [
    {
     "name": "stdout",
     "output_type": "stream",
     "text": [
      "                 knn - Resultados: 0.74 +- 0.13, min: 0.40, max: 1.00\n",
      "               knn_2 - Resultados: 0.74 +- 0.13, min: 0.40, max: 1.00\n",
      "             knn_new - Resultados: 0.68 +- 0.15, min: 0.40, max: 1.00\n",
      "           knn_new_2 - Resultados: 0.69 +- 0.16, min: 0.40, max: 1.00\n",
      "           knn_new_3 - Resultados: 0.74 +- 0.13, min: 0.40, max: 1.00\n",
      "           knn_new_4 - Resultados: 0.74 +- 0.13, min: 0.40, max: 1.00\n",
      "           knn_new_5 - Resultados: 0.74 +- 0.13, min: 0.40, max: 1.00\n",
      "           knn_new_6 - Resultados: 0.74 +- 0.13, min: 0.40, max: 1.00\n",
      "           knn_new_7 - Resultados: 0.73 +- 0.14, min: 0.44, max: 1.00\n",
      "           knn_new_8 - Resultados: 0.73 +- 0.14, min: 0.44, max: 1.00\n",
      "           knn_new_9 - Resultados: 0.73 +- 0.14, min: 0.44, max: 1.00\n",
      "          knn_new_10 - Resultados: 0.73 +- 0.14, min: 0.44, max: 1.00\n"
     ]
    }
   ],
   "source": [
    "for teste in resultados:\n",
    "    print(teste.rjust(20), end=' - ')\n",
    "    imprimir_estatisticas(resultados[teste])"
   ]
  },
  {
   "cell_type": "code",
   "execution_count": 68,
   "id": "2b2517d5-b9b0-4c7b-af78-8a76dc6160a3",
   "metadata": {},
   "outputs": [
    {
     "name": "stdout",
     "output_type": "stream",
     "text": [
      "knn\n"
     ]
    },
    {
     "data": {
      "application/vnd.jupyter.widget-view+json": {
       "model_id": "77255aa9022a4f0abdbc11d960b7424f",
       "version_major": 2,
       "version_minor": 0
      },
      "text/plain": [
       "Folds avaliados:   0%|          | 0/40 [00:00<?, ?it/s]"
      ]
     },
     "metadata": {},
     "output_type": "display_data"
    },
    {
     "name": "stdout",
     "output_type": "stream",
     "text": [
      "knn_2\n"
     ]
    },
    {
     "data": {
      "application/vnd.jupyter.widget-view+json": {
       "model_id": "93e76a6e1285475d866c8953080d7506",
       "version_major": 2,
       "version_minor": 0
      },
      "text/plain": [
       "Folds avaliados:   0%|          | 0/40 [00:00<?, ?it/s]"
      ]
     },
     "metadata": {},
     "output_type": "display_data"
    },
    {
     "name": "stdout",
     "output_type": "stream",
     "text": [
      "knn_new\n"
     ]
    },
    {
     "data": {
      "application/vnd.jupyter.widget-view+json": {
       "model_id": "bb67215d9ba9414988745892e990ac5c",
       "version_major": 2,
       "version_minor": 0
      },
      "text/plain": [
       "Folds avaliados:   0%|          | 0/40 [00:00<?, ?it/s]"
      ]
     },
     "metadata": {},
     "output_type": "display_data"
    },
    {
     "name": "stdout",
     "output_type": "stream",
     "text": [
      "knn_new_2\n"
     ]
    },
    {
     "data": {
      "application/vnd.jupyter.widget-view+json": {
       "model_id": "f9484f16a4404cb48172fa6545e211d5",
       "version_major": 2,
       "version_minor": 0
      },
      "text/plain": [
       "Folds avaliados:   0%|          | 0/40 [00:00<?, ?it/s]"
      ]
     },
     "metadata": {},
     "output_type": "display_data"
    },
    {
     "name": "stdout",
     "output_type": "stream",
     "text": [
      "knn_new_3\n"
     ]
    },
    {
     "data": {
      "application/vnd.jupyter.widget-view+json": {
       "model_id": "3d938a525fd64135945f5155141442b5",
       "version_major": 2,
       "version_minor": 0
      },
      "text/plain": [
       "Folds avaliados:   0%|          | 0/40 [00:00<?, ?it/s]"
      ]
     },
     "metadata": {},
     "output_type": "display_data"
    },
    {
     "name": "stdout",
     "output_type": "stream",
     "text": [
      "knn_new_4\n"
     ]
    },
    {
     "data": {
      "application/vnd.jupyter.widget-view+json": {
       "model_id": "3fc4dba655e64b8eaf8b8483e0b2f469",
       "version_major": 2,
       "version_minor": 0
      },
      "text/plain": [
       "Folds avaliados:   0%|          | 0/40 [00:00<?, ?it/s]"
      ]
     },
     "metadata": {},
     "output_type": "display_data"
    },
    {
     "name": "stdout",
     "output_type": "stream",
     "text": [
      "knn_new_5\n"
     ]
    },
    {
     "data": {
      "application/vnd.jupyter.widget-view+json": {
       "model_id": "e57fe237500b456b83c66f3ddedf45d4",
       "version_major": 2,
       "version_minor": 0
      },
      "text/plain": [
       "Folds avaliados:   0%|          | 0/40 [00:00<?, ?it/s]"
      ]
     },
     "metadata": {},
     "output_type": "display_data"
    },
    {
     "name": "stdout",
     "output_type": "stream",
     "text": [
      "knn_new_6\n"
     ]
    },
    {
     "data": {
      "application/vnd.jupyter.widget-view+json": {
       "model_id": "be15231f13684f79b879d4228d1fa103",
       "version_major": 2,
       "version_minor": 0
      },
      "text/plain": [
       "Folds avaliados:   0%|          | 0/40 [00:00<?, ?it/s]"
      ]
     },
     "metadata": {},
     "output_type": "display_data"
    },
    {
     "name": "stdout",
     "output_type": "stream",
     "text": [
      "knn_new_7\n"
     ]
    },
    {
     "data": {
      "application/vnd.jupyter.widget-view+json": {
       "model_id": "67a8081ddb234617a02c54a79837d482",
       "version_major": 2,
       "version_minor": 0
      },
      "text/plain": [
       "Folds avaliados:   0%|          | 0/40 [00:00<?, ?it/s]"
      ]
     },
     "metadata": {},
     "output_type": "display_data"
    },
    {
     "name": "stdout",
     "output_type": "stream",
     "text": [
      "knn_new_8\n"
     ]
    },
    {
     "data": {
      "application/vnd.jupyter.widget-view+json": {
       "model_id": "c090a783b680424989ed2c328fa66267",
       "version_major": 2,
       "version_minor": 0
      },
      "text/plain": [
       "Folds avaliados:   0%|          | 0/40 [00:00<?, ?it/s]"
      ]
     },
     "metadata": {},
     "output_type": "display_data"
    },
    {
     "name": "stdout",
     "output_type": "stream",
     "text": [
      "knn_new_9\n"
     ]
    },
    {
     "data": {
      "application/vnd.jupyter.widget-view+json": {
       "model_id": "03ce9018b5064e2f8f096970b5874a3b",
       "version_major": 2,
       "version_minor": 0
      },
      "text/plain": [
       "Folds avaliados:   0%|          | 0/40 [00:00<?, ?it/s]"
      ]
     },
     "metadata": {},
     "output_type": "display_data"
    },
    {
     "name": "stdout",
     "output_type": "stream",
     "text": [
      "knn_new_10\n"
     ]
    },
    {
     "data": {
      "application/vnd.jupyter.widget-view+json": {
       "model_id": "b9ddec254dc24a5f87001b0aeab4cfbb",
       "version_major": 2,
       "version_minor": 0
      },
      "text/plain": [
       "Folds avaliados:   0%|          | 0/40 [00:00<?, ?it/s]"
      ]
     },
     "metadata": {},
     "output_type": "display_data"
    }
   ],
   "source": [
    "resultados = {}\n",
    "for nome, classificador, scale, params in tests_knn:\n",
    "    print(nome)\n",
    "    r = do_cv(classificador, X_pca_df.values, y, 40, 40, 8, scale, params)\n",
    "    resultados[nome] = r"
   ]
  },
  {
   "cell_type": "code",
   "execution_count": 69,
   "id": "e78c27eb-cff9-4858-bdde-9b09c5d4972c",
   "metadata": {},
   "outputs": [
    {
     "name": "stdout",
     "output_type": "stream",
     "text": [
      "                 knn - Resultados: 0.74 +- 0.12, min: 0.50, max: 0.95\n",
      "               knn_2 - Resultados: 0.74 +- 0.12, min: 0.50, max: 0.95\n",
      "             knn_new - Resultados: 0.68 +- 0.14, min: 0.36, max: 0.94\n",
      "           knn_new_2 - Resultados: 0.68 +- 0.14, min: 0.36, max: 0.94\n",
      "           knn_new_3 - Resultados: 0.74 +- 0.12, min: 0.50, max: 0.95\n",
      "           knn_new_4 - Resultados: 0.74 +- 0.12, min: 0.50, max: 0.95\n",
      "           knn_new_5 - Resultados: 0.74 +- 0.12, min: 0.50, max: 0.95\n",
      "           knn_new_6 - Resultados: 0.74 +- 0.12, min: 0.50, max: 0.95\n",
      "           knn_new_7 - Resultados: 0.73 +- 0.13, min: 0.50, max: 1.00\n",
      "           knn_new_8 - Resultados: 0.73 +- 0.13, min: 0.50, max: 1.00\n",
      "           knn_new_9 - Resultados: 0.73 +- 0.13, min: 0.50, max: 1.00\n",
      "          knn_new_10 - Resultados: 0.73 +- 0.13, min: 0.50, max: 1.00\n"
     ]
    }
   ],
   "source": [
    "for teste in resultados:\n",
    "    print(teste.rjust(20), end=' - ')\n",
    "    imprimir_estatisticas(resultados[teste])"
   ]
  },
  {
   "cell_type": "code",
   "execution_count": 70,
   "id": "3becd59e-83d0-4070-b170-1fa7fd1272ae",
   "metadata": {},
   "outputs": [
    {
     "name": "stdout",
     "output_type": "stream",
     "text": [
      "knn\n"
     ]
    },
    {
     "data": {
      "application/vnd.jupyter.widget-view+json": {
       "model_id": "a848a2dbe1e34796b1382654c2f9b173",
       "version_major": 2,
       "version_minor": 0
      },
      "text/plain": [
       "Folds avaliados:   0%|          | 0/45 [00:00<?, ?it/s]"
      ]
     },
     "metadata": {},
     "output_type": "display_data"
    },
    {
     "name": "stdout",
     "output_type": "stream",
     "text": [
      "knn_2\n"
     ]
    },
    {
     "data": {
      "application/vnd.jupyter.widget-view+json": {
       "model_id": "a400c440bb58480b9ca41881bb008777",
       "version_major": 2,
       "version_minor": 0
      },
      "text/plain": [
       "Folds avaliados:   0%|          | 0/45 [00:00<?, ?it/s]"
      ]
     },
     "metadata": {},
     "output_type": "display_data"
    },
    {
     "name": "stdout",
     "output_type": "stream",
     "text": [
      "knn_new\n"
     ]
    },
    {
     "data": {
      "application/vnd.jupyter.widget-view+json": {
       "model_id": "7b372709483444579c91543b2090bb08",
       "version_major": 2,
       "version_minor": 0
      },
      "text/plain": [
       "Folds avaliados:   0%|          | 0/45 [00:00<?, ?it/s]"
      ]
     },
     "metadata": {},
     "output_type": "display_data"
    },
    {
     "name": "stdout",
     "output_type": "stream",
     "text": [
      "knn_new_2\n"
     ]
    },
    {
     "data": {
      "application/vnd.jupyter.widget-view+json": {
       "model_id": "fbf1922ef2b54fa6b5f72b9a96f1f699",
       "version_major": 2,
       "version_minor": 0
      },
      "text/plain": [
       "Folds avaliados:   0%|          | 0/45 [00:00<?, ?it/s]"
      ]
     },
     "metadata": {},
     "output_type": "display_data"
    },
    {
     "name": "stdout",
     "output_type": "stream",
     "text": [
      "knn_new_3\n"
     ]
    },
    {
     "data": {
      "application/vnd.jupyter.widget-view+json": {
       "model_id": "f427f39050c3402a9a51329baf3a2d20",
       "version_major": 2,
       "version_minor": 0
      },
      "text/plain": [
       "Folds avaliados:   0%|          | 0/45 [00:00<?, ?it/s]"
      ]
     },
     "metadata": {},
     "output_type": "display_data"
    },
    {
     "name": "stdout",
     "output_type": "stream",
     "text": [
      "knn_new_4\n"
     ]
    },
    {
     "data": {
      "application/vnd.jupyter.widget-view+json": {
       "model_id": "1037a1586e5a4f8389d7028ac2758186",
       "version_major": 2,
       "version_minor": 0
      },
      "text/plain": [
       "Folds avaliados:   0%|          | 0/45 [00:00<?, ?it/s]"
      ]
     },
     "metadata": {},
     "output_type": "display_data"
    },
    {
     "name": "stdout",
     "output_type": "stream",
     "text": [
      "knn_new_5\n"
     ]
    },
    {
     "data": {
      "application/vnd.jupyter.widget-view+json": {
       "model_id": "922c7d8cdc944274ac001bdf1bf372ac",
       "version_major": 2,
       "version_minor": 0
      },
      "text/plain": [
       "Folds avaliados:   0%|          | 0/45 [00:00<?, ?it/s]"
      ]
     },
     "metadata": {},
     "output_type": "display_data"
    },
    {
     "name": "stdout",
     "output_type": "stream",
     "text": [
      "knn_new_6\n"
     ]
    },
    {
     "data": {
      "application/vnd.jupyter.widget-view+json": {
       "model_id": "c83d1ea866914148b535e262ec9a3c0f",
       "version_major": 2,
       "version_minor": 0
      },
      "text/plain": [
       "Folds avaliados:   0%|          | 0/45 [00:00<?, ?it/s]"
      ]
     },
     "metadata": {},
     "output_type": "display_data"
    },
    {
     "name": "stdout",
     "output_type": "stream",
     "text": [
      "knn_new_7\n"
     ]
    },
    {
     "data": {
      "application/vnd.jupyter.widget-view+json": {
       "model_id": "90d0af8cb2ed4853a444b5f4ce672501",
       "version_major": 2,
       "version_minor": 0
      },
      "text/plain": [
       "Folds avaliados:   0%|          | 0/45 [00:00<?, ?it/s]"
      ]
     },
     "metadata": {},
     "output_type": "display_data"
    },
    {
     "name": "stdout",
     "output_type": "stream",
     "text": [
      "knn_new_8\n"
     ]
    },
    {
     "data": {
      "application/vnd.jupyter.widget-view+json": {
       "model_id": "454965de34b9423488cc8a978757c904",
       "version_major": 2,
       "version_minor": 0
      },
      "text/plain": [
       "Folds avaliados:   0%|          | 0/45 [00:00<?, ?it/s]"
      ]
     },
     "metadata": {},
     "output_type": "display_data"
    },
    {
     "name": "stdout",
     "output_type": "stream",
     "text": [
      "knn_new_9\n"
     ]
    },
    {
     "data": {
      "application/vnd.jupyter.widget-view+json": {
       "model_id": "b44474fd22434d8aa0be776fcda7daed",
       "version_major": 2,
       "version_minor": 0
      },
      "text/plain": [
       "Folds avaliados:   0%|          | 0/45 [00:00<?, ?it/s]"
      ]
     },
     "metadata": {},
     "output_type": "display_data"
    },
    {
     "name": "stdout",
     "output_type": "stream",
     "text": [
      "knn_new_10\n"
     ]
    },
    {
     "data": {
      "application/vnd.jupyter.widget-view+json": {
       "model_id": "20955a1f16304111b6f5628b548d01be",
       "version_major": 2,
       "version_minor": 0
      },
      "text/plain": [
       "Folds avaliados:   0%|          | 0/45 [00:00<?, ?it/s]"
      ]
     },
     "metadata": {},
     "output_type": "display_data"
    }
   ],
   "source": [
    "resultados = {}\n",
    "for nome, classificador, scale, params in tests_knn:\n",
    "    print(nome)\n",
    "    r = do_cv(classificador, X_pca_df.values, y, 45, 45, 8, scale, params)\n",
    "    resultados[nome] = r"
   ]
  },
  {
   "cell_type": "code",
   "execution_count": 71,
   "id": "1d070e17-d25f-41a2-b45b-65bba7b480d2",
   "metadata": {},
   "outputs": [
    {
     "name": "stdout",
     "output_type": "stream",
     "text": [
      "                 knn - Resultados: 0.74 +- 0.13, min: 0.50, max: 0.94\n",
      "               knn_2 - Resultados: 0.74 +- 0.13, min: 0.50, max: 0.94\n",
      "             knn_new - Resultados: 0.69 +- 0.13, min: 0.31, max: 1.00\n",
      "           knn_new_2 - Resultados: 0.69 +- 0.13, min: 0.31, max: 1.00\n",
      "           knn_new_3 - Resultados: 0.74 +- 0.13, min: 0.50, max: 0.94\n",
      "           knn_new_4 - Resultados: 0.74 +- 0.13, min: 0.50, max: 0.94\n",
      "           knn_new_5 - Resultados: 0.74 +- 0.13, min: 0.50, max: 0.94\n",
      "           knn_new_6 - Resultados: 0.74 +- 0.13, min: 0.50, max: 0.94\n",
      "           knn_new_7 - Resultados: 0.73 +- 0.13, min: 0.53, max: 0.94\n",
      "           knn_new_8 - Resultados: 0.73 +- 0.13, min: 0.53, max: 0.94\n",
      "           knn_new_9 - Resultados: 0.73 +- 0.13, min: 0.53, max: 0.94\n",
      "          knn_new_10 - Resultados: 0.73 +- 0.13, min: 0.53, max: 0.94\n"
     ]
    }
   ],
   "source": [
    "for teste in resultados:\n",
    "    print(teste.rjust(20), end=' - ')\n",
    "    imprimir_estatisticas(resultados[teste])"
   ]
  },
  {
   "cell_type": "code",
   "execution_count": 72,
   "id": "1e7798c3-3cb8-4736-a6e9-e5f8ae800f8c",
   "metadata": {},
   "outputs": [
    {
     "name": "stdout",
     "output_type": "stream",
     "text": [
      "knn\n"
     ]
    },
    {
     "data": {
      "application/vnd.jupyter.widget-view+json": {
       "model_id": "b557db0830664452845029f0759d9593",
       "version_major": 2,
       "version_minor": 0
      },
      "text/plain": [
       "Folds avaliados:   0%|          | 0/10 [00:00<?, ?it/s]"
      ]
     },
     "metadata": {},
     "output_type": "display_data"
    },
    {
     "name": "stdout",
     "output_type": "stream",
     "text": [
      "knn_2\n"
     ]
    },
    {
     "data": {
      "application/vnd.jupyter.widget-view+json": {
       "model_id": "43198246a27f425caf12b92f7db890a7",
       "version_major": 2,
       "version_minor": 0
      },
      "text/plain": [
       "Folds avaliados:   0%|          | 0/10 [00:00<?, ?it/s]"
      ]
     },
     "metadata": {},
     "output_type": "display_data"
    },
    {
     "name": "stdout",
     "output_type": "stream",
     "text": [
      "knn_new\n"
     ]
    },
    {
     "data": {
      "application/vnd.jupyter.widget-view+json": {
       "model_id": "cd7906ff8c0a4a299f531015a17b6198",
       "version_major": 2,
       "version_minor": 0
      },
      "text/plain": [
       "Folds avaliados:   0%|          | 0/10 [00:00<?, ?it/s]"
      ]
     },
     "metadata": {},
     "output_type": "display_data"
    },
    {
     "name": "stdout",
     "output_type": "stream",
     "text": [
      "knn_new_2\n"
     ]
    },
    {
     "data": {
      "application/vnd.jupyter.widget-view+json": {
       "model_id": "7271f118c7b449219f0e994389e4fe2c",
       "version_major": 2,
       "version_minor": 0
      },
      "text/plain": [
       "Folds avaliados:   0%|          | 0/10 [00:00<?, ?it/s]"
      ]
     },
     "metadata": {},
     "output_type": "display_data"
    },
    {
     "name": "stdout",
     "output_type": "stream",
     "text": [
      "knn_new_3\n"
     ]
    },
    {
     "data": {
      "application/vnd.jupyter.widget-view+json": {
       "model_id": "934bb2646b84437c854886435d3018ca",
       "version_major": 2,
       "version_minor": 0
      },
      "text/plain": [
       "Folds avaliados:   0%|          | 0/10 [00:00<?, ?it/s]"
      ]
     },
     "metadata": {},
     "output_type": "display_data"
    },
    {
     "name": "stdout",
     "output_type": "stream",
     "text": [
      "knn_new_4\n"
     ]
    },
    {
     "data": {
      "application/vnd.jupyter.widget-view+json": {
       "model_id": "7dd1e214d97f4323bcc56470b514ada4",
       "version_major": 2,
       "version_minor": 0
      },
      "text/plain": [
       "Folds avaliados:   0%|          | 0/10 [00:00<?, ?it/s]"
      ]
     },
     "metadata": {},
     "output_type": "display_data"
    },
    {
     "name": "stdout",
     "output_type": "stream",
     "text": [
      "knn_new_5\n"
     ]
    },
    {
     "data": {
      "application/vnd.jupyter.widget-view+json": {
       "model_id": "4a987bc774e341f9a1ddb68164af00fc",
       "version_major": 2,
       "version_minor": 0
      },
      "text/plain": [
       "Folds avaliados:   0%|          | 0/10 [00:00<?, ?it/s]"
      ]
     },
     "metadata": {},
     "output_type": "display_data"
    },
    {
     "name": "stdout",
     "output_type": "stream",
     "text": [
      "knn_new_6\n"
     ]
    },
    {
     "data": {
      "application/vnd.jupyter.widget-view+json": {
       "model_id": "040a7c6f923e4deb8e0b216c83eb7233",
       "version_major": 2,
       "version_minor": 0
      },
      "text/plain": [
       "Folds avaliados:   0%|          | 0/10 [00:00<?, ?it/s]"
      ]
     },
     "metadata": {},
     "output_type": "display_data"
    },
    {
     "name": "stdout",
     "output_type": "stream",
     "text": [
      "knn_new_7\n"
     ]
    },
    {
     "data": {
      "application/vnd.jupyter.widget-view+json": {
       "model_id": "094cc1107aa24672a27bf00310751257",
       "version_major": 2,
       "version_minor": 0
      },
      "text/plain": [
       "Folds avaliados:   0%|          | 0/10 [00:00<?, ?it/s]"
      ]
     },
     "metadata": {},
     "output_type": "display_data"
    },
    {
     "name": "stdout",
     "output_type": "stream",
     "text": [
      "knn_new_8\n"
     ]
    },
    {
     "data": {
      "application/vnd.jupyter.widget-view+json": {
       "model_id": "7996776e15c04a5797d7bdc431ad19f5",
       "version_major": 2,
       "version_minor": 0
      },
      "text/plain": [
       "Folds avaliados:   0%|          | 0/10 [00:00<?, ?it/s]"
      ]
     },
     "metadata": {},
     "output_type": "display_data"
    },
    {
     "name": "stdout",
     "output_type": "stream",
     "text": [
      "knn_new_9\n"
     ]
    },
    {
     "data": {
      "application/vnd.jupyter.widget-view+json": {
       "model_id": "5d96d6015c2c46eaa4120240299e9a43",
       "version_major": 2,
       "version_minor": 0
      },
      "text/plain": [
       "Folds avaliados:   0%|          | 0/10 [00:00<?, ?it/s]"
      ]
     },
     "metadata": {},
     "output_type": "display_data"
    },
    {
     "name": "stdout",
     "output_type": "stream",
     "text": [
      "knn_new_10\n"
     ]
    },
    {
     "data": {
      "application/vnd.jupyter.widget-view+json": {
       "model_id": "49bc4c73d0d849ae855e1068407693f9",
       "version_major": 2,
       "version_minor": 0
      },
      "text/plain": [
       "Folds avaliados:   0%|          | 0/10 [00:00<?, ?it/s]"
      ]
     },
     "metadata": {},
     "output_type": "display_data"
    }
   ],
   "source": [
    "resultados = {}\n",
    "for nome, classificador, scale, params in tests_knn:\n",
    "    print(nome)\n",
    "    r = do_cv(classificador, X_pca_df.values, y, 10, 30, 8, scale, params)\n",
    "    resultados[nome] = r"
   ]
  },
  {
   "cell_type": "code",
   "execution_count": 73,
   "id": "df7ab5f9-a66d-43ec-ac7f-a746112b94e5",
   "metadata": {},
   "outputs": [
    {
     "name": "stdout",
     "output_type": "stream",
     "text": [
      "                 knn - Resultados: 0.74 +- 0.04, min: 0.67, max: 0.81\n",
      "               knn_2 - Resultados: 0.74 +- 0.04, min: 0.67, max: 0.81\n",
      "             knn_new - Resultados: 0.69 +- 0.07, min: 0.58, max: 0.81\n",
      "           knn_new_2 - Resultados: 0.69 +- 0.06, min: 0.58, max: 0.81\n",
      "           knn_new_3 - Resultados: 0.74 +- 0.04, min: 0.67, max: 0.81\n",
      "           knn_new_4 - Resultados: 0.74 +- 0.04, min: 0.67, max: 0.81\n",
      "           knn_new_5 - Resultados: 0.74 +- 0.04, min: 0.67, max: 0.81\n",
      "           knn_new_6 - Resultados: 0.74 +- 0.04, min: 0.67, max: 0.81\n",
      "           knn_new_7 - Resultados: 0.71 +- 0.06, min: 0.59, max: 0.76\n",
      "           knn_new_8 - Resultados: 0.71 +- 0.06, min: 0.59, max: 0.76\n",
      "           knn_new_9 - Resultados: 0.71 +- 0.06, min: 0.59, max: 0.76\n",
      "          knn_new_10 - Resultados: 0.71 +- 0.06, min: 0.59, max: 0.76\n"
     ]
    }
   ],
   "source": [
    "for teste in resultados:\n",
    "    print(teste.rjust(20), end=' - ')\n",
    "    imprimir_estatisticas(resultados[teste])"
   ]
  },
  {
   "cell_type": "code",
   "execution_count": 74,
   "id": "4f50c83f-ff05-4dff-9e08-05731486fdd0",
   "metadata": {},
   "outputs": [
    {
     "name": "stdout",
     "output_type": "stream",
     "text": [
      "knn\n"
     ]
    },
    {
     "data": {
      "application/vnd.jupyter.widget-view+json": {
       "model_id": "2416efb061a54827ad498f49746b30b7",
       "version_major": 2,
       "version_minor": 0
      },
      "text/plain": [
       "Folds avaliados:   0%|          | 0/30 [00:00<?, ?it/s]"
      ]
     },
     "metadata": {},
     "output_type": "display_data"
    },
    {
     "name": "stdout",
     "output_type": "stream",
     "text": [
      "knn_2\n"
     ]
    },
    {
     "data": {
      "application/vnd.jupyter.widget-view+json": {
       "model_id": "9d91d4357c1840a9844eff6c0dd8ad09",
       "version_major": 2,
       "version_minor": 0
      },
      "text/plain": [
       "Folds avaliados:   0%|          | 0/30 [00:00<?, ?it/s]"
      ]
     },
     "metadata": {},
     "output_type": "display_data"
    },
    {
     "name": "stdout",
     "output_type": "stream",
     "text": [
      "knn_new\n"
     ]
    },
    {
     "data": {
      "application/vnd.jupyter.widget-view+json": {
       "model_id": "319ee42d59764e2c8b1c4aee4dd199bc",
       "version_major": 2,
       "version_minor": 0
      },
      "text/plain": [
       "Folds avaliados:   0%|          | 0/30 [00:00<?, ?it/s]"
      ]
     },
     "metadata": {},
     "output_type": "display_data"
    },
    {
     "name": "stdout",
     "output_type": "stream",
     "text": [
      "knn_new_2\n"
     ]
    },
    {
     "data": {
      "application/vnd.jupyter.widget-view+json": {
       "model_id": "4c68d0d404934f92a0fddf20f0a41277",
       "version_major": 2,
       "version_minor": 0
      },
      "text/plain": [
       "Folds avaliados:   0%|          | 0/30 [00:00<?, ?it/s]"
      ]
     },
     "metadata": {},
     "output_type": "display_data"
    },
    {
     "name": "stdout",
     "output_type": "stream",
     "text": [
      "knn_new_3\n"
     ]
    },
    {
     "data": {
      "application/vnd.jupyter.widget-view+json": {
       "model_id": "28f2485aadc04955a16a5d54db94fd65",
       "version_major": 2,
       "version_minor": 0
      },
      "text/plain": [
       "Folds avaliados:   0%|          | 0/30 [00:00<?, ?it/s]"
      ]
     },
     "metadata": {},
     "output_type": "display_data"
    },
    {
     "name": "stdout",
     "output_type": "stream",
     "text": [
      "knn_new_4\n"
     ]
    },
    {
     "data": {
      "application/vnd.jupyter.widget-view+json": {
       "model_id": "74438fcfd53d40bd82cbeed67f4c8f2a",
       "version_major": 2,
       "version_minor": 0
      },
      "text/plain": [
       "Folds avaliados:   0%|          | 0/30 [00:00<?, ?it/s]"
      ]
     },
     "metadata": {},
     "output_type": "display_data"
    },
    {
     "name": "stdout",
     "output_type": "stream",
     "text": [
      "knn_new_5\n"
     ]
    },
    {
     "data": {
      "application/vnd.jupyter.widget-view+json": {
       "model_id": "ac55b81b74424972bcd886a38da1b3bc",
       "version_major": 2,
       "version_minor": 0
      },
      "text/plain": [
       "Folds avaliados:   0%|          | 0/30 [00:00<?, ?it/s]"
      ]
     },
     "metadata": {},
     "output_type": "display_data"
    },
    {
     "name": "stdout",
     "output_type": "stream",
     "text": [
      "knn_new_6\n"
     ]
    },
    {
     "data": {
      "application/vnd.jupyter.widget-view+json": {
       "model_id": "65d6db3ffb004da88815f5e5a70cbc97",
       "version_major": 2,
       "version_minor": 0
      },
      "text/plain": [
       "Folds avaliados:   0%|          | 0/30 [00:00<?, ?it/s]"
      ]
     },
     "metadata": {},
     "output_type": "display_data"
    },
    {
     "name": "stdout",
     "output_type": "stream",
     "text": [
      "knn_new_7\n"
     ]
    },
    {
     "data": {
      "application/vnd.jupyter.widget-view+json": {
       "model_id": "ddb56e99511b4c7d872b71768273cbef",
       "version_major": 2,
       "version_minor": 0
      },
      "text/plain": [
       "Folds avaliados:   0%|          | 0/30 [00:00<?, ?it/s]"
      ]
     },
     "metadata": {},
     "output_type": "display_data"
    },
    {
     "name": "stdout",
     "output_type": "stream",
     "text": [
      "knn_new_8\n"
     ]
    },
    {
     "data": {
      "application/vnd.jupyter.widget-view+json": {
       "model_id": "2e07085ed96448089c7837354d097406",
       "version_major": 2,
       "version_minor": 0
      },
      "text/plain": [
       "Folds avaliados:   0%|          | 0/30 [00:00<?, ?it/s]"
      ]
     },
     "metadata": {},
     "output_type": "display_data"
    },
    {
     "name": "stdout",
     "output_type": "stream",
     "text": [
      "knn_new_9\n"
     ]
    },
    {
     "data": {
      "application/vnd.jupyter.widget-view+json": {
       "model_id": "3436b96d85a149af9dfb6ce046388cb1",
       "version_major": 2,
       "version_minor": 0
      },
      "text/plain": [
       "Folds avaliados:   0%|          | 0/30 [00:00<?, ?it/s]"
      ]
     },
     "metadata": {},
     "output_type": "display_data"
    },
    {
     "name": "stdout",
     "output_type": "stream",
     "text": [
      "knn_new_10\n"
     ]
    },
    {
     "data": {
      "application/vnd.jupyter.widget-view+json": {
       "model_id": "41e46f0bd24947edaf5fb122d461d54c",
       "version_major": 2,
       "version_minor": 0
      },
      "text/plain": [
       "Folds avaliados:   0%|          | 0/30 [00:00<?, ?it/s]"
      ]
     },
     "metadata": {},
     "output_type": "display_data"
    }
   ],
   "source": [
    "resultados = {}\n",
    "for nome, classificador, scale, params in tests_knn:\n",
    "    print(nome)\n",
    "    r = do_cv(classificador, X_pca_df.values, y, 30, 10, 8, scale, params)\n",
    "    resultados[nome] = r"
   ]
  },
  {
   "cell_type": "code",
   "execution_count": 75,
   "id": "aebdb464-c13b-4fb7-a162-4f62a156bd9b",
   "metadata": {},
   "outputs": [
    {
     "name": "stdout",
     "output_type": "stream",
     "text": [
      "                 knn - Resultados: 0.74 +- 0.10, min: 0.56, max: 0.92\n",
      "               knn_2 - Resultados: 0.74 +- 0.12, min: 0.44, max: 0.92\n",
      "             knn_new - Resultados: 0.68 +- 0.10, min: 0.38, max: 0.87\n",
      "           knn_new_2 - Resultados: 0.68 +- 0.11, min: 0.38, max: 0.87\n",
      "           knn_new_3 - Resultados: 0.74 +- 0.10, min: 0.56, max: 0.92\n",
      "           knn_new_4 - Resultados: 0.74 +- 0.12, min: 0.44, max: 0.92\n",
      "           knn_new_5 - Resultados: 0.74 +- 0.10, min: 0.56, max: 0.92\n",
      "           knn_new_6 - Resultados: 0.74 +- 0.12, min: 0.44, max: 0.92\n",
      "           knn_new_7 - Resultados: 0.73 +- 0.10, min: 0.48, max: 0.91\n",
      "           knn_new_8 - Resultados: 0.73 +- 0.10, min: 0.48, max: 0.91\n",
      "           knn_new_9 - Resultados: 0.73 +- 0.10, min: 0.48, max: 0.91\n",
      "          knn_new_10 - Resultados: 0.73 +- 0.10, min: 0.48, max: 0.91\n"
     ]
    }
   ],
   "source": [
    "for teste in resultados:\n",
    "    print(teste.rjust(20), end=' - ')\n",
    "    imprimir_estatisticas(resultados[teste])"
   ]
  },
  {
   "cell_type": "code",
   "execution_count": 76,
   "id": "311a7e59-fca8-4888-b3a8-83c69d28ec96",
   "metadata": {},
   "outputs": [
    {
     "name": "stdout",
     "output_type": "stream",
     "text": [
      "knn\n"
     ]
    },
    {
     "data": {
      "application/vnd.jupyter.widget-view+json": {
       "model_id": "70f772ab1693422889d768c23d01ec1d",
       "version_major": 2,
       "version_minor": 0
      },
      "text/plain": [
       "Folds avaliados:   0%|          | 0/40 [00:00<?, ?it/s]"
      ]
     },
     "metadata": {},
     "output_type": "display_data"
    },
    {
     "name": "stdout",
     "output_type": "stream",
     "text": [
      "knn_2\n"
     ]
    },
    {
     "data": {
      "application/vnd.jupyter.widget-view+json": {
       "model_id": "bda3f067aeca49f5b6211e69d591c5f9",
       "version_major": 2,
       "version_minor": 0
      },
      "text/plain": [
       "Folds avaliados:   0%|          | 0/40 [00:00<?, ?it/s]"
      ]
     },
     "metadata": {},
     "output_type": "display_data"
    },
    {
     "name": "stdout",
     "output_type": "stream",
     "text": [
      "knn_new\n"
     ]
    },
    {
     "data": {
      "application/vnd.jupyter.widget-view+json": {
       "model_id": "5301faae884c411e8bfd292567bc1338",
       "version_major": 2,
       "version_minor": 0
      },
      "text/plain": [
       "Folds avaliados:   0%|          | 0/40 [00:00<?, ?it/s]"
      ]
     },
     "metadata": {},
     "output_type": "display_data"
    },
    {
     "name": "stdout",
     "output_type": "stream",
     "text": [
      "knn_new_2\n"
     ]
    },
    {
     "data": {
      "application/vnd.jupyter.widget-view+json": {
       "model_id": "068c43fed7324e95ad88af0d3ff862c8",
       "version_major": 2,
       "version_minor": 0
      },
      "text/plain": [
       "Folds avaliados:   0%|          | 0/40 [00:00<?, ?it/s]"
      ]
     },
     "metadata": {},
     "output_type": "display_data"
    },
    {
     "name": "stdout",
     "output_type": "stream",
     "text": [
      "knn_new_3\n"
     ]
    },
    {
     "data": {
      "application/vnd.jupyter.widget-view+json": {
       "model_id": "651ecf89e23f4bb3aa02613558be0414",
       "version_major": 2,
       "version_minor": 0
      },
      "text/plain": [
       "Folds avaliados:   0%|          | 0/40 [00:00<?, ?it/s]"
      ]
     },
     "metadata": {},
     "output_type": "display_data"
    },
    {
     "name": "stdout",
     "output_type": "stream",
     "text": [
      "knn_new_4\n"
     ]
    },
    {
     "data": {
      "application/vnd.jupyter.widget-view+json": {
       "model_id": "06b610efb6f04a0686d7077b6a4e5a6a",
       "version_major": 2,
       "version_minor": 0
      },
      "text/plain": [
       "Folds avaliados:   0%|          | 0/40 [00:00<?, ?it/s]"
      ]
     },
     "metadata": {},
     "output_type": "display_data"
    },
    {
     "name": "stdout",
     "output_type": "stream",
     "text": [
      "knn_new_5\n"
     ]
    },
    {
     "data": {
      "application/vnd.jupyter.widget-view+json": {
       "model_id": "5bff1160c1a0447f90580b16980e5a29",
       "version_major": 2,
       "version_minor": 0
      },
      "text/plain": [
       "Folds avaliados:   0%|          | 0/40 [00:00<?, ?it/s]"
      ]
     },
     "metadata": {},
     "output_type": "display_data"
    },
    {
     "name": "stdout",
     "output_type": "stream",
     "text": [
      "knn_new_6\n"
     ]
    },
    {
     "data": {
      "application/vnd.jupyter.widget-view+json": {
       "model_id": "3ac926034a524f60ad1be675b3cec343",
       "version_major": 2,
       "version_minor": 0
      },
      "text/plain": [
       "Folds avaliados:   0%|          | 0/40 [00:00<?, ?it/s]"
      ]
     },
     "metadata": {},
     "output_type": "display_data"
    },
    {
     "name": "stdout",
     "output_type": "stream",
     "text": [
      "knn_new_7\n"
     ]
    },
    {
     "data": {
      "application/vnd.jupyter.widget-view+json": {
       "model_id": "289af6aa21474a7e95c2d2c1660b3548",
       "version_major": 2,
       "version_minor": 0
      },
      "text/plain": [
       "Folds avaliados:   0%|          | 0/40 [00:00<?, ?it/s]"
      ]
     },
     "metadata": {},
     "output_type": "display_data"
    },
    {
     "name": "stdout",
     "output_type": "stream",
     "text": [
      "knn_new_8\n"
     ]
    },
    {
     "data": {
      "application/vnd.jupyter.widget-view+json": {
       "model_id": "f3b8c4dd7cf043b0bd720129d508d51e",
       "version_major": 2,
       "version_minor": 0
      },
      "text/plain": [
       "Folds avaliados:   0%|          | 0/40 [00:00<?, ?it/s]"
      ]
     },
     "metadata": {},
     "output_type": "display_data"
    },
    {
     "name": "stdout",
     "output_type": "stream",
     "text": [
      "knn_new_9\n"
     ]
    },
    {
     "data": {
      "application/vnd.jupyter.widget-view+json": {
       "model_id": "8c0ca3fac56c49669debf9eb689bf9de",
       "version_major": 2,
       "version_minor": 0
      },
      "text/plain": [
       "Folds avaliados:   0%|          | 0/40 [00:00<?, ?it/s]"
      ]
     },
     "metadata": {},
     "output_type": "display_data"
    },
    {
     "name": "stdout",
     "output_type": "stream",
     "text": [
      "knn_new_10\n"
     ]
    },
    {
     "data": {
      "application/vnd.jupyter.widget-view+json": {
       "model_id": "82cca31a20b64cb381b5dd9fe3f75bba",
       "version_major": 2,
       "version_minor": 0
      },
      "text/plain": [
       "Folds avaliados:   0%|          | 0/40 [00:00<?, ?it/s]"
      ]
     },
     "metadata": {},
     "output_type": "display_data"
    }
   ],
   "source": [
    "resultados = {}\n",
    "for nome, classificador, scale, params in tests_knn:\n",
    "    print(nome)\n",
    "    r = do_cv(classificador, X_pca_df.values, y, 40, 10, 8, scale, params)\n",
    "    resultados[nome] = r"
   ]
  },
  {
   "cell_type": "code",
   "execution_count": 77,
   "id": "84f88f38-8679-4005-b191-d6d90bee223e",
   "metadata": {},
   "outputs": [
    {
     "name": "stdout",
     "output_type": "stream",
     "text": [
      "                 knn - Resultados: 0.74 +- 0.12, min: 0.50, max: 0.95\n",
      "               knn_2 - Resultados: 0.74 +- 0.12, min: 0.50, max: 0.95\n",
      "             knn_new - Resultados: 0.69 +- 0.15, min: 0.20, max: 0.94\n",
      "           knn_new_2 - Resultados: 0.69 +- 0.15, min: 0.20, max: 0.94\n",
      "           knn_new_3 - Resultados: 0.74 +- 0.12, min: 0.50, max: 0.95\n",
      "           knn_new_4 - Resultados: 0.74 +- 0.12, min: 0.50, max: 0.95\n",
      "           knn_new_5 - Resultados: 0.74 +- 0.12, min: 0.50, max: 0.95\n",
      "           knn_new_6 - Resultados: 0.74 +- 0.12, min: 0.50, max: 0.95\n",
      "           knn_new_7 - Resultados: 0.72 +- 0.14, min: 0.38, max: 1.00\n",
      "           knn_new_8 - Resultados: 0.72 +- 0.14, min: 0.38, max: 1.00\n",
      "           knn_new_9 - Resultados: 0.72 +- 0.14, min: 0.38, max: 1.00\n",
      "          knn_new_10 - Resultados: 0.72 +- 0.14, min: 0.38, max: 1.00\n"
     ]
    }
   ],
   "source": [
    "for teste in resultados:\n",
    "    print(teste.rjust(20), end=' - ')\n",
    "    imprimir_estatisticas(resultados[teste])"
   ]
  },
  {
   "cell_type": "code",
   "execution_count": 78,
   "id": "783a8e47-e8a5-4514-b08e-67d4e4e4f099",
   "metadata": {},
   "outputs": [
    {
     "name": "stdout",
     "output_type": "stream",
     "text": [
      "knn\n"
     ]
    },
    {
     "data": {
      "application/vnd.jupyter.widget-view+json": {
       "model_id": "082e2ae9b2fe48cda052e742cfa38fee",
       "version_major": 2,
       "version_minor": 0
      },
      "text/plain": [
       "Folds avaliados:   0%|          | 0/50 [00:00<?, ?it/s]"
      ]
     },
     "metadata": {},
     "output_type": "display_data"
    },
    {
     "name": "stdout",
     "output_type": "stream",
     "text": [
      "knn_2\n"
     ]
    },
    {
     "data": {
      "application/vnd.jupyter.widget-view+json": {
       "model_id": "635dd2c46e24479c961ff9302b26bde8",
       "version_major": 2,
       "version_minor": 0
      },
      "text/plain": [
       "Folds avaliados:   0%|          | 0/50 [00:00<?, ?it/s]"
      ]
     },
     "metadata": {},
     "output_type": "display_data"
    },
    {
     "name": "stdout",
     "output_type": "stream",
     "text": [
      "knn_new\n"
     ]
    },
    {
     "data": {
      "application/vnd.jupyter.widget-view+json": {
       "model_id": "5856a05622dc4352b6e815932e66dcbc",
       "version_major": 2,
       "version_minor": 0
      },
      "text/plain": [
       "Folds avaliados:   0%|          | 0/50 [00:00<?, ?it/s]"
      ]
     },
     "metadata": {},
     "output_type": "display_data"
    },
    {
     "name": "stdout",
     "output_type": "stream",
     "text": [
      "knn_new_2\n"
     ]
    },
    {
     "data": {
      "application/vnd.jupyter.widget-view+json": {
       "model_id": "e6f1b430661c46499984275b3a0be579",
       "version_major": 2,
       "version_minor": 0
      },
      "text/plain": [
       "Folds avaliados:   0%|          | 0/50 [00:00<?, ?it/s]"
      ]
     },
     "metadata": {},
     "output_type": "display_data"
    },
    {
     "name": "stdout",
     "output_type": "stream",
     "text": [
      "knn_new_3\n"
     ]
    },
    {
     "data": {
      "application/vnd.jupyter.widget-view+json": {
       "model_id": "b46ebb3d5a3f4613bba03a961ab6f841",
       "version_major": 2,
       "version_minor": 0
      },
      "text/plain": [
       "Folds avaliados:   0%|          | 0/50 [00:00<?, ?it/s]"
      ]
     },
     "metadata": {},
     "output_type": "display_data"
    },
    {
     "name": "stdout",
     "output_type": "stream",
     "text": [
      "knn_new_4\n"
     ]
    },
    {
     "data": {
      "application/vnd.jupyter.widget-view+json": {
       "model_id": "a8731ba9509b46c182e1978da3955add",
       "version_major": 2,
       "version_minor": 0
      },
      "text/plain": [
       "Folds avaliados:   0%|          | 0/50 [00:00<?, ?it/s]"
      ]
     },
     "metadata": {},
     "output_type": "display_data"
    },
    {
     "name": "stdout",
     "output_type": "stream",
     "text": [
      "knn_new_5\n"
     ]
    },
    {
     "data": {
      "application/vnd.jupyter.widget-view+json": {
       "model_id": "d278929a98114fc9aa7f1e8a24cea0b2",
       "version_major": 2,
       "version_minor": 0
      },
      "text/plain": [
       "Folds avaliados:   0%|          | 0/50 [00:00<?, ?it/s]"
      ]
     },
     "metadata": {},
     "output_type": "display_data"
    },
    {
     "name": "stdout",
     "output_type": "stream",
     "text": [
      "knn_new_6\n"
     ]
    },
    {
     "data": {
      "application/vnd.jupyter.widget-view+json": {
       "model_id": "92bd3a963d2e4875ac9e4e2e3227c324",
       "version_major": 2,
       "version_minor": 0
      },
      "text/plain": [
       "Folds avaliados:   0%|          | 0/50 [00:00<?, ?it/s]"
      ]
     },
     "metadata": {},
     "output_type": "display_data"
    },
    {
     "name": "stdout",
     "output_type": "stream",
     "text": [
      "knn_new_7\n"
     ]
    },
    {
     "data": {
      "application/vnd.jupyter.widget-view+json": {
       "model_id": "fed31a05cf2f4e54990160863fbb08d7",
       "version_major": 2,
       "version_minor": 0
      },
      "text/plain": [
       "Folds avaliados:   0%|          | 0/50 [00:00<?, ?it/s]"
      ]
     },
     "metadata": {},
     "output_type": "display_data"
    },
    {
     "name": "stdout",
     "output_type": "stream",
     "text": [
      "knn_new_8\n"
     ]
    },
    {
     "data": {
      "application/vnd.jupyter.widget-view+json": {
       "model_id": "13339cabb10e414d8e6df8c5176e4595",
       "version_major": 2,
       "version_minor": 0
      },
      "text/plain": [
       "Folds avaliados:   0%|          | 0/50 [00:00<?, ?it/s]"
      ]
     },
     "metadata": {},
     "output_type": "display_data"
    },
    {
     "name": "stdout",
     "output_type": "stream",
     "text": [
      "knn_new_9\n"
     ]
    },
    {
     "data": {
      "application/vnd.jupyter.widget-view+json": {
       "model_id": "9438029e56a74f59972874d29e250480",
       "version_major": 2,
       "version_minor": 0
      },
      "text/plain": [
       "Folds avaliados:   0%|          | 0/50 [00:00<?, ?it/s]"
      ]
     },
     "metadata": {},
     "output_type": "display_data"
    },
    {
     "name": "stdout",
     "output_type": "stream",
     "text": [
      "knn_new_10\n"
     ]
    },
    {
     "data": {
      "application/vnd.jupyter.widget-view+json": {
       "model_id": "467cb63ba8a349918249ce70aa60a5b2",
       "version_major": 2,
       "version_minor": 0
      },
      "text/plain": [
       "Folds avaliados:   0%|          | 0/50 [00:00<?, ?it/s]"
      ]
     },
     "metadata": {},
     "output_type": "display_data"
    }
   ],
   "source": [
    "resultados = {}\n",
    "for nome, classificador, scale, params in tests_knn:\n",
    "    print(nome)\n",
    "    r = do_cv(classificador, X_pca_df.values, y, 50, 10, 8, scale, params)\n",
    "    resultados[nome] = r"
   ]
  },
  {
   "cell_type": "code",
   "execution_count": 79,
   "id": "e1a1ed25-1b30-4824-88eb-4e10a865900a",
   "metadata": {},
   "outputs": [
    {
     "name": "stdout",
     "output_type": "stream",
     "text": [
      "                 knn - Resultados: 0.74 +- 0.13, min: 0.40, max: 1.00\n",
      "               knn_2 - Resultados: 0.74 +- 0.13, min: 0.40, max: 1.00\n",
      "             knn_new - Resultados: 0.68 +- 0.15, min: 0.43, max: 1.00\n",
      "           knn_new_2 - Resultados: 0.68 +- 0.15, min: 0.43, max: 1.00\n",
      "           knn_new_3 - Resultados: 0.74 +- 0.13, min: 0.40, max: 1.00\n",
      "           knn_new_4 - Resultados: 0.74 +- 0.13, min: 0.40, max: 1.00\n",
      "           knn_new_5 - Resultados: 0.74 +- 0.13, min: 0.40, max: 1.00\n",
      "           knn_new_6 - Resultados: 0.74 +- 0.13, min: 0.40, max: 1.00\n",
      "           knn_new_7 - Resultados: 0.73 +- 0.14, min: 0.44, max: 1.00\n",
      "           knn_new_8 - Resultados: 0.73 +- 0.14, min: 0.44, max: 1.00\n",
      "           knn_new_9 - Resultados: 0.73 +- 0.14, min: 0.44, max: 1.00\n",
      "          knn_new_10 - Resultados: 0.73 +- 0.14, min: 0.44, max: 1.00\n"
     ]
    }
   ],
   "source": [
    "for teste in resultados:\n",
    "    print(teste.rjust(20), end=' - ')\n",
    "    imprimir_estatisticas(resultados[teste])"
   ]
  },
  {
   "cell_type": "code",
   "execution_count": 80,
   "id": "6c21d3c4-21fa-4bb3-9161-fff5ea8ec1aa",
   "metadata": {},
   "outputs": [
    {
     "name": "stdout",
     "output_type": "stream",
     "text": [
      "knn\n"
     ]
    },
    {
     "data": {
      "application/vnd.jupyter.widget-view+json": {
       "model_id": "58d9679a329a419badc6fbd61d7d3abf",
       "version_major": 2,
       "version_minor": 0
      },
      "text/plain": [
       "Folds avaliados:   0%|          | 0/50 [00:00<?, ?it/s]"
      ]
     },
     "metadata": {},
     "output_type": "display_data"
    },
    {
     "name": "stdout",
     "output_type": "stream",
     "text": [
      "knn_2\n"
     ]
    },
    {
     "data": {
      "application/vnd.jupyter.widget-view+json": {
       "model_id": "c731ac2427a044d39b216dc69c9bd9c7",
       "version_major": 2,
       "version_minor": 0
      },
      "text/plain": [
       "Folds avaliados:   0%|          | 0/50 [00:00<?, ?it/s]"
      ]
     },
     "metadata": {},
     "output_type": "display_data"
    },
    {
     "name": "stdout",
     "output_type": "stream",
     "text": [
      "knn_new\n"
     ]
    },
    {
     "data": {
      "application/vnd.jupyter.widget-view+json": {
       "model_id": "f31b049060a44818a352028911d7fdaf",
       "version_major": 2,
       "version_minor": 0
      },
      "text/plain": [
       "Folds avaliados:   0%|          | 0/50 [00:00<?, ?it/s]"
      ]
     },
     "metadata": {},
     "output_type": "display_data"
    },
    {
     "name": "stdout",
     "output_type": "stream",
     "text": [
      "knn_new_2\n"
     ]
    },
    {
     "data": {
      "application/vnd.jupyter.widget-view+json": {
       "model_id": "c717de6bd9ff445e987a9b0cb739c449",
       "version_major": 2,
       "version_minor": 0
      },
      "text/plain": [
       "Folds avaliados:   0%|          | 0/50 [00:00<?, ?it/s]"
      ]
     },
     "metadata": {},
     "output_type": "display_data"
    },
    {
     "name": "stdout",
     "output_type": "stream",
     "text": [
      "knn_new_3\n"
     ]
    },
    {
     "data": {
      "application/vnd.jupyter.widget-view+json": {
       "model_id": "d47da7eec3684bcc9cd454dc755b3f5d",
       "version_major": 2,
       "version_minor": 0
      },
      "text/plain": [
       "Folds avaliados:   0%|          | 0/50 [00:00<?, ?it/s]"
      ]
     },
     "metadata": {},
     "output_type": "display_data"
    },
    {
     "name": "stdout",
     "output_type": "stream",
     "text": [
      "knn_new_4\n"
     ]
    },
    {
     "data": {
      "application/vnd.jupyter.widget-view+json": {
       "model_id": "45e4ecb03e9e4821ad51159e9495bb62",
       "version_major": 2,
       "version_minor": 0
      },
      "text/plain": [
       "Folds avaliados:   0%|          | 0/50 [00:00<?, ?it/s]"
      ]
     },
     "metadata": {},
     "output_type": "display_data"
    },
    {
     "name": "stdout",
     "output_type": "stream",
     "text": [
      "knn_new_5\n"
     ]
    },
    {
     "data": {
      "application/vnd.jupyter.widget-view+json": {
       "model_id": "eeb4038185d642a5957aab2252c37dc6",
       "version_major": 2,
       "version_minor": 0
      },
      "text/plain": [
       "Folds avaliados:   0%|          | 0/50 [00:00<?, ?it/s]"
      ]
     },
     "metadata": {},
     "output_type": "display_data"
    },
    {
     "name": "stdout",
     "output_type": "stream",
     "text": [
      "knn_new_6\n"
     ]
    },
    {
     "data": {
      "application/vnd.jupyter.widget-view+json": {
       "model_id": "05660d98f2bb4fddbf4ce25a4bdae8b2",
       "version_major": 2,
       "version_minor": 0
      },
      "text/plain": [
       "Folds avaliados:   0%|          | 0/50 [00:00<?, ?it/s]"
      ]
     },
     "metadata": {},
     "output_type": "display_data"
    },
    {
     "name": "stdout",
     "output_type": "stream",
     "text": [
      "knn_new_7\n"
     ]
    },
    {
     "data": {
      "application/vnd.jupyter.widget-view+json": {
       "model_id": "11a59346a3374b10b1caa1975930df70",
       "version_major": 2,
       "version_minor": 0
      },
      "text/plain": [
       "Folds avaliados:   0%|          | 0/50 [00:00<?, ?it/s]"
      ]
     },
     "metadata": {},
     "output_type": "display_data"
    },
    {
     "name": "stdout",
     "output_type": "stream",
     "text": [
      "knn_new_8\n"
     ]
    },
    {
     "data": {
      "application/vnd.jupyter.widget-view+json": {
       "model_id": "1af98ac192474ff2aa84900537ca4f10",
       "version_major": 2,
       "version_minor": 0
      },
      "text/plain": [
       "Folds avaliados:   0%|          | 0/50 [00:00<?, ?it/s]"
      ]
     },
     "metadata": {},
     "output_type": "display_data"
    },
    {
     "name": "stdout",
     "output_type": "stream",
     "text": [
      "knn_new_9\n"
     ]
    },
    {
     "data": {
      "application/vnd.jupyter.widget-view+json": {
       "model_id": "c96be32ec67f4355977a75b5ba917cca",
       "version_major": 2,
       "version_minor": 0
      },
      "text/plain": [
       "Folds avaliados:   0%|          | 0/50 [00:00<?, ?it/s]"
      ]
     },
     "metadata": {},
     "output_type": "display_data"
    },
    {
     "name": "stdout",
     "output_type": "stream",
     "text": [
      "knn_new_10\n"
     ]
    },
    {
     "data": {
      "application/vnd.jupyter.widget-view+json": {
       "model_id": "ff51ef8a8e894e98b950cc08265979aa",
       "version_major": 2,
       "version_minor": 0
      },
      "text/plain": [
       "Folds avaliados:   0%|          | 0/50 [00:00<?, ?it/s]"
      ]
     },
     "metadata": {},
     "output_type": "display_data"
    }
   ],
   "source": [
    "resultados = {}\n",
    "for nome, classificador, scale, params in tests_knn:\n",
    "    print(nome)\n",
    "    r = do_cv(classificador, X_pca_df.values, y, 50, 15, 8, scale, params)\n",
    "    resultados[nome] = r"
   ]
  },
  {
   "cell_type": "code",
   "execution_count": 81,
   "id": "17ea7cb3-5f4f-40ce-9eae-3b24ade5b1e6",
   "metadata": {},
   "outputs": [
    {
     "name": "stdout",
     "output_type": "stream",
     "text": [
      "                 knn - Resultados: 0.74 +- 0.13, min: 0.40, max: 1.00\n",
      "               knn_2 - Resultados: 0.74 +- 0.13, min: 0.40, max: 1.00\n",
      "             knn_new - Resultados: 0.69 +- 0.15, min: 0.40, max: 1.00\n",
      "           knn_new_2 - Resultados: 0.68 +- 0.15, min: 0.40, max: 1.00\n",
      "           knn_new_3 - Resultados: 0.74 +- 0.13, min: 0.40, max: 1.00\n",
      "           knn_new_4 - Resultados: 0.74 +- 0.13, min: 0.40, max: 1.00\n",
      "           knn_new_5 - Resultados: 0.74 +- 0.13, min: 0.40, max: 1.00\n",
      "           knn_new_6 - Resultados: 0.74 +- 0.13, min: 0.40, max: 1.00\n",
      "           knn_new_7 - Resultados: 0.73 +- 0.14, min: 0.44, max: 1.00\n",
      "           knn_new_8 - Resultados: 0.73 +- 0.14, min: 0.44, max: 1.00\n",
      "           knn_new_9 - Resultados: 0.73 +- 0.14, min: 0.44, max: 1.00\n",
      "          knn_new_10 - Resultados: 0.73 +- 0.14, min: 0.44, max: 1.00\n"
     ]
    }
   ],
   "source": [
    "for teste in resultados:\n",
    "    print(teste.rjust(20), end=' - ')\n",
    "    imprimir_estatisticas(resultados[teste])"
   ]
  },
  {
   "cell_type": "code",
   "execution_count": 93,
   "id": "5128a08a-f94f-4f37-ac9e-a22a09e5ddc8",
   "metadata": {},
   "outputs": [
    {
     "name": "stdout",
     "output_type": "stream",
     "text": [
      "knn\n"
     ]
    },
    {
     "data": {
      "application/vnd.jupyter.widget-view+json": {
       "model_id": "8ac39890241b491b8bc0fe24d69554ca",
       "version_major": 2,
       "version_minor": 0
      },
      "text/plain": [
       "Folds avaliados:   0%|          | 0/50 [00:00<?, ?it/s]"
      ]
     },
     "metadata": {},
     "output_type": "display_data"
    },
    {
     "name": "stdout",
     "output_type": "stream",
     "text": [
      "knn_2\n"
     ]
    },
    {
     "data": {
      "application/vnd.jupyter.widget-view+json": {
       "model_id": "ea4560809b074ede95badb72c65d08af",
       "version_major": 2,
       "version_minor": 0
      },
      "text/plain": [
       "Folds avaliados:   0%|          | 0/50 [00:00<?, ?it/s]"
      ]
     },
     "metadata": {},
     "output_type": "display_data"
    },
    {
     "name": "stdout",
     "output_type": "stream",
     "text": [
      "knn_new\n"
     ]
    },
    {
     "data": {
      "application/vnd.jupyter.widget-view+json": {
       "model_id": "4fd86ca2dfcb4dce98a558bc08cb0c69",
       "version_major": 2,
       "version_minor": 0
      },
      "text/plain": [
       "Folds avaliados:   0%|          | 0/50 [00:00<?, ?it/s]"
      ]
     },
     "metadata": {},
     "output_type": "display_data"
    },
    {
     "name": "stdout",
     "output_type": "stream",
     "text": [
      "knn_new_2\n"
     ]
    },
    {
     "data": {
      "application/vnd.jupyter.widget-view+json": {
       "model_id": "73386a36a4a74249b76faf6d002b23fb",
       "version_major": 2,
       "version_minor": 0
      },
      "text/plain": [
       "Folds avaliados:   0%|          | 0/50 [00:00<?, ?it/s]"
      ]
     },
     "metadata": {},
     "output_type": "display_data"
    },
    {
     "name": "stdout",
     "output_type": "stream",
     "text": [
      "knn_new_3\n"
     ]
    },
    {
     "data": {
      "application/vnd.jupyter.widget-view+json": {
       "model_id": "9c121b0305394308a2cf1d6a21d3b2d7",
       "version_major": 2,
       "version_minor": 0
      },
      "text/plain": [
       "Folds avaliados:   0%|          | 0/50 [00:00<?, ?it/s]"
      ]
     },
     "metadata": {},
     "output_type": "display_data"
    },
    {
     "name": "stdout",
     "output_type": "stream",
     "text": [
      "knn_new_4\n"
     ]
    },
    {
     "data": {
      "application/vnd.jupyter.widget-view+json": {
       "model_id": "3f9eae0688cc436494f5c4d44a141630",
       "version_major": 2,
       "version_minor": 0
      },
      "text/plain": [
       "Folds avaliados:   0%|          | 0/50 [00:00<?, ?it/s]"
      ]
     },
     "metadata": {},
     "output_type": "display_data"
    },
    {
     "name": "stdout",
     "output_type": "stream",
     "text": [
      "knn_new_5\n"
     ]
    },
    {
     "data": {
      "application/vnd.jupyter.widget-view+json": {
       "model_id": "58a62929d2e6450eb9d15e40b64e7f0d",
       "version_major": 2,
       "version_minor": 0
      },
      "text/plain": [
       "Folds avaliados:   0%|          | 0/50 [00:00<?, ?it/s]"
      ]
     },
     "metadata": {},
     "output_type": "display_data"
    },
    {
     "name": "stdout",
     "output_type": "stream",
     "text": [
      "knn_new_6\n"
     ]
    },
    {
     "data": {
      "application/vnd.jupyter.widget-view+json": {
       "model_id": "4637479c45bb4722b58c7acffef904bc",
       "version_major": 2,
       "version_minor": 0
      },
      "text/plain": [
       "Folds avaliados:   0%|          | 0/50 [00:00<?, ?it/s]"
      ]
     },
     "metadata": {},
     "output_type": "display_data"
    },
    {
     "name": "stdout",
     "output_type": "stream",
     "text": [
      "knn_new_7\n"
     ]
    },
    {
     "data": {
      "application/vnd.jupyter.widget-view+json": {
       "model_id": "69dca1f0e6e743f5a5c2a11c84f8c420",
       "version_major": 2,
       "version_minor": 0
      },
      "text/plain": [
       "Folds avaliados:   0%|          | 0/50 [00:00<?, ?it/s]"
      ]
     },
     "metadata": {},
     "output_type": "display_data"
    },
    {
     "name": "stdout",
     "output_type": "stream",
     "text": [
      "knn_new_8\n"
     ]
    },
    {
     "data": {
      "application/vnd.jupyter.widget-view+json": {
       "model_id": "55385c00058b4c3d86fbfb7ba574d819",
       "version_major": 2,
       "version_minor": 0
      },
      "text/plain": [
       "Folds avaliados:   0%|          | 0/50 [00:00<?, ?it/s]"
      ]
     },
     "metadata": {},
     "output_type": "display_data"
    },
    {
     "name": "stdout",
     "output_type": "stream",
     "text": [
      "knn_new_9\n"
     ]
    },
    {
     "data": {
      "application/vnd.jupyter.widget-view+json": {
       "model_id": "235dce0f4cdc48289da8432af17fe9ee",
       "version_major": 2,
       "version_minor": 0
      },
      "text/plain": [
       "Folds avaliados:   0%|          | 0/50 [00:00<?, ?it/s]"
      ]
     },
     "metadata": {},
     "output_type": "display_data"
    },
    {
     "name": "stdout",
     "output_type": "stream",
     "text": [
      "knn_new_10\n"
     ]
    },
    {
     "data": {
      "application/vnd.jupyter.widget-view+json": {
       "model_id": "675e0aa358534ce68c65cf9929e39b90",
       "version_major": 2,
       "version_minor": 0
      },
      "text/plain": [
       "Folds avaliados:   0%|          | 0/50 [00:00<?, ?it/s]"
      ]
     },
     "metadata": {},
     "output_type": "display_data"
    }
   ],
   "source": [
    "resultados = {}\n",
    "for nome, classificador, scale, params in tests_knn:\n",
    "    print(nome)\n",
    "    r = do_cv(classificador, X_pca_df.values, y, 50, 30, 8, scale, params)\n",
    "    resultados[nome] = r"
   ]
  },
  {
   "cell_type": "code",
   "execution_count": 94,
   "id": "7f14b5e0-ed5d-4ae1-9bdd-21baaacfdcc1",
   "metadata": {},
   "outputs": [
    {
     "name": "stdout",
     "output_type": "stream",
     "text": [
      "                 knn - Resultados: 0.74 +- 0.13, min: 0.40, max: 1.00\n",
      "               knn_2 - Resultados: 0.74 +- 0.13, min: 0.40, max: 1.00\n",
      "             knn_new - Resultados: 0.69 +- 0.15, min: 0.46, max: 1.00\n",
      "           knn_new_2 - Resultados: 0.69 +- 0.15, min: 0.46, max: 1.00\n",
      "           knn_new_3 - Resultados: 0.74 +- 0.13, min: 0.40, max: 1.00\n",
      "           knn_new_4 - Resultados: 0.74 +- 0.13, min: 0.40, max: 1.00\n",
      "           knn_new_5 - Resultados: 0.74 +- 0.13, min: 0.40, max: 1.00\n",
      "           knn_new_6 - Resultados: 0.74 +- 0.13, min: 0.40, max: 1.00\n",
      "           knn_new_7 - Resultados: 0.73 +- 0.14, min: 0.44, max: 1.00\n",
      "           knn_new_8 - Resultados: 0.73 +- 0.14, min: 0.44, max: 1.00\n",
      "           knn_new_9 - Resultados: 0.73 +- 0.14, min: 0.44, max: 1.00\n",
      "          knn_new_10 - Resultados: 0.73 +- 0.14, min: 0.44, max: 1.00\n"
     ]
    }
   ],
   "source": [
    "for teste in resultados:\n",
    "    print(teste.rjust(20), end=' - ')\n",
    "    imprimir_estatisticas(resultados[teste])"
   ]
  },
  {
   "cell_type": "code",
   "execution_count": 83,
   "id": "f8f45a09-3627-4406-8eb9-62047cf64909",
   "metadata": {},
   "outputs": [
    {
     "name": "stdout",
     "output_type": "stream",
     "text": [
      "knn\n"
     ]
    },
    {
     "data": {
      "application/vnd.jupyter.widget-view+json": {
       "model_id": "849f21cc0d85437da0325b34da7be6ca",
       "version_major": 2,
       "version_minor": 0
      },
      "text/plain": [
       "Folds avaliados:   0%|          | 0/10 [00:00<?, ?it/s]"
      ]
     },
     "metadata": {},
     "output_type": "display_data"
    },
    {
     "name": "stdout",
     "output_type": "stream",
     "text": [
      "knn_2\n"
     ]
    },
    {
     "data": {
      "application/vnd.jupyter.widget-view+json": {
       "model_id": "42dd2bae23fe4f589243435ef4986231",
       "version_major": 2,
       "version_minor": 0
      },
      "text/plain": [
       "Folds avaliados:   0%|          | 0/10 [00:00<?, ?it/s]"
      ]
     },
     "metadata": {},
     "output_type": "display_data"
    },
    {
     "name": "stdout",
     "output_type": "stream",
     "text": [
      "knn_new\n"
     ]
    },
    {
     "data": {
      "application/vnd.jupyter.widget-view+json": {
       "model_id": "ce1404b3ce6f4bfe9a9ee9315f56a425",
       "version_major": 2,
       "version_minor": 0
      },
      "text/plain": [
       "Folds avaliados:   0%|          | 0/10 [00:00<?, ?it/s]"
      ]
     },
     "metadata": {},
     "output_type": "display_data"
    },
    {
     "name": "stdout",
     "output_type": "stream",
     "text": [
      "knn_new_2\n"
     ]
    },
    {
     "data": {
      "application/vnd.jupyter.widget-view+json": {
       "model_id": "2ec03f2191064ca295348793ff725a98",
       "version_major": 2,
       "version_minor": 0
      },
      "text/plain": [
       "Folds avaliados:   0%|          | 0/10 [00:00<?, ?it/s]"
      ]
     },
     "metadata": {},
     "output_type": "display_data"
    },
    {
     "name": "stdout",
     "output_type": "stream",
     "text": [
      "knn_new_3\n"
     ]
    },
    {
     "data": {
      "application/vnd.jupyter.widget-view+json": {
       "model_id": "11cb45455d004b2eab5fc00d04de12f3",
       "version_major": 2,
       "version_minor": 0
      },
      "text/plain": [
       "Folds avaliados:   0%|          | 0/10 [00:00<?, ?it/s]"
      ]
     },
     "metadata": {},
     "output_type": "display_data"
    },
    {
     "name": "stdout",
     "output_type": "stream",
     "text": [
      "knn_new_4\n"
     ]
    },
    {
     "data": {
      "application/vnd.jupyter.widget-view+json": {
       "model_id": "b63cadbdeba74085bb853bcfdebc383d",
       "version_major": 2,
       "version_minor": 0
      },
      "text/plain": [
       "Folds avaliados:   0%|          | 0/10 [00:00<?, ?it/s]"
      ]
     },
     "metadata": {},
     "output_type": "display_data"
    },
    {
     "name": "stdout",
     "output_type": "stream",
     "text": [
      "knn_new_5\n"
     ]
    },
    {
     "data": {
      "application/vnd.jupyter.widget-view+json": {
       "model_id": "543dd04755494ed092e38c55d05b8eac",
       "version_major": 2,
       "version_minor": 0
      },
      "text/plain": [
       "Folds avaliados:   0%|          | 0/10 [00:00<?, ?it/s]"
      ]
     },
     "metadata": {},
     "output_type": "display_data"
    },
    {
     "name": "stdout",
     "output_type": "stream",
     "text": [
      "knn_new_6\n"
     ]
    },
    {
     "data": {
      "application/vnd.jupyter.widget-view+json": {
       "model_id": "752f035a6ce3471d9d7dfd51f40fa646",
       "version_major": 2,
       "version_minor": 0
      },
      "text/plain": [
       "Folds avaliados:   0%|          | 0/10 [00:00<?, ?it/s]"
      ]
     },
     "metadata": {},
     "output_type": "display_data"
    },
    {
     "name": "stdout",
     "output_type": "stream",
     "text": [
      "knn_new_7\n"
     ]
    },
    {
     "data": {
      "application/vnd.jupyter.widget-view+json": {
       "model_id": "27873d4bb0be472a82d84176f63972ef",
       "version_major": 2,
       "version_minor": 0
      },
      "text/plain": [
       "Folds avaliados:   0%|          | 0/10 [00:00<?, ?it/s]"
      ]
     },
     "metadata": {},
     "output_type": "display_data"
    },
    {
     "name": "stdout",
     "output_type": "stream",
     "text": [
      "knn_new_8\n"
     ]
    },
    {
     "data": {
      "application/vnd.jupyter.widget-view+json": {
       "model_id": "72e05685226144f0b1102be55eb18443",
       "version_major": 2,
       "version_minor": 0
      },
      "text/plain": [
       "Folds avaliados:   0%|          | 0/10 [00:00<?, ?it/s]"
      ]
     },
     "metadata": {},
     "output_type": "display_data"
    },
    {
     "name": "stdout",
     "output_type": "stream",
     "text": [
      "knn_new_9\n"
     ]
    },
    {
     "data": {
      "application/vnd.jupyter.widget-view+json": {
       "model_id": "d634f87af39642cd8b0b0c977ed21bf4",
       "version_major": 2,
       "version_minor": 0
      },
      "text/plain": [
       "Folds avaliados:   0%|          | 0/10 [00:00<?, ?it/s]"
      ]
     },
     "metadata": {},
     "output_type": "display_data"
    },
    {
     "name": "stdout",
     "output_type": "stream",
     "text": [
      "knn_new_10\n"
     ]
    },
    {
     "data": {
      "application/vnd.jupyter.widget-view+json": {
       "model_id": "46ef4b96fb724d28b4389feb30a929f0",
       "version_major": 2,
       "version_minor": 0
      },
      "text/plain": [
       "Folds avaliados:   0%|          | 0/10 [00:00<?, ?it/s]"
      ]
     },
     "metadata": {},
     "output_type": "display_data"
    }
   ],
   "source": [
    "resultados = {}\n",
    "for nome, classificador, scale, params in tests_knn:\n",
    "    print(nome)\n",
    "    r = do_cv(classificador, X_pca_df.values, y, 10, 50, 8, scale, params)\n",
    "    resultados[nome] = r"
   ]
  },
  {
   "cell_type": "code",
   "execution_count": 84,
   "id": "ddddd23c-b385-4e60-88fc-360932abda5c",
   "metadata": {},
   "outputs": [
    {
     "name": "stdout",
     "output_type": "stream",
     "text": [
      "                 knn - Resultados: 0.74 +- 0.04, min: 0.67, max: 0.81\n",
      "               knn_2 - Resultados: 0.74 +- 0.04, min: 0.67, max: 0.81\n",
      "             knn_new - Resultados: 0.69 +- 0.07, min: 0.58, max: 0.81\n",
      "           knn_new_2 - Resultados: 0.69 +- 0.07, min: 0.57, max: 0.81\n",
      "           knn_new_3 - Resultados: 0.74 +- 0.04, min: 0.67, max: 0.81\n",
      "           knn_new_4 - Resultados: 0.74 +- 0.04, min: 0.67, max: 0.81\n",
      "           knn_new_5 - Resultados: 0.74 +- 0.04, min: 0.67, max: 0.81\n",
      "           knn_new_6 - Resultados: 0.74 +- 0.04, min: 0.67, max: 0.81\n",
      "           knn_new_7 - Resultados: 0.71 +- 0.06, min: 0.59, max: 0.76\n",
      "           knn_new_8 - Resultados: 0.71 +- 0.06, min: 0.59, max: 0.76\n",
      "           knn_new_9 - Resultados: 0.71 +- 0.06, min: 0.59, max: 0.76\n",
      "          knn_new_10 - Resultados: 0.71 +- 0.06, min: 0.59, max: 0.76\n"
     ]
    }
   ],
   "source": [
    "for teste in resultados:\n",
    "    print(teste.rjust(20), end=' - ')\n",
    "    imprimir_estatisticas(resultados[teste])"
   ]
  },
  {
   "cell_type": "code",
   "execution_count": 87,
   "id": "006026bc-fba3-4dea-992a-67ae4b090d36",
   "metadata": {},
   "outputs": [
    {
     "name": "stdout",
     "output_type": "stream",
     "text": [
      "rf\n"
     ]
    },
    {
     "data": {
      "application/vnd.jupyter.widget-view+json": {
       "model_id": "4bc1d02beaf64049bfd6b58eac7ed0b3",
       "version_major": 2,
       "version_minor": 0
      },
      "text/plain": [
       "Folds avaliados:   0%|          | 0/40 [00:00<?, ?it/s]"
      ]
     },
     "metadata": {},
     "output_type": "display_data"
    },
    {
     "name": "stdout",
     "output_type": "stream",
     "text": [
      "rf_scale\n"
     ]
    },
    {
     "data": {
      "application/vnd.jupyter.widget-view+json": {
       "model_id": "4bc161fa230d46578dc9090fb74424cf",
       "version_major": 2,
       "version_minor": 0
      },
      "text/plain": [
       "Folds avaliados:   0%|          | 0/40 [00:00<?, ?it/s]"
      ]
     },
     "metadata": {},
     "output_type": "display_data"
    },
    {
     "name": "stdout",
     "output_type": "stream",
     "text": [
      "ad_default\n"
     ]
    },
    {
     "data": {
      "application/vnd.jupyter.widget-view+json": {
       "model_id": "63e9b86f31c14fbaa87a40bfa9509163",
       "version_major": 2,
       "version_minor": 0
      },
      "text/plain": [
       "Folds avaliados:   0%|          | 0/40 [00:00<?, ?it/s]"
      ]
     },
     "metadata": {},
     "output_type": "display_data"
    },
    {
     "name": "stdout",
     "output_type": "stream",
     "text": [
      "ad_default_scale\n"
     ]
    },
    {
     "data": {
      "application/vnd.jupyter.widget-view+json": {
       "model_id": "4d9f7508770d400f8bdf03bcbc4bd43e",
       "version_major": 2,
       "version_minor": 0
      },
      "text/plain": [
       "Folds avaliados:   0%|          | 0/40 [00:00<?, ?it/s]"
      ]
     },
     "metadata": {},
     "output_type": "display_data"
    },
    {
     "name": "stdout",
     "output_type": "stream",
     "text": [
      "ad_tuned\n"
     ]
    },
    {
     "data": {
      "application/vnd.jupyter.widget-view+json": {
       "model_id": "d01d440f8081439cb0e5c461b788a354",
       "version_major": 2,
       "version_minor": 0
      },
      "text/plain": [
       "Folds avaliados:   0%|          | 0/40 [00:00<?, ?it/s]"
      ]
     },
     "metadata": {},
     "output_type": "display_data"
    },
    {
     "name": "stdout",
     "output_type": "stream",
     "text": [
      "ad_tuned_scale\n"
     ]
    },
    {
     "data": {
      "application/vnd.jupyter.widget-view+json": {
       "model_id": "d715ba50262d47bfa494e69335207b0c",
       "version_major": 2,
       "version_minor": 0
      },
      "text/plain": [
       "Folds avaliados:   0%|          | 0/40 [00:00<?, ?it/s]"
      ]
     },
     "metadata": {},
     "output_type": "display_data"
    },
    {
     "name": "stdout",
     "output_type": "stream",
     "text": [
      "svm\n"
     ]
    },
    {
     "data": {
      "application/vnd.jupyter.widget-view+json": {
       "model_id": "4de002478ecc4c91b176d8e739e36c14",
       "version_major": 2,
       "version_minor": 0
      },
      "text/plain": [
       "Folds avaliados:   0%|          | 0/40 [00:00<?, ?it/s]"
      ]
     },
     "metadata": {},
     "output_type": "display_data"
    },
    {
     "name": "stdout",
     "output_type": "stream",
     "text": [
      "svm_2\n"
     ]
    },
    {
     "data": {
      "application/vnd.jupyter.widget-view+json": {
       "model_id": "757a74ab46104d42b664bad550da3e78",
       "version_major": 2,
       "version_minor": 0
      },
      "text/plain": [
       "Folds avaliados:   0%|          | 0/40 [00:00<?, ?it/s]"
      ]
     },
     "metadata": {},
     "output_type": "display_data"
    },
    {
     "name": "stdout",
     "output_type": "stream",
     "text": [
      "knn\n"
     ]
    },
    {
     "data": {
      "application/vnd.jupyter.widget-view+json": {
       "model_id": "e288926f667d43a58b0595bc9415ded9",
       "version_major": 2,
       "version_minor": 0
      },
      "text/plain": [
       "Folds avaliados:   0%|          | 0/40 [00:00<?, ?it/s]"
      ]
     },
     "metadata": {},
     "output_type": "display_data"
    },
    {
     "name": "stdout",
     "output_type": "stream",
     "text": [
      "knn_2\n"
     ]
    },
    {
     "data": {
      "application/vnd.jupyter.widget-view+json": {
       "model_id": "921ff9373fd0473badf16c1840bbba01",
       "version_major": 2,
       "version_minor": 0
      },
      "text/plain": [
       "Folds avaliados:   0%|          | 0/40 [00:00<?, ?it/s]"
      ]
     },
     "metadata": {},
     "output_type": "display_data"
    },
    {
     "name": "stdout",
     "output_type": "stream",
     "text": [
      "knn_3\n"
     ]
    },
    {
     "data": {
      "application/vnd.jupyter.widget-view+json": {
       "model_id": "76c8fef314a24e36be3eaee4c78ca103",
       "version_major": 2,
       "version_minor": 0
      },
      "text/plain": [
       "Folds avaliados:   0%|          | 0/40 [00:00<?, ?it/s]"
      ]
     },
     "metadata": {},
     "output_type": "display_data"
    }
   ],
   "source": [
    "resultados = {}\n",
    "for nome, classificador, scale, params in tests:\n",
    "    print(nome)\n",
    "    r = do_cv(classificador, X_pca_df.values, y, 40, 10, 8, scale, params)\n",
    "    resultados[nome] = r"
   ]
  },
  {
   "cell_type": "code",
   "execution_count": 88,
   "id": "446da8aa-2331-46dc-9b4c-e603323a8b42",
   "metadata": {},
   "outputs": [
    {
     "name": "stdout",
     "output_type": "stream",
     "text": [
      "                  rf - Resultados: 0.71 +- 0.14, min: 0.36, max: 0.95\n",
      "            rf_scale - Resultados: 0.71 +- 0.14, min: 0.36, max: 0.95\n",
      "          ad_default - Resultados: 0.65 +- 0.12, min: 0.43, max: 0.86\n",
      "    ad_default_scale - Resultados: 0.65 +- 0.12, min: 0.43, max: 0.86\n",
      "            ad_tuned - Resultados: 0.72 +- 0.12, min: 0.35, max: 0.93\n",
      "      ad_tuned_scale - Resultados: 0.72 +- 0.12, min: 0.35, max: 0.93\n",
      "                 svm - Resultados: 0.71 +- 0.15, min: 0.33, max: 0.94\n",
      "               svm_2 - Resultados: 0.71 +- 0.15, min: 0.33, max: 0.94\n",
      "                 knn - Resultados: 0.74 +- 0.12, min: 0.50, max: 0.95\n",
      "               knn_2 - Resultados: 0.74 +- 0.12, min: 0.50, max: 0.95\n",
      "               knn_3 - Resultados: 0.74 +- 0.12, min: 0.50, max: 0.95\n"
     ]
    }
   ],
   "source": [
    "for teste in resultados:\n",
    "    print(teste.rjust(20), end=' - ')\n",
    "    imprimir_estatisticas(resultados[teste])"
   ]
  },
  {
   "cell_type": "code",
   "execution_count": 89,
   "id": "9cf62a13-cdba-4463-92a3-2687ebe0a12d",
   "metadata": {},
   "outputs": [
    {
     "name": "stdout",
     "output_type": "stream",
     "text": [
      "rf\n"
     ]
    },
    {
     "data": {
      "application/vnd.jupyter.widget-view+json": {
       "model_id": "c1ff890f29264a7b9d8896788de8cb9f",
       "version_major": 2,
       "version_minor": 0
      },
      "text/plain": [
       "Folds avaliados:   0%|          | 0/10 [00:00<?, ?it/s]"
      ]
     },
     "metadata": {},
     "output_type": "display_data"
    },
    {
     "name": "stdout",
     "output_type": "stream",
     "text": [
      "rf_scale\n"
     ]
    },
    {
     "data": {
      "application/vnd.jupyter.widget-view+json": {
       "model_id": "a928b0c7e631475a8a9a8c340c1b4ac1",
       "version_major": 2,
       "version_minor": 0
      },
      "text/plain": [
       "Folds avaliados:   0%|          | 0/10 [00:00<?, ?it/s]"
      ]
     },
     "metadata": {},
     "output_type": "display_data"
    },
    {
     "name": "stdout",
     "output_type": "stream",
     "text": [
      "ad_default\n"
     ]
    },
    {
     "data": {
      "application/vnd.jupyter.widget-view+json": {
       "model_id": "84bd2e5d7b5a4cbea4dff4648fb988a5",
       "version_major": 2,
       "version_minor": 0
      },
      "text/plain": [
       "Folds avaliados:   0%|          | 0/10 [00:00<?, ?it/s]"
      ]
     },
     "metadata": {},
     "output_type": "display_data"
    },
    {
     "name": "stdout",
     "output_type": "stream",
     "text": [
      "ad_default_scale\n"
     ]
    },
    {
     "data": {
      "application/vnd.jupyter.widget-view+json": {
       "model_id": "978f7ebd94e7436f8d8ff20a49478b2c",
       "version_major": 2,
       "version_minor": 0
      },
      "text/plain": [
       "Folds avaliados:   0%|          | 0/10 [00:00<?, ?it/s]"
      ]
     },
     "metadata": {},
     "output_type": "display_data"
    },
    {
     "name": "stdout",
     "output_type": "stream",
     "text": [
      "ad_tuned\n"
     ]
    },
    {
     "data": {
      "application/vnd.jupyter.widget-view+json": {
       "model_id": "a3763990ce2c47cf95391966af13232b",
       "version_major": 2,
       "version_minor": 0
      },
      "text/plain": [
       "Folds avaliados:   0%|          | 0/10 [00:00<?, ?it/s]"
      ]
     },
     "metadata": {},
     "output_type": "display_data"
    },
    {
     "name": "stdout",
     "output_type": "stream",
     "text": [
      "ad_tuned_scale\n"
     ]
    },
    {
     "data": {
      "application/vnd.jupyter.widget-view+json": {
       "model_id": "8335c06477114a399215ebde258b37fa",
       "version_major": 2,
       "version_minor": 0
      },
      "text/plain": [
       "Folds avaliados:   0%|          | 0/10 [00:00<?, ?it/s]"
      ]
     },
     "metadata": {},
     "output_type": "display_data"
    },
    {
     "name": "stdout",
     "output_type": "stream",
     "text": [
      "svm\n"
     ]
    },
    {
     "data": {
      "application/vnd.jupyter.widget-view+json": {
       "model_id": "1a4fb8662e28433b91e3b9289f1d1dc2",
       "version_major": 2,
       "version_minor": 0
      },
      "text/plain": [
       "Folds avaliados:   0%|          | 0/10 [00:00<?, ?it/s]"
      ]
     },
     "metadata": {},
     "output_type": "display_data"
    },
    {
     "name": "stdout",
     "output_type": "stream",
     "text": [
      "svm_2\n"
     ]
    },
    {
     "data": {
      "application/vnd.jupyter.widget-view+json": {
       "model_id": "306931daefcf4ef195857f1cc793213e",
       "version_major": 2,
       "version_minor": 0
      },
      "text/plain": [
       "Folds avaliados:   0%|          | 0/10 [00:00<?, ?it/s]"
      ]
     },
     "metadata": {},
     "output_type": "display_data"
    },
    {
     "name": "stdout",
     "output_type": "stream",
     "text": [
      "knn\n"
     ]
    },
    {
     "data": {
      "application/vnd.jupyter.widget-view+json": {
       "model_id": "f7a1a2375c9447489c6c474cb0e91982",
       "version_major": 2,
       "version_minor": 0
      },
      "text/plain": [
       "Folds avaliados:   0%|          | 0/10 [00:00<?, ?it/s]"
      ]
     },
     "metadata": {},
     "output_type": "display_data"
    },
    {
     "name": "stdout",
     "output_type": "stream",
     "text": [
      "knn_2\n"
     ]
    },
    {
     "data": {
      "application/vnd.jupyter.widget-view+json": {
       "model_id": "ca95e22276e4486d8280f6226fafa8be",
       "version_major": 2,
       "version_minor": 0
      },
      "text/plain": [
       "Folds avaliados:   0%|          | 0/10 [00:00<?, ?it/s]"
      ]
     },
     "metadata": {},
     "output_type": "display_data"
    },
    {
     "name": "stdout",
     "output_type": "stream",
     "text": [
      "knn_3\n"
     ]
    },
    {
     "data": {
      "application/vnd.jupyter.widget-view+json": {
       "model_id": "3339e1bc6a2c4ff6b03fa118a1d64942",
       "version_major": 2,
       "version_minor": 0
      },
      "text/plain": [
       "Folds avaliados:   0%|          | 0/10 [00:00<?, ?it/s]"
      ]
     },
     "metadata": {},
     "output_type": "display_data"
    }
   ],
   "source": [
    "resultados = {}\n",
    "for nome, classificador, scale, params in tests:\n",
    "    print(nome)\n",
    "    r = do_cv(classificador, X_pca_df.values, y, 10, 30, 8, scale, params)\n",
    "    resultados[nome] = r"
   ]
  },
  {
   "cell_type": "code",
   "execution_count": 90,
   "id": "84da962b-33af-4c4f-b2c5-0b8bbb7169fa",
   "metadata": {},
   "outputs": [
    {
     "name": "stdout",
     "output_type": "stream",
     "text": [
      "                  rf - Resultados: 0.72 +- 0.06, min: 0.58, max: 0.79\n",
      "            rf_scale - Resultados: 0.72 +- 0.06, min: 0.58, max: 0.79\n",
      "          ad_default - Resultados: 0.66 +- 0.06, min: 0.55, max: 0.76\n",
      "    ad_default_scale - Resultados: 0.66 +- 0.06, min: 0.55, max: 0.76\n",
      "            ad_tuned - Resultados: 0.73 +- 0.04, min: 0.66, max: 0.79\n",
      "      ad_tuned_scale - Resultados: 0.73 +- 0.04, min: 0.66, max: 0.79\n",
      "                 svm - Resultados: 0.71 +- 0.07, min: 0.58, max: 0.81\n",
      "               svm_2 - Resultados: 0.71 +- 0.07, min: 0.58, max: 0.81\n",
      "                 knn - Resultados: 0.74 +- 0.04, min: 0.67, max: 0.81\n",
      "               knn_2 - Resultados: 0.74 +- 0.04, min: 0.67, max: 0.81\n",
      "               knn_3 - Resultados: 0.74 +- 0.04, min: 0.67, max: 0.81\n"
     ]
    }
   ],
   "source": [
    "for teste in resultados:\n",
    "    print(teste.rjust(20), end=' - ')\n",
    "    imprimir_estatisticas(resultados[teste])"
   ]
  },
  {
   "cell_type": "code",
   "execution_count": 91,
   "id": "b758cfc4-ece7-4759-8e60-afa6fd6aa297",
   "metadata": {},
   "outputs": [
    {
     "name": "stdout",
     "output_type": "stream",
     "text": [
      "rf\n"
     ]
    },
    {
     "data": {
      "application/vnd.jupyter.widget-view+json": {
       "model_id": "4ff9b01ff8d7439285db4951f319ab29",
       "version_major": 2,
       "version_minor": 0
      },
      "text/plain": [
       "Folds avaliados:   0%|          | 0/50 [00:00<?, ?it/s]"
      ]
     },
     "metadata": {},
     "output_type": "display_data"
    },
    {
     "name": "stdout",
     "output_type": "stream",
     "text": [
      "rf_scale\n"
     ]
    },
    {
     "data": {
      "application/vnd.jupyter.widget-view+json": {
       "model_id": "3dd33182de234c62a6d41594e8030e6f",
       "version_major": 2,
       "version_minor": 0
      },
      "text/plain": [
       "Folds avaliados:   0%|          | 0/50 [00:00<?, ?it/s]"
      ]
     },
     "metadata": {},
     "output_type": "display_data"
    },
    {
     "name": "stdout",
     "output_type": "stream",
     "text": [
      "ad_default\n"
     ]
    },
    {
     "data": {
      "application/vnd.jupyter.widget-view+json": {
       "model_id": "6e95310c612e40a99d478ac83df5116b",
       "version_major": 2,
       "version_minor": 0
      },
      "text/plain": [
       "Folds avaliados:   0%|          | 0/50 [00:00<?, ?it/s]"
      ]
     },
     "metadata": {},
     "output_type": "display_data"
    },
    {
     "name": "stdout",
     "output_type": "stream",
     "text": [
      "ad_default_scale\n"
     ]
    },
    {
     "data": {
      "application/vnd.jupyter.widget-view+json": {
       "model_id": "4827cc44634240c98d3a127de07fb0a8",
       "version_major": 2,
       "version_minor": 0
      },
      "text/plain": [
       "Folds avaliados:   0%|          | 0/50 [00:00<?, ?it/s]"
      ]
     },
     "metadata": {},
     "output_type": "display_data"
    },
    {
     "name": "stdout",
     "output_type": "stream",
     "text": [
      "ad_tuned\n"
     ]
    },
    {
     "data": {
      "application/vnd.jupyter.widget-view+json": {
       "model_id": "d64cb04ed617436a9963db5d4ac9ff77",
       "version_major": 2,
       "version_minor": 0
      },
      "text/plain": [
       "Folds avaliados:   0%|          | 0/50 [00:00<?, ?it/s]"
      ]
     },
     "metadata": {},
     "output_type": "display_data"
    },
    {
     "name": "stdout",
     "output_type": "stream",
     "text": [
      "ad_tuned_scale\n"
     ]
    },
    {
     "data": {
      "application/vnd.jupyter.widget-view+json": {
       "model_id": "4705b057024d4d25bf4d884e32f7b0e0",
       "version_major": 2,
       "version_minor": 0
      },
      "text/plain": [
       "Folds avaliados:   0%|          | 0/50 [00:00<?, ?it/s]"
      ]
     },
     "metadata": {},
     "output_type": "display_data"
    },
    {
     "name": "stdout",
     "output_type": "stream",
     "text": [
      "svm\n"
     ]
    },
    {
     "data": {
      "application/vnd.jupyter.widget-view+json": {
       "model_id": "ad743a08cbf64a58bf832d295ddb4af3",
       "version_major": 2,
       "version_minor": 0
      },
      "text/plain": [
       "Folds avaliados:   0%|          | 0/50 [00:00<?, ?it/s]"
      ]
     },
     "metadata": {},
     "output_type": "display_data"
    },
    {
     "name": "stdout",
     "output_type": "stream",
     "text": [
      "svm_2\n"
     ]
    },
    {
     "data": {
      "application/vnd.jupyter.widget-view+json": {
       "model_id": "aade20511c7843838914570ebb93a459",
       "version_major": 2,
       "version_minor": 0
      },
      "text/plain": [
       "Folds avaliados:   0%|          | 0/50 [00:00<?, ?it/s]"
      ]
     },
     "metadata": {},
     "output_type": "display_data"
    },
    {
     "name": "stdout",
     "output_type": "stream",
     "text": [
      "knn\n"
     ]
    },
    {
     "data": {
      "application/vnd.jupyter.widget-view+json": {
       "model_id": "a04b9aa9aa584bb4a1e0514b756a1065",
       "version_major": 2,
       "version_minor": 0
      },
      "text/plain": [
       "Folds avaliados:   0%|          | 0/50 [00:00<?, ?it/s]"
      ]
     },
     "metadata": {},
     "output_type": "display_data"
    },
    {
     "name": "stdout",
     "output_type": "stream",
     "text": [
      "knn_2\n"
     ]
    },
    {
     "data": {
      "application/vnd.jupyter.widget-view+json": {
       "model_id": "ccd0af0481694d1996dd0d62ac63d7a4",
       "version_major": 2,
       "version_minor": 0
      },
      "text/plain": [
       "Folds avaliados:   0%|          | 0/50 [00:00<?, ?it/s]"
      ]
     },
     "metadata": {},
     "output_type": "display_data"
    },
    {
     "name": "stdout",
     "output_type": "stream",
     "text": [
      "knn_3\n"
     ]
    },
    {
     "data": {
      "application/vnd.jupyter.widget-view+json": {
       "model_id": "50228d276b324139860c967dd559e751",
       "version_major": 2,
       "version_minor": 0
      },
      "text/plain": [
       "Folds avaliados:   0%|          | 0/50 [00:00<?, ?it/s]"
      ]
     },
     "metadata": {},
     "output_type": "display_data"
    }
   ],
   "source": [
    "resultados = {}\n",
    "for nome, classificador, scale, params in tests:\n",
    "    print(nome)\n",
    "    r = do_cv(classificador, X_pca_df.values, y, 50, 50, 8, scale, params)\n",
    "    resultados[nome] = r"
   ]
  },
  {
   "cell_type": "code",
   "execution_count": 92,
   "id": "4b11e6ca-0467-4ee5-9121-a13f3e85a0e3",
   "metadata": {},
   "outputs": [
    {
     "name": "stdout",
     "output_type": "stream",
     "text": [
      "                  rf - Resultados: 0.71 +- 0.15, min: 0.36, max: 1.00\n",
      "            rf_scale - Resultados: 0.71 +- 0.15, min: 0.36, max: 1.00\n",
      "          ad_default - Resultados: 0.63 +- 0.14, min: 0.22, max: 0.88\n",
      "    ad_default_scale - Resultados: 0.63 +- 0.14, min: 0.22, max: 0.88\n",
      "            ad_tuned - Resultados: 0.72 +- 0.15, min: 0.43, max: 1.00\n",
      "      ad_tuned_scale - Resultados: 0.72 +- 0.15, min: 0.43, max: 1.00\n",
      "                 svm - Resultados: 0.71 +- 0.16, min: 0.36, max: 1.00\n",
      "               svm_2 - Resultados: 0.71 +- 0.16, min: 0.36, max: 1.00\n",
      "                 knn - Resultados: 0.74 +- 0.13, min: 0.40, max: 1.00\n",
      "               knn_2 - Resultados: 0.74 +- 0.13, min: 0.40, max: 1.00\n",
      "               knn_3 - Resultados: 0.74 +- 0.13, min: 0.40, max: 1.00\n"
     ]
    }
   ],
   "source": [
    "for teste in resultados:\n",
    "    print(teste.rjust(20), end=' - ')\n",
    "    imprimir_estatisticas(resultados[teste])"
   ]
  },
  {
   "cell_type": "code",
   "execution_count": 103,
   "id": "76faa3e6-db17-41a6-9ac1-2fd2f13e590f",
   "metadata": {},
   "outputs": [],
   "source": [
    "knn_imp = ('knn_1', KNeighborsClassifier, True, {'n_neighbors' : range(1,5,1)})\n",
    "knn_imp_2 = ('knn_2', KNeighborsClassifier, True, {'n_neighbors' : range(1,5,2)})\n",
    "\n",
    "knn_imp_3 = ('knn_3', KNeighborsClassifier, True, {'n_neighbors' : range(5,10,1)})\n",
    "knn_imp_4 = ('knn_4', KNeighborsClassifier, True, {'n_neighbors' : range(5,10,2)})\n",
    "\n",
    "knn_imp_6 = ('knn_6', KNeighborsClassifier, True, {'n_neighbors' : range(10,15,2)})\n",
    "\n",
    "knn_imp_7 = ('knn_7', KNeighborsClassifier, True, {'n_neighbors' : range(3,5,1)})\n",
    "knn_imp_8 = ('knn_8', KNeighborsClassifier, True, {'n_neighbors' : range(3,5,2)})\n",
    "\n",
    "knn_imp_9 = ('knn_9', KNeighborsClassifier, True, {'n_neighbors' : range(5,8,1)})\n",
    "knn_imp_10 = ('knn_10', KNeighborsClassifier, True, {'n_neighbors' : range(5,8,2)})\n",
    "tests_knn_imp = [knn_imp, knn_imp_2, knn_imp_3, knn_imp_4, knn_imp_6, knn_imp_7, \n",
    "               knn_imp_8, knn_imp_9, knn_imp_10]"
   ]
  },
  {
   "cell_type": "code",
   "execution_count": 104,
   "id": "8f67eb17-a6db-4a4a-9244-07aff6f23125",
   "metadata": {},
   "outputs": [
    {
     "name": "stdout",
     "output_type": "stream",
     "text": [
      "knn_1\n"
     ]
    },
    {
     "data": {
      "application/vnd.jupyter.widget-view+json": {
       "model_id": "0d301801bfff45948b43932b913a7cd5",
       "version_major": 2,
       "version_minor": 0
      },
      "text/plain": [
       "Folds avaliados:   0%|          | 0/50 [00:00<?, ?it/s]"
      ]
     },
     "metadata": {},
     "output_type": "display_data"
    },
    {
     "name": "stdout",
     "output_type": "stream",
     "text": [
      "knn_2\n"
     ]
    },
    {
     "data": {
      "application/vnd.jupyter.widget-view+json": {
       "model_id": "50c2c39f9ba242ab861df02414fa678b",
       "version_major": 2,
       "version_minor": 0
      },
      "text/plain": [
       "Folds avaliados:   0%|          | 0/50 [00:00<?, ?it/s]"
      ]
     },
     "metadata": {},
     "output_type": "display_data"
    },
    {
     "name": "stdout",
     "output_type": "stream",
     "text": [
      "knn_3\n"
     ]
    },
    {
     "data": {
      "application/vnd.jupyter.widget-view+json": {
       "model_id": "8448e31811be4373af62402758fbd5a4",
       "version_major": 2,
       "version_minor": 0
      },
      "text/plain": [
       "Folds avaliados:   0%|          | 0/50 [00:00<?, ?it/s]"
      ]
     },
     "metadata": {},
     "output_type": "display_data"
    },
    {
     "name": "stdout",
     "output_type": "stream",
     "text": [
      "knn_4\n"
     ]
    },
    {
     "data": {
      "application/vnd.jupyter.widget-view+json": {
       "model_id": "11423b99cfee43c9b85d7dd8f4dd7c6e",
       "version_major": 2,
       "version_minor": 0
      },
      "text/plain": [
       "Folds avaliados:   0%|          | 0/50 [00:00<?, ?it/s]"
      ]
     },
     "metadata": {},
     "output_type": "display_data"
    },
    {
     "name": "stdout",
     "output_type": "stream",
     "text": [
      "knn_6\n"
     ]
    },
    {
     "data": {
      "application/vnd.jupyter.widget-view+json": {
       "model_id": "e5cbd7671a974d92b789db5fb282cf24",
       "version_major": 2,
       "version_minor": 0
      },
      "text/plain": [
       "Folds avaliados:   0%|          | 0/50 [00:00<?, ?it/s]"
      ]
     },
     "metadata": {},
     "output_type": "display_data"
    },
    {
     "name": "stdout",
     "output_type": "stream",
     "text": [
      "knn_7\n"
     ]
    },
    {
     "data": {
      "application/vnd.jupyter.widget-view+json": {
       "model_id": "9b4463ffb4374b1da83ed1310b518e26",
       "version_major": 2,
       "version_minor": 0
      },
      "text/plain": [
       "Folds avaliados:   0%|          | 0/50 [00:00<?, ?it/s]"
      ]
     },
     "metadata": {},
     "output_type": "display_data"
    },
    {
     "name": "stdout",
     "output_type": "stream",
     "text": [
      "knn_8\n"
     ]
    },
    {
     "data": {
      "application/vnd.jupyter.widget-view+json": {
       "model_id": "1e35a445f2b04eaa9ff9ecd0e15a51bb",
       "version_major": 2,
       "version_minor": 0
      },
      "text/plain": [
       "Folds avaliados:   0%|          | 0/50 [00:00<?, ?it/s]"
      ]
     },
     "metadata": {},
     "output_type": "display_data"
    },
    {
     "name": "stdout",
     "output_type": "stream",
     "text": [
      "knn_9\n"
     ]
    },
    {
     "data": {
      "application/vnd.jupyter.widget-view+json": {
       "model_id": "7b257a79f65f40999a472ff2d3a82714",
       "version_major": 2,
       "version_minor": 0
      },
      "text/plain": [
       "Folds avaliados:   0%|          | 0/50 [00:00<?, ?it/s]"
      ]
     },
     "metadata": {},
     "output_type": "display_data"
    },
    {
     "name": "stdout",
     "output_type": "stream",
     "text": [
      "knn_10\n"
     ]
    },
    {
     "data": {
      "application/vnd.jupyter.widget-view+json": {
       "model_id": "b996f2e6336242298d29310e143876a9",
       "version_major": 2,
       "version_minor": 0
      },
      "text/plain": [
       "Folds avaliados:   0%|          | 0/50 [00:00<?, ?it/s]"
      ]
     },
     "metadata": {},
     "output_type": "display_data"
    }
   ],
   "source": [
    "resultados = {}\n",
    "for nome, classificador, scale, params in tests_knn_imp:\n",
    "    print(nome)\n",
    "    r = do_cv(classificador, X_pca_df.values, y, 50, 30, 8, scale, params)\n",
    "    resultados[nome] = r"
   ]
  },
  {
   "cell_type": "code",
   "execution_count": 105,
   "id": "e0f62cc4-4342-476b-afe1-a044d13cdef1",
   "metadata": {},
   "outputs": [
    {
     "name": "stdout",
     "output_type": "stream",
     "text": [
      "               knn_1 - Resultados: 0.74 +- 0.13, min: 0.40, max: 1.00\n",
      "               knn_2 - Resultados: 0.74 +- 0.13, min: 0.40, max: 1.00\n",
      "               knn_3 - Resultados: 0.73 +- 0.14, min: 0.44, max: 1.00\n",
      "               knn_4 - Resultados: 0.73 +- 0.14, min: 0.44, max: 1.00\n",
      "               knn_6 - Resultados: 0.68 +- 0.16, min: 0.40, max: 1.00\n",
      "               knn_7 - Resultados: 0.74 +- 0.13, min: 0.40, max: 1.00\n",
      "               knn_8 - Resultados: 0.74 +- 0.13, min: 0.40, max: 1.00\n",
      "               knn_9 - Resultados: 0.73 +- 0.14, min: 0.44, max: 1.00\n",
      "              knn_10 - Resultados: 0.73 +- 0.14, min: 0.44, max: 1.00\n"
     ]
    }
   ],
   "source": [
    "for teste in resultados:\n",
    "    print(teste.rjust(20), end=' - ')\n",
    "    imprimir_estatisticas(resultados[teste])"
   ]
  },
  {
   "cell_type": "code",
   "execution_count": 106,
   "id": "3960518c-582e-4669-b539-d91d6af9576b",
   "metadata": {},
   "outputs": [
    {
     "name": "stdout",
     "output_type": "stream",
     "text": [
      "knn_1\n"
     ]
    },
    {
     "data": {
      "application/vnd.jupyter.widget-view+json": {
       "model_id": "51172e90dfa347eca38576b360fb90c5",
       "version_major": 2,
       "version_minor": 0
      },
      "text/plain": [
       "Folds avaliados:   0%|          | 0/50 [00:00<?, ?it/s]"
      ]
     },
     "metadata": {},
     "output_type": "display_data"
    },
    {
     "name": "stdout",
     "output_type": "stream",
     "text": [
      "knn_2\n"
     ]
    },
    {
     "data": {
      "application/vnd.jupyter.widget-view+json": {
       "model_id": "3c66c72763f24194b7f1a17eea5420e8",
       "version_major": 2,
       "version_minor": 0
      },
      "text/plain": [
       "Folds avaliados:   0%|          | 0/50 [00:00<?, ?it/s]"
      ]
     },
     "metadata": {},
     "output_type": "display_data"
    },
    {
     "name": "stdout",
     "output_type": "stream",
     "text": [
      "knn_3\n"
     ]
    },
    {
     "data": {
      "application/vnd.jupyter.widget-view+json": {
       "model_id": "d94088bbc26647cbaca0f3a86a87fb34",
       "version_major": 2,
       "version_minor": 0
      },
      "text/plain": [
       "Folds avaliados:   0%|          | 0/50 [00:00<?, ?it/s]"
      ]
     },
     "metadata": {},
     "output_type": "display_data"
    },
    {
     "name": "stdout",
     "output_type": "stream",
     "text": [
      "knn_4\n"
     ]
    },
    {
     "data": {
      "application/vnd.jupyter.widget-view+json": {
       "model_id": "0ae62e8c800b4124a7c7a4192ffc6d64",
       "version_major": 2,
       "version_minor": 0
      },
      "text/plain": [
       "Folds avaliados:   0%|          | 0/50 [00:00<?, ?it/s]"
      ]
     },
     "metadata": {},
     "output_type": "display_data"
    },
    {
     "name": "stdout",
     "output_type": "stream",
     "text": [
      "knn_6\n"
     ]
    },
    {
     "data": {
      "application/vnd.jupyter.widget-view+json": {
       "model_id": "52ae7189bf054eee8fc552df90d80475",
       "version_major": 2,
       "version_minor": 0
      },
      "text/plain": [
       "Folds avaliados:   0%|          | 0/50 [00:00<?, ?it/s]"
      ]
     },
     "metadata": {},
     "output_type": "display_data"
    },
    {
     "name": "stdout",
     "output_type": "stream",
     "text": [
      "knn_7\n"
     ]
    },
    {
     "data": {
      "application/vnd.jupyter.widget-view+json": {
       "model_id": "c842d6ccfb0148c38d1898be8dc66754",
       "version_major": 2,
       "version_minor": 0
      },
      "text/plain": [
       "Folds avaliados:   0%|          | 0/50 [00:00<?, ?it/s]"
      ]
     },
     "metadata": {},
     "output_type": "display_data"
    },
    {
     "name": "stdout",
     "output_type": "stream",
     "text": [
      "knn_8\n"
     ]
    },
    {
     "data": {
      "application/vnd.jupyter.widget-view+json": {
       "model_id": "ad7686506df94ae394b3c40c83eb0d42",
       "version_major": 2,
       "version_minor": 0
      },
      "text/plain": [
       "Folds avaliados:   0%|          | 0/50 [00:00<?, ?it/s]"
      ]
     },
     "metadata": {},
     "output_type": "display_data"
    },
    {
     "name": "stdout",
     "output_type": "stream",
     "text": [
      "knn_9\n"
     ]
    },
    {
     "data": {
      "application/vnd.jupyter.widget-view+json": {
       "model_id": "3ba29202ece5452eb10814bec231bc51",
       "version_major": 2,
       "version_minor": 0
      },
      "text/plain": [
       "Folds avaliados:   0%|          | 0/50 [00:00<?, ?it/s]"
      ]
     },
     "metadata": {},
     "output_type": "display_data"
    },
    {
     "name": "stdout",
     "output_type": "stream",
     "text": [
      "knn_10\n"
     ]
    },
    {
     "data": {
      "application/vnd.jupyter.widget-view+json": {
       "model_id": "50b575e0bbf3432a997e10bd8beca1a2",
       "version_major": 2,
       "version_minor": 0
      },
      "text/plain": [
       "Folds avaliados:   0%|          | 0/50 [00:00<?, ?it/s]"
      ]
     },
     "metadata": {},
     "output_type": "display_data"
    }
   ],
   "source": [
    "resultados = {}\n",
    "for nome, classificador, scale, params in tests_knn_imp:\n",
    "    print(nome)\n",
    "    r = do_cv(classificador, X_pca_df.values, y, 50, 10, 8, scale, params)\n",
    "    resultados[nome] = r"
   ]
  },
  {
   "cell_type": "code",
   "execution_count": 107,
   "id": "df1468e8-38bc-4b6e-bf1b-342745fc2a62",
   "metadata": {},
   "outputs": [
    {
     "name": "stdout",
     "output_type": "stream",
     "text": [
      "               knn_1 - Resultados: 0.74 +- 0.13, min: 0.40, max: 1.00\n",
      "               knn_2 - Resultados: 0.74 +- 0.13, min: 0.40, max: 1.00\n",
      "               knn_3 - Resultados: 0.73 +- 0.14, min: 0.44, max: 1.00\n",
      "               knn_4 - Resultados: 0.73 +- 0.14, min: 0.44, max: 1.00\n",
      "               knn_6 - Resultados: 0.68 +- 0.15, min: 0.40, max: 1.00\n",
      "               knn_7 - Resultados: 0.74 +- 0.13, min: 0.40, max: 1.00\n",
      "               knn_8 - Resultados: 0.74 +- 0.13, min: 0.40, max: 1.00\n",
      "               knn_9 - Resultados: 0.73 +- 0.14, min: 0.44, max: 1.00\n",
      "              knn_10 - Resultados: 0.73 +- 0.14, min: 0.44, max: 1.00\n"
     ]
    }
   ],
   "source": [
    "for teste in resultados:\n",
    "    print(teste.rjust(20), end=' - ')\n",
    "    imprimir_estatisticas(resultados[teste])"
   ]
  },
  {
   "cell_type": "code",
   "execution_count": 110,
   "id": "6dc3489d-3b35-4824-b0ab-bc02d004a93d",
   "metadata": {},
   "outputs": [
    {
     "name": "stdout",
     "output_type": "stream",
     "text": [
      "knn_1\n"
     ]
    },
    {
     "data": {
      "application/vnd.jupyter.widget-view+json": {
       "model_id": "1b31d88325a24bbdaa9ad97c285cb399",
       "version_major": 2,
       "version_minor": 0
      },
      "text/plain": [
       "Folds avaliados:   0%|          | 0/40 [00:00<?, ?it/s]"
      ]
     },
     "metadata": {},
     "output_type": "display_data"
    },
    {
     "name": "stdout",
     "output_type": "stream",
     "text": [
      "knn_2\n"
     ]
    },
    {
     "data": {
      "application/vnd.jupyter.widget-view+json": {
       "model_id": "82c0959414014cb69a9a9e0abdf4dba0",
       "version_major": 2,
       "version_minor": 0
      },
      "text/plain": [
       "Folds avaliados:   0%|          | 0/40 [00:00<?, ?it/s]"
      ]
     },
     "metadata": {},
     "output_type": "display_data"
    },
    {
     "name": "stdout",
     "output_type": "stream",
     "text": [
      "knn_3\n"
     ]
    },
    {
     "data": {
      "application/vnd.jupyter.widget-view+json": {
       "model_id": "d0016901406049b89c679d0f4bebceec",
       "version_major": 2,
       "version_minor": 0
      },
      "text/plain": [
       "Folds avaliados:   0%|          | 0/40 [00:00<?, ?it/s]"
      ]
     },
     "metadata": {},
     "output_type": "display_data"
    },
    {
     "name": "stdout",
     "output_type": "stream",
     "text": [
      "knn_4\n"
     ]
    },
    {
     "data": {
      "application/vnd.jupyter.widget-view+json": {
       "model_id": "53e51e869a47481590348abdb4e0ae69",
       "version_major": 2,
       "version_minor": 0
      },
      "text/plain": [
       "Folds avaliados:   0%|          | 0/40 [00:00<?, ?it/s]"
      ]
     },
     "metadata": {},
     "output_type": "display_data"
    },
    {
     "name": "stdout",
     "output_type": "stream",
     "text": [
      "knn_6\n"
     ]
    },
    {
     "data": {
      "application/vnd.jupyter.widget-view+json": {
       "model_id": "52ad49c06b764098b5dda33fcc6616e6",
       "version_major": 2,
       "version_minor": 0
      },
      "text/plain": [
       "Folds avaliados:   0%|          | 0/40 [00:00<?, ?it/s]"
      ]
     },
     "metadata": {},
     "output_type": "display_data"
    },
    {
     "name": "stdout",
     "output_type": "stream",
     "text": [
      "knn_7\n"
     ]
    },
    {
     "data": {
      "application/vnd.jupyter.widget-view+json": {
       "model_id": "7a6be7713c224470bf8a13c4ec4a1eb0",
       "version_major": 2,
       "version_minor": 0
      },
      "text/plain": [
       "Folds avaliados:   0%|          | 0/40 [00:00<?, ?it/s]"
      ]
     },
     "metadata": {},
     "output_type": "display_data"
    },
    {
     "name": "stdout",
     "output_type": "stream",
     "text": [
      "knn_8\n"
     ]
    },
    {
     "data": {
      "application/vnd.jupyter.widget-view+json": {
       "model_id": "ca7ba233f9ed477ab64688db2ab31741",
       "version_major": 2,
       "version_minor": 0
      },
      "text/plain": [
       "Folds avaliados:   0%|          | 0/40 [00:00<?, ?it/s]"
      ]
     },
     "metadata": {},
     "output_type": "display_data"
    },
    {
     "name": "stdout",
     "output_type": "stream",
     "text": [
      "knn_9\n"
     ]
    },
    {
     "data": {
      "application/vnd.jupyter.widget-view+json": {
       "model_id": "fc7baa00d98a43848433c75175bca1c8",
       "version_major": 2,
       "version_minor": 0
      },
      "text/plain": [
       "Folds avaliados:   0%|          | 0/40 [00:00<?, ?it/s]"
      ]
     },
     "metadata": {},
     "output_type": "display_data"
    },
    {
     "name": "stdout",
     "output_type": "stream",
     "text": [
      "knn_10\n"
     ]
    },
    {
     "data": {
      "application/vnd.jupyter.widget-view+json": {
       "model_id": "a3555b25e96e428aa2f98b9ed569fc1a",
       "version_major": 2,
       "version_minor": 0
      },
      "text/plain": [
       "Folds avaliados:   0%|          | 0/40 [00:00<?, ?it/s]"
      ]
     },
     "metadata": {},
     "output_type": "display_data"
    }
   ],
   "source": [
    "resultados = {}\n",
    "for nome, classificador, scale, params in tests_knn_imp:\n",
    "    print(nome)\n",
    "    r = do_cv(classificador, X_pca_df.values, y, 40, 50, 8, scale, params)\n",
    "    resultados[nome] = r"
   ]
  },
  {
   "cell_type": "code",
   "execution_count": 111,
   "id": "4435c1d4-2871-49ea-87ca-535e81b61dc7",
   "metadata": {},
   "outputs": [
    {
     "name": "stdout",
     "output_type": "stream",
     "text": [
      "               knn_1 - Resultados: 0.74 +- 0.12, min: 0.50, max: 0.95\n",
      "               knn_2 - Resultados: 0.74 +- 0.12, min: 0.50, max: 0.95\n",
      "               knn_3 - Resultados: 0.73 +- 0.13, min: 0.50, max: 1.00\n",
      "               knn_4 - Resultados: 0.73 +- 0.13, min: 0.50, max: 1.00\n",
      "               knn_6 - Resultados: 0.66 +- 0.15, min: 0.18, max: 0.94\n",
      "               knn_7 - Resultados: 0.74 +- 0.12, min: 0.50, max: 0.95\n",
      "               knn_8 - Resultados: 0.74 +- 0.12, min: 0.50, max: 0.95\n",
      "               knn_9 - Resultados: 0.73 +- 0.13, min: 0.50, max: 1.00\n",
      "              knn_10 - Resultados: 0.73 +- 0.13, min: 0.50, max: 1.00\n"
     ]
    }
   ],
   "source": [
    "for teste in resultados:\n",
    "    print(teste.rjust(20), end=' - ')\n",
    "    imprimir_estatisticas(resultados[teste])"
   ]
  },
  {
   "cell_type": "code",
   "execution_count": 116,
   "id": "0b696301-fd83-439a-86cd-205cd83d17e1",
   "metadata": {},
   "outputs": [
    {
     "name": "stdout",
     "output_type": "stream",
     "text": [
      "knn_1\n"
     ]
    },
    {
     "data": {
      "application/vnd.jupyter.widget-view+json": {
       "model_id": "7bab17aa479a474daf5da600093a012c",
       "version_major": 2,
       "version_minor": 0
      },
      "text/plain": [
       "Folds avaliados:   0%|          | 0/40 [00:00<?, ?it/s]"
      ]
     },
     "metadata": {},
     "output_type": "display_data"
    },
    {
     "name": "stdout",
     "output_type": "stream",
     "text": [
      "knn_2\n"
     ]
    },
    {
     "data": {
      "application/vnd.jupyter.widget-view+json": {
       "model_id": "4011a07b33174721b64dcd5e1e069465",
       "version_major": 2,
       "version_minor": 0
      },
      "text/plain": [
       "Folds avaliados:   0%|          | 0/40 [00:00<?, ?it/s]"
      ]
     },
     "metadata": {},
     "output_type": "display_data"
    },
    {
     "name": "stdout",
     "output_type": "stream",
     "text": [
      "knn_3\n"
     ]
    },
    {
     "data": {
      "application/vnd.jupyter.widget-view+json": {
       "model_id": "8e950f770cf047a6b475395caf4633fc",
       "version_major": 2,
       "version_minor": 0
      },
      "text/plain": [
       "Folds avaliados:   0%|          | 0/40 [00:00<?, ?it/s]"
      ]
     },
     "metadata": {},
     "output_type": "display_data"
    },
    {
     "name": "stdout",
     "output_type": "stream",
     "text": [
      "knn_4\n"
     ]
    },
    {
     "data": {
      "application/vnd.jupyter.widget-view+json": {
       "model_id": "3c264ae5e26f43bc929dad0c1901687e",
       "version_major": 2,
       "version_minor": 0
      },
      "text/plain": [
       "Folds avaliados:   0%|          | 0/40 [00:00<?, ?it/s]"
      ]
     },
     "metadata": {},
     "output_type": "display_data"
    },
    {
     "name": "stdout",
     "output_type": "stream",
     "text": [
      "knn_6\n"
     ]
    },
    {
     "data": {
      "application/vnd.jupyter.widget-view+json": {
       "model_id": "cbd8a652e1eb4268800417bed8987b03",
       "version_major": 2,
       "version_minor": 0
      },
      "text/plain": [
       "Folds avaliados:   0%|          | 0/40 [00:00<?, ?it/s]"
      ]
     },
     "metadata": {},
     "output_type": "display_data"
    },
    {
     "name": "stdout",
     "output_type": "stream",
     "text": [
      "knn_7\n"
     ]
    },
    {
     "data": {
      "application/vnd.jupyter.widget-view+json": {
       "model_id": "07a75e748771423f862dffdfd676d6b3",
       "version_major": 2,
       "version_minor": 0
      },
      "text/plain": [
       "Folds avaliados:   0%|          | 0/40 [00:00<?, ?it/s]"
      ]
     },
     "metadata": {},
     "output_type": "display_data"
    },
    {
     "name": "stdout",
     "output_type": "stream",
     "text": [
      "knn_8\n"
     ]
    },
    {
     "data": {
      "application/vnd.jupyter.widget-view+json": {
       "model_id": "9c4b02faea624c66b02e39d8c37e3e43",
       "version_major": 2,
       "version_minor": 0
      },
      "text/plain": [
       "Folds avaliados:   0%|          | 0/40 [00:00<?, ?it/s]"
      ]
     },
     "metadata": {},
     "output_type": "display_data"
    },
    {
     "name": "stdout",
     "output_type": "stream",
     "text": [
      "knn_9\n"
     ]
    },
    {
     "data": {
      "application/vnd.jupyter.widget-view+json": {
       "model_id": "f1a790abf0d2487aa6a4393731f0c32f",
       "version_major": 2,
       "version_minor": 0
      },
      "text/plain": [
       "Folds avaliados:   0%|          | 0/40 [00:00<?, ?it/s]"
      ]
     },
     "metadata": {},
     "output_type": "display_data"
    },
    {
     "name": "stdout",
     "output_type": "stream",
     "text": [
      "knn_10\n"
     ]
    },
    {
     "data": {
      "application/vnd.jupyter.widget-view+json": {
       "model_id": "188811ee879e4ab084d2d8f0331313ed",
       "version_major": 2,
       "version_minor": 0
      },
      "text/plain": [
       "Folds avaliados:   0%|          | 0/40 [00:00<?, ?it/s]"
      ]
     },
     "metadata": {},
     "output_type": "display_data"
    }
   ],
   "source": [
    "resultados = {}\n",
    "for nome, classificador, scale, params in tests_knn_imp:\n",
    "    print(nome)\n",
    "    r = do_cv(classificador, X_pca_df.values, y, 40, 100, 8, scale, params)\n",
    "    resultados[nome] = r"
   ]
  },
  {
   "cell_type": "code",
   "execution_count": 117,
   "id": "a9cd0474-f08d-440c-bb86-313ee9600e40",
   "metadata": {},
   "outputs": [
    {
     "name": "stdout",
     "output_type": "stream",
     "text": [
      "               knn_1 - Resultados: 0.74 +- 0.12, min: 0.50, max: 0.95\n",
      "               knn_2 - Resultados: 0.74 +- 0.12, min: 0.50, max: 0.95\n",
      "               knn_3 - Resultados: 0.73 +- 0.13, min: 0.50, max: 1.00\n",
      "               knn_4 - Resultados: 0.73 +- 0.13, min: 0.50, max: 1.00\n",
      "               knn_6 - Resultados: 0.67 +- 0.15, min: 0.18, max: 0.94\n",
      "               knn_7 - Resultados: 0.74 +- 0.12, min: 0.50, max: 0.95\n",
      "               knn_8 - Resultados: 0.74 +- 0.12, min: 0.50, max: 0.95\n",
      "               knn_9 - Resultados: 0.73 +- 0.13, min: 0.50, max: 1.00\n",
      "              knn_10 - Resultados: 0.73 +- 0.13, min: 0.50, max: 1.00\n"
     ]
    }
   ],
   "source": [
    "for teste in resultados:\n",
    "    print(teste.rjust(20), end=' - ')\n",
    "    imprimir_estatisticas(resultados[teste])"
   ]
  },
  {
   "cell_type": "code",
   "execution_count": 118,
   "id": "a1efcc3e-0c39-42e1-bf0d-74add374e3e9",
   "metadata": {},
   "outputs": [
    {
     "name": "stdout",
     "output_type": "stream",
     "text": [
      "knn_1\n"
     ]
    },
    {
     "data": {
      "application/vnd.jupyter.widget-view+json": {
       "model_id": "1fc9a49ab388409d9de1c658103a39fd",
       "version_major": 2,
       "version_minor": 0
      },
      "text/plain": [
       "Folds avaliados:   0%|          | 0/40 [00:00<?, ?it/s]"
      ]
     },
     "metadata": {},
     "output_type": "display_data"
    },
    {
     "name": "stdout",
     "output_type": "stream",
     "text": [
      "knn_2\n"
     ]
    },
    {
     "data": {
      "application/vnd.jupyter.widget-view+json": {
       "model_id": "825460bb2bbb4ced9c19f670c07f4d17",
       "version_major": 2,
       "version_minor": 0
      },
      "text/plain": [
       "Folds avaliados:   0%|          | 0/40 [00:00<?, ?it/s]"
      ]
     },
     "metadata": {},
     "output_type": "display_data"
    },
    {
     "name": "stdout",
     "output_type": "stream",
     "text": [
      "knn_3\n"
     ]
    },
    {
     "data": {
      "application/vnd.jupyter.widget-view+json": {
       "model_id": "e88ec74b523541a293e3ce99a5cb6032",
       "version_major": 2,
       "version_minor": 0
      },
      "text/plain": [
       "Folds avaliados:   0%|          | 0/40 [00:00<?, ?it/s]"
      ]
     },
     "metadata": {},
     "output_type": "display_data"
    },
    {
     "name": "stdout",
     "output_type": "stream",
     "text": [
      "knn_4\n"
     ]
    },
    {
     "data": {
      "application/vnd.jupyter.widget-view+json": {
       "model_id": "ecad32e96a774a69b171f1968c9db771",
       "version_major": 2,
       "version_minor": 0
      },
      "text/plain": [
       "Folds avaliados:   0%|          | 0/40 [00:00<?, ?it/s]"
      ]
     },
     "metadata": {},
     "output_type": "display_data"
    },
    {
     "name": "stdout",
     "output_type": "stream",
     "text": [
      "knn_6\n"
     ]
    },
    {
     "data": {
      "application/vnd.jupyter.widget-view+json": {
       "model_id": "7da0311bfb8246caa90a7c439fb37d18",
       "version_major": 2,
       "version_minor": 0
      },
      "text/plain": [
       "Folds avaliados:   0%|          | 0/40 [00:00<?, ?it/s]"
      ]
     },
     "metadata": {},
     "output_type": "display_data"
    },
    {
     "name": "stdout",
     "output_type": "stream",
     "text": [
      "knn_7\n"
     ]
    },
    {
     "data": {
      "application/vnd.jupyter.widget-view+json": {
       "model_id": "eb2e3e0b516c428da7d550d3a5540d18",
       "version_major": 2,
       "version_minor": 0
      },
      "text/plain": [
       "Folds avaliados:   0%|          | 0/40 [00:00<?, ?it/s]"
      ]
     },
     "metadata": {},
     "output_type": "display_data"
    },
    {
     "name": "stdout",
     "output_type": "stream",
     "text": [
      "knn_8\n"
     ]
    },
    {
     "data": {
      "application/vnd.jupyter.widget-view+json": {
       "model_id": "c87a530894984ee98cc13dd716be222c",
       "version_major": 2,
       "version_minor": 0
      },
      "text/plain": [
       "Folds avaliados:   0%|          | 0/40 [00:00<?, ?it/s]"
      ]
     },
     "metadata": {},
     "output_type": "display_data"
    },
    {
     "name": "stdout",
     "output_type": "stream",
     "text": [
      "knn_9\n"
     ]
    },
    {
     "data": {
      "application/vnd.jupyter.widget-view+json": {
       "model_id": "8ce312bf47a24725a419e7d0c2953a84",
       "version_major": 2,
       "version_minor": 0
      },
      "text/plain": [
       "Folds avaliados:   0%|          | 0/40 [00:00<?, ?it/s]"
      ]
     },
     "metadata": {},
     "output_type": "display_data"
    },
    {
     "name": "stdout",
     "output_type": "stream",
     "text": [
      "knn_10\n"
     ]
    },
    {
     "data": {
      "application/vnd.jupyter.widget-view+json": {
       "model_id": "5a646cebbebe46efbf914cee4496ca6e",
       "version_major": 2,
       "version_minor": 0
      },
      "text/plain": [
       "Folds avaliados:   0%|          | 0/40 [00:00<?, ?it/s]"
      ]
     },
     "metadata": {},
     "output_type": "display_data"
    }
   ],
   "source": [
    "resultados = {}\n",
    "for nome, classificador, scale, params in tests_knn_imp:\n",
    "    print(nome)\n",
    "    r = do_cv(classificador, X_ss, y, 40, 100, 8, scale, params)\n",
    "    resultados[nome] = r"
   ]
  },
  {
   "cell_type": "code",
   "execution_count": null,
   "id": "b77e7eb7-3490-48f9-be23-a63377e765d1",
   "metadata": {},
   "outputs": [],
   "source": [
    "X_ss"
   ]
  }
 ],
 "metadata": {
  "kernelspec": {
   "display_name": "Python 3 (ipykernel)",
   "language": "python",
   "name": "python3"
  },
  "language_info": {
   "codemirror_mode": {
    "name": "ipython",
    "version": 3
   },
   "file_extension": ".py",
   "mimetype": "text/x-python",
   "name": "python",
   "nbconvert_exporter": "python",
   "pygments_lexer": "ipython3",
   "version": "3.9.6"
  }
 },
 "nbformat": 4,
 "nbformat_minor": 5
}
