{
 "cells": [
  {
   "cell_type": "markdown",
   "id": "accd7729-9d05-4c05-8095-8085cc671c73",
   "metadata": {},
   "source": [
    "# Trabalho - Projeto de um classificador com atributos mistos e com dados faltantes"
   ]
  },
  {
   "cell_type": "markdown",
   "id": "8fd2cda0-eed1-4a04-b07b-558cc3ac6122",
   "metadata": {},
   "source": [
    "Nem sempre é possível termos um conjunto de dados íntegro, onde todos os dados estão padronizados e coerentes, e totalmente completos."
   ]
  },
  {
   "cell_type": "markdown",
   "id": "903589c2-6804-4fbf-bc1b-d36a3c3cbeb6",
   "metadata": {},
   "source": [
    "## O objetivo deste trabalho será responder a seguinte pergunta com o conjunto de dados:\n",
    "### <div align=\"center\"> Que pessoas tinham mais chances de sobreviver? </div>"
   ]
  },
  {
   "cell_type": "markdown",
   "id": "eeed2a45-5d0e-46bd-88a2-d7e41556745c",
   "metadata": {},
   "source": [
    "No caso desse conjunto, temos casos onde alguns dados estão faltando.\n",
    "\n",
    "A base de dados foi extraída do site [kaggle](https://www.kaggle.com/c/titanic/data), uma comunidade *on-line* de cientistas de dados e profissionais de aprendizado de máquina. É uma base de dados dividida em dois arquivos: conjunto de teste e uma base de treino."
   ]
  },
  {
   "cell_type": "markdown",
   "id": "ec2679f8-7d94-4ddd-a299-33616f3a184c",
   "metadata": {},
   "source": [
    "No arquivo \"titanic/train.csv\", temos o conjunto de treinamento que tem 891 instâncias e doze colunas, o que será utilizado para a criação do modelo. Já o \"titanic/test.csv\" contém 418 instâncias e onze colunas, onde será utilizado para validar o desempenho do classificador em dados diferentes do treino."
   ]
  },
  {
   "cell_type": "markdown",
   "id": "a5a2a77b-3cc0-4f39-9913-d3c0371c5762",
   "metadata": {},
   "source": [
    "#### Importando módulos importantes para o desenvolvimento do projeto"
   ]
  },
  {
   "cell_type": "code",
   "execution_count": 1,
   "id": "159fd528-f9eb-4897-9057-0b582bd56b03",
   "metadata": {},
   "outputs": [],
   "source": [
    "# bibliotecas default\n",
    "import pandas as pd\n",
    "import numpy as np\n",
    "\n",
    "# bibliotecas para visualização dos dados\n",
    "import seaborn as sns\n",
    "import matplotlib.pyplot as plt\n",
    "\n",
    "# bibliotecas para transformação e tratamento dos dados\n",
    "from sklearn.impute import SimpleImputer\n",
    "from sklearn.compose import ColumnTransformer\n",
    "from sklearn.preprocessing import OrdinalEncoder\n",
    "from sklearn.preprocessing import OneHotEncoder\n",
    "from sklearn.decomposition import PCA\n",
    "from sklearn.preprocessing import StandardScaler\n",
    "\n",
    "# importando os classificadares\n",
    "from sklearn.svm import SVC\n",
    "from sklearn.neighbors import KNeighborsClassifier\n",
    "from sklearn.ensemble import RandomForestClassifier\n",
    "from sklearn.tree import DecisionTreeClassifier"
   ]
  },
  {
   "cell_type": "markdown",
   "id": "c0f35897-d10a-42de-9f22-e9c3ed52dc01",
   "metadata": {},
   "source": [
    "**Importando o *utils* fornecido pelo professor.**"
   ]
  },
  {
   "cell_type": "code",
   "execution_count": 2,
   "id": "f4901249-2506-43b3-bdbb-706fab569d3a",
   "metadata": {},
   "outputs": [],
   "source": [
    "from utils import imprimir_estatisticas, calcular_estatisticas, rejeitar_hip_nula\n",
    "from mixins import selecionar_melhor_modelo, do_cv"
   ]
  },
  {
   "cell_type": "markdown",
   "id": "7e6af489-94ae-4561-8ffa-e2e169036c81",
   "metadata": {},
   "source": [
    "#### Lendo os arquivo de Teste e Treino em um *dataframe*"
   ]
  },
  {
   "cell_type": "code",
   "execution_count": 3,
   "id": "f08cc007-ebf2-47b7-94c8-b56bb6511a49",
   "metadata": {},
   "outputs": [],
   "source": [
    "df_test = pd.read_csv(\"titanic/test.csv\")\n",
    "df_train = pd.read_csv(\"titanic/train.csv\")"
   ]
  },
  {
   "cell_type": "markdown",
   "id": "274b9a74-baff-4606-ace3-79af71fa5b2c",
   "metadata": {},
   "source": [
    "### Visualizando as 5 primeira linhas para averiguarmos com o que estamos trabalhando"
   ]
  },
  {
   "cell_type": "code",
   "execution_count": 4,
   "id": "318636ab-ba69-4bed-94e4-8fe4ad4b768a",
   "metadata": {},
   "outputs": [
    {
     "data": {
      "text/html": [
       "<div>\n",
       "<style scoped>\n",
       "    .dataframe tbody tr th:only-of-type {\n",
       "        vertical-align: middle;\n",
       "    }\n",
       "\n",
       "    .dataframe tbody tr th {\n",
       "        vertical-align: top;\n",
       "    }\n",
       "\n",
       "    .dataframe thead th {\n",
       "        text-align: right;\n",
       "    }\n",
       "</style>\n",
       "<table border=\"1\" class=\"dataframe\">\n",
       "  <thead>\n",
       "    <tr style=\"text-align: right;\">\n",
       "      <th></th>\n",
       "      <th>PassengerId</th>\n",
       "      <th>Survived</th>\n",
       "      <th>Pclass</th>\n",
       "      <th>Name</th>\n",
       "      <th>Sex</th>\n",
       "      <th>Age</th>\n",
       "      <th>SibSp</th>\n",
       "      <th>Parch</th>\n",
       "      <th>Ticket</th>\n",
       "      <th>Fare</th>\n",
       "      <th>Cabin</th>\n",
       "      <th>Embarked</th>\n",
       "    </tr>\n",
       "  </thead>\n",
       "  <tbody>\n",
       "    <tr>\n",
       "      <th>0</th>\n",
       "      <td>1</td>\n",
       "      <td>0</td>\n",
       "      <td>3</td>\n",
       "      <td>Braund, Mr. Owen Harris</td>\n",
       "      <td>male</td>\n",
       "      <td>22.0</td>\n",
       "      <td>1</td>\n",
       "      <td>0</td>\n",
       "      <td>A/5 21171</td>\n",
       "      <td>7.2500</td>\n",
       "      <td>NaN</td>\n",
       "      <td>S</td>\n",
       "    </tr>\n",
       "    <tr>\n",
       "      <th>1</th>\n",
       "      <td>2</td>\n",
       "      <td>1</td>\n",
       "      <td>1</td>\n",
       "      <td>Cumings, Mrs. John Bradley (Florence Briggs Th...</td>\n",
       "      <td>female</td>\n",
       "      <td>38.0</td>\n",
       "      <td>1</td>\n",
       "      <td>0</td>\n",
       "      <td>PC 17599</td>\n",
       "      <td>71.2833</td>\n",
       "      <td>C85</td>\n",
       "      <td>C</td>\n",
       "    </tr>\n",
       "    <tr>\n",
       "      <th>2</th>\n",
       "      <td>3</td>\n",
       "      <td>1</td>\n",
       "      <td>3</td>\n",
       "      <td>Heikkinen, Miss. Laina</td>\n",
       "      <td>female</td>\n",
       "      <td>26.0</td>\n",
       "      <td>0</td>\n",
       "      <td>0</td>\n",
       "      <td>STON/O2. 3101282</td>\n",
       "      <td>7.9250</td>\n",
       "      <td>NaN</td>\n",
       "      <td>S</td>\n",
       "    </tr>\n",
       "    <tr>\n",
       "      <th>3</th>\n",
       "      <td>4</td>\n",
       "      <td>1</td>\n",
       "      <td>1</td>\n",
       "      <td>Futrelle, Mrs. Jacques Heath (Lily May Peel)</td>\n",
       "      <td>female</td>\n",
       "      <td>35.0</td>\n",
       "      <td>1</td>\n",
       "      <td>0</td>\n",
       "      <td>113803</td>\n",
       "      <td>53.1000</td>\n",
       "      <td>C123</td>\n",
       "      <td>S</td>\n",
       "    </tr>\n",
       "    <tr>\n",
       "      <th>4</th>\n",
       "      <td>5</td>\n",
       "      <td>0</td>\n",
       "      <td>3</td>\n",
       "      <td>Allen, Mr. William Henry</td>\n",
       "      <td>male</td>\n",
       "      <td>35.0</td>\n",
       "      <td>0</td>\n",
       "      <td>0</td>\n",
       "      <td>373450</td>\n",
       "      <td>8.0500</td>\n",
       "      <td>NaN</td>\n",
       "      <td>S</td>\n",
       "    </tr>\n",
       "  </tbody>\n",
       "</table>\n",
       "</div>"
      ],
      "text/plain": [
       "   PassengerId  Survived  Pclass  \\\n",
       "0            1         0       3   \n",
       "1            2         1       1   \n",
       "2            3         1       3   \n",
       "3            4         1       1   \n",
       "4            5         0       3   \n",
       "\n",
       "                                                Name     Sex   Age  SibSp  \\\n",
       "0                            Braund, Mr. Owen Harris    male  22.0      1   \n",
       "1  Cumings, Mrs. John Bradley (Florence Briggs Th...  female  38.0      1   \n",
       "2                             Heikkinen, Miss. Laina  female  26.0      0   \n",
       "3       Futrelle, Mrs. Jacques Heath (Lily May Peel)  female  35.0      1   \n",
       "4                           Allen, Mr. William Henry    male  35.0      0   \n",
       "\n",
       "   Parch            Ticket     Fare Cabin Embarked  \n",
       "0      0         A/5 21171   7.2500   NaN        S  \n",
       "1      0          PC 17599  71.2833   C85        C  \n",
       "2      0  STON/O2. 3101282   7.9250   NaN        S  \n",
       "3      0            113803  53.1000  C123        S  \n",
       "4      0            373450   8.0500   NaN        S  "
      ]
     },
     "execution_count": 4,
     "metadata": {},
     "output_type": "execute_result"
    }
   ],
   "source": [
    "df_train.head(5)"
   ]
  },
  {
   "cell_type": "code",
   "execution_count": 5,
   "id": "2a7eedaf-9e7f-4f88-85ab-95864e4629f5",
   "metadata": {},
   "outputs": [
    {
     "name": "stdout",
     "output_type": "stream",
     "text": [
      "<class 'pandas.core.frame.DataFrame'>\n",
      "RangeIndex: 891 entries, 0 to 890\n",
      "Data columns (total 12 columns):\n",
      " #   Column       Non-Null Count  Dtype  \n",
      "---  ------       --------------  -----  \n",
      " 0   PassengerId  891 non-null    int64  \n",
      " 1   Survived     891 non-null    int64  \n",
      " 2   Pclass       891 non-null    int64  \n",
      " 3   Name         891 non-null    object \n",
      " 4   Sex          891 non-null    object \n",
      " 5   Age          714 non-null    float64\n",
      " 6   SibSp        891 non-null    int64  \n",
      " 7   Parch        891 non-null    int64  \n",
      " 8   Ticket       891 non-null    object \n",
      " 9   Fare         891 non-null    float64\n",
      " 10  Cabin        204 non-null    object \n",
      " 11  Embarked     889 non-null    object \n",
      "dtypes: float64(2), int64(5), object(5)\n",
      "memory usage: 83.7+ KB\n"
     ]
    }
   ],
   "source": [
    "df_train.info()"
   ]
  },
  {
   "cell_type": "markdown",
   "id": "4708108a-8e52-4152-af5a-8628da629140",
   "metadata": {},
   "source": [
    "Podemos verificar que alguns dados que aparentam ser nulos."
   ]
  },
  {
   "cell_type": "code",
   "execution_count": 6,
   "id": "415d72a3-8aef-45f6-937d-7b72284b3573",
   "metadata": {},
   "outputs": [
    {
     "data": {
      "text/html": [
       "<div>\n",
       "<style scoped>\n",
       "    .dataframe tbody tr th:only-of-type {\n",
       "        vertical-align: middle;\n",
       "    }\n",
       "\n",
       "    .dataframe tbody tr th {\n",
       "        vertical-align: top;\n",
       "    }\n",
       "\n",
       "    .dataframe thead th {\n",
       "        text-align: right;\n",
       "    }\n",
       "</style>\n",
       "<table border=\"1\" class=\"dataframe\">\n",
       "  <thead>\n",
       "    <tr style=\"text-align: right;\">\n",
       "      <th></th>\n",
       "      <th>PassengerId</th>\n",
       "      <th>Survived</th>\n",
       "      <th>Pclass</th>\n",
       "      <th>Age</th>\n",
       "      <th>SibSp</th>\n",
       "      <th>Parch</th>\n",
       "      <th>Fare</th>\n",
       "    </tr>\n",
       "  </thead>\n",
       "  <tbody>\n",
       "    <tr>\n",
       "      <th>count</th>\n",
       "      <td>891.000000</td>\n",
       "      <td>891.000000</td>\n",
       "      <td>891.000000</td>\n",
       "      <td>714.000000</td>\n",
       "      <td>891.000000</td>\n",
       "      <td>891.000000</td>\n",
       "      <td>891.000000</td>\n",
       "    </tr>\n",
       "    <tr>\n",
       "      <th>mean</th>\n",
       "      <td>446.000000</td>\n",
       "      <td>0.383838</td>\n",
       "      <td>2.308642</td>\n",
       "      <td>29.699118</td>\n",
       "      <td>0.523008</td>\n",
       "      <td>0.381594</td>\n",
       "      <td>32.204208</td>\n",
       "    </tr>\n",
       "    <tr>\n",
       "      <th>std</th>\n",
       "      <td>257.353842</td>\n",
       "      <td>0.486592</td>\n",
       "      <td>0.836071</td>\n",
       "      <td>14.526497</td>\n",
       "      <td>1.102743</td>\n",
       "      <td>0.806057</td>\n",
       "      <td>49.693429</td>\n",
       "    </tr>\n",
       "    <tr>\n",
       "      <th>min</th>\n",
       "      <td>1.000000</td>\n",
       "      <td>0.000000</td>\n",
       "      <td>1.000000</td>\n",
       "      <td>0.420000</td>\n",
       "      <td>0.000000</td>\n",
       "      <td>0.000000</td>\n",
       "      <td>0.000000</td>\n",
       "    </tr>\n",
       "    <tr>\n",
       "      <th>25%</th>\n",
       "      <td>223.500000</td>\n",
       "      <td>0.000000</td>\n",
       "      <td>2.000000</td>\n",
       "      <td>20.125000</td>\n",
       "      <td>0.000000</td>\n",
       "      <td>0.000000</td>\n",
       "      <td>7.910400</td>\n",
       "    </tr>\n",
       "    <tr>\n",
       "      <th>50%</th>\n",
       "      <td>446.000000</td>\n",
       "      <td>0.000000</td>\n",
       "      <td>3.000000</td>\n",
       "      <td>28.000000</td>\n",
       "      <td>0.000000</td>\n",
       "      <td>0.000000</td>\n",
       "      <td>14.454200</td>\n",
       "    </tr>\n",
       "    <tr>\n",
       "      <th>75%</th>\n",
       "      <td>668.500000</td>\n",
       "      <td>1.000000</td>\n",
       "      <td>3.000000</td>\n",
       "      <td>38.000000</td>\n",
       "      <td>1.000000</td>\n",
       "      <td>0.000000</td>\n",
       "      <td>31.000000</td>\n",
       "    </tr>\n",
       "    <tr>\n",
       "      <th>max</th>\n",
       "      <td>891.000000</td>\n",
       "      <td>1.000000</td>\n",
       "      <td>3.000000</td>\n",
       "      <td>80.000000</td>\n",
       "      <td>8.000000</td>\n",
       "      <td>6.000000</td>\n",
       "      <td>512.329200</td>\n",
       "    </tr>\n",
       "  </tbody>\n",
       "</table>\n",
       "</div>"
      ],
      "text/plain": [
       "       PassengerId    Survived      Pclass         Age       SibSp  \\\n",
       "count   891.000000  891.000000  891.000000  714.000000  891.000000   \n",
       "mean    446.000000    0.383838    2.308642   29.699118    0.523008   \n",
       "std     257.353842    0.486592    0.836071   14.526497    1.102743   \n",
       "min       1.000000    0.000000    1.000000    0.420000    0.000000   \n",
       "25%     223.500000    0.000000    2.000000   20.125000    0.000000   \n",
       "50%     446.000000    0.000000    3.000000   28.000000    0.000000   \n",
       "75%     668.500000    1.000000    3.000000   38.000000    1.000000   \n",
       "max     891.000000    1.000000    3.000000   80.000000    8.000000   \n",
       "\n",
       "            Parch        Fare  \n",
       "count  891.000000  891.000000  \n",
       "mean     0.381594   32.204208  \n",
       "std      0.806057   49.693429  \n",
       "min      0.000000    0.000000  \n",
       "25%      0.000000    7.910400  \n",
       "50%      0.000000   14.454200  \n",
       "75%      0.000000   31.000000  \n",
       "max      6.000000  512.329200  "
      ]
     },
     "execution_count": 6,
     "metadata": {},
     "output_type": "execute_result"
    }
   ],
   "source": [
    "df_train.describe()"
   ]
  },
  {
   "cell_type": "markdown",
   "id": "116f24e4-8d91-4371-bed5-45aa0763f6c1",
   "metadata": {},
   "source": [
    "E temos uma visão de como os nossos dados estão distribuídos. Análise que algumas colunas não apareceram por serem colunas categóricas. Mas conseguimos visualizar que, por exemplo a coluna *PassengerId*, é uma coluna única, pois para cada passageiro tem um valor diferente não sendo importante na classificação visto que é algo muito específico de uma pessoa, assim como a coluna *Name*. Com isso, vamos dropar essas colunas que não ajudaram nosso classificador."
   ]
  },
  {
   "cell_type": "code",
   "execution_count": 7,
   "id": "2fae76d6-ba91-4860-8fda-d74d0c85ef9c",
   "metadata": {},
   "outputs": [
    {
     "data": {
      "text/html": [
       "<div>\n",
       "<style scoped>\n",
       "    .dataframe tbody tr th:only-of-type {\n",
       "        vertical-align: middle;\n",
       "    }\n",
       "\n",
       "    .dataframe tbody tr th {\n",
       "        vertical-align: top;\n",
       "    }\n",
       "\n",
       "    .dataframe thead th {\n",
       "        text-align: right;\n",
       "    }\n",
       "</style>\n",
       "<table border=\"1\" class=\"dataframe\">\n",
       "  <thead>\n",
       "    <tr style=\"text-align: right;\">\n",
       "      <th></th>\n",
       "      <th>Survived</th>\n",
       "      <th>Pclass</th>\n",
       "      <th>Sex</th>\n",
       "      <th>Age</th>\n",
       "      <th>SibSp</th>\n",
       "      <th>Parch</th>\n",
       "      <th>Ticket</th>\n",
       "      <th>Fare</th>\n",
       "      <th>Cabin</th>\n",
       "      <th>Embarked</th>\n",
       "    </tr>\n",
       "  </thead>\n",
       "  <tbody>\n",
       "    <tr>\n",
       "      <th>0</th>\n",
       "      <td>0</td>\n",
       "      <td>3</td>\n",
       "      <td>male</td>\n",
       "      <td>22.0</td>\n",
       "      <td>1</td>\n",
       "      <td>0</td>\n",
       "      <td>A/5 21171</td>\n",
       "      <td>7.2500</td>\n",
       "      <td>NaN</td>\n",
       "      <td>S</td>\n",
       "    </tr>\n",
       "    <tr>\n",
       "      <th>1</th>\n",
       "      <td>1</td>\n",
       "      <td>1</td>\n",
       "      <td>female</td>\n",
       "      <td>38.0</td>\n",
       "      <td>1</td>\n",
       "      <td>0</td>\n",
       "      <td>PC 17599</td>\n",
       "      <td>71.2833</td>\n",
       "      <td>C85</td>\n",
       "      <td>C</td>\n",
       "    </tr>\n",
       "  </tbody>\n",
       "</table>\n",
       "</div>"
      ],
      "text/plain": [
       "   Survived  Pclass     Sex   Age  SibSp  Parch     Ticket     Fare Cabin  \\\n",
       "0         0       3    male  22.0      1      0  A/5 21171   7.2500   NaN   \n",
       "1         1       1  female  38.0      1      0   PC 17599  71.2833   C85   \n",
       "\n",
       "  Embarked  \n",
       "0        S  \n",
       "1        C  "
      ]
     },
     "execution_count": 7,
     "metadata": {},
     "output_type": "execute_result"
    }
   ],
   "source": [
    "df_train_new = df_train.drop(columns=[\"PassengerId\", \"Name\"])\n",
    "df_train_new.head(2)"
   ]
  },
  {
   "cell_type": "markdown",
   "id": "648978e3-cce2-4354-a8f5-ea224fd77898",
   "metadata": {},
   "source": [
    "Portanto, agora estamos trabalhando com apenas 10 colunas e 891 instâncias."
   ]
  },
  {
   "cell_type": "markdown",
   "id": "6116b41b-004c-4528-af8f-09224d729294",
   "metadata": {},
   "source": [
    "## Lidando com valores faltantes"
   ]
  },
  {
   "cell_type": "markdown",
   "id": "d44bb17b-5924-4b49-a5bc-8231872bec47",
   "metadata": {},
   "source": [
    "Primeiro vamos confirmar se dentro do nosso conjunto de dados existem dados faltantes, e se sim, em quais colunas eles estão distribuídos."
   ]
  },
  {
   "cell_type": "code",
   "execution_count": 8,
   "id": "80771014-3668-47f8-a13c-34711aca2440",
   "metadata": {},
   "outputs": [
    {
     "data": {
      "text/plain": [
       "Survived      0\n",
       "Pclass        0\n",
       "Sex           0\n",
       "Age         177\n",
       "SibSp         0\n",
       "Parch         0\n",
       "Ticket        0\n",
       "Fare          0\n",
       "Cabin       687\n",
       "Embarked      2\n",
       "dtype: int64"
      ]
     },
     "execution_count": 8,
     "metadata": {},
     "output_type": "execute_result"
    }
   ],
   "source": [
    "df_train_new.isnull().sum()"
   ]
  },
  {
   "cell_type": "code",
   "execution_count": 9,
   "id": "d722cc3a-ce06-4140-8930-e3c13d2dc12b",
   "metadata": {},
   "outputs": [
    {
     "data": {
      "text/plain": [
       "866"
      ]
     },
     "execution_count": 9,
     "metadata": {},
     "output_type": "execute_result"
    }
   ],
   "source": [
    "df_train_new.isnull().sum().sum()"
   ]
  },
  {
   "cell_type": "markdown",
   "id": "1bc76bb9-29af-4493-9eb5-c9ba25be5715",
   "metadata": {},
   "source": [
    "Conseguimos verificar que neste conjunto temos 866 células com informação faltando. E estão distribuídos em 3 colunas diferentes: *Age*, *Cabin* e *Embarked*."
   ]
  },
  {
   "cell_type": "markdown",
   "id": "11764d32-1744-4571-8d45-2b3f89230af6",
   "metadata": {},
   "source": [
    "Como a coluna Embarked tem apenas 2 valores nulos, foi optado por dropar essas linhas."
   ]
  },
  {
   "cell_type": "code",
   "execution_count": 10,
   "id": "62d5f037-cb38-4d02-bba5-23995e171e21",
   "metadata": {},
   "outputs": [
    {
     "data": {
      "text/html": [
       "<div>\n",
       "<style scoped>\n",
       "    .dataframe tbody tr th:only-of-type {\n",
       "        vertical-align: middle;\n",
       "    }\n",
       "\n",
       "    .dataframe tbody tr th {\n",
       "        vertical-align: top;\n",
       "    }\n",
       "\n",
       "    .dataframe thead th {\n",
       "        text-align: right;\n",
       "    }\n",
       "</style>\n",
       "<table border=\"1\" class=\"dataframe\">\n",
       "  <thead>\n",
       "    <tr style=\"text-align: right;\">\n",
       "      <th></th>\n",
       "      <th>Survived</th>\n",
       "      <th>Pclass</th>\n",
       "      <th>Sex</th>\n",
       "      <th>Age</th>\n",
       "      <th>SibSp</th>\n",
       "      <th>Parch</th>\n",
       "      <th>Ticket</th>\n",
       "      <th>Fare</th>\n",
       "      <th>Cabin</th>\n",
       "      <th>Embarked</th>\n",
       "    </tr>\n",
       "  </thead>\n",
       "  <tbody>\n",
       "    <tr>\n",
       "      <th>0</th>\n",
       "      <td>0</td>\n",
       "      <td>3</td>\n",
       "      <td>male</td>\n",
       "      <td>22.0</td>\n",
       "      <td>1</td>\n",
       "      <td>0</td>\n",
       "      <td>A/5 21171</td>\n",
       "      <td>7.2500</td>\n",
       "      <td>NaN</td>\n",
       "      <td>S</td>\n",
       "    </tr>\n",
       "    <tr>\n",
       "      <th>1</th>\n",
       "      <td>1</td>\n",
       "      <td>1</td>\n",
       "      <td>female</td>\n",
       "      <td>38.0</td>\n",
       "      <td>1</td>\n",
       "      <td>0</td>\n",
       "      <td>PC 17599</td>\n",
       "      <td>71.2833</td>\n",
       "      <td>C85</td>\n",
       "      <td>C</td>\n",
       "    </tr>\n",
       "    <tr>\n",
       "      <th>2</th>\n",
       "      <td>1</td>\n",
       "      <td>3</td>\n",
       "      <td>female</td>\n",
       "      <td>26.0</td>\n",
       "      <td>0</td>\n",
       "      <td>0</td>\n",
       "      <td>STON/O2. 3101282</td>\n",
       "      <td>7.9250</td>\n",
       "      <td>NaN</td>\n",
       "      <td>S</td>\n",
       "    </tr>\n",
       "    <tr>\n",
       "      <th>3</th>\n",
       "      <td>1</td>\n",
       "      <td>1</td>\n",
       "      <td>female</td>\n",
       "      <td>35.0</td>\n",
       "      <td>1</td>\n",
       "      <td>0</td>\n",
       "      <td>113803</td>\n",
       "      <td>53.1000</td>\n",
       "      <td>C123</td>\n",
       "      <td>S</td>\n",
       "    </tr>\n",
       "    <tr>\n",
       "      <th>4</th>\n",
       "      <td>0</td>\n",
       "      <td>3</td>\n",
       "      <td>male</td>\n",
       "      <td>35.0</td>\n",
       "      <td>0</td>\n",
       "      <td>0</td>\n",
       "      <td>373450</td>\n",
       "      <td>8.0500</td>\n",
       "      <td>NaN</td>\n",
       "      <td>S</td>\n",
       "    </tr>\n",
       "  </tbody>\n",
       "</table>\n",
       "</div>"
      ],
      "text/plain": [
       "   Survived  Pclass     Sex   Age  SibSp  Parch            Ticket     Fare  \\\n",
       "0         0       3    male  22.0      1      0         A/5 21171   7.2500   \n",
       "1         1       1  female  38.0      1      0          PC 17599  71.2833   \n",
       "2         1       3  female  26.0      0      0  STON/O2. 3101282   7.9250   \n",
       "3         1       1  female  35.0      1      0            113803  53.1000   \n",
       "4         0       3    male  35.0      0      0            373450   8.0500   \n",
       "\n",
       "  Cabin Embarked  \n",
       "0   NaN        S  \n",
       "1   C85        C  \n",
       "2   NaN        S  \n",
       "3  C123        S  \n",
       "4   NaN        S  "
      ]
     },
     "execution_count": 10,
     "metadata": {},
     "output_type": "execute_result"
    }
   ],
   "source": [
    "df_train_new = df_train_new.dropna(subset=['Embarked'])\n",
    "df_train_new.head(5)"
   ]
  },
  {
   "cell_type": "markdown",
   "id": "024fb896-c930-4df7-bc39-2aac4aa991af",
   "metadata": {},
   "source": [
    "Verificando os valores nulos restantes."
   ]
  },
  {
   "cell_type": "code",
   "execution_count": 11,
   "id": "8de7d1ca-495c-487b-920e-e0c35579a5d8",
   "metadata": {},
   "outputs": [
    {
     "data": {
      "text/plain": [
       "Survived      0\n",
       "Pclass        0\n",
       "Sex           0\n",
       "Age         177\n",
       "SibSp         0\n",
       "Parch         0\n",
       "Ticket        0\n",
       "Fare          0\n",
       "Cabin       687\n",
       "Embarked      0\n",
       "dtype: int64"
      ]
     },
     "execution_count": 11,
     "metadata": {},
     "output_type": "execute_result"
    }
   ],
   "source": [
    "df_train_new.isnull().sum()"
   ]
  },
  {
   "cell_type": "markdown",
   "id": "69023cc4-db60-4a36-950e-478d04692fa1",
   "metadata": {},
   "source": [
    "Agora, com as outras duas colunas (*Age* e *Cabin*) vamos fazer um tratamento especial. Na coluna *Age*, por ser um valor numérico, vamos utilizar a média de idades no lugar dos valores que estão faltando. E já na coluna *Cabin*, por estar faltando dados em quase 80% das linhas e ser categórico, foi escolhido imputar com valor padrão, sendo nesse caso utilizado o valor ***Unknown***, porém os valores restantes que não estão nulos serão substituindo com o valor ***Known***, transformando a coluna em apenas dois valores ***Known*** e ***Unknown***."
   ]
  },
  {
   "cell_type": "markdown",
   "id": "4786cd07-6e91-452f-a5fa-891558f0b6e1",
   "metadata": {},
   "source": [
    "#### Separando os valores de entrada e saída"
   ]
  },
  {
   "cell_type": "markdown",
   "id": "e6ac2787-5dd0-4dc8-8097-e904e027a734",
   "metadata": {},
   "source": [
    "Mas antes vamos separar os atributos de entrada do atributo de saída para simplificar e facilitar o trabalho com as colunas. E só separamos agora, pois demos um drop na linha nulas da coluna *Embarked* e com isso ficaria divergente o número de linhas de entrada e saída."
   ]
  },
  {
   "cell_type": "code",
   "execution_count": 12,
   "id": "7facd92c-c6fe-46ea-83f4-eb7c22002880",
   "metadata": {},
   "outputs": [],
   "source": [
    "X_train = df_train_new.drop(columns=[\"Survived\"])\n",
    "Y_train = df_train_new[[\"Survived\"]]"
   ]
  },
  {
   "cell_type": "markdown",
   "id": "59d7c8bf-dc1f-4eea-b1fc-06890fba3dc3",
   "metadata": {},
   "source": [
    "#### Transformado os valores faltantes"
   ]
  },
  {
   "cell_type": "code",
   "execution_count": 13,
   "id": "23d3b408-4d3d-4291-8b7e-54a5d8e6b0f4",
   "metadata": {},
   "outputs": [
    {
     "data": {
      "text/plain": [
       "array([[22.0, 'Unknown', 3, ..., 'A/5 21171', 7.25, 'S'],\n",
       "       [38.0, 'C85', 1, ..., 'PC 17599', 71.2833, 'C'],\n",
       "       [26.0, 'Unknown', 3, ..., 'STON/O2. 3101282', 7.925, 'S'],\n",
       "       ...,\n",
       "       [29.64209269662921, 'Unknown', 3, ..., 'W./C. 6607', 23.45, 'S'],\n",
       "       [26.0, 'C148', 1, ..., '111369', 30.0, 'C'],\n",
       "       [32.0, 'Unknown', 3, ..., '370376', 7.75, 'Q']], dtype=object)"
      ]
     },
     "execution_count": 13,
     "metadata": {},
     "output_type": "execute_result"
    }
   ],
   "source": [
    "# pega os nomes das colunas\n",
    "attributes = list(X_train.columns)\n",
    "# as colunas que vão ser tranformadas\n",
    "attributes_transf = ['Age', 'Cabin']\n",
    "# separa as colunas das colunas que serão tranformadas\n",
    "attributes = [item for item in attributes if item not in attributes_transf]\n",
    "\n",
    "transformers = [\n",
    "    ('imp_num', SimpleImputer(strategy='mean'), ['Age']),\n",
    "    ('imp_cat', SimpleImputer(strategy='constant', fill_value='Unknown'), ['Cabin'])\n",
    "]\n",
    "\n",
    "col_trans = ColumnTransformer(\n",
    "    transformers, remainder='passthrough', sparse_threshold=0\n",
    ")\n",
    "values_imput = col_trans.fit_transform(X_train)\n",
    "values_imput"
   ]
  },
  {
   "cell_type": "markdown",
   "id": "6558e39c-a141-44eb-bfd7-3616ad6a39c2",
   "metadata": {},
   "source": [
    "Verificando se tudo ocorreu conforme o planejado."
   ]
  },
  {
   "cell_type": "code",
   "execution_count": 14,
   "id": "349f7307-46b8-4e22-84f0-a9dffb5c6ab6",
   "metadata": {},
   "outputs": [
    {
     "data": {
      "text/html": [
       "<div>\n",
       "<style scoped>\n",
       "    .dataframe tbody tr th:only-of-type {\n",
       "        vertical-align: middle;\n",
       "    }\n",
       "\n",
       "    .dataframe tbody tr th {\n",
       "        vertical-align: top;\n",
       "    }\n",
       "\n",
       "    .dataframe thead th {\n",
       "        text-align: right;\n",
       "    }\n",
       "</style>\n",
       "<table border=\"1\" class=\"dataframe\">\n",
       "  <thead>\n",
       "    <tr style=\"text-align: right;\">\n",
       "      <th></th>\n",
       "      <th>Age</th>\n",
       "      <th>Cabin</th>\n",
       "      <th>Pclass</th>\n",
       "      <th>Sex</th>\n",
       "      <th>SibSp</th>\n",
       "      <th>Parch</th>\n",
       "      <th>Ticket</th>\n",
       "      <th>Fare</th>\n",
       "      <th>Embarked</th>\n",
       "    </tr>\n",
       "  </thead>\n",
       "  <tbody>\n",
       "    <tr>\n",
       "      <th>0</th>\n",
       "      <td>22.0</td>\n",
       "      <td>Unknown</td>\n",
       "      <td>3</td>\n",
       "      <td>male</td>\n",
       "      <td>1</td>\n",
       "      <td>0</td>\n",
       "      <td>A/5 21171</td>\n",
       "      <td>7.25</td>\n",
       "      <td>S</td>\n",
       "    </tr>\n",
       "    <tr>\n",
       "      <th>1</th>\n",
       "      <td>38.0</td>\n",
       "      <td>C85</td>\n",
       "      <td>1</td>\n",
       "      <td>female</td>\n",
       "      <td>1</td>\n",
       "      <td>0</td>\n",
       "      <td>PC 17599</td>\n",
       "      <td>71.2833</td>\n",
       "      <td>C</td>\n",
       "    </tr>\n",
       "    <tr>\n",
       "      <th>2</th>\n",
       "      <td>26.0</td>\n",
       "      <td>Unknown</td>\n",
       "      <td>3</td>\n",
       "      <td>female</td>\n",
       "      <td>0</td>\n",
       "      <td>0</td>\n",
       "      <td>STON/O2. 3101282</td>\n",
       "      <td>7.925</td>\n",
       "      <td>S</td>\n",
       "    </tr>\n",
       "    <tr>\n",
       "      <th>3</th>\n",
       "      <td>35.0</td>\n",
       "      <td>C123</td>\n",
       "      <td>1</td>\n",
       "      <td>female</td>\n",
       "      <td>1</td>\n",
       "      <td>0</td>\n",
       "      <td>113803</td>\n",
       "      <td>53.1</td>\n",
       "      <td>S</td>\n",
       "    </tr>\n",
       "    <tr>\n",
       "      <th>4</th>\n",
       "      <td>35.0</td>\n",
       "      <td>Unknown</td>\n",
       "      <td>3</td>\n",
       "      <td>male</td>\n",
       "      <td>0</td>\n",
       "      <td>0</td>\n",
       "      <td>373450</td>\n",
       "      <td>8.05</td>\n",
       "      <td>S</td>\n",
       "    </tr>\n",
       "    <tr>\n",
       "      <th>...</th>\n",
       "      <td>...</td>\n",
       "      <td>...</td>\n",
       "      <td>...</td>\n",
       "      <td>...</td>\n",
       "      <td>...</td>\n",
       "      <td>...</td>\n",
       "      <td>...</td>\n",
       "      <td>...</td>\n",
       "      <td>...</td>\n",
       "    </tr>\n",
       "    <tr>\n",
       "      <th>884</th>\n",
       "      <td>27.0</td>\n",
       "      <td>Unknown</td>\n",
       "      <td>2</td>\n",
       "      <td>male</td>\n",
       "      <td>0</td>\n",
       "      <td>0</td>\n",
       "      <td>211536</td>\n",
       "      <td>13.0</td>\n",
       "      <td>S</td>\n",
       "    </tr>\n",
       "    <tr>\n",
       "      <th>885</th>\n",
       "      <td>19.0</td>\n",
       "      <td>B42</td>\n",
       "      <td>1</td>\n",
       "      <td>female</td>\n",
       "      <td>0</td>\n",
       "      <td>0</td>\n",
       "      <td>112053</td>\n",
       "      <td>30.0</td>\n",
       "      <td>S</td>\n",
       "    </tr>\n",
       "    <tr>\n",
       "      <th>886</th>\n",
       "      <td>29.642093</td>\n",
       "      <td>Unknown</td>\n",
       "      <td>3</td>\n",
       "      <td>female</td>\n",
       "      <td>1</td>\n",
       "      <td>2</td>\n",
       "      <td>W./C. 6607</td>\n",
       "      <td>23.45</td>\n",
       "      <td>S</td>\n",
       "    </tr>\n",
       "    <tr>\n",
       "      <th>887</th>\n",
       "      <td>26.0</td>\n",
       "      <td>C148</td>\n",
       "      <td>1</td>\n",
       "      <td>male</td>\n",
       "      <td>0</td>\n",
       "      <td>0</td>\n",
       "      <td>111369</td>\n",
       "      <td>30.0</td>\n",
       "      <td>C</td>\n",
       "    </tr>\n",
       "    <tr>\n",
       "      <th>888</th>\n",
       "      <td>32.0</td>\n",
       "      <td>Unknown</td>\n",
       "      <td>3</td>\n",
       "      <td>male</td>\n",
       "      <td>0</td>\n",
       "      <td>0</td>\n",
       "      <td>370376</td>\n",
       "      <td>7.75</td>\n",
       "      <td>Q</td>\n",
       "    </tr>\n",
       "  </tbody>\n",
       "</table>\n",
       "<p>889 rows × 9 columns</p>\n",
       "</div>"
      ],
      "text/plain": [
       "           Age    Cabin Pclass     Sex SibSp Parch            Ticket     Fare  \\\n",
       "0         22.0  Unknown      3    male     1     0         A/5 21171     7.25   \n",
       "1         38.0      C85      1  female     1     0          PC 17599  71.2833   \n",
       "2         26.0  Unknown      3  female     0     0  STON/O2. 3101282    7.925   \n",
       "3         35.0     C123      1  female     1     0            113803     53.1   \n",
       "4         35.0  Unknown      3    male     0     0            373450     8.05   \n",
       "..         ...      ...    ...     ...   ...   ...               ...      ...   \n",
       "884       27.0  Unknown      2    male     0     0            211536     13.0   \n",
       "885       19.0      B42      1  female     0     0            112053     30.0   \n",
       "886  29.642093  Unknown      3  female     1     2        W./C. 6607    23.45   \n",
       "887       26.0     C148      1    male     0     0            111369     30.0   \n",
       "888       32.0  Unknown      3    male     0     0            370376     7.75   \n",
       "\n",
       "    Embarked  \n",
       "0          S  \n",
       "1          C  \n",
       "2          S  \n",
       "3          S  \n",
       "4          S  \n",
       "..       ...  \n",
       "884        S  \n",
       "885        S  \n",
       "886        S  \n",
       "887        C  \n",
       "888        Q  \n",
       "\n",
       "[889 rows x 9 columns]"
      ]
     },
     "execution_count": 14,
     "metadata": {},
     "output_type": "execute_result"
    }
   ],
   "source": [
    "X_imput = pd.DataFrame(values_imput, columns=[*attributes_transf, *attributes])\n",
    "X_imput"
   ]
  },
  {
   "cell_type": "markdown",
   "id": "6b76f093-6d66-4eba-ba1d-9fc356312bdf",
   "metadata": {},
   "source": [
    "Antes de tratar a coluna *Age*, vamos converter a coluna *Cabin*. Substituindo onde tem valores conhecido por *Known* e onde estava faltando dado vamos deixar o que foi imputado (no caso *Unknown*)."
   ]
  },
  {
   "cell_type": "code",
   "execution_count": 15,
   "id": "aaf9a619-77b9-4902-91d9-8d40aebc368e",
   "metadata": {},
   "outputs": [
    {
     "data": {
      "text/html": [
       "<div>\n",
       "<style scoped>\n",
       "    .dataframe tbody tr th:only-of-type {\n",
       "        vertical-align: middle;\n",
       "    }\n",
       "\n",
       "    .dataframe tbody tr th {\n",
       "        vertical-align: top;\n",
       "    }\n",
       "\n",
       "    .dataframe thead th {\n",
       "        text-align: right;\n",
       "    }\n",
       "</style>\n",
       "<table border=\"1\" class=\"dataframe\">\n",
       "  <thead>\n",
       "    <tr style=\"text-align: right;\">\n",
       "      <th></th>\n",
       "      <th>Age</th>\n",
       "      <th>Cabin</th>\n",
       "      <th>Pclass</th>\n",
       "      <th>Sex</th>\n",
       "      <th>SibSp</th>\n",
       "      <th>Parch</th>\n",
       "      <th>Ticket</th>\n",
       "      <th>Fare</th>\n",
       "      <th>Embarked</th>\n",
       "    </tr>\n",
       "  </thead>\n",
       "  <tbody>\n",
       "    <tr>\n",
       "      <th>0</th>\n",
       "      <td>22.0</td>\n",
       "      <td>Unknown</td>\n",
       "      <td>3</td>\n",
       "      <td>male</td>\n",
       "      <td>1</td>\n",
       "      <td>0</td>\n",
       "      <td>A/5 21171</td>\n",
       "      <td>7.25</td>\n",
       "      <td>S</td>\n",
       "    </tr>\n",
       "    <tr>\n",
       "      <th>1</th>\n",
       "      <td>38.0</td>\n",
       "      <td>Known</td>\n",
       "      <td>1</td>\n",
       "      <td>female</td>\n",
       "      <td>1</td>\n",
       "      <td>0</td>\n",
       "      <td>PC 17599</td>\n",
       "      <td>71.2833</td>\n",
       "      <td>C</td>\n",
       "    </tr>\n",
       "    <tr>\n",
       "      <th>2</th>\n",
       "      <td>26.0</td>\n",
       "      <td>Unknown</td>\n",
       "      <td>3</td>\n",
       "      <td>female</td>\n",
       "      <td>0</td>\n",
       "      <td>0</td>\n",
       "      <td>STON/O2. 3101282</td>\n",
       "      <td>7.925</td>\n",
       "      <td>S</td>\n",
       "    </tr>\n",
       "    <tr>\n",
       "      <th>3</th>\n",
       "      <td>35.0</td>\n",
       "      <td>Known</td>\n",
       "      <td>1</td>\n",
       "      <td>female</td>\n",
       "      <td>1</td>\n",
       "      <td>0</td>\n",
       "      <td>113803</td>\n",
       "      <td>53.1</td>\n",
       "      <td>S</td>\n",
       "    </tr>\n",
       "    <tr>\n",
       "      <th>4</th>\n",
       "      <td>35.0</td>\n",
       "      <td>Unknown</td>\n",
       "      <td>3</td>\n",
       "      <td>male</td>\n",
       "      <td>0</td>\n",
       "      <td>0</td>\n",
       "      <td>373450</td>\n",
       "      <td>8.05</td>\n",
       "      <td>S</td>\n",
       "    </tr>\n",
       "    <tr>\n",
       "      <th>...</th>\n",
       "      <td>...</td>\n",
       "      <td>...</td>\n",
       "      <td>...</td>\n",
       "      <td>...</td>\n",
       "      <td>...</td>\n",
       "      <td>...</td>\n",
       "      <td>...</td>\n",
       "      <td>...</td>\n",
       "      <td>...</td>\n",
       "    </tr>\n",
       "    <tr>\n",
       "      <th>884</th>\n",
       "      <td>27.0</td>\n",
       "      <td>Unknown</td>\n",
       "      <td>2</td>\n",
       "      <td>male</td>\n",
       "      <td>0</td>\n",
       "      <td>0</td>\n",
       "      <td>211536</td>\n",
       "      <td>13.0</td>\n",
       "      <td>S</td>\n",
       "    </tr>\n",
       "    <tr>\n",
       "      <th>885</th>\n",
       "      <td>19.0</td>\n",
       "      <td>Known</td>\n",
       "      <td>1</td>\n",
       "      <td>female</td>\n",
       "      <td>0</td>\n",
       "      <td>0</td>\n",
       "      <td>112053</td>\n",
       "      <td>30.0</td>\n",
       "      <td>S</td>\n",
       "    </tr>\n",
       "    <tr>\n",
       "      <th>886</th>\n",
       "      <td>29.642093</td>\n",
       "      <td>Unknown</td>\n",
       "      <td>3</td>\n",
       "      <td>female</td>\n",
       "      <td>1</td>\n",
       "      <td>2</td>\n",
       "      <td>W./C. 6607</td>\n",
       "      <td>23.45</td>\n",
       "      <td>S</td>\n",
       "    </tr>\n",
       "    <tr>\n",
       "      <th>887</th>\n",
       "      <td>26.0</td>\n",
       "      <td>Known</td>\n",
       "      <td>1</td>\n",
       "      <td>male</td>\n",
       "      <td>0</td>\n",
       "      <td>0</td>\n",
       "      <td>111369</td>\n",
       "      <td>30.0</td>\n",
       "      <td>C</td>\n",
       "    </tr>\n",
       "    <tr>\n",
       "      <th>888</th>\n",
       "      <td>32.0</td>\n",
       "      <td>Unknown</td>\n",
       "      <td>3</td>\n",
       "      <td>male</td>\n",
       "      <td>0</td>\n",
       "      <td>0</td>\n",
       "      <td>370376</td>\n",
       "      <td>7.75</td>\n",
       "      <td>Q</td>\n",
       "    </tr>\n",
       "  </tbody>\n",
       "</table>\n",
       "<p>889 rows × 9 columns</p>\n",
       "</div>"
      ],
      "text/plain": [
       "           Age    Cabin Pclass     Sex SibSp Parch            Ticket     Fare  \\\n",
       "0         22.0  Unknown      3    male     1     0         A/5 21171     7.25   \n",
       "1         38.0    Known      1  female     1     0          PC 17599  71.2833   \n",
       "2         26.0  Unknown      3  female     0     0  STON/O2. 3101282    7.925   \n",
       "3         35.0    Known      1  female     1     0            113803     53.1   \n",
       "4         35.0  Unknown      3    male     0     0            373450     8.05   \n",
       "..         ...      ...    ...     ...   ...   ...               ...      ...   \n",
       "884       27.0  Unknown      2    male     0     0            211536     13.0   \n",
       "885       19.0    Known      1  female     0     0            112053     30.0   \n",
       "886  29.642093  Unknown      3  female     1     2        W./C. 6607    23.45   \n",
       "887       26.0    Known      1    male     0     0            111369     30.0   \n",
       "888       32.0  Unknown      3    male     0     0            370376     7.75   \n",
       "\n",
       "    Embarked  \n",
       "0          S  \n",
       "1          C  \n",
       "2          S  \n",
       "3          S  \n",
       "4          S  \n",
       "..       ...  \n",
       "884        S  \n",
       "885        S  \n",
       "886        S  \n",
       "887        C  \n",
       "888        Q  \n",
       "\n",
       "[889 rows x 9 columns]"
      ]
     },
     "execution_count": 15,
     "metadata": {},
     "output_type": "execute_result"
    }
   ],
   "source": [
    "X_imput['Cabin'] = X_imput['Cabin'].apply(lambda x: 'Known' if x != 'Unknown' else 'Unknown')\n",
    "X_imput"
   ]
  },
  {
   "cell_type": "markdown",
   "id": "782920e6-d700-4df0-a712-339b2fa99765",
   "metadata": {},
   "source": [
    "E por fim, vamos realizar um leve tratamento na coluna *Age* visto que o valores gerados estão em decimal, e idade é um número inteiro, com isso vamos arredondar os valores nesse caso pegando o teto."
   ]
  },
  {
   "cell_type": "code",
   "execution_count": 16,
   "id": "e33cf236-bc54-4856-ad1f-3f4b7575916e",
   "metadata": {},
   "outputs": [
    {
     "data": {
      "text/html": [
       "<div>\n",
       "<style scoped>\n",
       "    .dataframe tbody tr th:only-of-type {\n",
       "        vertical-align: middle;\n",
       "    }\n",
       "\n",
       "    .dataframe tbody tr th {\n",
       "        vertical-align: top;\n",
       "    }\n",
       "\n",
       "    .dataframe thead th {\n",
       "        text-align: right;\n",
       "    }\n",
       "</style>\n",
       "<table border=\"1\" class=\"dataframe\">\n",
       "  <thead>\n",
       "    <tr style=\"text-align: right;\">\n",
       "      <th></th>\n",
       "      <th>Age</th>\n",
       "      <th>Cabin</th>\n",
       "      <th>Pclass</th>\n",
       "      <th>Sex</th>\n",
       "      <th>SibSp</th>\n",
       "      <th>Parch</th>\n",
       "      <th>Ticket</th>\n",
       "      <th>Fare</th>\n",
       "      <th>Embarked</th>\n",
       "    </tr>\n",
       "  </thead>\n",
       "  <tbody>\n",
       "    <tr>\n",
       "      <th>0</th>\n",
       "      <td>22</td>\n",
       "      <td>Unknown</td>\n",
       "      <td>3</td>\n",
       "      <td>male</td>\n",
       "      <td>1</td>\n",
       "      <td>0</td>\n",
       "      <td>A/5 21171</td>\n",
       "      <td>7.25</td>\n",
       "      <td>S</td>\n",
       "    </tr>\n",
       "    <tr>\n",
       "      <th>1</th>\n",
       "      <td>38</td>\n",
       "      <td>Known</td>\n",
       "      <td>1</td>\n",
       "      <td>female</td>\n",
       "      <td>1</td>\n",
       "      <td>0</td>\n",
       "      <td>PC 17599</td>\n",
       "      <td>71.2833</td>\n",
       "      <td>C</td>\n",
       "    </tr>\n",
       "    <tr>\n",
       "      <th>2</th>\n",
       "      <td>26</td>\n",
       "      <td>Unknown</td>\n",
       "      <td>3</td>\n",
       "      <td>female</td>\n",
       "      <td>0</td>\n",
       "      <td>0</td>\n",
       "      <td>STON/O2. 3101282</td>\n",
       "      <td>7.925</td>\n",
       "      <td>S</td>\n",
       "    </tr>\n",
       "    <tr>\n",
       "      <th>3</th>\n",
       "      <td>35</td>\n",
       "      <td>Known</td>\n",
       "      <td>1</td>\n",
       "      <td>female</td>\n",
       "      <td>1</td>\n",
       "      <td>0</td>\n",
       "      <td>113803</td>\n",
       "      <td>53.1</td>\n",
       "      <td>S</td>\n",
       "    </tr>\n",
       "    <tr>\n",
       "      <th>4</th>\n",
       "      <td>35</td>\n",
       "      <td>Unknown</td>\n",
       "      <td>3</td>\n",
       "      <td>male</td>\n",
       "      <td>0</td>\n",
       "      <td>0</td>\n",
       "      <td>373450</td>\n",
       "      <td>8.05</td>\n",
       "      <td>S</td>\n",
       "    </tr>\n",
       "    <tr>\n",
       "      <th>...</th>\n",
       "      <td>...</td>\n",
       "      <td>...</td>\n",
       "      <td>...</td>\n",
       "      <td>...</td>\n",
       "      <td>...</td>\n",
       "      <td>...</td>\n",
       "      <td>...</td>\n",
       "      <td>...</td>\n",
       "      <td>...</td>\n",
       "    </tr>\n",
       "    <tr>\n",
       "      <th>884</th>\n",
       "      <td>27</td>\n",
       "      <td>Unknown</td>\n",
       "      <td>2</td>\n",
       "      <td>male</td>\n",
       "      <td>0</td>\n",
       "      <td>0</td>\n",
       "      <td>211536</td>\n",
       "      <td>13.0</td>\n",
       "      <td>S</td>\n",
       "    </tr>\n",
       "    <tr>\n",
       "      <th>885</th>\n",
       "      <td>19</td>\n",
       "      <td>Known</td>\n",
       "      <td>1</td>\n",
       "      <td>female</td>\n",
       "      <td>0</td>\n",
       "      <td>0</td>\n",
       "      <td>112053</td>\n",
       "      <td>30.0</td>\n",
       "      <td>S</td>\n",
       "    </tr>\n",
       "    <tr>\n",
       "      <th>886</th>\n",
       "      <td>30</td>\n",
       "      <td>Unknown</td>\n",
       "      <td>3</td>\n",
       "      <td>female</td>\n",
       "      <td>1</td>\n",
       "      <td>2</td>\n",
       "      <td>W./C. 6607</td>\n",
       "      <td>23.45</td>\n",
       "      <td>S</td>\n",
       "    </tr>\n",
       "    <tr>\n",
       "      <th>887</th>\n",
       "      <td>26</td>\n",
       "      <td>Known</td>\n",
       "      <td>1</td>\n",
       "      <td>male</td>\n",
       "      <td>0</td>\n",
       "      <td>0</td>\n",
       "      <td>111369</td>\n",
       "      <td>30.0</td>\n",
       "      <td>C</td>\n",
       "    </tr>\n",
       "    <tr>\n",
       "      <th>888</th>\n",
       "      <td>32</td>\n",
       "      <td>Unknown</td>\n",
       "      <td>3</td>\n",
       "      <td>male</td>\n",
       "      <td>0</td>\n",
       "      <td>0</td>\n",
       "      <td>370376</td>\n",
       "      <td>7.75</td>\n",
       "      <td>Q</td>\n",
       "    </tr>\n",
       "  </tbody>\n",
       "</table>\n",
       "<p>889 rows × 9 columns</p>\n",
       "</div>"
      ],
      "text/plain": [
       "     Age    Cabin Pclass     Sex SibSp Parch            Ticket     Fare  \\\n",
       "0     22  Unknown      3    male     1     0         A/5 21171     7.25   \n",
       "1     38    Known      1  female     1     0          PC 17599  71.2833   \n",
       "2     26  Unknown      3  female     0     0  STON/O2. 3101282    7.925   \n",
       "3     35    Known      1  female     1     0            113803     53.1   \n",
       "4     35  Unknown      3    male     0     0            373450     8.05   \n",
       "..   ...      ...    ...     ...   ...   ...               ...      ...   \n",
       "884   27  Unknown      2    male     0     0            211536     13.0   \n",
       "885   19    Known      1  female     0     0            112053     30.0   \n",
       "886   30  Unknown      3  female     1     2        W./C. 6607    23.45   \n",
       "887   26    Known      1    male     0     0            111369     30.0   \n",
       "888   32  Unknown      3    male     0     0            370376     7.75   \n",
       "\n",
       "    Embarked  \n",
       "0          S  \n",
       "1          C  \n",
       "2          S  \n",
       "3          S  \n",
       "4          S  \n",
       "..       ...  \n",
       "884        S  \n",
       "885        S  \n",
       "886        S  \n",
       "887        C  \n",
       "888        Q  \n",
       "\n",
       "[889 rows x 9 columns]"
      ]
     },
     "execution_count": 16,
     "metadata": {},
     "output_type": "execute_result"
    }
   ],
   "source": [
    "X_imput['Age'] = X_imput['Age'].apply(lambda x: round(x))\n",
    "X_imput"
   ]
  },
  {
   "cell_type": "markdown",
   "id": "9ef3f726-e811-49f2-a492-0ad6f63a1280",
   "metadata": {},
   "source": [
    "Fazendo uma última checagem e podemos checar que não existem mais dados faltantes na nossa base."
   ]
  },
  {
   "cell_type": "code",
   "execution_count": 17,
   "id": "ef999cc7-352d-4225-803e-bb787abc64b1",
   "metadata": {},
   "outputs": [
    {
     "data": {
      "text/plain": [
       "0"
      ]
     },
     "execution_count": 17,
     "metadata": {},
     "output_type": "execute_result"
    }
   ],
   "source": [
    "X_imput.isnull().sum().sum()"
   ]
  },
  {
   "cell_type": "markdown",
   "id": "186d5db3-98f7-40a0-8e30-a28de65b028d",
   "metadata": {},
   "source": [
    "## Convertendo os atributos categóricos em atributos numéricos"
   ]
  },
  {
   "cell_type": "markdown",
   "id": "ed882909-3fc4-46d6-ae26-443b3f6d30ef",
   "metadata": {},
   "source": [
    "Como podemos observar temos algumas colunas (*Sex*, *Embarked*, *Cabin* e *Ticket*) que contém valores categóricos, porém esses valores não podem assumir valores numéricos, e consequentemente ser representados em espaço euclidiano de características. Com isso, torna-se impossível para alguns classificadores trabalharem com bases com colunas do tipo categóricas."
   ]
  },
  {
   "cell_type": "code",
   "execution_count": 18,
   "id": "861204cf-135f-4cb1-9cba-7f49d12ec415",
   "metadata": {},
   "outputs": [
    {
     "data": {
      "text/html": [
       "<div>\n",
       "<style scoped>\n",
       "    .dataframe tbody tr th:only-of-type {\n",
       "        vertical-align: middle;\n",
       "    }\n",
       "\n",
       "    .dataframe tbody tr th {\n",
       "        vertical-align: top;\n",
       "    }\n",
       "\n",
       "    .dataframe thead th {\n",
       "        text-align: right;\n",
       "    }\n",
       "</style>\n",
       "<table border=\"1\" class=\"dataframe\">\n",
       "  <thead>\n",
       "    <tr style=\"text-align: right;\">\n",
       "      <th></th>\n",
       "      <th>Age</th>\n",
       "      <th>Cabin</th>\n",
       "      <th>Pclass</th>\n",
       "      <th>Sex</th>\n",
       "      <th>SibSp</th>\n",
       "      <th>Parch</th>\n",
       "      <th>Ticket</th>\n",
       "      <th>Fare</th>\n",
       "      <th>Embarked</th>\n",
       "    </tr>\n",
       "  </thead>\n",
       "  <tbody>\n",
       "    <tr>\n",
       "      <th>0</th>\n",
       "      <td>22</td>\n",
       "      <td>Unknown</td>\n",
       "      <td>3</td>\n",
       "      <td>male</td>\n",
       "      <td>1</td>\n",
       "      <td>0</td>\n",
       "      <td>A/5 21171</td>\n",
       "      <td>7.25</td>\n",
       "      <td>S</td>\n",
       "    </tr>\n",
       "    <tr>\n",
       "      <th>1</th>\n",
       "      <td>38</td>\n",
       "      <td>Known</td>\n",
       "      <td>1</td>\n",
       "      <td>female</td>\n",
       "      <td>1</td>\n",
       "      <td>0</td>\n",
       "      <td>PC 17599</td>\n",
       "      <td>71.2833</td>\n",
       "      <td>C</td>\n",
       "    </tr>\n",
       "  </tbody>\n",
       "</table>\n",
       "</div>"
      ],
      "text/plain": [
       "   Age    Cabin Pclass     Sex SibSp Parch     Ticket     Fare Embarked\n",
       "0   22  Unknown      3    male     1     0  A/5 21171     7.25        S\n",
       "1   38    Known      1  female     1     0   PC 17599  71.2833        C"
      ]
     },
     "execution_count": 18,
     "metadata": {},
     "output_type": "execute_result"
    }
   ],
   "source": [
    "X_imput.head(2)"
   ]
  },
  {
   "cell_type": "markdown",
   "id": "c7f1566b-dc9c-4211-b867-4199ddd98784",
   "metadata": {},
   "source": [
    "Então, precisamos transformar esses atributos em numéricos. Como nenhuma dessas colunas, *Cabin*, *Sex*, *Ticket* e *Embarked*, possui alguma dependência de ordem entre seus valores não vamos utilizar a classificação ordinal em nenhuma delas. Com isso, para essas colunas vamos utilizamos o *One-Hot Encoding*, onde um '*atributo categórico com $n$ categorias é codificado em $n$ atributos binários*'.\n",
    "\n",
    "A escolha, por exemplo do coluna *Embarked* como *One-Hot Encoding*, é para evitar que os valores sejam sequenciais e vicie o classificador."
   ]
  },
  {
   "cell_type": "code",
   "execution_count": 19,
   "id": "66ad4124-d649-4e7e-b3a5-07d1ad338237",
   "metadata": {},
   "outputs": [
    {
     "data": {
      "text/plain": [
       "array([[0.0, 1.0, 0.0, ..., 1, 0, 7.25],\n",
       "       [1.0, 0.0, 1.0, ..., 1, 0, 71.2833],\n",
       "       [1.0, 0.0, 0.0, ..., 0, 0, 7.925],\n",
       "       ...,\n",
       "       [1.0, 0.0, 0.0, ..., 1, 2, 23.45],\n",
       "       [0.0, 1.0, 1.0, ..., 0, 0, 30.0],\n",
       "       [0.0, 1.0, 0.0, ..., 0, 0, 7.75]], dtype=object)"
      ]
     },
     "execution_count": 19,
     "metadata": {},
     "output_type": "execute_result"
    }
   ],
   "source": [
    "transformers = [\n",
    "    ('ohe_sex', OneHotEncoder(), ['Sex']),\n",
    "    ('ohe_embarked', OneHotEncoder(), ['Embarked']),\n",
    "    ('oe_cabin', OneHotEncoder(), ['Cabin']),\n",
    "    ('oe_ticket', OneHotEncoder(), ['Ticket'])\n",
    "]\n",
    "\n",
    "col_trans = ColumnTransformer(\n",
    "    transformers, remainder='passthrough', sparse_threshold=0\n",
    ")\n",
    "\n",
    "col_trans.fit(X_imput)\n",
    "X_trans = col_trans.transform(X_imput)\n",
    "X_trans"
   ]
  },
  {
   "cell_type": "markdown",
   "id": "bc724c25-086b-4fc9-be6e-851d9c31cf6d",
   "metadata": {},
   "source": [
    "Formato dos X antes e depois da tranformação. Podemos verificar que por causa da forma como o *One-Hot Encoding* trabalha, ele criou mais três colunas."
   ]
  },
  {
   "cell_type": "code",
   "execution_count": 20,
   "id": "01a9f905-455d-4f08-8808-799f2236e1e9",
   "metadata": {},
   "outputs": [
    {
     "data": {
      "text/plain": [
       "((889, 9), (889, 692))"
      ]
     },
     "execution_count": 20,
     "metadata": {},
     "output_type": "execute_result"
    }
   ],
   "source": [
    "X_imput.shape, X_trans.shape"
   ]
  },
  {
   "cell_type": "code",
   "execution_count": 21,
   "id": "750dbc8f-c0d3-47e6-905b-5a78317d9d2b",
   "metadata": {},
   "outputs": [
    {
     "data": {
      "text/html": [
       "<div>\n",
       "<style scoped>\n",
       "    .dataframe tbody tr th:only-of-type {\n",
       "        vertical-align: middle;\n",
       "    }\n",
       "\n",
       "    .dataframe tbody tr th {\n",
       "        vertical-align: top;\n",
       "    }\n",
       "\n",
       "    .dataframe thead th {\n",
       "        text-align: right;\n",
       "    }\n",
       "</style>\n",
       "<table border=\"1\" class=\"dataframe\">\n",
       "  <thead>\n",
       "    <tr style=\"text-align: right;\">\n",
       "      <th></th>\n",
       "      <th>ohe_sex__x0_female</th>\n",
       "      <th>ohe_sex__x0_male</th>\n",
       "      <th>ohe_embarked__x0_C</th>\n",
       "      <th>ohe_embarked__x0_Q</th>\n",
       "      <th>ohe_embarked__x0_S</th>\n",
       "      <th>oe_cabin__x0_Known</th>\n",
       "      <th>oe_cabin__x0_Unknown</th>\n",
       "      <th>oe_ticket__x0_110152</th>\n",
       "      <th>oe_ticket__x0_110413</th>\n",
       "      <th>oe_ticket__x0_110465</th>\n",
       "      <th>...</th>\n",
       "      <th>oe_ticket__x0_W./C. 6608</th>\n",
       "      <th>oe_ticket__x0_W./C. 6609</th>\n",
       "      <th>oe_ticket__x0_W.E.P. 5734</th>\n",
       "      <th>oe_ticket__x0_W/C 14208</th>\n",
       "      <th>oe_ticket__x0_WE/P 5735</th>\n",
       "      <th>Age</th>\n",
       "      <th>Pclass</th>\n",
       "      <th>SibSp</th>\n",
       "      <th>Parch</th>\n",
       "      <th>Fare</th>\n",
       "    </tr>\n",
       "  </thead>\n",
       "  <tbody>\n",
       "    <tr>\n",
       "      <th>0</th>\n",
       "      <td>0.0</td>\n",
       "      <td>1.0</td>\n",
       "      <td>0.0</td>\n",
       "      <td>0.0</td>\n",
       "      <td>1.0</td>\n",
       "      <td>0.0</td>\n",
       "      <td>1.0</td>\n",
       "      <td>0.0</td>\n",
       "      <td>0.0</td>\n",
       "      <td>0.0</td>\n",
       "      <td>...</td>\n",
       "      <td>0.0</td>\n",
       "      <td>0.0</td>\n",
       "      <td>0.0</td>\n",
       "      <td>0.0</td>\n",
       "      <td>0.0</td>\n",
       "      <td>22</td>\n",
       "      <td>3</td>\n",
       "      <td>1</td>\n",
       "      <td>0</td>\n",
       "      <td>7.25</td>\n",
       "    </tr>\n",
       "    <tr>\n",
       "      <th>1</th>\n",
       "      <td>1.0</td>\n",
       "      <td>0.0</td>\n",
       "      <td>1.0</td>\n",
       "      <td>0.0</td>\n",
       "      <td>0.0</td>\n",
       "      <td>1.0</td>\n",
       "      <td>0.0</td>\n",
       "      <td>0.0</td>\n",
       "      <td>0.0</td>\n",
       "      <td>0.0</td>\n",
       "      <td>...</td>\n",
       "      <td>0.0</td>\n",
       "      <td>0.0</td>\n",
       "      <td>0.0</td>\n",
       "      <td>0.0</td>\n",
       "      <td>0.0</td>\n",
       "      <td>38</td>\n",
       "      <td>1</td>\n",
       "      <td>1</td>\n",
       "      <td>0</td>\n",
       "      <td>71.2833</td>\n",
       "    </tr>\n",
       "    <tr>\n",
       "      <th>2</th>\n",
       "      <td>1.0</td>\n",
       "      <td>0.0</td>\n",
       "      <td>0.0</td>\n",
       "      <td>0.0</td>\n",
       "      <td>1.0</td>\n",
       "      <td>0.0</td>\n",
       "      <td>1.0</td>\n",
       "      <td>0.0</td>\n",
       "      <td>0.0</td>\n",
       "      <td>0.0</td>\n",
       "      <td>...</td>\n",
       "      <td>0.0</td>\n",
       "      <td>0.0</td>\n",
       "      <td>0.0</td>\n",
       "      <td>0.0</td>\n",
       "      <td>0.0</td>\n",
       "      <td>26</td>\n",
       "      <td>3</td>\n",
       "      <td>0</td>\n",
       "      <td>0</td>\n",
       "      <td>7.925</td>\n",
       "    </tr>\n",
       "    <tr>\n",
       "      <th>3</th>\n",
       "      <td>1.0</td>\n",
       "      <td>0.0</td>\n",
       "      <td>0.0</td>\n",
       "      <td>0.0</td>\n",
       "      <td>1.0</td>\n",
       "      <td>1.0</td>\n",
       "      <td>0.0</td>\n",
       "      <td>0.0</td>\n",
       "      <td>0.0</td>\n",
       "      <td>0.0</td>\n",
       "      <td>...</td>\n",
       "      <td>0.0</td>\n",
       "      <td>0.0</td>\n",
       "      <td>0.0</td>\n",
       "      <td>0.0</td>\n",
       "      <td>0.0</td>\n",
       "      <td>35</td>\n",
       "      <td>1</td>\n",
       "      <td>1</td>\n",
       "      <td>0</td>\n",
       "      <td>53.1</td>\n",
       "    </tr>\n",
       "    <tr>\n",
       "      <th>4</th>\n",
       "      <td>0.0</td>\n",
       "      <td>1.0</td>\n",
       "      <td>0.0</td>\n",
       "      <td>0.0</td>\n",
       "      <td>1.0</td>\n",
       "      <td>0.0</td>\n",
       "      <td>1.0</td>\n",
       "      <td>0.0</td>\n",
       "      <td>0.0</td>\n",
       "      <td>0.0</td>\n",
       "      <td>...</td>\n",
       "      <td>0.0</td>\n",
       "      <td>0.0</td>\n",
       "      <td>0.0</td>\n",
       "      <td>0.0</td>\n",
       "      <td>0.0</td>\n",
       "      <td>35</td>\n",
       "      <td>3</td>\n",
       "      <td>0</td>\n",
       "      <td>0</td>\n",
       "      <td>8.05</td>\n",
       "    </tr>\n",
       "    <tr>\n",
       "      <th>...</th>\n",
       "      <td>...</td>\n",
       "      <td>...</td>\n",
       "      <td>...</td>\n",
       "      <td>...</td>\n",
       "      <td>...</td>\n",
       "      <td>...</td>\n",
       "      <td>...</td>\n",
       "      <td>...</td>\n",
       "      <td>...</td>\n",
       "      <td>...</td>\n",
       "      <td>...</td>\n",
       "      <td>...</td>\n",
       "      <td>...</td>\n",
       "      <td>...</td>\n",
       "      <td>...</td>\n",
       "      <td>...</td>\n",
       "      <td>...</td>\n",
       "      <td>...</td>\n",
       "      <td>...</td>\n",
       "      <td>...</td>\n",
       "      <td>...</td>\n",
       "    </tr>\n",
       "    <tr>\n",
       "      <th>884</th>\n",
       "      <td>0.0</td>\n",
       "      <td>1.0</td>\n",
       "      <td>0.0</td>\n",
       "      <td>0.0</td>\n",
       "      <td>1.0</td>\n",
       "      <td>0.0</td>\n",
       "      <td>1.0</td>\n",
       "      <td>0.0</td>\n",
       "      <td>0.0</td>\n",
       "      <td>0.0</td>\n",
       "      <td>...</td>\n",
       "      <td>0.0</td>\n",
       "      <td>0.0</td>\n",
       "      <td>0.0</td>\n",
       "      <td>0.0</td>\n",
       "      <td>0.0</td>\n",
       "      <td>27</td>\n",
       "      <td>2</td>\n",
       "      <td>0</td>\n",
       "      <td>0</td>\n",
       "      <td>13.0</td>\n",
       "    </tr>\n",
       "    <tr>\n",
       "      <th>885</th>\n",
       "      <td>1.0</td>\n",
       "      <td>0.0</td>\n",
       "      <td>0.0</td>\n",
       "      <td>0.0</td>\n",
       "      <td>1.0</td>\n",
       "      <td>1.0</td>\n",
       "      <td>0.0</td>\n",
       "      <td>0.0</td>\n",
       "      <td>0.0</td>\n",
       "      <td>0.0</td>\n",
       "      <td>...</td>\n",
       "      <td>0.0</td>\n",
       "      <td>0.0</td>\n",
       "      <td>0.0</td>\n",
       "      <td>0.0</td>\n",
       "      <td>0.0</td>\n",
       "      <td>19</td>\n",
       "      <td>1</td>\n",
       "      <td>0</td>\n",
       "      <td>0</td>\n",
       "      <td>30.0</td>\n",
       "    </tr>\n",
       "    <tr>\n",
       "      <th>886</th>\n",
       "      <td>1.0</td>\n",
       "      <td>0.0</td>\n",
       "      <td>0.0</td>\n",
       "      <td>0.0</td>\n",
       "      <td>1.0</td>\n",
       "      <td>0.0</td>\n",
       "      <td>1.0</td>\n",
       "      <td>0.0</td>\n",
       "      <td>0.0</td>\n",
       "      <td>0.0</td>\n",
       "      <td>...</td>\n",
       "      <td>0.0</td>\n",
       "      <td>0.0</td>\n",
       "      <td>0.0</td>\n",
       "      <td>0.0</td>\n",
       "      <td>0.0</td>\n",
       "      <td>30</td>\n",
       "      <td>3</td>\n",
       "      <td>1</td>\n",
       "      <td>2</td>\n",
       "      <td>23.45</td>\n",
       "    </tr>\n",
       "    <tr>\n",
       "      <th>887</th>\n",
       "      <td>0.0</td>\n",
       "      <td>1.0</td>\n",
       "      <td>1.0</td>\n",
       "      <td>0.0</td>\n",
       "      <td>0.0</td>\n",
       "      <td>1.0</td>\n",
       "      <td>0.0</td>\n",
       "      <td>0.0</td>\n",
       "      <td>0.0</td>\n",
       "      <td>0.0</td>\n",
       "      <td>...</td>\n",
       "      <td>0.0</td>\n",
       "      <td>0.0</td>\n",
       "      <td>0.0</td>\n",
       "      <td>0.0</td>\n",
       "      <td>0.0</td>\n",
       "      <td>26</td>\n",
       "      <td>1</td>\n",
       "      <td>0</td>\n",
       "      <td>0</td>\n",
       "      <td>30.0</td>\n",
       "    </tr>\n",
       "    <tr>\n",
       "      <th>888</th>\n",
       "      <td>0.0</td>\n",
       "      <td>1.0</td>\n",
       "      <td>0.0</td>\n",
       "      <td>1.0</td>\n",
       "      <td>0.0</td>\n",
       "      <td>0.0</td>\n",
       "      <td>1.0</td>\n",
       "      <td>0.0</td>\n",
       "      <td>0.0</td>\n",
       "      <td>0.0</td>\n",
       "      <td>...</td>\n",
       "      <td>0.0</td>\n",
       "      <td>0.0</td>\n",
       "      <td>0.0</td>\n",
       "      <td>0.0</td>\n",
       "      <td>0.0</td>\n",
       "      <td>32</td>\n",
       "      <td>3</td>\n",
       "      <td>0</td>\n",
       "      <td>0</td>\n",
       "      <td>7.75</td>\n",
       "    </tr>\n",
       "  </tbody>\n",
       "</table>\n",
       "<p>889 rows × 692 columns</p>\n",
       "</div>"
      ],
      "text/plain": [
       "    ohe_sex__x0_female ohe_sex__x0_male ohe_embarked__x0_C ohe_embarked__x0_Q  \\\n",
       "0                  0.0              1.0                0.0                0.0   \n",
       "1                  1.0              0.0                1.0                0.0   \n",
       "2                  1.0              0.0                0.0                0.0   \n",
       "3                  1.0              0.0                0.0                0.0   \n",
       "4                  0.0              1.0                0.0                0.0   \n",
       "..                 ...              ...                ...                ...   \n",
       "884                0.0              1.0                0.0                0.0   \n",
       "885                1.0              0.0                0.0                0.0   \n",
       "886                1.0              0.0                0.0                0.0   \n",
       "887                0.0              1.0                1.0                0.0   \n",
       "888                0.0              1.0                0.0                1.0   \n",
       "\n",
       "    ohe_embarked__x0_S oe_cabin__x0_Known oe_cabin__x0_Unknown  \\\n",
       "0                  1.0                0.0                  1.0   \n",
       "1                  0.0                1.0                  0.0   \n",
       "2                  1.0                0.0                  1.0   \n",
       "3                  1.0                1.0                  0.0   \n",
       "4                  1.0                0.0                  1.0   \n",
       "..                 ...                ...                  ...   \n",
       "884                1.0                0.0                  1.0   \n",
       "885                1.0                1.0                  0.0   \n",
       "886                1.0                0.0                  1.0   \n",
       "887                0.0                1.0                  0.0   \n",
       "888                0.0                0.0                  1.0   \n",
       "\n",
       "    oe_ticket__x0_110152 oe_ticket__x0_110413 oe_ticket__x0_110465  ...  \\\n",
       "0                    0.0                  0.0                  0.0  ...   \n",
       "1                    0.0                  0.0                  0.0  ...   \n",
       "2                    0.0                  0.0                  0.0  ...   \n",
       "3                    0.0                  0.0                  0.0  ...   \n",
       "4                    0.0                  0.0                  0.0  ...   \n",
       "..                   ...                  ...                  ...  ...   \n",
       "884                  0.0                  0.0                  0.0  ...   \n",
       "885                  0.0                  0.0                  0.0  ...   \n",
       "886                  0.0                  0.0                  0.0  ...   \n",
       "887                  0.0                  0.0                  0.0  ...   \n",
       "888                  0.0                  0.0                  0.0  ...   \n",
       "\n",
       "    oe_ticket__x0_W./C. 6608 oe_ticket__x0_W./C. 6609  \\\n",
       "0                        0.0                      0.0   \n",
       "1                        0.0                      0.0   \n",
       "2                        0.0                      0.0   \n",
       "3                        0.0                      0.0   \n",
       "4                        0.0                      0.0   \n",
       "..                       ...                      ...   \n",
       "884                      0.0                      0.0   \n",
       "885                      0.0                      0.0   \n",
       "886                      0.0                      0.0   \n",
       "887                      0.0                      0.0   \n",
       "888                      0.0                      0.0   \n",
       "\n",
       "    oe_ticket__x0_W.E.P. 5734 oe_ticket__x0_W/C 14208 oe_ticket__x0_WE/P 5735  \\\n",
       "0                         0.0                     0.0                     0.0   \n",
       "1                         0.0                     0.0                     0.0   \n",
       "2                         0.0                     0.0                     0.0   \n",
       "3                         0.0                     0.0                     0.0   \n",
       "4                         0.0                     0.0                     0.0   \n",
       "..                        ...                     ...                     ...   \n",
       "884                       0.0                     0.0                     0.0   \n",
       "885                       0.0                     0.0                     0.0   \n",
       "886                       0.0                     0.0                     0.0   \n",
       "887                       0.0                     0.0                     0.0   \n",
       "888                       0.0                     0.0                     0.0   \n",
       "\n",
       "    Age Pclass SibSp Parch     Fare  \n",
       "0    22      3     1     0     7.25  \n",
       "1    38      1     1     0  71.2833  \n",
       "2    26      3     0     0    7.925  \n",
       "3    35      1     1     0     53.1  \n",
       "4    35      3     0     0     8.05  \n",
       "..   ..    ...   ...   ...      ...  \n",
       "884  27      2     0     0     13.0  \n",
       "885  19      1     0     0     30.0  \n",
       "886  30      3     1     2    23.45  \n",
       "887  26      1     0     0     30.0  \n",
       "888  32      3     0     0     7.75  \n",
       "\n",
       "[889 rows x 692 columns]"
      ]
     },
     "execution_count": 21,
     "metadata": {},
     "output_type": "execute_result"
    }
   ],
   "source": [
    "X_trans = pd.DataFrame(X_trans, columns=col_trans.get_feature_names())\n",
    "X_trans"
   ]
  },
  {
   "cell_type": "markdown",
   "id": "d22df9b1-ed55-43aa-8dd7-b26ea48d4a36",
   "metadata": {},
   "source": [
    "## Explorando a base de dados"
   ]
  },
  {
   "cell_type": "markdown",
   "id": "4197cd28-9ce7-4821-b90e-b24d37798354",
   "metadata": {},
   "source": [
    "Vamos averiguar os dados com que estamos trabalhando, para isso vamos gerar 3 tabelas: a inicial, a que foi feita a limpeza dos dados faltantes e a que foi transformada, respectivamente, nessa ordem."
   ]
  },
  {
   "cell_type": "code",
   "execution_count": 22,
   "id": "9c6caf84-9b42-463a-a2e0-2d8910a3263c",
   "metadata": {},
   "outputs": [
    {
     "data": {
      "text/html": [
       "<div>\n",
       "<style scoped>\n",
       "    .dataframe tbody tr th:only-of-type {\n",
       "        vertical-align: middle;\n",
       "    }\n",
       "\n",
       "    .dataframe tbody tr th {\n",
       "        vertical-align: top;\n",
       "    }\n",
       "\n",
       "    .dataframe thead th {\n",
       "        text-align: right;\n",
       "    }\n",
       "</style>\n",
       "<table border=\"1\" class=\"dataframe\">\n",
       "  <thead>\n",
       "    <tr style=\"text-align: right;\">\n",
       "      <th></th>\n",
       "      <th>PassengerId</th>\n",
       "      <th>Survived</th>\n",
       "      <th>Pclass</th>\n",
       "      <th>Name</th>\n",
       "      <th>Sex</th>\n",
       "      <th>Age</th>\n",
       "      <th>SibSp</th>\n",
       "      <th>Parch</th>\n",
       "      <th>Ticket</th>\n",
       "      <th>Fare</th>\n",
       "      <th>Cabin</th>\n",
       "      <th>Embarked</th>\n",
       "    </tr>\n",
       "  </thead>\n",
       "  <tbody>\n",
       "    <tr>\n",
       "      <th>0</th>\n",
       "      <td>1</td>\n",
       "      <td>0</td>\n",
       "      <td>3</td>\n",
       "      <td>Braund, Mr. Owen Harris</td>\n",
       "      <td>male</td>\n",
       "      <td>22.0</td>\n",
       "      <td>1</td>\n",
       "      <td>0</td>\n",
       "      <td>A/5 21171</td>\n",
       "      <td>7.2500</td>\n",
       "      <td>NaN</td>\n",
       "      <td>S</td>\n",
       "    </tr>\n",
       "    <tr>\n",
       "      <th>1</th>\n",
       "      <td>2</td>\n",
       "      <td>1</td>\n",
       "      <td>1</td>\n",
       "      <td>Cumings, Mrs. John Bradley (Florence Briggs Th...</td>\n",
       "      <td>female</td>\n",
       "      <td>38.0</td>\n",
       "      <td>1</td>\n",
       "      <td>0</td>\n",
       "      <td>PC 17599</td>\n",
       "      <td>71.2833</td>\n",
       "      <td>C85</td>\n",
       "      <td>C</td>\n",
       "    </tr>\n",
       "  </tbody>\n",
       "</table>\n",
       "</div>"
      ],
      "text/plain": [
       "   PassengerId  Survived  Pclass  \\\n",
       "0            1         0       3   \n",
       "1            2         1       1   \n",
       "\n",
       "                                                Name     Sex   Age  SibSp  \\\n",
       "0                            Braund, Mr. Owen Harris    male  22.0      1   \n",
       "1  Cumings, Mrs. John Bradley (Florence Briggs Th...  female  38.0      1   \n",
       "\n",
       "   Parch     Ticket     Fare Cabin Embarked  \n",
       "0      0  A/5 21171   7.2500   NaN        S  \n",
       "1      0   PC 17599  71.2833   C85        C  "
      ]
     },
     "execution_count": 22,
     "metadata": {},
     "output_type": "execute_result"
    }
   ],
   "source": [
    "df_train.head(2)"
   ]
  },
  {
   "cell_type": "code",
   "execution_count": 23,
   "id": "a56810b0-1ae7-488d-b1e1-74c0f661091d",
   "metadata": {},
   "outputs": [
    {
     "data": {
      "text/html": [
       "<div>\n",
       "<style scoped>\n",
       "    .dataframe tbody tr th:only-of-type {\n",
       "        vertical-align: middle;\n",
       "    }\n",
       "\n",
       "    .dataframe tbody tr th {\n",
       "        vertical-align: top;\n",
       "    }\n",
       "\n",
       "    .dataframe thead th {\n",
       "        text-align: right;\n",
       "    }\n",
       "</style>\n",
       "<table border=\"1\" class=\"dataframe\">\n",
       "  <thead>\n",
       "    <tr style=\"text-align: right;\">\n",
       "      <th></th>\n",
       "      <th>Age</th>\n",
       "      <th>Cabin</th>\n",
       "      <th>Pclass</th>\n",
       "      <th>Sex</th>\n",
       "      <th>SibSp</th>\n",
       "      <th>Parch</th>\n",
       "      <th>Ticket</th>\n",
       "      <th>Fare</th>\n",
       "      <th>Embarked</th>\n",
       "    </tr>\n",
       "  </thead>\n",
       "  <tbody>\n",
       "    <tr>\n",
       "      <th>0</th>\n",
       "      <td>22</td>\n",
       "      <td>Unknown</td>\n",
       "      <td>3</td>\n",
       "      <td>male</td>\n",
       "      <td>1</td>\n",
       "      <td>0</td>\n",
       "      <td>A/5 21171</td>\n",
       "      <td>7.25</td>\n",
       "      <td>S</td>\n",
       "    </tr>\n",
       "    <tr>\n",
       "      <th>1</th>\n",
       "      <td>38</td>\n",
       "      <td>Known</td>\n",
       "      <td>1</td>\n",
       "      <td>female</td>\n",
       "      <td>1</td>\n",
       "      <td>0</td>\n",
       "      <td>PC 17599</td>\n",
       "      <td>71.2833</td>\n",
       "      <td>C</td>\n",
       "    </tr>\n",
       "  </tbody>\n",
       "</table>\n",
       "</div>"
      ],
      "text/plain": [
       "   Age    Cabin Pclass     Sex SibSp Parch     Ticket     Fare Embarked\n",
       "0   22  Unknown      3    male     1     0  A/5 21171     7.25        S\n",
       "1   38    Known      1  female     1     0   PC 17599  71.2833        C"
      ]
     },
     "execution_count": 23,
     "metadata": {},
     "output_type": "execute_result"
    }
   ],
   "source": [
    "X_imput.head(2)"
   ]
  },
  {
   "cell_type": "code",
   "execution_count": 24,
   "id": "9a5a7c12-cafd-4ad4-ac00-5d1dab184e00",
   "metadata": {},
   "outputs": [
    {
     "data": {
      "text/html": [
       "<div>\n",
       "<style scoped>\n",
       "    .dataframe tbody tr th:only-of-type {\n",
       "        vertical-align: middle;\n",
       "    }\n",
       "\n",
       "    .dataframe tbody tr th {\n",
       "        vertical-align: top;\n",
       "    }\n",
       "\n",
       "    .dataframe thead th {\n",
       "        text-align: right;\n",
       "    }\n",
       "</style>\n",
       "<table border=\"1\" class=\"dataframe\">\n",
       "  <thead>\n",
       "    <tr style=\"text-align: right;\">\n",
       "      <th></th>\n",
       "      <th>ohe_sex__x0_female</th>\n",
       "      <th>ohe_sex__x0_male</th>\n",
       "      <th>ohe_embarked__x0_C</th>\n",
       "      <th>ohe_embarked__x0_Q</th>\n",
       "      <th>ohe_embarked__x0_S</th>\n",
       "      <th>oe_cabin__x0_Known</th>\n",
       "      <th>oe_cabin__x0_Unknown</th>\n",
       "      <th>oe_ticket__x0_110152</th>\n",
       "      <th>oe_ticket__x0_110413</th>\n",
       "      <th>oe_ticket__x0_110465</th>\n",
       "      <th>...</th>\n",
       "      <th>oe_ticket__x0_W./C. 6608</th>\n",
       "      <th>oe_ticket__x0_W./C. 6609</th>\n",
       "      <th>oe_ticket__x0_W.E.P. 5734</th>\n",
       "      <th>oe_ticket__x0_W/C 14208</th>\n",
       "      <th>oe_ticket__x0_WE/P 5735</th>\n",
       "      <th>Age</th>\n",
       "      <th>Pclass</th>\n",
       "      <th>SibSp</th>\n",
       "      <th>Parch</th>\n",
       "      <th>Fare</th>\n",
       "    </tr>\n",
       "  </thead>\n",
       "  <tbody>\n",
       "    <tr>\n",
       "      <th>0</th>\n",
       "      <td>0.0</td>\n",
       "      <td>1.0</td>\n",
       "      <td>0.0</td>\n",
       "      <td>0.0</td>\n",
       "      <td>1.0</td>\n",
       "      <td>0.0</td>\n",
       "      <td>1.0</td>\n",
       "      <td>0.0</td>\n",
       "      <td>0.0</td>\n",
       "      <td>0.0</td>\n",
       "      <td>...</td>\n",
       "      <td>0.0</td>\n",
       "      <td>0.0</td>\n",
       "      <td>0.0</td>\n",
       "      <td>0.0</td>\n",
       "      <td>0.0</td>\n",
       "      <td>22</td>\n",
       "      <td>3</td>\n",
       "      <td>1</td>\n",
       "      <td>0</td>\n",
       "      <td>7.25</td>\n",
       "    </tr>\n",
       "    <tr>\n",
       "      <th>1</th>\n",
       "      <td>1.0</td>\n",
       "      <td>0.0</td>\n",
       "      <td>1.0</td>\n",
       "      <td>0.0</td>\n",
       "      <td>0.0</td>\n",
       "      <td>1.0</td>\n",
       "      <td>0.0</td>\n",
       "      <td>0.0</td>\n",
       "      <td>0.0</td>\n",
       "      <td>0.0</td>\n",
       "      <td>...</td>\n",
       "      <td>0.0</td>\n",
       "      <td>0.0</td>\n",
       "      <td>0.0</td>\n",
       "      <td>0.0</td>\n",
       "      <td>0.0</td>\n",
       "      <td>38</td>\n",
       "      <td>1</td>\n",
       "      <td>1</td>\n",
       "      <td>0</td>\n",
       "      <td>71.2833</td>\n",
       "    </tr>\n",
       "  </tbody>\n",
       "</table>\n",
       "<p>2 rows × 692 columns</p>\n",
       "</div>"
      ],
      "text/plain": [
       "  ohe_sex__x0_female ohe_sex__x0_male ohe_embarked__x0_C ohe_embarked__x0_Q  \\\n",
       "0                0.0              1.0                0.0                0.0   \n",
       "1                1.0              0.0                1.0                0.0   \n",
       "\n",
       "  ohe_embarked__x0_S oe_cabin__x0_Known oe_cabin__x0_Unknown  \\\n",
       "0                1.0                0.0                  1.0   \n",
       "1                0.0                1.0                  0.0   \n",
       "\n",
       "  oe_ticket__x0_110152 oe_ticket__x0_110413 oe_ticket__x0_110465  ...  \\\n",
       "0                  0.0                  0.0                  0.0  ...   \n",
       "1                  0.0                  0.0                  0.0  ...   \n",
       "\n",
       "  oe_ticket__x0_W./C. 6608 oe_ticket__x0_W./C. 6609 oe_ticket__x0_W.E.P. 5734  \\\n",
       "0                      0.0                      0.0                       0.0   \n",
       "1                      0.0                      0.0                       0.0   \n",
       "\n",
       "  oe_ticket__x0_W/C 14208 oe_ticket__x0_WE/P 5735 Age Pclass SibSp Parch  \\\n",
       "0                     0.0                     0.0  22      3     1     0   \n",
       "1                     0.0                     0.0  38      1     1     0   \n",
       "\n",
       "      Fare  \n",
       "0     7.25  \n",
       "1  71.2833  \n",
       "\n",
       "[2 rows x 692 columns]"
      ]
     },
     "execution_count": 24,
     "metadata": {},
     "output_type": "execute_result"
    }
   ],
   "source": [
    "X_trans.head(2)"
   ]
  },
  {
   "cell_type": "markdown",
   "id": "fa99529e-78eb-4078-b11d-c430943cb51b",
   "metadata": {},
   "source": [
    "Podemos observar que o número de colunas mudou de 12 colunas para 9 e após a transformação se tornaram 692 colunas."
   ]
  },
  {
   "cell_type": "markdown",
   "id": "56b698ea-a8cf-4e94-a078-65c81c491894",
   "metadata": {},
   "source": [
    "### Vamos analisar como alguns dados estão distribuídos"
   ]
  },
  {
   "cell_type": "markdown",
   "id": "a52aec2b-4800-4290-b6f1-8ad57b99ad47",
   "metadata": {},
   "source": [
    "Para realizar a análise será utilizado os dados intermediários, ou seja, os dados que foram feitos a limpeza visto que possui o menor número de colunas, pois elas ainda estão agrupadas."
   ]
  },
  {
   "cell_type": "markdown",
   "id": "b5a9ed1d-30ae-4d85-a5b8-67f4617429ea",
   "metadata": {},
   "source": [
    "Analisando os *Ticket*s:"
   ]
  },
  {
   "cell_type": "code",
   "execution_count": 25,
   "id": "69e379a4-3007-4a3a-b521-a5d6b6baa794",
   "metadata": {},
   "outputs": [
    {
     "data": {
      "text/plain": [
       "347082      7\n",
       "CA. 2343    7\n",
       "1601        7\n",
       "3101295     6\n",
       "CA 2144     6\n",
       "           ..\n",
       "9234        1\n",
       "19988       1\n",
       "2693        1\n",
       "PC 17612    1\n",
       "370376      1\n",
       "Name: Ticket, Length: 680, dtype: int64"
      ]
     },
     "execution_count": 25,
     "metadata": {},
     "output_type": "execute_result"
    }
   ],
   "source": [
    "X_imput['Ticket'].value_counts()"
   ]
  },
  {
   "cell_type": "markdown",
   "id": "1b5bd8cc-3abb-49d6-8008-fe2c431d3561",
   "metadata": {},
   "source": [
    "Analisando os *Sex*s:"
   ]
  },
  {
   "cell_type": "code",
   "execution_count": 26,
   "id": "9999df39-7f60-44ed-98c0-4bd9cf9e9313",
   "metadata": {},
   "outputs": [
    {
     "data": {
      "text/plain": [
       "male      577\n",
       "female    312\n",
       "Name: Sex, dtype: int64"
      ]
     },
     "execution_count": 26,
     "metadata": {},
     "output_type": "execute_result"
    }
   ],
   "source": [
    "X_imput['Sex'].value_counts()"
   ]
  },
  {
   "cell_type": "markdown",
   "id": "fdfb5660-242a-419e-9403-5220fa24c820",
   "metadata": {},
   "source": [
    "Analisando os *Pclass*s:"
   ]
  },
  {
   "cell_type": "code",
   "execution_count": 27,
   "id": "418185c5-610c-4620-8389-29a7da203161",
   "metadata": {
    "tags": []
   },
   "outputs": [
    {
     "data": {
      "text/plain": [
       "3    491\n",
       "1    214\n",
       "2    184\n",
       "Name: Pclass, dtype: int64"
      ]
     },
     "execution_count": 27,
     "metadata": {},
     "output_type": "execute_result"
    }
   ],
   "source": [
    "X_imput['Pclass'].value_counts()"
   ]
  },
  {
   "cell_type": "markdown",
   "id": "a74de137-2682-4f45-8333-c72db9eea7c4",
   "metadata": {},
   "source": [
    "Vamos verificar o dados de saída."
   ]
  },
  {
   "cell_type": "markdown",
   "id": "18685c60-d894-43da-9ea8-54d4a11512cb",
   "metadata": {},
   "source": [
    "Analisando os *Survived*s:"
   ]
  },
  {
   "cell_type": "code",
   "execution_count": 28,
   "id": "baed7e2d-11e2-4565-83ea-b3a457cac1d6",
   "metadata": {},
   "outputs": [
    {
     "data": {
      "text/plain": [
       "0    549\n",
       "1    340\n",
       "Name: Survived, dtype: int64"
      ]
     },
     "execution_count": 28,
     "metadata": {},
     "output_type": "execute_result"
    }
   ],
   "source": [
    "# 0 = No, 1 = Yes\n",
    "Y_train['Survived'].value_counts()"
   ]
  },
  {
   "cell_type": "markdown",
   "id": "fe5ee67c-a9c7-4f63-9d6b-180926c4fe36",
   "metadata": {},
   "source": [
    "Agora, vamos averiguar o conjunto de dados iniciais (antes da transformação e divisão entre entradas e saídas)."
   ]
  },
  {
   "cell_type": "code",
   "execution_count": 29,
   "id": "fa1d5d56-8ae8-429b-97fd-81e3e2a54163",
   "metadata": {},
   "outputs": [
    {
     "data": {
      "text/plain": [
       "female    233\n",
       "male      109\n",
       "Name: Sex, dtype: int64"
      ]
     },
     "execution_count": 29,
     "metadata": {},
     "output_type": "execute_result"
    }
   ],
   "source": [
    "df_train.loc[df_train['Survived'] == 1, 'Sex'].value_counts()"
   ]
  },
  {
   "cell_type": "code",
   "execution_count": 30,
   "id": "dbf45cf3-fb6c-4911-bc43-3792ae8f43aa",
   "metadata": {},
   "outputs": [
    {
     "data": {
      "text/plain": [
       "1    136\n",
       "3    119\n",
       "2     87\n",
       "Name: Pclass, dtype: int64"
      ]
     },
     "execution_count": 30,
     "metadata": {},
     "output_type": "execute_result"
    }
   ],
   "source": [
    "df_train.loc[df_train['Survived'] == 1, 'Pclass'].value_counts()"
   ]
  },
  {
   "cell_type": "code",
   "execution_count": 31,
   "id": "3c2cffd7-7fc7-4551-80e5-658a59ab23a6",
   "metadata": {},
   "outputs": [
    {
     "data": {
      "text/plain": [
       "3    144\n",
       "1     94\n",
       "2     76\n",
       "Name: Pclass, dtype: int64"
      ]
     },
     "execution_count": 31,
     "metadata": {},
     "output_type": "execute_result"
    }
   ],
   "source": [
    "df_train.loc[df_train['Sex'] == 'female', 'Pclass'].value_counts()"
   ]
  },
  {
   "cell_type": "markdown",
   "id": "fa311014-576a-42be-a8d7-5034a9ece5b9",
   "metadata": {},
   "source": [
    "Podemos inferir com base na análise acima que, morreu mais pessoas do que sobreviveu, e as pessoas do sexo feminino estavam em menor quantidade, porém foram o gênero que mais sobreviveu, e maioria delas estavam na terceira classe."
   ]
  },
  {
   "cell_type": "code",
   "execution_count": 32,
   "id": "6bd2f9ee-fd2a-43f2-9d59-81cecc14d72b",
   "metadata": {},
   "outputs": [
    {
     "data": {
      "text/html": [
       "<div>\n",
       "<style scoped>\n",
       "    .dataframe tbody tr th:only-of-type {\n",
       "        vertical-align: middle;\n",
       "    }\n",
       "\n",
       "    .dataframe tbody tr th {\n",
       "        vertical-align: top;\n",
       "    }\n",
       "\n",
       "    .dataframe thead th {\n",
       "        text-align: right;\n",
       "    }\n",
       "</style>\n",
       "<table border=\"1\" class=\"dataframe\">\n",
       "  <thead>\n",
       "    <tr style=\"text-align: right;\">\n",
       "      <th></th>\n",
       "      <th>Age</th>\n",
       "      <th>Cabin</th>\n",
       "      <th>Pclass</th>\n",
       "      <th>Sex</th>\n",
       "      <th>SibSp</th>\n",
       "      <th>Parch</th>\n",
       "      <th>Ticket</th>\n",
       "      <th>Fare</th>\n",
       "      <th>Embarked</th>\n",
       "      <th>Survived</th>\n",
       "    </tr>\n",
       "  </thead>\n",
       "  <tbody>\n",
       "    <tr>\n",
       "      <th>0</th>\n",
       "      <td>22</td>\n",
       "      <td>Unknown</td>\n",
       "      <td>3</td>\n",
       "      <td>male</td>\n",
       "      <td>1</td>\n",
       "      <td>0</td>\n",
       "      <td>A/5 21171</td>\n",
       "      <td>7.25</td>\n",
       "      <td>S</td>\n",
       "      <td>No</td>\n",
       "    </tr>\n",
       "    <tr>\n",
       "      <th>1</th>\n",
       "      <td>38</td>\n",
       "      <td>Known</td>\n",
       "      <td>1</td>\n",
       "      <td>female</td>\n",
       "      <td>1</td>\n",
       "      <td>0</td>\n",
       "      <td>PC 17599</td>\n",
       "      <td>71.2833</td>\n",
       "      <td>C</td>\n",
       "      <td>Yes</td>\n",
       "    </tr>\n",
       "    <tr>\n",
       "      <th>2</th>\n",
       "      <td>26</td>\n",
       "      <td>Unknown</td>\n",
       "      <td>3</td>\n",
       "      <td>female</td>\n",
       "      <td>0</td>\n",
       "      <td>0</td>\n",
       "      <td>STON/O2. 3101282</td>\n",
       "      <td>7.925</td>\n",
       "      <td>S</td>\n",
       "      <td>Yes</td>\n",
       "    </tr>\n",
       "    <tr>\n",
       "      <th>3</th>\n",
       "      <td>35</td>\n",
       "      <td>Known</td>\n",
       "      <td>1</td>\n",
       "      <td>female</td>\n",
       "      <td>1</td>\n",
       "      <td>0</td>\n",
       "      <td>113803</td>\n",
       "      <td>53.1</td>\n",
       "      <td>S</td>\n",
       "      <td>Yes</td>\n",
       "    </tr>\n",
       "    <tr>\n",
       "      <th>4</th>\n",
       "      <td>35</td>\n",
       "      <td>Unknown</td>\n",
       "      <td>3</td>\n",
       "      <td>male</td>\n",
       "      <td>0</td>\n",
       "      <td>0</td>\n",
       "      <td>373450</td>\n",
       "      <td>8.05</td>\n",
       "      <td>S</td>\n",
       "      <td>No</td>\n",
       "    </tr>\n",
       "    <tr>\n",
       "      <th>...</th>\n",
       "      <td>...</td>\n",
       "      <td>...</td>\n",
       "      <td>...</td>\n",
       "      <td>...</td>\n",
       "      <td>...</td>\n",
       "      <td>...</td>\n",
       "      <td>...</td>\n",
       "      <td>...</td>\n",
       "      <td>...</td>\n",
       "      <td>...</td>\n",
       "    </tr>\n",
       "    <tr>\n",
       "      <th>884</th>\n",
       "      <td>27</td>\n",
       "      <td>Unknown</td>\n",
       "      <td>2</td>\n",
       "      <td>male</td>\n",
       "      <td>0</td>\n",
       "      <td>0</td>\n",
       "      <td>211536</td>\n",
       "      <td>13.0</td>\n",
       "      <td>S</td>\n",
       "      <td>No</td>\n",
       "    </tr>\n",
       "    <tr>\n",
       "      <th>885</th>\n",
       "      <td>19</td>\n",
       "      <td>Known</td>\n",
       "      <td>1</td>\n",
       "      <td>female</td>\n",
       "      <td>0</td>\n",
       "      <td>0</td>\n",
       "      <td>112053</td>\n",
       "      <td>30.0</td>\n",
       "      <td>S</td>\n",
       "      <td>No</td>\n",
       "    </tr>\n",
       "    <tr>\n",
       "      <th>886</th>\n",
       "      <td>30</td>\n",
       "      <td>Unknown</td>\n",
       "      <td>3</td>\n",
       "      <td>female</td>\n",
       "      <td>1</td>\n",
       "      <td>2</td>\n",
       "      <td>W./C. 6607</td>\n",
       "      <td>23.45</td>\n",
       "      <td>S</td>\n",
       "      <td>No</td>\n",
       "    </tr>\n",
       "    <tr>\n",
       "      <th>887</th>\n",
       "      <td>26</td>\n",
       "      <td>Known</td>\n",
       "      <td>1</td>\n",
       "      <td>male</td>\n",
       "      <td>0</td>\n",
       "      <td>0</td>\n",
       "      <td>111369</td>\n",
       "      <td>30.0</td>\n",
       "      <td>C</td>\n",
       "      <td>Yes</td>\n",
       "    </tr>\n",
       "    <tr>\n",
       "      <th>888</th>\n",
       "      <td>32</td>\n",
       "      <td>Unknown</td>\n",
       "      <td>3</td>\n",
       "      <td>male</td>\n",
       "      <td>0</td>\n",
       "      <td>0</td>\n",
       "      <td>370376</td>\n",
       "      <td>7.75</td>\n",
       "      <td>Q</td>\n",
       "      <td>No</td>\n",
       "    </tr>\n",
       "  </tbody>\n",
       "</table>\n",
       "<p>889 rows × 10 columns</p>\n",
       "</div>"
      ],
      "text/plain": [
       "     Age    Cabin Pclass     Sex SibSp Parch            Ticket     Fare  \\\n",
       "0     22  Unknown      3    male     1     0         A/5 21171     7.25   \n",
       "1     38    Known      1  female     1     0          PC 17599  71.2833   \n",
       "2     26  Unknown      3  female     0     0  STON/O2. 3101282    7.925   \n",
       "3     35    Known      1  female     1     0            113803     53.1   \n",
       "4     35  Unknown      3    male     0     0            373450     8.05   \n",
       "..   ...      ...    ...     ...   ...   ...               ...      ...   \n",
       "884   27  Unknown      2    male     0     0            211536     13.0   \n",
       "885   19    Known      1  female     0     0            112053     30.0   \n",
       "886   30  Unknown      3  female     1     2        W./C. 6607    23.45   \n",
       "887   26    Known      1    male     0     0            111369     30.0   \n",
       "888   32  Unknown      3    male     0     0            370376     7.75   \n",
       "\n",
       "    Embarked Survived  \n",
       "0          S       No  \n",
       "1          C      Yes  \n",
       "2          S      Yes  \n",
       "3          S      Yes  \n",
       "4          S       No  \n",
       "..       ...      ...  \n",
       "884        S       No  \n",
       "885        S       No  \n",
       "886        S       No  \n",
       "887        C      Yes  \n",
       "888        Q       No  \n",
       "\n",
       "[889 rows x 10 columns]"
      ]
     },
     "execution_count": 32,
     "metadata": {},
     "output_type": "execute_result"
    }
   ],
   "source": [
    "new_df = X_imput\n",
    "new_df['Survived'] = Y_train\n",
    "new_df['Survived'] = new_df['Survived'].apply(lambda x: 'Yes' if x == 1 else 'No')\n",
    "new_df"
   ]
  },
  {
   "cell_type": "markdown",
   "id": "b2214d42-3e0a-4efe-8007-80ac3eebff29",
   "metadata": {},
   "source": [
    "Convertendo alguns valores de objeto para flutuante. Para podermos analisar algumas métricas."
   ]
  },
  {
   "cell_type": "code",
   "execution_count": 33,
   "id": "709c0fe8-6081-441d-8625-a7f773063870",
   "metadata": {},
   "outputs": [
    {
     "name": "stdout",
     "output_type": "stream",
     "text": [
      "Survived              No         Yes\n",
      "Age    count  550.000000  339.000000\n",
      "       mean    29.649091   29.805310\n",
      "       std     13.075323   12.808922\n",
      "       min      1.000000    0.000000\n",
      "       25%     22.000000   22.000000\n",
      "       50%     30.000000   30.000000\n",
      "       75%     35.000000   35.000000\n",
      "       max     80.000000   74.000000\n",
      "Pclass count  550.000000  339.000000\n",
      "       mean     2.325455    2.289086\n",
      "       std      0.817326    0.862893\n",
      "       min      1.000000    1.000000\n",
      "       25%      2.000000    1.000000\n",
      "       50%      3.000000    3.000000\n",
      "       75%      3.000000    3.000000\n",
      "       max      3.000000    3.000000\n",
      "SibSp  count  550.000000  339.000000\n",
      "       mean     0.592727    0.412979\n",
      "       std      1.230140    0.849962\n",
      "       min      0.000000    0.000000\n",
      "       25%      0.000000    0.000000\n",
      "       50%      0.000000    0.000000\n",
      "       75%      1.000000    1.000000\n",
      "       max      8.000000    8.000000\n",
      "Parch  count  550.000000  339.000000\n",
      "       mean     0.389091    0.371681\n",
      "       std      0.778507    0.851675\n",
      "       min      0.000000    0.000000\n",
      "       25%      0.000000    0.000000\n",
      "       50%      0.000000    0.000000\n",
      "       75%      0.000000    0.000000\n",
      "       max      5.000000    6.000000\n",
      "Fare   count  550.000000  339.000000\n",
      "       mean    31.771605   32.624090\n",
      "       std     49.305851   50.395226\n",
      "       min      0.000000    0.000000\n",
      "       25%      7.925000    7.895800\n",
      "       50%     14.456250   14.400000\n",
      "       75%     31.275000   30.035400\n",
      "       max    512.329200  512.329200\n"
     ]
    }
   ],
   "source": [
    "cols_conv = ['Pclass', 'SibSp', 'Parch', 'Fare']\n",
    "\n",
    "for col in cols_conv:\n",
    "    new_df[col] = pd.to_numeric(new_df[col], errors = 'coerce')\n",
    "\n",
    "print(new_df.groupby('Survived').describe().transpose().to_string())"
   ]
  },
  {
   "cell_type": "markdown",
   "id": "1c8b39ec-de02-4ea7-883c-6e2b469cac6a",
   "metadata": {},
   "source": [
    "Como pela transformação foi gerada mais de 600 colunas seria muito custoso gerar um gráfico de pares, visto que geraria muitas combinações. \n",
    "\n",
    "Porém, vamos utilizar a fase intermediária para isso, os dados da fase de limpeza. Contudo, vamos eliminar as colunas que são categóricas, o objetivo é apenas ter uma visão de como os dados se relacionam."
   ]
  },
  {
   "cell_type": "code",
   "execution_count": 34,
   "id": "67908378-24c3-4ab0-a58d-d2dfb8f3e101",
   "metadata": {},
   "outputs": [
    {
     "data": {
      "text/plain": [
       "<seaborn.axisgrid.PairGrid at 0x7f601b52a6d0>"
      ]
     },
     "execution_count": 34,
     "metadata": {},
     "output_type": "execute_result"
    },
    {
     "data": {
      "image/png": "[encoded data removed]",
      "text/plain": [
       "<Figure size 1132x1080 with 42 Axes>"
      ]
     },
     "metadata": {
      "needs_background": "light"
     },
     "output_type": "display_data"
    }
   ],
   "source": [
    "new_df = new_df.drop(columns=['Cabin', 'Ticket', 'Embarked'])\n",
    "new_df['Sex'] = new_df['Sex'].apply(lambda x: 1 if x == 'female' else 0)\n",
    "sns.pairplot(new_df, hue='Survived')"
   ]
  },
  {
   "cell_type": "markdown",
   "id": "7d40dc01-9e37-4c2a-b53a-1cea79849429",
   "metadata": {},
   "source": [
    "## Normalizando os dados"
   ]
  },
  {
   "cell_type": "markdown",
   "id": "e1a80039-bf37-4a89-9d6c-3c93f12c78c3",
   "metadata": {},
   "source": [
    "Nesta fase vamos deixar os dados em uma mesma escala, para evitar que os valores tenham pesos desproporcionais. Porém, agora vamos volta a utilizar os dados que foram transformados."
   ]
  },
  {
   "cell_type": "markdown",
   "id": "8af07c1d-c098-4d43-8ca4-b8e934cd9fb4",
   "metadata": {},
   "source": [
    "Verificando a discrepância entre o valor máximo e mínimo."
   ]
  },
  {
   "cell_type": "code",
   "execution_count": 35,
   "id": "15348020-658f-4425-b6e7-6575ab46ebc9",
   "metadata": {},
   "outputs": [
    {
     "data": {
      "text/plain": [
       "(512.3292, 0.0)"
      ]
     },
     "execution_count": 35,
     "metadata": {},
     "output_type": "execute_result"
    }
   ],
   "source": [
    "np.max(X_trans.values), np.min(X_trans.values)"
   ]
  },
  {
   "cell_type": "markdown",
   "id": "2abc1028-d5d4-4658-ac80-4c08090bdd40",
   "metadata": {},
   "source": [
    "Para isso vamos utilizar a biblioteca *sklearn* do módulo *preprocessing*."
   ]
  },
  {
   "cell_type": "code",
   "execution_count": 36,
   "id": "c25f0096-53dd-4757-abf2-b60cda3e2156",
   "metadata": {},
   "outputs": [],
   "source": [
    "ss = StandardScaler()\n",
    "ss.fit(X_trans)\n",
    "X_ss = ss.transform(X_trans)"
   ]
  },
  {
   "cell_type": "code",
   "execution_count": 37,
   "id": "c671a730-c883-4f05-a786-6312be1e1ed2",
   "metadata": {},
   "outputs": [
    {
     "data": {
      "text/plain": [
       "(29.79932885150268, -2.292322083330364)"
      ]
     },
     "execution_count": 37,
     "metadata": {},
     "output_type": "execute_result"
    }
   ],
   "source": [
    "np.max(X_ss), np.min(X_ss)"
   ]
  },
  {
   "cell_type": "markdown",
   "id": "b5e0bef9-b712-4deb-bd41-ae4a8a637806",
   "metadata": {},
   "source": [
    "## Visualização com PCA - ***Principal Component Analysis***"
   ]
  },
  {
   "cell_type": "code",
   "execution_count": 38,
   "id": "35ce6639-6187-4a23-b778-d7d51267af4e",
   "metadata": {},
   "outputs": [
    {
     "data": {
      "text/plain": [
       "PCA(n_components=2)"
      ]
     },
     "execution_count": 38,
     "metadata": {},
     "output_type": "execute_result"
    }
   ],
   "source": [
    "pca = PCA(n_components=2)\n",
    "pca.fit(X_ss)"
   ]
  },
  {
   "cell_type": "code",
   "execution_count": 39,
   "id": "f7eabe95-54be-4f8b-bfdd-fefcb3b98954",
   "metadata": {},
   "outputs": [
    {
     "data": {
      "text/plain": [
       "array([[-1.91434   , -0.60018227],\n",
       "       [ 4.74505999,  0.79501256],\n",
       "       [-0.933797  ,  1.56066786],\n",
       "       ...,\n",
       "       [-0.65431762,  2.60399282],\n",
       "       [ 3.30304039, -1.96421831],\n",
       "       [-1.70250447, -0.25864305]])"
      ]
     },
     "execution_count": 39,
     "metadata": {},
     "output_type": "execute_result"
    }
   ],
   "source": [
    "X_pca = pca.transform(X_ss)\n",
    "X_pca"
   ]
  },
  {
   "cell_type": "code",
   "execution_count": 40,
   "id": "df196ac1-d24a-40ec-b3dc-2c01827b52b6",
   "metadata": {},
   "outputs": [
    {
     "data": {
      "text/plain": [
       "(889, 2)"
      ]
     },
     "execution_count": 40,
     "metadata": {},
     "output_type": "execute_result"
    }
   ],
   "source": [
    "X_pca.shape"
   ]
  },
  {
   "cell_type": "code",
   "execution_count": 41,
   "id": "8c3ef833-a4ab-482e-b5bb-ccb485ac0aed",
   "metadata": {},
   "outputs": [
    {
     "data": {
      "text/html": [
       "<div>\n",
       "<style scoped>\n",
       "    .dataframe tbody tr th:only-of-type {\n",
       "        vertical-align: middle;\n",
       "    }\n",
       "\n",
       "    .dataframe tbody tr th {\n",
       "        vertical-align: top;\n",
       "    }\n",
       "\n",
       "    .dataframe thead th {\n",
       "        text-align: right;\n",
       "    }\n",
       "</style>\n",
       "<table border=\"1\" class=\"dataframe\">\n",
       "  <thead>\n",
       "    <tr style=\"text-align: right;\">\n",
       "      <th></th>\n",
       "      <th>PC 00</th>\n",
       "      <th>PC 01</th>\n",
       "    </tr>\n",
       "  </thead>\n",
       "  <tbody>\n",
       "    <tr>\n",
       "      <th>0</th>\n",
       "      <td>-1.914340</td>\n",
       "      <td>-0.600182</td>\n",
       "    </tr>\n",
       "    <tr>\n",
       "      <th>1</th>\n",
       "      <td>4.745060</td>\n",
       "      <td>0.795013</td>\n",
       "    </tr>\n",
       "    <tr>\n",
       "      <th>2</th>\n",
       "      <td>-0.933797</td>\n",
       "      <td>1.560668</td>\n",
       "    </tr>\n",
       "    <tr>\n",
       "      <th>3</th>\n",
       "      <td>3.310822</td>\n",
       "      <td>-0.055088</td>\n",
       "    </tr>\n",
       "    <tr>\n",
       "      <th>4</th>\n",
       "      <td>-1.741542</td>\n",
       "      <td>-1.353788</td>\n",
       "    </tr>\n",
       "    <tr>\n",
       "      <th>...</th>\n",
       "      <td>...</td>\n",
       "      <td>...</td>\n",
       "    </tr>\n",
       "    <tr>\n",
       "      <th>884</th>\n",
       "      <td>-1.184085</td>\n",
       "      <td>-1.372968</td>\n",
       "    </tr>\n",
       "    <tr>\n",
       "      <th>885</th>\n",
       "      <td>3.001482</td>\n",
       "      <td>0.422969</td>\n",
       "    </tr>\n",
       "    <tr>\n",
       "      <th>886</th>\n",
       "      <td>-0.654318</td>\n",
       "      <td>2.603993</td>\n",
       "    </tr>\n",
       "    <tr>\n",
       "      <th>887</th>\n",
       "      <td>3.303040</td>\n",
       "      <td>-1.964218</td>\n",
       "    </tr>\n",
       "    <tr>\n",
       "      <th>888</th>\n",
       "      <td>-1.702504</td>\n",
       "      <td>-0.258643</td>\n",
       "    </tr>\n",
       "  </tbody>\n",
       "</table>\n",
       "<p>889 rows × 2 columns</p>\n",
       "</div>"
      ],
      "text/plain": [
       "        PC 00     PC 01\n",
       "0   -1.914340 -0.600182\n",
       "1    4.745060  0.795013\n",
       "2   -0.933797  1.560668\n",
       "3    3.310822 -0.055088\n",
       "4   -1.741542 -1.353788\n",
       "..        ...       ...\n",
       "884 -1.184085 -1.372968\n",
       "885  3.001482  0.422969\n",
       "886 -0.654318  2.603993\n",
       "887  3.303040 -1.964218\n",
       "888 -1.702504 -0.258643\n",
       "\n",
       "[889 rows x 2 columns]"
      ]
     },
     "execution_count": 41,
     "metadata": {},
     "output_type": "execute_result"
    }
   ],
   "source": [
    "X_pca_df = pd.DataFrame(X_pca, columns=['PC 00', 'PC 01'])\n",
    "X_pca_df"
   ]
  },
  {
   "cell_type": "code",
   "execution_count": 42,
   "id": "dc676d8b-3731-480b-9131-4aec89c61c4c",
   "metadata": {},
   "outputs": [
    {
     "data": {
      "text/plain": [
       "<AxesSubplot:xlabel='PC 00', ylabel='PC 01'>"
      ]
     },
     "execution_count": 42,
     "metadata": {},
     "output_type": "execute_result"
    },
    {
     "data": {
      "image/png": "[encoded data removed]",
      "text/plain": [
       "<Figure size 432x288 with 1 Axes>"
      ]
     },
     "metadata": {
      "needs_background": "light"
     },
     "output_type": "display_data"
    }
   ],
   "source": [
    "# 0 = No, 1 = Yes\n",
    "sns.scatterplot(data=X_pca_df, x='PC 00', y='PC 01', hue=Y_train['Survived'])"
   ]
  },
  {
   "cell_type": "markdown",
   "id": "a153ca50-8419-45c3-a87f-afc75fdec0e7",
   "metadata": {},
   "source": [
    " ## Classificando os dados com classificadores diferentes"
   ]
  },
  {
   "cell_type": "code",
   "execution_count": 43,
   "id": "cb054351-9d2f-4240-be94-ac6deba6bec4",
   "metadata": {
    "tags": []
   },
   "outputs": [],
   "source": [
    "rf_test = ('rf', RandomForestClassifier, False, {'criterion' : ['gini', 'entropy'], 'random_state' : [1]})\n",
    "rf_test_scale = ('rf_scale', RandomForestClassifier, True, {'criterion' : ['gini', 'entropy'], 'random_state' : [1]})\n",
    "ad_def_test = ('ad_default', DecisionTreeClassifier, False, {'criterion' : ['gini', 'entropy'], 'random_state' : [1]})\n",
    "ad_def_test_scale = ('ad_default_scale', DecisionTreeClassifier, True, {'criterion' : ['gini', 'entropy'], 'random_state' : [1]})\n",
    "ad_tuned_test = ('ad_tuned', DecisionTreeClassifier, False, {'min_samples_leaf' : [3, 5, 10, 15, 20, 30],\n",
    "                                                 'min_samples_split' : [2, 4, 8, 16, 32, 40],\n",
    "                                                 'max_depth' : [None, 2, 3, 4, 5],\n",
    "                                                 'criterion' : ['gini', 'entropy'], 'random_state' : [1]})\n",
    "ad_tuned_test_scale = ('ad_tuned_scale', DecisionTreeClassifier, True, {'min_samples_leaf' : [3, 5, 10, 15, 20, 30],\n",
    "                                                 'min_samples_split' : [2, 4, 8, 16, 32, 40],\n",
    "                                                 'max_depth' : [None, 2, 3, 4, 5],\n",
    "                                                 'criterion' : ['gini', 'entropy'], 'random_state' : [1]})\n",
    "svm_test = ('svm', SVC, True, {'C' : [1, 10, 100, 1000], 'gamma' : ['auto', 'scale']})\n",
    "svm_test_1 = ('svm_2', SVC, True, {'C' : [0.001, 0.001, 0.01, 1, 10, 100, 1000], 'gamma' : ['auto', 'scale']})\n",
    "svm_test_kernel = ('svm_kernel', SVC, True, {'C' : [1, 10, 100, 1000], 'gamma' : ['auto', 'scale'], 'kernel' : ['linear', 'poly', 'rbf', 'sigmoid']})\n",
    "knn_test = ('knn', KNeighborsClassifier, True, {'n_neighbors' : range(1,30,2)})\n",
    "knn_test_2 = ('knn_2', KNeighborsClassifier, True, {'n_neighbors' : range(1,30,1)})\n",
    "knn_test_3 = ('knn_3', KNeighborsClassifier, True, {'n_neighbors' : range(1,60,2)})\n",
    "tests = [svm_test_kernel, rf_test, rf_test_scale, ad_def_test, ad_def_test_scale, ad_tuned_test, ad_tuned_test_scale, \n",
    "         svm_test, svm_test_1, knn_test, knn_test_2, knn_test_3]"
   ]
  },
  {
   "cell_type": "code",
   "execution_count": 44,
   "id": "802d1e9a-8003-4575-96ef-6616c767e872",
   "metadata": {},
   "outputs": [],
   "source": [
    "y = Y_train['Survived'].values.ravel()"
   ]
  },
  {
   "cell_type": "code",
   "execution_count": 45,
   "id": "3f285ba5-66bf-4db0-8c45-8477f1ee067f",
   "metadata": {},
   "outputs": [
    {
     "ename": "TypeError",
     "evalue": "do_cv() takes from 4 to 8 positional arguments but 9 were given",
     "output_type": "error",
     "traceback": [
      "\u001b[0;31m---------------------------------------------------------------------------\u001b[0m",
      "\u001b[0;31mTypeError\u001b[0m                                 Traceback (most recent call last)",
      "\u001b[0;32m/tmp/ipykernel_17596/3741371073.py\u001b[0m in \u001b[0;36m<module>\u001b[0;34m\u001b[0m\n\u001b[1;32m      1\u001b[0m \u001b[0mresultados\u001b[0m \u001b[0;34m=\u001b[0m \u001b[0;34m{\u001b[0m\u001b[0;34m}\u001b[0m\u001b[0;34m\u001b[0m\u001b[0;34m\u001b[0m\u001b[0m\n\u001b[1;32m      2\u001b[0m \u001b[0;32mfor\u001b[0m \u001b[0mnome\u001b[0m\u001b[0;34m,\u001b[0m \u001b[0mclassificador\u001b[0m\u001b[0;34m,\u001b[0m \u001b[0mscale\u001b[0m\u001b[0;34m,\u001b[0m \u001b[0mparams\u001b[0m \u001b[0;32min\u001b[0m \u001b[0mtests\u001b[0m\u001b[0;34m:\u001b[0m\u001b[0;34m\u001b[0m\u001b[0;34m\u001b[0m\u001b[0m\n\u001b[0;32m----> 3\u001b[0;31m     \u001b[0mr\u001b[0m \u001b[0;34m=\u001b[0m \u001b[0mdo_cv\u001b[0m\u001b[0;34m(\u001b[0m\u001b[0mnome\u001b[0m\u001b[0;34m,\u001b[0m \u001b[0mclassificador\u001b[0m\u001b[0;34m,\u001b[0m \u001b[0mX_pca_df\u001b[0m\u001b[0;34m.\u001b[0m\u001b[0mvalues\u001b[0m\u001b[0;34m,\u001b[0m \u001b[0my\u001b[0m\u001b[0;34m,\u001b[0m \u001b[0;36m20\u001b[0m\u001b[0;34m,\u001b[0m \u001b[0;36m20\u001b[0m\u001b[0;34m,\u001b[0m \u001b[0;36m8\u001b[0m\u001b[0;34m,\u001b[0m \u001b[0mscale\u001b[0m\u001b[0;34m,\u001b[0m \u001b[0mparams\u001b[0m\u001b[0;34m)\u001b[0m\u001b[0;34m\u001b[0m\u001b[0;34m\u001b[0m\u001b[0m\n\u001b[0m\u001b[1;32m      4\u001b[0m     \u001b[0mresultados\u001b[0m\u001b[0;34m[\u001b[0m\u001b[0mnome\u001b[0m\u001b[0;34m]\u001b[0m \u001b[0;34m=\u001b[0m \u001b[0mr\u001b[0m\u001b[0;34m\u001b[0m\u001b[0;34m\u001b[0m\u001b[0m\n",
      "\u001b[0;31mTypeError\u001b[0m: do_cv() takes from 4 to 8 positional arguments but 9 were given"
     ]
    }
   ],
   "source": [
    "resultados = {}\n",
    "for nome, classificador, scale, params in tests:\n",
    "    print(nome)\n",
    "    r = do_cv(classificador, X_pca_df.values, y, 20, 20, 8, scale, params)\n",
    "    resultados[nome] = r"
   ]
  },
  {
   "cell_type": "code",
   "execution_count": null,
   "id": "bf021884-51aa-40d1-9178-d67df2979226",
   "metadata": {},
   "outputs": [],
   "source": [
    "for teste in resultados:\n",
    "    print(teste.rjust(10), end=' - ')\n",
    "    imprimir_estatisticas(resultados[teste])"
   ]
  },
  {
   "cell_type": "code",
   "execution_count": null,
   "id": "14e34e6b-a9f5-411d-9497-22463ee72c0c",
   "metadata": {},
   "outputs": [],
   "source": [
    "resultados = {}\n",
    "for nome, classificador, scale, params in tests:\n",
    "    r = do_cv(classificador, X_ss, y, 10, 10, 8, scale, params)\n",
    "    resultados[nome] = r"
   ]
  },
  {
   "cell_type": "code",
   "execution_count": null,
   "id": "140c780b-9b1a-46fa-99d2-464da401b524",
   "metadata": {},
   "outputs": [],
   "source": [
    "for teste in resultados:\n",
    "    print(teste.rjust(10), end=' - ')\n",
    "    imprimir_estatisticas(resultados[teste])"
   ]
  },
  {
   "cell_type": "code",
   "execution_count": null,
   "id": "d2f88e5c-2933-4411-8cb7-d3da098d39f9",
   "metadata": {},
   "outputs": [],
   "source": []
  }
 ],
 "metadata": {
  "kernelspec": {
   "display_name": "Python 3 (ipykernel)",
   "language": "python",
   "name": "python3"
  },
  "language_info": {
   "codemirror_mode": {
    "name": "ipython",
    "version": 3
   },
   "file_extension": ".py",
   "mimetype": "text/x-python",
   "name": "python",
   "nbconvert_exporter": "python",
   "pygments_lexer": "ipython3",
   "version": "3.9.6"
  }
 },
 "nbformat": 4,
 "nbformat_minor": 5
}
